{
 "cells": [
  {
   "cell_type": "markdown",
   "id": "e8aa1e34",
   "metadata": {
    "toc": true
   },
   "source": [
    "<h1>Table of Contents<span class=\"tocSkip\"></span></h1>\n",
    "<div class=\"toc\"><ul class=\"toc-item\"></ul></div>"
   ]
  },
  {
   "cell_type": "markdown",
   "id": "33ffde45",
   "metadata": {},
   "source": [
    "Data Usage in CJA is coming as a feature.\\\n",
    "Which component has been used, which filters has been used and so on.\\\n",
    "The part that is hard and not easy to do is to match these components to XDM paths of your schema(s) and then decide which of the fields are actually the most crucial in the XDM part."
   ]
  },
  {
   "cell_type": "markdown",
   "id": "31cc935e",
   "metadata": {},
   "source": [
    "Follow us on analysis the usage of fields, and path in the XDM world"
   ]
  },
  {
   "cell_type": "code",
   "execution_count": null,
   "id": "892ea0d0",
   "metadata": {},
   "outputs": [],
   "source": []
  }
 ],
 "metadata": {
  "kernelspec": {
   "display_name": "Python 3 (ipykernel)",
   "language": "python",
   "name": "python3"
  },
  "language_info": {
   "codemirror_mode": {
    "name": "ipython",
    "version": 3
   },
   "file_extension": ".py",
   "mimetype": "text/x-python",
   "name": "python",
   "nbconvert_exporter": "python",
   "pygments_lexer": "ipython3",
   "version": "3.11.4"
  },
  "toc": {
   "base_numbering": 1,
   "nav_menu": {},
   "number_sections": true,
   "sideBar": true,
   "skip_h1_title": false,
   "title_cell": "Table of Contents",
   "title_sidebar": "Contents",
   "toc_cell": true,
   "toc_position": {},
   "toc_section_display": true,
   "toc_window_display": true
  }
 },
 "nbformat": 4,
 "nbformat_minor": 5
}
