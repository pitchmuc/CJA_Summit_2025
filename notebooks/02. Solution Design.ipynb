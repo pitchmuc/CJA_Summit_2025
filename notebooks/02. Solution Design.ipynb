{
 "cells": [
  {
   "cell_type": "markdown",
   "id": "65072f82",
   "metadata": {
    "toc": true
   },
   "source": [
    "<h1>Table of Contents<span class=\"tocSkip\"></span></h1>\n",
    "<div class=\"toc\"><ul class=\"toc-item\"></ul></div>"
   ]
  },
  {
   "cell_type": "markdown",
   "id": "581c314e",
   "metadata": {},
   "source": [
    "With very large organization, it may happen that many people are working on Data Views.\\\n",
    "Your data views are your core representation of your data store.\\\n",
    "It is what is being used for the request by your workspaces and reports.\\\n",
    "Having a clear view on what has been defined in your data view is very important and we can create a script to extract that information very easily in the next steps. "
   ]
  },
  {
   "cell_type": "code",
   "execution_count": null,
   "id": "c18d2a65",
   "metadata": {},
   "outputs": [],
   "source": []
  }
 ],
 "metadata": {
  "kernelspec": {
   "display_name": "Python 3 (ipykernel)",
   "language": "python",
   "name": "python3"
  },
  "language_info": {
   "codemirror_mode": {
    "name": "ipython",
    "version": 3
   },
   "file_extension": ".py",
   "mimetype": "text/x-python",
   "name": "python",
   "nbconvert_exporter": "python",
   "pygments_lexer": "ipython3",
   "version": "3.11.4"
  },
  "toc": {
   "base_numbering": 1,
   "nav_menu": {},
   "number_sections": true,
   "sideBar": true,
   "skip_h1_title": false,
   "title_cell": "Table of Contents",
   "title_sidebar": "Contents",
   "toc_cell": true,
   "toc_position": {},
   "toc_section_display": true,
   "toc_window_display": true
  }
 },
 "nbformat": 4,
 "nbformat_minor": 5
}
