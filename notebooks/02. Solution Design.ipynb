{
 "cells": [
  {
   "cell_type": "markdown",
   "id": "65072f82",
   "metadata": {
    "toc": true
   },
   "source": [
    "<h1>Table of Contents<span class=\"tocSkip\"></span></h1>\n",
    "<div class=\"toc\"><ul class=\"toc-item\"><li><span><a href=\"#Building-the-Solution-Design\" data-toc-modified-id=\"Building-the-Solution-Design-1\"><span class=\"toc-item-num\">1&nbsp;&nbsp;</span>Building the Solution Design</a></span><ul class=\"toc-item\"><li><span><a href=\"#Cleaning-the-elements\" data-toc-modified-id=\"Cleaning-the-elements-1.1\"><span class=\"toc-item-num\">1.1&nbsp;&nbsp;</span>Cleaning the elements</a></span><ul class=\"toc-item\"><li><span><a href=\"#Fixing-null-values\" data-toc-modified-id=\"Fixing-null-values-1.1.1\"><span class=\"toc-item-num\">1.1.1&nbsp;&nbsp;</span>Fixing null values</a></span></li></ul></li><li><span><a href=\"#Fixing-metrics-table\" data-toc-modified-id=\"Fixing-metrics-table-1.2\"><span class=\"toc-item-num\">1.2&nbsp;&nbsp;</span>Fixing metrics table</a></span></li><li><span><a href=\"#Metrics-and-dimensions-SDR\" data-toc-modified-id=\"Metrics-and-dimensions-SDR-1.3\"><span class=\"toc-item-num\">1.3&nbsp;&nbsp;</span>Metrics and dimensions SDR</a></span><ul class=\"toc-item\"><li><span><a href=\"#Optional-:-Concat-dataframe\" data-toc-modified-id=\"Optional-:-Concat-dataframe-1.3.1\"><span class=\"toc-item-num\">1.3.1&nbsp;&nbsp;</span>Optional : Concat dataframe</a></span></li></ul></li></ul></li><li><span><a href=\"#Connecting-with-AEP-Schema\" data-toc-modified-id=\"Connecting-with-AEP-Schema-2\"><span class=\"toc-item-num\">2&nbsp;&nbsp;</span>Connecting with AEP Schema</a></span><ul class=\"toc-item\"><li><span><a href=\"#Schema-Manager\" data-toc-modified-id=\"Schema-Manager-2.1\"><span class=\"toc-item-num\">2.1&nbsp;&nbsp;</span>Schema Manager</a></span></li><li><span><a href=\"#Merging-SDR-with-Schema-definition\" data-toc-modified-id=\"Merging-SDR-with-Schema-definition-2.2\"><span class=\"toc-item-num\">2.2&nbsp;&nbsp;</span>Merging SDR with Schema definition</a></span></li></ul></li></ul></div>"
   ]
  },
  {
   "cell_type": "markdown",
   "id": "581c314e",
   "metadata": {},
   "source": [
    "With very large organization, it may happen that many people are working on Data Views.\\\n",
    "Your data views are your core representation of your data store.\\\n",
    "It is what is being used for the request by your workspaces and reports.\\\n",
    "Having a clear view on what has been defined in your data view is very important and we can create a script to extract that information very easily in the next steps. "
   ]
  },
  {
   "cell_type": "markdown",
   "id": "40ffb86c",
   "metadata": {},
   "source": [
    "In order to achieve that view and document it, you can use the cjapy module to build your solution design for your analyst."
   ]
  },
  {
   "cell_type": "markdown",
   "id": "6a42ace3",
   "metadata": {},
   "source": [
    "We first load cjapy and the configuration used."
   ]
  },
  {
   "cell_type": "code",
   "execution_count": 1,
   "id": "c18d2a65",
   "metadata": {
    "ExecuteTime": {
     "end_time": "2024-12-15T13:25:48.694587Z",
     "start_time": "2024-12-15T13:25:47.694529Z"
    }
   },
   "outputs": [],
   "source": [
    "import cjapy\n",
    "cjapy.importConfigFile('config_example.json')"
   ]
  },
  {
   "cell_type": "markdown",
   "id": "5ff889ef",
   "metadata": {},
   "source": [
    "Once we have done that we can instantiate the connection to CJA API via the `CJA` class."
   ]
  },
  {
   "cell_type": "code",
   "execution_count": 2,
   "id": "45353895",
   "metadata": {
    "ExecuteTime": {
     "end_time": "2024-12-15T13:25:49.016043Z",
     "start_time": "2024-12-15T13:25:48.697544Z"
    }
   },
   "outputs": [],
   "source": [
    "cja = cjapy.CJA()"
   ]
  },
  {
   "cell_type": "markdown",
   "id": "d33c071e",
   "metadata": {},
   "source": [
    "# Building the Solution Design"
   ]
  },
  {
   "cell_type": "markdown",
   "id": "a714c1e1",
   "metadata": {},
   "source": [
    "In order to build a solution design, you need to have a complete view of what has been setup in your data view. "
   ]
  },
  {
   "cell_type": "markdown",
   "id": "04bb658b",
   "metadata": {},
   "source": [
    "From the `cja` connection that we have built, we will extract the correct data view that we want to see and all of its dimensions and metrics "
   ]
  },
  {
   "cell_type": "code",
   "execution_count": 3,
   "id": "ec9ad774",
   "metadata": {
    "ExecuteTime": {
     "end_time": "2024-12-15T13:25:49.408201Z",
     "start_time": "2024-12-15T13:25:49.018034Z"
    }
   },
   "outputs": [],
   "source": [
    "dataviews = cja.getDataViews()"
   ]
  },
  {
   "cell_type": "markdown",
   "id": "e4275420",
   "metadata": {},
   "source": [
    "Selecting a data view by using its name"
   ]
  },
  {
   "cell_type": "code",
   "execution_count": 4,
   "id": "bcd8e253",
   "metadata": {
    "ExecuteTime": {
     "end_time": "2024-12-15T13:25:49.416008Z",
     "start_time": "2024-12-15T13:25:49.409193Z"
    }
   },
   "outputs": [
    {
     "data": {
      "text/plain": [
       "'dv_62c2c7ccb373f55b9f617157'"
      ]
     },
     "execution_count": 4,
     "metadata": {},
     "output_type": "execute_result"
    }
   ],
   "source": [
    "dv_id = dataviews.at[dataviews[dataviews['name']=='Datanalyst'].index[0],'id']\n",
    "dv_id"
   ]
  },
  {
   "cell_type": "markdown",
   "id": "0694262f",
   "metadata": {},
   "source": [
    "Now that we have its id, we can use it to retrieve the different components associated with it"
   ]
  },
  {
   "cell_type": "code",
   "execution_count": 5,
   "id": "92493ee7",
   "metadata": {
    "ExecuteTime": {
     "end_time": "2024-12-15T13:25:49.956504Z",
     "start_time": "2024-12-15T13:25:49.417996Z"
    }
   },
   "outputs": [],
   "source": [
    "dimensions = cja.getDimensions(dv_id,full=True)\n",
    "metrics = cja.getMetrics(dv_id,full=True)"
   ]
  },
  {
   "cell_type": "markdown",
   "id": "227a5258",
   "metadata": {},
   "source": [
    "The data returned by the methods are `dataframes` which make them very easy to manipulate and to already save them. "
   ]
  },
  {
   "cell_type": "markdown",
   "id": "e0d8eb33",
   "metadata": {},
   "source": [
    "Using the `head` method, you can see the 5 rows that have been returned"
   ]
  },
  {
   "cell_type": "code",
   "execution_count": 6,
   "id": "397dc376",
   "metadata": {
    "ExecuteTime": {
     "end_time": "2024-12-15T13:25:49.983992Z",
     "start_time": "2024-12-15T13:25:49.957522Z"
    }
   },
   "outputs": [
    {
     "data": {
      "text/html": [
       "<div>\n",
       "<style scoped>\n",
       "    .dataframe tbody tr th:only-of-type {\n",
       "        vertical-align: middle;\n",
       "    }\n",
       "\n",
       "    .dataframe tbody tr th {\n",
       "        vertical-align: top;\n",
       "    }\n",
       "\n",
       "    .dataframe thead th {\n",
       "        text-align: right;\n",
       "    }\n",
       "</style>\n",
       "<table border=\"1\" class=\"dataframe\">\n",
       "  <thead>\n",
       "    <tr style=\"text-align: right;\">\n",
       "      <th></th>\n",
       "      <th>id</th>\n",
       "      <th>name</th>\n",
       "      <th>description</th>\n",
       "      <th>sourceFieldId</th>\n",
       "      <th>sourceFieldName</th>\n",
       "      <th>storageId</th>\n",
       "      <th>dataSetIds</th>\n",
       "      <th>dataSetType</th>\n",
       "      <th>schemaType</th>\n",
       "      <th>sourceFieldType</th>\n",
       "      <th>...</th>\n",
       "      <th>fieldDefinition</th>\n",
       "      <th>noValueOptionsSetting</th>\n",
       "      <th>defaultDimensionSort</th>\n",
       "      <th>persistenceSetting</th>\n",
       "      <th>behaviorSetting</th>\n",
       "      <th>substringSetting</th>\n",
       "      <th>baseTableName</th>\n",
       "      <th>required</th>\n",
       "      <th>derivedFieldCompatible</th>\n",
       "      <th>labels</th>\n",
       "    </tr>\n",
       "  </thead>\n",
       "  <tbody>\n",
       "    <tr>\n",
       "      <th>0</th>\n",
       "      <td>variables/placeContext.geo.countryCode</td>\n",
       "      <td>Country code</td>\n",
       "      <td>The two-character [ISO 3166-1 alpha-2](https:/...</td>\n",
       "      <td>placeContext.geo.countryCode</td>\n",
       "      <td>Country code</td>\n",
       "      <td>explicitp9f128de542059012c91a65ntrycode|hits</td>\n",
       "      <td>[6059fd4fc52f8819484a7c1c]</td>\n",
       "      <td>event</td>\n",
       "      <td>string</td>\n",
       "      <td>custom</td>\n",
       "      <td>...</td>\n",
       "      <td>[{'func': 'raw-field', 'id': 'placeContext.geo...</td>\n",
       "      <td>{'includeNoneByDefault': True, 'noneChangeable...</td>\n",
       "      <td>False</td>\n",
       "      <td>{'enabled': False}</td>\n",
       "      <td>{'lowercase': False}</td>\n",
       "      <td>{'enabled': False}</td>\n",
       "      <td>NaN</td>\n",
       "      <td>NaN</td>\n",
       "      <td>NaN</td>\n",
       "      <td>NaN</td>\n",
       "    </tr>\n",
       "    <tr>\n",
       "      <th>1</th>\n",
       "      <td>variables/daterangesecond</td>\n",
       "      <td>Second</td>\n",
       "      <td>NaN</td>\n",
       "      <td>NaN</td>\n",
       "      <td>NaN</td>\n",
       "      <td>NaN</td>\n",
       "      <td>NaN</td>\n",
       "      <td>event</td>\n",
       "      <td>NaN</td>\n",
       "      <td>standard</td>\n",
       "      <td>...</td>\n",
       "      <td>[{'func': 'raw-field', 'id': 'adobe_datetime',...</td>\n",
       "      <td>{'includeNoneByDefault': False, 'noneChangeabl...</td>\n",
       "      <td>True</td>\n",
       "      <td>NaN</td>\n",
       "      <td>NaN</td>\n",
       "      <td>NaN</td>\n",
       "      <td>hits</td>\n",
       "      <td>True</td>\n",
       "      <td>True</td>\n",
       "      <td>NaN</td>\n",
       "    </tr>\n",
       "    <tr>\n",
       "      <th>2</th>\n",
       "      <td>variables/device.typeID.global-classify-string...</td>\n",
       "      <td>Audio Support</td>\n",
       "      <td></td>\n",
       "      <td>device.typeID.global-classify-string._globallo...</td>\n",
       "      <td>Audio Support</td>\n",
       "      <td>device.typeID.global-classify-string.g7ff63669...</td>\n",
       "      <td>[5f739f3043ffd11914d6ddaa]</td>\n",
       "      <td>lookup</td>\n",
       "      <td>string</td>\n",
       "      <td>globalLookup</td>\n",
       "      <td>...</td>\n",
       "      <td>[{'func': 'raw-field', 'id': 'device.typeID.gl...</td>\n",
       "      <td>{'includeNoneByDefault': True, 'noneChangeable...</td>\n",
       "      <td>False</td>\n",
       "      <td>{'enabled': False}</td>\n",
       "      <td>{'lowercase': False}</td>\n",
       "      <td>{'enabled': False}</td>\n",
       "      <td>NaN</td>\n",
       "      <td>NaN</td>\n",
       "      <td>NaN</td>\n",
       "      <td>NaN</td>\n",
       "    </tr>\n",
       "    <tr>\n",
       "      <th>3</th>\n",
       "      <td>variables/device.typeID.global-classify-string...</td>\n",
       "      <td>Manufacturer</td>\n",
       "      <td></td>\n",
       "      <td>device.typeID.global-classify-string._globallo...</td>\n",
       "      <td>Manufacturer</td>\n",
       "      <td>device.typeID.global-classify-string.g7ff63669...</td>\n",
       "      <td>[5f739f3043ffd11914d6ddaa]</td>\n",
       "      <td>lookup</td>\n",
       "      <td>string</td>\n",
       "      <td>globalLookup</td>\n",
       "      <td>...</td>\n",
       "      <td>[{'func': 'raw-field', 'id': 'device.typeID.gl...</td>\n",
       "      <td>{'includeNoneByDefault': True, 'noneChangeable...</td>\n",
       "      <td>False</td>\n",
       "      <td>{'enabled': False}</td>\n",
       "      <td>{'lowercase': False}</td>\n",
       "      <td>{'enabled': False}</td>\n",
       "      <td>NaN</td>\n",
       "      <td>NaN</td>\n",
       "      <td>NaN</td>\n",
       "      <td>NaN</td>\n",
       "    </tr>\n",
       "    <tr>\n",
       "      <th>4</th>\n",
       "      <td>variables/adobe_identitynamespace_personid</td>\n",
       "      <td>Identity Namespace:Person ID</td>\n",
       "      <td>n/a</td>\n",
       "      <td>NaN</td>\n",
       "      <td>NaN</td>\n",
       "      <td>NaN</td>\n",
       "      <td>NaN</td>\n",
       "      <td>event</td>\n",
       "      <td>NaN</td>\n",
       "      <td>standard</td>\n",
       "      <td>...</td>\n",
       "      <td>[{'func': 'raw-field', 'id': 'adobe_identityna...</td>\n",
       "      <td>{'includeNoneByDefault': False, 'noneChangeabl...</td>\n",
       "      <td>False</td>\n",
       "      <td>NaN</td>\n",
       "      <td>NaN</td>\n",
       "      <td>NaN</td>\n",
       "      <td>NaN</td>\n",
       "      <td>NaN</td>\n",
       "      <td>False</td>\n",
       "      <td>NaN</td>\n",
       "    </tr>\n",
       "  </tbody>\n",
       "</table>\n",
       "<p>5 rows × 34 columns</p>\n",
       "</div>"
      ],
      "text/plain": [
       "                                                  id  \\\n",
       "0             variables/placeContext.geo.countryCode   \n",
       "1                          variables/daterangesecond   \n",
       "2  variables/device.typeID.global-classify-string...   \n",
       "3  variables/device.typeID.global-classify-string...   \n",
       "4         variables/adobe_identitynamespace_personid   \n",
       "\n",
       "                           name  \\\n",
       "0                  Country code   \n",
       "1                        Second   \n",
       "2                 Audio Support   \n",
       "3                  Manufacturer   \n",
       "4  Identity Namespace:Person ID   \n",
       "\n",
       "                                         description  \\\n",
       "0  The two-character [ISO 3166-1 alpha-2](https:/...   \n",
       "1                                                NaN   \n",
       "2                                                      \n",
       "3                                                      \n",
       "4                                                n/a   \n",
       "\n",
       "                                       sourceFieldId sourceFieldName  \\\n",
       "0                       placeContext.geo.countryCode    Country code   \n",
       "1                                                NaN             NaN   \n",
       "2  device.typeID.global-classify-string._globallo...   Audio Support   \n",
       "3  device.typeID.global-classify-string._globallo...    Manufacturer   \n",
       "4                                                NaN             NaN   \n",
       "\n",
       "                                           storageId  \\\n",
       "0       explicitp9f128de542059012c91a65ntrycode|hits   \n",
       "1                                                NaN   \n",
       "2  device.typeID.global-classify-string.g7ff63669...   \n",
       "3  device.typeID.global-classify-string.g7ff63669...   \n",
       "4                                                NaN   \n",
       "\n",
       "                   dataSetIds dataSetType schemaType sourceFieldType  ...  \\\n",
       "0  [6059fd4fc52f8819484a7c1c]       event     string          custom  ...   \n",
       "1                         NaN       event        NaN        standard  ...   \n",
       "2  [5f739f3043ffd11914d6ddaa]      lookup     string    globalLookup  ...   \n",
       "3  [5f739f3043ffd11914d6ddaa]      lookup     string    globalLookup  ...   \n",
       "4                         NaN       event        NaN        standard  ...   \n",
       "\n",
       "                                     fieldDefinition  \\\n",
       "0  [{'func': 'raw-field', 'id': 'placeContext.geo...   \n",
       "1  [{'func': 'raw-field', 'id': 'adobe_datetime',...   \n",
       "2  [{'func': 'raw-field', 'id': 'device.typeID.gl...   \n",
       "3  [{'func': 'raw-field', 'id': 'device.typeID.gl...   \n",
       "4  [{'func': 'raw-field', 'id': 'adobe_identityna...   \n",
       "\n",
       "                               noValueOptionsSetting defaultDimensionSort  \\\n",
       "0  {'includeNoneByDefault': True, 'noneChangeable...                False   \n",
       "1  {'includeNoneByDefault': False, 'noneChangeabl...                 True   \n",
       "2  {'includeNoneByDefault': True, 'noneChangeable...                False   \n",
       "3  {'includeNoneByDefault': True, 'noneChangeable...                False   \n",
       "4  {'includeNoneByDefault': False, 'noneChangeabl...                False   \n",
       "\n",
       "   persistenceSetting       behaviorSetting    substringSetting  \\\n",
       "0  {'enabled': False}  {'lowercase': False}  {'enabled': False}   \n",
       "1                 NaN                   NaN                 NaN   \n",
       "2  {'enabled': False}  {'lowercase': False}  {'enabled': False}   \n",
       "3  {'enabled': False}  {'lowercase': False}  {'enabled': False}   \n",
       "4                 NaN                   NaN                 NaN   \n",
       "\n",
       "   baseTableName  required derivedFieldCompatible labels  \n",
       "0            NaN       NaN                    NaN    NaN  \n",
       "1           hits      True                   True    NaN  \n",
       "2            NaN       NaN                    NaN    NaN  \n",
       "3            NaN       NaN                    NaN    NaN  \n",
       "4            NaN       NaN                  False    NaN  \n",
       "\n",
       "[5 rows x 34 columns]"
      ]
     },
     "execution_count": 6,
     "metadata": {},
     "output_type": "execute_result"
    }
   ],
   "source": [
    "dimensions.head()"
   ]
  },
  {
   "cell_type": "markdown",
   "id": "02efd793",
   "metadata": {},
   "source": [
    "You can see that you have lots of details about each of these dimensions.\\\n",
    "You can see the number of elements by using the `len()` method"
   ]
  },
  {
   "cell_type": "code",
   "execution_count": 7,
   "id": "55805d86",
   "metadata": {
    "ExecuteTime": {
     "end_time": "2024-12-15T13:25:49.991033Z",
     "start_time": "2024-12-15T13:25:49.986008Z"
    }
   },
   "outputs": [
    {
     "data": {
      "text/plain": [
       "88"
      ]
     },
     "execution_count": 7,
     "metadata": {},
     "output_type": "execute_result"
    }
   ],
   "source": [
    "len(dimensions)"
   ]
  },
  {
   "cell_type": "markdown",
   "id": "85805035",
   "metadata": {},
   "source": [
    "## Cleaning the elements"
   ]
  },
  {
   "cell_type": "markdown",
   "id": "6e884604",
   "metadata": {},
   "source": [
    "First of all, you may have default dimensions or metrics that have been integrated in that data view but are not that important because they do not contain data.\\\n",
    "Removing them would actually clean up the table.\\\n",
    "This task, as not sexy, is a crucial task to understand and realize before doing any sort of data analysis in the future.\\\n",
    "We are using this simple task of creating a Solution Design to introduce some concepts such as:\n",
    "* identifying null values\n",
    "* cleaning null values"
   ]
  },
  {
   "cell_type": "markdown",
   "id": "14903044",
   "metadata": {},
   "source": [
    "There are some columns that you may also not want to duplicate on your solution design, therefore we will remove them as well."
   ]
  },
  {
   "cell_type": "markdown",
   "id": "6aebeacd",
   "metadata": {},
   "source": [
    "### Fixing null values"
   ]
  },
  {
   "cell_type": "markdown",
   "id": "3e615e06",
   "metadata": {},
   "source": [
    "Not a Number (NaN) of Not defined value (na) are elements that could break some basic condition formatting, so we would like to clean these parts first."
   ]
  },
  {
   "cell_type": "code",
   "execution_count": 8,
   "id": "69c25667",
   "metadata": {
    "ExecuteTime": {
     "end_time": "2024-12-15T13:25:50.009364Z",
     "start_time": "2024-12-15T13:25:49.993026Z"
    }
   },
   "outputs": [
    {
     "data": {
      "text/plain": [
       "id                         0\n",
       "name                       0\n",
       "description               13\n",
       "sourceFieldId             30\n",
       "sourceFieldName           30\n",
       "storageId                 30\n",
       "dataSetIds                30\n",
       "dataSetType                0\n",
       "schemaType                30\n",
       "sourceFieldType            0\n",
       "tableName                 30\n",
       "type                       0\n",
       "hideFromReporting         13\n",
       "schemaPath                30\n",
       "hasData                    0\n",
       "segmentable                0\n",
       "favorite                   0\n",
       "approved                   0\n",
       "tags                       0\n",
       "usageSummary               0\n",
       "hidden                     0\n",
       "fromGlobalLookup           0\n",
       "multiValued               30\n",
       "includeExcludeSetting     32\n",
       "fieldDefinition            3\n",
       "noValueOptionsSetting      0\n",
       "defaultDimensionSort       0\n",
       "persistenceSetting        30\n",
       "behaviorSetting           34\n",
       "substringSetting          34\n",
       "baseTableName             63\n",
       "required                  69\n",
       "derivedFieldCompatible    58\n",
       "labels                    87\n",
       "dtype: int64"
      ]
     },
     "execution_count": 8,
     "metadata": {},
     "output_type": "execute_result"
    }
   ],
   "source": [
    "dimensions.isnull().sum()"
   ]
  },
  {
   "cell_type": "code",
   "execution_count": 9,
   "id": "3e48586a",
   "metadata": {
    "ExecuteTime": {
     "end_time": "2024-12-15T13:25:50.026242Z",
     "start_time": "2024-12-15T13:25:50.010356Z"
    }
   },
   "outputs": [],
   "source": [
    "dimensions['hasData'] = dimensions['hasData'].fillna(False) ## if no information, just place False as default\n",
    "dimensions['derivedFieldCompatible'] = dimensions['derivedFieldCompatible'].fillna(False) ## if no information, just place False as default\n",
    "dimensions['dataSetType'] = dimensions['dataSetType'].fillna(\"system\")  ## if no information, just place \"system\" as default\n",
    "dimensions['sourceFieldId'] = dimensions['sourceFieldId'].fillna(\"cja\")"
   ]
  },
  {
   "cell_type": "markdown",
   "id": "bcbf7daf",
   "metadata": {},
   "source": [
    "Base on these informaiton `hasData`, `derivedFieldCompatible` and `dataSetType`, there could be already a good filtering done for your solution design. "
   ]
  },
  {
   "cell_type": "markdown",
   "id": "fea7bc06",
   "metadata": {},
   "source": [
    "## Fixing metrics table"
   ]
  },
  {
   "cell_type": "markdown",
   "id": "7b46d4aa",
   "metadata": {},
   "source": [
    "You can also look at random lines in your dataframe by using the `sample()` method, the argument giving the number of row to return.  "
   ]
  },
  {
   "cell_type": "code",
   "execution_count": 10,
   "id": "4cb6e58e",
   "metadata": {
    "ExecuteTime": {
     "end_time": "2024-12-15T13:25:50.439830Z",
     "start_time": "2024-12-15T13:25:50.425499Z"
    }
   },
   "outputs": [
    {
     "data": {
      "text/html": [
       "<div>\n",
       "<style scoped>\n",
       "    .dataframe tbody tr th:only-of-type {\n",
       "        vertical-align: middle;\n",
       "    }\n",
       "\n",
       "    .dataframe tbody tr th {\n",
       "        vertical-align: top;\n",
       "    }\n",
       "\n",
       "    .dataframe thead th {\n",
       "        text-align: right;\n",
       "    }\n",
       "</style>\n",
       "<table border=\"1\" class=\"dataframe\">\n",
       "  <thead>\n",
       "    <tr style=\"text-align: right;\">\n",
       "      <th></th>\n",
       "      <th>id</th>\n",
       "      <th>name</th>\n",
       "      <th>description</th>\n",
       "      <th>dataSetType</th>\n",
       "      <th>sourceFieldType</th>\n",
       "      <th>baseTableName</th>\n",
       "      <th>type</th>\n",
       "      <th>hideFromReporting</th>\n",
       "      <th>hasData</th>\n",
       "      <th>segmentable</th>\n",
       "      <th>...</th>\n",
       "      <th>sourceFieldName</th>\n",
       "      <th>storageId</th>\n",
       "      <th>dataSetIds</th>\n",
       "      <th>schemaType</th>\n",
       "      <th>tableName</th>\n",
       "      <th>schemaPath</th>\n",
       "      <th>multiValued</th>\n",
       "      <th>includeExcludeSetting</th>\n",
       "      <th>required</th>\n",
       "      <th>attributionSetting</th>\n",
       "    </tr>\n",
       "  </thead>\n",
       "  <tbody>\n",
       "    <tr>\n",
       "      <th>11</th>\n",
       "      <td>metrics/environment.browserDetails.viewportWidth</td>\n",
       "      <td>Viewport width</td>\n",
       "      <td>The horizontal size in pixels of the window th...</td>\n",
       "      <td>event</td>\n",
       "      <td>custom</td>\n",
       "      <td>NaN</td>\n",
       "      <td>int</td>\n",
       "      <td>False</td>\n",
       "      <td>True</td>\n",
       "      <td>True</td>\n",
       "      <td>...</td>\n",
       "      <td>Viewport width</td>\n",
       "      <td>expliciteda4aab4f5c863da445d069ortwidth|hits</td>\n",
       "      <td>[6059fd4fc52f8819484a7c1c]</td>\n",
       "      <td>integer</td>\n",
       "      <td>hits</td>\n",
       "      <td>environment.browserDetails.viewportWidth</td>\n",
       "      <td>False</td>\n",
       "      <td>{'enabled': False}</td>\n",
       "      <td>NaN</td>\n",
       "      <td>NaN</td>\n",
       "    </tr>\n",
       "    <tr>\n",
       "      <th>12</th>\n",
       "      <td>metrics/device.screenWidth</td>\n",
       "      <td>Screen width</td>\n",
       "      <td>The number of horizontal pixels of the device'...</td>\n",
       "      <td>event</td>\n",
       "      <td>custom</td>\n",
       "      <td>NaN</td>\n",
       "      <td>int</td>\n",
       "      <td>False</td>\n",
       "      <td>True</td>\n",
       "      <td>True</td>\n",
       "      <td>...</td>\n",
       "      <td>Screen width</td>\n",
       "      <td>explicitd6ed994d121bf281df56229eenwidth|hits</td>\n",
       "      <td>[6059fd4fc52f8819484a7c1c]</td>\n",
       "      <td>integer</td>\n",
       "      <td>hits</td>\n",
       "      <td>device.screenWidth</td>\n",
       "      <td>False</td>\n",
       "      <td>{'enabled': False}</td>\n",
       "      <td>NaN</td>\n",
       "      <td>NaN</td>\n",
       "    </tr>\n",
       "    <tr>\n",
       "      <th>14</th>\n",
       "      <td>metrics/web.webInteraction.linkClicks.value</td>\n",
       "      <td>web.webInteraction.linkClicks.value</td>\n",
       "      <td>The quantifiable value of this measure.</td>\n",
       "      <td>event</td>\n",
       "      <td>custom</td>\n",
       "      <td>NaN</td>\n",
       "      <td>decimal</td>\n",
       "      <td>False</td>\n",
       "      <td>True</td>\n",
       "      <td>True</td>\n",
       "      <td>...</td>\n",
       "      <td>web.webInteraction.linkClicks.value</td>\n",
       "      <td>explicitw94a6416e5fd321e097a91avalue|hits</td>\n",
       "      <td>[6059fd4fc52f8819484a7c1c]</td>\n",
       "      <td>double</td>\n",
       "      <td>hits</td>\n",
       "      <td>web.webInteraction.linkClicks.value</td>\n",
       "      <td>False</td>\n",
       "      <td>{'enabled': False}</td>\n",
       "      <td>NaN</td>\n",
       "      <td>NaN</td>\n",
       "    </tr>\n",
       "    <tr>\n",
       "      <th>4</th>\n",
       "      <td>metrics/visits</td>\n",
       "      <td>Sessions</td>\n",
       "      <td>NaN</td>\n",
       "      <td>event</td>\n",
       "      <td>standard</td>\n",
       "      <td>NaN</td>\n",
       "      <td>int</td>\n",
       "      <td>NaN</td>\n",
       "      <td>True</td>\n",
       "      <td>True</td>\n",
       "      <td>...</td>\n",
       "      <td>NaN</td>\n",
       "      <td>NaN</td>\n",
       "      <td>NaN</td>\n",
       "      <td>NaN</td>\n",
       "      <td>NaN</td>\n",
       "      <td>NaN</td>\n",
       "      <td>NaN</td>\n",
       "      <td>NaN</td>\n",
       "      <td>True</td>\n",
       "      <td>NaN</td>\n",
       "    </tr>\n",
       "  </tbody>\n",
       "</table>\n",
       "<p>4 rows × 29 columns</p>\n",
       "</div>"
      ],
      "text/plain": [
       "                                                  id  \\\n",
       "11  metrics/environment.browserDetails.viewportWidth   \n",
       "12                        metrics/device.screenWidth   \n",
       "14       metrics/web.webInteraction.linkClicks.value   \n",
       "4                                     metrics/visits   \n",
       "\n",
       "                                   name  \\\n",
       "11                       Viewport width   \n",
       "12                         Screen width   \n",
       "14  web.webInteraction.linkClicks.value   \n",
       "4                              Sessions   \n",
       "\n",
       "                                          description dataSetType  \\\n",
       "11  The horizontal size in pixels of the window th...       event   \n",
       "12  The number of horizontal pixels of the device'...       event   \n",
       "14            The quantifiable value of this measure.       event   \n",
       "4                                                 NaN       event   \n",
       "\n",
       "   sourceFieldType baseTableName     type hideFromReporting  hasData  \\\n",
       "11          custom           NaN      int             False     True   \n",
       "12          custom           NaN      int             False     True   \n",
       "14          custom           NaN  decimal             False     True   \n",
       "4         standard           NaN      int               NaN     True   \n",
       "\n",
       "    segmentable  ...                      sourceFieldName  \\\n",
       "11         True  ...                       Viewport width   \n",
       "12         True  ...                         Screen width   \n",
       "14         True  ...  web.webInteraction.linkClicks.value   \n",
       "4          True  ...                                  NaN   \n",
       "\n",
       "                                       storageId                  dataSetIds  \\\n",
       "11  expliciteda4aab4f5c863da445d069ortwidth|hits  [6059fd4fc52f8819484a7c1c]   \n",
       "12  explicitd6ed994d121bf281df56229eenwidth|hits  [6059fd4fc52f8819484a7c1c]   \n",
       "14     explicitw94a6416e5fd321e097a91avalue|hits  [6059fd4fc52f8819484a7c1c]   \n",
       "4                                            NaN                         NaN   \n",
       "\n",
       "   schemaType  tableName                                schemaPath  \\\n",
       "11    integer       hits  environment.browserDetails.viewportWidth   \n",
       "12    integer       hits                        device.screenWidth   \n",
       "14     double       hits       web.webInteraction.linkClicks.value   \n",
       "4         NaN        NaN                                       NaN   \n",
       "\n",
       "   multiValued includeExcludeSetting required attributionSetting  \n",
       "11       False    {'enabled': False}      NaN                NaN  \n",
       "12       False    {'enabled': False}      NaN                NaN  \n",
       "14       False    {'enabled': False}      NaN                NaN  \n",
       "4          NaN                   NaN     True                NaN  \n",
       "\n",
       "[4 rows x 29 columns]"
      ]
     },
     "execution_count": 10,
     "metadata": {},
     "output_type": "execute_result"
    }
   ],
   "source": [
    "metrics.sample(4)"
   ]
  },
  {
   "cell_type": "code",
   "execution_count": 11,
   "id": "46851174",
   "metadata": {
    "ExecuteTime": {
     "end_time": "2024-12-15T13:25:50.593171Z",
     "start_time": "2024-12-15T13:25:50.587528Z"
    }
   },
   "outputs": [
    {
     "data": {
      "text/plain": [
       "id                         0\n",
       "name                       0\n",
       "description                3\n",
       "dataSetType                0\n",
       "sourceFieldType            0\n",
       "baseTableName             12\n",
       "type                       0\n",
       "hideFromReporting          3\n",
       "hasData                    0\n",
       "segmentable                0\n",
       "favorite                   0\n",
       "approved                   0\n",
       "tags                       0\n",
       "usageSummary               0\n",
       "hidden                     0\n",
       "fromGlobalLookup           0\n",
       "fieldDefinition            4\n",
       "derivedFieldCompatible     8\n",
       "sourceFieldId              8\n",
       "sourceFieldName            8\n",
       "storageId                  8\n",
       "dataSetIds                 8\n",
       "schemaType                 8\n",
       "tableName                  8\n",
       "schemaPath                 8\n",
       "multiValued                8\n",
       "includeExcludeSetting      8\n",
       "required                  10\n",
       "attributionSetting        13\n",
       "dtype: int64"
      ]
     },
     "execution_count": 11,
     "metadata": {},
     "output_type": "execute_result"
    }
   ],
   "source": [
    "metrics.isnull().sum()"
   ]
  },
  {
   "cell_type": "code",
   "execution_count": 12,
   "id": "27c6b101",
   "metadata": {
    "ExecuteTime": {
     "end_time": "2024-12-15T13:25:50.757513Z",
     "start_time": "2024-12-15T13:25:50.753188Z"
    }
   },
   "outputs": [],
   "source": [
    "metrics['hasData'] = metrics['hasData'].fillna(False) ## if no information, just place False as default\n",
    "metrics['derivedFieldCompatible'] = metrics['derivedFieldCompatible'].fillna(False) ## if no information, just place False as default\n",
    "metrics['dataSetType'] = metrics['dataSetType'].fillna(\"system\")  ## if no information, just place \"system\" as default\n",
    "metrics['sourceFieldId'] = metrics['sourceFieldId'].fillna(\"cja\")  ## if no information, just place \"cja\" as default"
   ]
  },
  {
   "cell_type": "markdown",
   "id": "07e83cd7",
   "metadata": {},
   "source": [
    "## Metrics and dimensions SDR"
   ]
  },
  {
   "cell_type": "markdown",
   "id": "1f5b799f",
   "metadata": {},
   "source": [
    "The Solution Design Reference basde on CJA implementation can be exported via once we reframe it to the columns we want to have.\\\n",
    "You can filter columns by placing them in a list for filtering.\\\n",
    "If you want to have a copy of your dataframe, use the `copy()` method, that will avoid doing some modification to your original dataframe."
   ]
  },
  {
   "cell_type": "markdown",
   "id": "11c0d41b",
   "metadata": {},
   "source": [
    "In our example here, we will only select attributes that we find important for the usage of that notebook."
   ]
  },
  {
   "cell_type": "code",
   "execution_count": 13,
   "id": "bf22f628",
   "metadata": {
    "ExecuteTime": {
     "end_time": "2024-12-15T13:25:51.403259Z",
     "start_time": "2024-12-15T13:25:51.397016Z"
    }
   },
   "outputs": [],
   "source": [
    "dimensions_sdr = dimensions[dimensions['hasData']][['id','name','dataSetType','sourceFieldId']].copy() ## filtering for dimensions that contain data\n",
    "metrics_sdr = metrics[metrics['hasData']][['id','name','dataSetType','sourceFieldId']].copy()## filtering for metrics that contain data"
   ]
  },
  {
   "cell_type": "markdown",
   "id": "6d1e2a0c",
   "metadata": {},
   "source": [
    "### Optional : Concat dataframe"
   ]
  },
  {
   "cell_type": "markdown",
   "id": "d5aa4062",
   "metadata": {},
   "source": [
    "You can combine 2 dataframe via the `concat()` method of the pandas module."
   ]
  },
  {
   "cell_type": "code",
   "execution_count": 14,
   "id": "9f8a2f44",
   "metadata": {
    "ExecuteTime": {
     "end_time": "2024-12-15T13:25:51.919168Z",
     "start_time": "2024-12-15T13:25:51.916634Z"
    }
   },
   "outputs": [],
   "source": [
    "import pandas as pd ## using the pd alias"
   ]
  },
  {
   "cell_type": "markdown",
   "id": "72409618",
   "metadata": {},
   "source": [
    "The `concat` method will take an iterable of dataframe and concat them together.\\\n",
    "`ignore_index` will reset the index."
   ]
  },
  {
   "cell_type": "code",
   "execution_count": 15,
   "id": "8fd6d491",
   "metadata": {
    "ExecuteTime": {
     "end_time": "2024-12-15T13:25:52.297584Z",
     "start_time": "2024-12-15T13:25:52.294198Z"
    }
   },
   "outputs": [],
   "source": [
    "df_cja = pd.concat([dimensions_sdr,metrics_sdr],ignore_index=True)"
   ]
  },
  {
   "cell_type": "code",
   "execution_count": 16,
   "id": "037ac0f9",
   "metadata": {
    "ExecuteTime": {
     "end_time": "2024-12-15T13:25:52.498362Z",
     "start_time": "2024-12-15T13:25:52.491642Z"
    }
   },
   "outputs": [
    {
     "data": {
      "text/html": [
       "<div>\n",
       "<style scoped>\n",
       "    .dataframe tbody tr th:only-of-type {\n",
       "        vertical-align: middle;\n",
       "    }\n",
       "\n",
       "    .dataframe tbody tr th {\n",
       "        vertical-align: top;\n",
       "    }\n",
       "\n",
       "    .dataframe thead th {\n",
       "        text-align: right;\n",
       "    }\n",
       "</style>\n",
       "<table border=\"1\" class=\"dataframe\">\n",
       "  <thead>\n",
       "    <tr style=\"text-align: right;\">\n",
       "      <th></th>\n",
       "      <th>id</th>\n",
       "      <th>name</th>\n",
       "      <th>dataSetType</th>\n",
       "      <th>sourceFieldId</th>\n",
       "    </tr>\n",
       "  </thead>\n",
       "  <tbody>\n",
       "    <tr>\n",
       "      <th>32</th>\n",
       "      <td>variables/618aa8dff4919f19484472fb.web.webPage...</td>\n",
       "      <td>field1</td>\n",
       "      <td>lookup</td>\n",
       "      <td>618aa8dff4919f19484472fb.web.webPageDetails.UR...</td>\n",
       "    </tr>\n",
       "    <tr>\n",
       "      <th>22</th>\n",
       "      <td>variables/adobe_firstvreturn_sessiontype</td>\n",
       "      <td>Session Type</td>\n",
       "      <td>event</td>\n",
       "      <td>cja</td>\n",
       "    </tr>\n",
       "    <tr>\n",
       "      <th>50</th>\n",
       "      <td>variables/web.webInteraction.type</td>\n",
       "      <td>Type (2)</td>\n",
       "      <td>event</td>\n",
       "      <td>web.webInteraction.type</td>\n",
       "    </tr>\n",
       "    <tr>\n",
       "      <th>34</th>\n",
       "      <td>variables/placeContext.localTime</td>\n",
       "      <td>Local time</td>\n",
       "      <td>event</td>\n",
       "      <td>placeContext.localTime</td>\n",
       "    </tr>\n",
       "    <tr>\n",
       "      <th>21</th>\n",
       "      <td>variables/adobe_identitynamespace</td>\n",
       "      <td>Identity Namespace</td>\n",
       "      <td>event</td>\n",
       "      <td>cja</td>\n",
       "    </tr>\n",
       "  </tbody>\n",
       "</table>\n",
       "</div>"
      ],
      "text/plain": [
       "                                                   id                name  \\\n",
       "32  variables/618aa8dff4919f19484472fb.web.webPage...              field1   \n",
       "22           variables/adobe_firstvreturn_sessiontype        Session Type   \n",
       "50                  variables/web.webInteraction.type            Type (2)   \n",
       "34                   variables/placeContext.localTime          Local time   \n",
       "21                  variables/adobe_identitynamespace  Identity Namespace   \n",
       "\n",
       "   dataSetType                                      sourceFieldId  \n",
       "32      lookup  618aa8dff4919f19484472fb.web.webPageDetails.UR...  \n",
       "22       event                                                cja  \n",
       "50       event                            web.webInteraction.type  \n",
       "34       event                             placeContext.localTime  \n",
       "21       event                                                cja  "
      ]
     },
     "execution_count": 16,
     "metadata": {},
     "output_type": "execute_result"
    }
   ],
   "source": [
    "df_cja.sample(5)"
   ]
  },
  {
   "cell_type": "markdown",
   "id": "c7d3ffb9",
   "metadata": {},
   "source": [
    "As you can see the sourcFieldId can be cleaned up as it should provide us with some information about the path used for the data ingestion.\\\n",
    "For the interest of time, we will not cover that part but know that Lookup and profile are ingesting the path with a prefix to avoid collision. "
   ]
  },
  {
   "cell_type": "markdown",
   "id": "abc8015f",
   "metadata": {},
   "source": [
    "# Connecting with AEP Schema"
   ]
  },
  {
   "cell_type": "markdown",
   "id": "e01c42e8",
   "metadata": {},
   "source": [
    "Customer Journey Analytics is loading the data based on the dataset that are being used in Adobe Experience Platform.\\\n",
    "Getting to know and understand the schema that is being used to capture the data is important.\\\n",
    "In order to do that, you can always log-in to the Adobe Experience Platform via the UI, but you can also retrieve more useful information by using the `aepp` module"
   ]
  },
  {
   "cell_type": "markdown",
   "id": "360c20d3",
   "metadata": {},
   "source": [
    "The `aepp` module is divided in different services that can be used for analysing your Adobe Experience Platform implementation.\\\n",
    "In our scenario, we will just require to load the `schema` sub module"
   ]
  },
  {
   "cell_type": "code",
   "execution_count": 17,
   "id": "e7832c94",
   "metadata": {
    "ExecuteTime": {
     "end_time": "2024-12-15T13:27:18.738234Z",
     "start_time": "2024-12-15T13:27:18.727291Z"
    }
   },
   "outputs": [],
   "source": [
    "import aepp\n",
    "from aepp import schema"
   ]
  },
  {
   "cell_type": "markdown",
   "id": "dbd7b65a",
   "metadata": {},
   "source": [
    "The Adobe Experience Platform is divided itself into different sandboxes.\\\n",
    "While loading the configuration, you can specify which sandbox you want to use.\\\n",
    "It is also recommnended to store the configuration in a variable, that we will name `prod` because we are using the prod sandbox.\\\n",
    "We can save the configuratio by passing `True` to the `connectInstance` parameter"
   ]
  },
  {
   "cell_type": "code",
   "execution_count": 18,
   "id": "f8c0031d",
   "metadata": {
    "ExecuteTime": {
     "end_time": "2024-12-15T13:27:19.036769Z",
     "start_time": "2024-12-15T13:27:19.032914Z"
    }
   },
   "outputs": [],
   "source": [
    "prod = aepp.importConfigFile('config_example.json',sandbox='prod',connectInstance=True)"
   ]
  },
  {
   "cell_type": "markdown",
   "id": "b1104959",
   "metadata": {},
   "source": [
    "You can then use the configuration to instantiate your connection to your schema for the `prod` sandbox."
   ]
  },
  {
   "cell_type": "code",
   "execution_count": 19,
   "id": "b847df22",
   "metadata": {
    "ExecuteTime": {
     "end_time": "2024-12-15T13:27:19.616748Z",
     "start_time": "2024-12-15T13:27:19.347983Z"
    }
   },
   "outputs": [],
   "source": [
    "schemaProd = schema.Schema(config=prod)"
   ]
  },
  {
   "cell_type": "markdown",
   "id": "575793b5",
   "metadata": {},
   "source": [
    "We will retrieve all schemas"
   ]
  },
  {
   "cell_type": "code",
   "execution_count": 20,
   "id": "36a79778",
   "metadata": {
    "ExecuteTime": {
     "end_time": "2024-12-15T13:27:20.142564Z",
     "start_time": "2024-12-15T13:27:19.686912Z"
    }
   },
   "outputs": [],
   "source": [
    "allSchemas = schemaProd.getSchemas()"
   ]
  },
  {
   "cell_type": "markdown",
   "id": "7e22e5c2",
   "metadata": {},
   "source": [
    "By retrieving the schemas, we have created a storage to easily find the schema ID to be used in these data classes:\n",
    "* schemaProd.data.schemas_altId\n",
    "* schemaProd.data.schemas_id\n",
    "\n",
    "Using the name of our schema, we can easily extract its id: "
   ]
  },
  {
   "cell_type": "code",
   "execution_count": 21,
   "id": "d797f50a",
   "metadata": {
    "ExecuteTime": {
     "end_time": "2024-12-15T13:27:20.267586Z",
     "start_time": "2024-12-15T13:27:20.263089Z"
    }
   },
   "outputs": [
    {
     "data": {
      "text/plain": [
       "'https://ns.adobe.com/emeaconsulting/schemas/b6368c561a807b6eb05818eaabc15f1948d3e19b6a767285'"
      ]
     },
     "execution_count": 21,
     "metadata": {},
     "output_type": "execute_result"
    }
   ],
   "source": [
    "schemaProd.data.schemas_id['datanalyst']"
   ]
  },
  {
   "cell_type": "markdown",
   "id": "a4a22844",
   "metadata": {},
   "source": [
    "## Schema Manager"
   ]
  },
  {
   "cell_type": "markdown",
   "id": "62ff4351",
   "metadata": {},
   "source": [
    "We can use a native functionality of aepp to build a dataframe representation of the schema\\\n",
    "The usage of the `SchemaManager` class will simplify the extraction of the fields"
   ]
  },
  {
   "cell_type": "code",
   "execution_count": 22,
   "id": "cb769415",
   "metadata": {
    "ExecuteTime": {
     "end_time": "2024-12-15T13:27:28.496813Z",
     "start_time": "2024-12-15T13:27:21.299637Z"
    }
   },
   "outputs": [],
   "source": [
    "datanalyst = schema.SchemaManager(schemaProd.data.schemas_id['datanalyst'])"
   ]
  },
  {
   "cell_type": "code",
   "execution_count": 25,
   "id": "e82a1974",
   "metadata": {
    "ExecuteTime": {
     "end_time": "2024-12-15T13:42:44.540819Z",
     "start_time": "2024-12-15T13:42:44.521963Z"
    }
   },
   "outputs": [],
   "source": [
    "df_schema = datanalyst.to_dataframe(queryPath=True)"
   ]
  },
  {
   "cell_type": "markdown",
   "id": "21d8e2b0",
   "metadata": {},
   "source": [
    "You can see that the paths have been flatten and provided in 2 columns:\n",
    "* path : containing the path flatten with more details for list [] and array of objects []{}\n",
    "* querypath : it is the same path but without the notation that helps understanding its type. \n",
    "\n",
    "For mapping the path to the one display in CJA, we will use the query path. "
   ]
  },
  {
   "cell_type": "code",
   "execution_count": 26,
   "id": "d9e02ca8",
   "metadata": {
    "ExecuteTime": {
     "end_time": "2024-12-15T13:42:45.456883Z",
     "start_time": "2024-12-15T13:42:45.448642Z"
    }
   },
   "outputs": [
    {
     "data": {
      "text/html": [
       "<div>\n",
       "<style scoped>\n",
       "    .dataframe tbody tr th:only-of-type {\n",
       "        vertical-align: middle;\n",
       "    }\n",
       "\n",
       "    .dataframe tbody tr th {\n",
       "        vertical-align: top;\n",
       "    }\n",
       "\n",
       "    .dataframe thead th {\n",
       "        text-align: right;\n",
       "    }\n",
       "</style>\n",
       "<table border=\"1\" class=\"dataframe\">\n",
       "  <thead>\n",
       "    <tr style=\"text-align: right;\">\n",
       "      <th></th>\n",
       "      <th>path</th>\n",
       "      <th>type</th>\n",
       "      <th>fieldGroup</th>\n",
       "      <th>title</th>\n",
       "      <th>querypath</th>\n",
       "    </tr>\n",
       "  </thead>\n",
       "  <tbody>\n",
       "    <tr>\n",
       "      <th>0</th>\n",
       "      <td>_experience</td>\n",
       "      <td>object</td>\n",
       "      <td>AEP Web SDK ExperienceEvent</td>\n",
       "      <td>None</td>\n",
       "      <td>_experience</td>\n",
       "    </tr>\n",
       "    <tr>\n",
       "      <th>1</th>\n",
       "      <td>_experience.decisioning</td>\n",
       "      <td>object</td>\n",
       "      <td>AEP Web SDK ExperienceEvent</td>\n",
       "      <td>None</td>\n",
       "      <td>_experience.decisioning</td>\n",
       "    </tr>\n",
       "    <tr>\n",
       "      <th>2</th>\n",
       "      <td>_experience.decisioning.propositionAction</td>\n",
       "      <td>object</td>\n",
       "      <td>AEP Web SDK ExperienceEvent</td>\n",
       "      <td>Proposition Action</td>\n",
       "      <td>_experience.decisioning.propositionAction</td>\n",
       "    </tr>\n",
       "    <tr>\n",
       "      <th>3</th>\n",
       "      <td>_experience.decisioning.propositionAction.id</td>\n",
       "      <td>string</td>\n",
       "      <td>AEP Web SDK ExperienceEvent</td>\n",
       "      <td>id</td>\n",
       "      <td>_experience.decisioning.propositionAction.id</td>\n",
       "    </tr>\n",
       "    <tr>\n",
       "      <th>4</th>\n",
       "      <td>_experience.decisioning.propositionAction.label</td>\n",
       "      <td>string</td>\n",
       "      <td>AEP Web SDK ExperienceEvent</td>\n",
       "      <td>label</td>\n",
       "      <td>_experience.decisioning.propositionAction.label</td>\n",
       "    </tr>\n",
       "    <tr>\n",
       "      <th>...</th>\n",
       "      <td>...</td>\n",
       "      <td>...</td>\n",
       "      <td>...</td>\n",
       "      <td>...</td>\n",
       "      <td>...</td>\n",
       "    </tr>\n",
       "    <tr>\n",
       "      <th>1418</th>\n",
       "      <td>channel.mediaAction</td>\n",
       "      <td>string</td>\n",
       "      <td>Channel Details</td>\n",
       "      <td></td>\n",
       "      <td>channel.mediaAction</td>\n",
       "    </tr>\n",
       "    <tr>\n",
       "      <th>1419</th>\n",
       "      <td>channel.mediaType</td>\n",
       "      <td>string</td>\n",
       "      <td>Channel Details</td>\n",
       "      <td></td>\n",
       "      <td>channel.mediaType</td>\n",
       "    </tr>\n",
       "    <tr>\n",
       "      <th>1420</th>\n",
       "      <td>channel.metricTypes[]</td>\n",
       "      <td>string[]</td>\n",
       "      <td>Channel Details</td>\n",
       "      <td>None</td>\n",
       "      <td>channel.metricTypes</td>\n",
       "    </tr>\n",
       "    <tr>\n",
       "      <th>1421</th>\n",
       "      <td>channel.mode</td>\n",
       "      <td>string</td>\n",
       "      <td>Channel Details</td>\n",
       "      <td></td>\n",
       "      <td>channel.mode</td>\n",
       "    </tr>\n",
       "    <tr>\n",
       "      <th>1422</th>\n",
       "      <td>channel.typeAtSource</td>\n",
       "      <td>string</td>\n",
       "      <td>Channel Details</td>\n",
       "      <td></td>\n",
       "      <td>channel.typeAtSource</td>\n",
       "    </tr>\n",
       "  </tbody>\n",
       "</table>\n",
       "<p>1423 rows × 5 columns</p>\n",
       "</div>"
      ],
      "text/plain": [
       "                                                 path      type  \\\n",
       "0                                         _experience    object   \n",
       "1                             _experience.decisioning    object   \n",
       "2           _experience.decisioning.propositionAction    object   \n",
       "3        _experience.decisioning.propositionAction.id    string   \n",
       "4     _experience.decisioning.propositionAction.label    string   \n",
       "...                                               ...       ...   \n",
       "1418                              channel.mediaAction    string   \n",
       "1419                                channel.mediaType    string   \n",
       "1420                            channel.metricTypes[]  string[]   \n",
       "1421                                     channel.mode    string   \n",
       "1422                             channel.typeAtSource    string   \n",
       "\n",
       "                       fieldGroup               title  \\\n",
       "0     AEP Web SDK ExperienceEvent                None   \n",
       "1     AEP Web SDK ExperienceEvent                None   \n",
       "2     AEP Web SDK ExperienceEvent  Proposition Action   \n",
       "3     AEP Web SDK ExperienceEvent                  id   \n",
       "4     AEP Web SDK ExperienceEvent               label   \n",
       "...                           ...                 ...   \n",
       "1418              Channel Details                       \n",
       "1419              Channel Details                       \n",
       "1420              Channel Details                None   \n",
       "1421              Channel Details                       \n",
       "1422              Channel Details                       \n",
       "\n",
       "                                            querypath  \n",
       "0                                         _experience  \n",
       "1                             _experience.decisioning  \n",
       "2           _experience.decisioning.propositionAction  \n",
       "3        _experience.decisioning.propositionAction.id  \n",
       "4     _experience.decisioning.propositionAction.label  \n",
       "...                                               ...  \n",
       "1418                              channel.mediaAction  \n",
       "1419                                channel.mediaType  \n",
       "1420                              channel.metricTypes  \n",
       "1421                                     channel.mode  \n",
       "1422                             channel.typeAtSource  \n",
       "\n",
       "[1423 rows x 5 columns]"
      ]
     },
     "execution_count": 26,
     "metadata": {},
     "output_type": "execute_result"
    }
   ],
   "source": [
    "df_schema"
   ]
  },
  {
   "cell_type": "markdown",
   "id": "84c8c79e",
   "metadata": {},
   "source": [
    "We will also remove the type object as they just serve as node and do not contain any data."
   ]
  },
  {
   "cell_type": "code",
   "execution_count": 28,
   "id": "009dbec5",
   "metadata": {
    "ExecuteTime": {
     "end_time": "2024-12-15T13:55:18.566555Z",
     "start_time": "2024-12-15T13:55:18.560920Z"
    }
   },
   "outputs": [],
   "source": [
    "df_schema = df_schema[df_schema['type']!='object'][['querypath','title','type']].copy()"
   ]
  },
  {
   "cell_type": "code",
   "execution_count": 29,
   "id": "c1d7ab78",
   "metadata": {
    "ExecuteTime": {
     "end_time": "2024-12-15T13:55:24.112675Z",
     "start_time": "2024-12-15T13:55:24.108171Z"
    }
   },
   "outputs": [
    {
     "data": {
      "text/plain": [
       "1119"
      ]
     },
     "execution_count": 29,
     "metadata": {},
     "output_type": "execute_result"
    }
   ],
   "source": [
    "len(df_schema)"
   ]
  },
  {
   "cell_type": "markdown",
   "id": "5a5adb78",
   "metadata": {},
   "source": [
    "## Merging SDR with Schema definition"
   ]
  },
  {
   "cell_type": "markdown",
   "id": "e87bdb9f",
   "metadata": {},
   "source": [
    "Once you have your dataframe from the schema manager clean-up you can use it to merge it with the solution design.\\\n",
    "We will create a new dataframe that can replicate a path in case a path is used in both the dimension and the metrics."
   ]
  },
  {
   "cell_type": "code",
   "execution_count": 30,
   "id": "dfddc3f3",
   "metadata": {
    "ExecuteTime": {
     "end_time": "2024-12-15T14:05:39.241597Z",
     "start_time": "2024-12-15T14:05:39.238039Z"
    }
   },
   "outputs": [],
   "source": [
    "from copy import deepcopy"
   ]
  },
  {
   "cell_type": "code",
   "execution_count": 42,
   "id": "7809badb",
   "metadata": {
    "ExecuteTime": {
     "end_time": "2024-12-15T14:09:19.033179Z",
     "start_time": "2024-12-15T14:09:15.550562Z"
    }
   },
   "outputs": [],
   "source": [
    "new_dataframe = []\n",
    "for index, row in df_schema.iterrows():\n",
    "    data = {}\n",
    "    flag_found = False\n",
    "    for index_cja, row_cja in df_cja.iterrows():\n",
    "        if row['querypath'] in row_cja['id']:\n",
    "            data['xdm_path'] = row['querypath']\n",
    "            data['xdm_title'] = row['title']\n",
    "            data['xdm_type'] = row['type']\n",
    "            data['cja_id'] = row_cja['id']\n",
    "            data['cja_name'] = row_cja['name']\n",
    "            data['cja_type'] = (lambda row : 'dimension' if row['id'].startswith('variables') else 'metric')(row_cja)\n",
    "            new_dataframe.append(deepcopy(data))\n",
    "            flag_found = True\n",
    "            data = {}\n",
    "    if flag_found == False:\n",
    "        data['xdm_path'] = row['querypath']\n",
    "        data['xdm_title'] = row['title']\n",
    "        data['xdm_type'] = row['type']\n",
    "        data['cja_id'] = None\n",
    "        data['cja_name'] = None\n",
    "        data['cja_type'] = None\n",
    "        new_dataframe.append(deepcopy(data))"
   ]
  },
  {
   "cell_type": "code",
   "execution_count": 43,
   "id": "e023c220",
   "metadata": {
    "ExecuteTime": {
     "end_time": "2024-12-15T14:09:20.409097Z",
     "start_time": "2024-12-15T14:09:20.404099Z"
    }
   },
   "outputs": [],
   "source": [
    "df_new = pd.DataFrame(new_dataframe)"
   ]
  },
  {
   "cell_type": "code",
   "execution_count": 46,
   "id": "fab6120c",
   "metadata": {
    "ExecuteTime": {
     "end_time": "2024-12-15T14:09:26.095808Z",
     "start_time": "2024-12-15T14:09:26.086407Z"
    }
   },
   "outputs": [
    {
     "data": {
      "text/html": [
       "<div>\n",
       "<style scoped>\n",
       "    .dataframe tbody tr th:only-of-type {\n",
       "        vertical-align: middle;\n",
       "    }\n",
       "\n",
       "    .dataframe tbody tr th {\n",
       "        vertical-align: top;\n",
       "    }\n",
       "\n",
       "    .dataframe thead th {\n",
       "        text-align: right;\n",
       "    }\n",
       "</style>\n",
       "<table border=\"1\" class=\"dataframe\">\n",
       "  <thead>\n",
       "    <tr style=\"text-align: right;\">\n",
       "      <th></th>\n",
       "      <th>xdm_path</th>\n",
       "      <th>xdm_title</th>\n",
       "      <th>xdm_type</th>\n",
       "      <th>cja_id</th>\n",
       "      <th>cja_name</th>\n",
       "      <th>cja_type</th>\n",
       "    </tr>\n",
       "  </thead>\n",
       "  <tbody>\n",
       "    <tr>\n",
       "      <th>893</th>\n",
       "      <td>placeContext.localTimezoneOffset</td>\n",
       "      <td>Local time zone offset</td>\n",
       "      <td>integer</td>\n",
       "      <td>metrics/placeContext.localTimezoneOffset</td>\n",
       "      <td>Local time zone offset</td>\n",
       "      <td>metric</td>\n",
       "    </tr>\n",
       "    <tr>\n",
       "      <th>160</th>\n",
       "      <td>environment.ipV4</td>\n",
       "      <td>IPv4</td>\n",
       "      <td>string</td>\n",
       "      <td>variables/environment.ipV4</td>\n",
       "      <td>IPv4</td>\n",
       "      <td>dimension</td>\n",
       "    </tr>\n",
       "    <tr>\n",
       "      <th>351</th>\n",
       "      <td>_emeaconsulting.datanalyst.pageSubCategory</td>\n",
       "      <td>pageSubCategory</td>\n",
       "      <td>string</td>\n",
       "      <td>variables/_emeaconsulting.datanalyst.pageSubCa...</td>\n",
       "      <td>pageSubCategory</td>\n",
       "      <td>dimension</td>\n",
       "    </tr>\n",
       "  </tbody>\n",
       "</table>\n",
       "</div>"
      ],
      "text/plain": [
       "                                       xdm_path               xdm_title  \\\n",
       "893            placeContext.localTimezoneOffset  Local time zone offset   \n",
       "160                            environment.ipV4                    IPv4   \n",
       "351  _emeaconsulting.datanalyst.pageSubCategory         pageSubCategory   \n",
       "\n",
       "    xdm_type                                             cja_id  \\\n",
       "893  integer           metrics/placeContext.localTimezoneOffset   \n",
       "160   string                         variables/environment.ipV4   \n",
       "351   string  variables/_emeaconsulting.datanalyst.pageSubCa...   \n",
       "\n",
       "                   cja_name   cja_type  \n",
       "893  Local time zone offset     metric  \n",
       "160                    IPv4  dimension  \n",
       "351         pageSubCategory  dimension  "
      ]
     },
     "execution_count": 46,
     "metadata": {},
     "output_type": "execute_result"
    }
   ],
   "source": [
    "df_new[df_new['cja_id'].astype(bool)].sample(3)"
   ]
  },
  {
   "cell_type": "code",
   "execution_count": null,
   "id": "607d0a57",
   "metadata": {},
   "outputs": [],
   "source": []
  }
 ],
 "metadata": {
  "kernelspec": {
   "display_name": "Python 3 (ipykernel)",
   "language": "python",
   "name": "python3"
  },
  "language_info": {
   "codemirror_mode": {
    "name": "ipython",
    "version": 3
   },
   "file_extension": ".py",
   "mimetype": "text/x-python",
   "name": "python",
   "nbconvert_exporter": "python",
   "pygments_lexer": "ipython3",
   "version": "3.11.4"
  },
  "toc": {
   "base_numbering": 1,
   "nav_menu": {},
   "number_sections": true,
   "sideBar": true,
   "skip_h1_title": false,
   "title_cell": "Table of Contents",
   "title_sidebar": "Contents",
   "toc_cell": true,
   "toc_position": {},
   "toc_section_display": true,
   "toc_window_display": true
  }
 },
 "nbformat": 4,
 "nbformat_minor": 5
}
