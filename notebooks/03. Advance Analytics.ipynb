{
 "cells": [
  {
   "cell_type": "markdown",
   "id": "e8aa1e34",
   "metadata": {
    "toc": true
   },
   "source": [
    "<h1>Table of Contents<span class=\"tocSkip\"></span></h1>\n",
    "<div class=\"toc\"><ul class=\"toc-item\"><li><span><a href=\"#Setup\" data-toc-modified-id=\"Setup-1\"><span class=\"toc-item-num\">1&nbsp;&nbsp;</span>Setup</a></span><ul class=\"toc-item\"><li><span><a href=\"#Identifying-the-data-view-to-use-for-your-reports\" data-toc-modified-id=\"Identifying-the-data-view-to-use-for-your-reports-1.1\"><span class=\"toc-item-num\">1.1&nbsp;&nbsp;</span>Identifying the data view to use for your reports</a></span></li></ul></li><li><span><a href=\"#Creating-a-request-for-a-report\" data-toc-modified-id=\"Creating-a-request-for-a-report-2\"><span class=\"toc-item-num\">2&nbsp;&nbsp;</span>Creating a request for a report</a></span></li><li><span><a href=\"#Requesting-the-data\" data-toc-modified-id=\"Requesting-the-data-3\"><span class=\"toc-item-num\">3&nbsp;&nbsp;</span>Requesting the data</a></span><ul class=\"toc-item\"><li><span><a href=\"#Breakdown\" data-toc-modified-id=\"Breakdown-3.1\"><span class=\"toc-item-num\">3.1&nbsp;&nbsp;</span>Breakdown</a></span></li></ul></li><li><span><a href=\"#Complex-data-extract\" data-toc-modified-id=\"Complex-data-extract-4\"><span class=\"toc-item-num\">4&nbsp;&nbsp;</span>Complex data extract</a></span></li><li><span><a href=\"#External-Tools\" data-toc-modified-id=\"External-Tools-5\"><span class=\"toc-item-num\">5&nbsp;&nbsp;</span>External Tools</a></span></li></ul></div>"
   ]
  },
  {
   "cell_type": "markdown",
   "id": "33ffde45",
   "metadata": {},
   "source": [
    "Extracting data from Customer Journey Analytics is coming as a feature thanks to the CJA API.\\\n",
    "We will introduce the way to extract data in Customer Journey Analytics.\\\n",
    "Then we will apply some data analysis and data visualization that are not yet possible in CJA."
   ]
  },
  {
   "cell_type": "markdown",
   "id": "7a1ea3d7",
   "metadata": {},
   "source": [
    "importing cjapy, pandas for a start and importing the configuration file. "
   ]
  },
  {
   "cell_type": "markdown",
   "id": "440d3397",
   "metadata": {},
   "source": [
    "# Setup "
   ]
  },
  {
   "cell_type": "code",
   "execution_count": null,
   "id": "892ea0d0",
   "metadata": {
    "ExecuteTime": {
     "end_time": "2025-02-06T20:06:48.774236Z",
     "start_time": "2025-02-06T20:06:46.861014Z"
    }
   },
   "outputs": [],
   "source": [
    "import cjapy\n",
    "import pandas as pd\n",
    "cjapy.importConfigFile('myconfig.json')"
   ]
  },
  {
   "cell_type": "markdown",
   "id": "ffaffc80",
   "metadata": {},
   "source": [
    "## Identifying the data view to use for your reports"
   ]
  },
  {
   "cell_type": "markdown",
   "id": "0b894039",
   "metadata": {},
   "source": [
    "You need to know which data view to pull the data from.\\\n",
    "Basde on the data view selection, we will be able to extract data by placing a request for certain information.\\\n",
    "The possibility to create request via cjapy is simplify thanks to the `RequestCreator`"
   ]
  },
  {
   "cell_type": "code",
   "execution_count": null,
   "id": "41c08219",
   "metadata": {
    "ExecuteTime": {
     "end_time": "2025-02-06T20:06:49.039069Z",
     "start_time": "2025-02-06T20:06:48.776225Z"
    }
   },
   "outputs": [],
   "source": [
    "cja = cjapy.CJA()"
   ]
  },
  {
   "cell_type": "markdown",
   "id": "c0f49ba9",
   "metadata": {},
   "source": [
    "Extracting the id based on the name of the dataview"
   ]
  },
  {
   "cell_type": "code",
   "execution_count": null,
   "id": "26cf1a70",
   "metadata": {
    "ExecuteTime": {
     "end_time": "2025-02-06T20:06:51.841502Z",
     "start_time": "2025-02-06T20:06:49.041065Z"
    }
   },
   "outputs": [],
   "source": [
    "dataviews = cja.getDataViews()\n",
    "dv_id = dataviews.at[dataviews[dataviews['name']=='Adobe Store - Prod (CJA Lab L123 Adobe Summit 2025)'].index[0],'id']\n",
    "dv_id"
   ]
  },
  {
   "cell_type": "markdown",
   "id": "06cbcbe8",
   "metadata": {},
   "source": [
    "Extracting the dimensions related to that dataview: "
   ]
  },
  {
   "cell_type": "code",
   "execution_count": null,
   "id": "db4b9af9",
   "metadata": {
    "ExecuteTime": {
     "end_time": "2025-02-02T15:34:14.782706Z",
     "start_time": "2025-02-02T15:34:13.383525Z"
    }
   },
   "outputs": [],
   "source": [
    "dimensions = cja.getDimensions(dv_id,full=True)\n",
    "metrics = cja.getMetrics(dv_id,full=True)"
   ]
  },
  {
   "cell_type": "code",
   "execution_count": null,
   "id": "6806787d",
   "metadata": {
    "ExecuteTime": {
     "end_time": "2025-02-02T15:37:24.274465Z",
     "start_time": "2025-02-02T15:37:24.255110Z"
    }
   },
   "outputs": [],
   "source": [
    "dimensions[dimensions['id'].str.contains('product')]"
   ]
  },
  {
   "cell_type": "code",
   "execution_count": null,
   "id": "35f1380b",
   "metadata": {
    "ExecuteTime": {
     "end_time": "2025-02-02T15:59:27.843213Z",
     "start_time": "2025-02-02T15:59:27.829330Z"
    }
   },
   "outputs": [],
   "source": [
    "metrics.sample(4)"
   ]
  },
  {
   "cell_type": "markdown",
   "id": "e2a65e43",
   "metadata": {},
   "source": [
    "# Creating a request for a report"
   ]
  },
  {
   "cell_type": "markdown",
   "id": "e98f7368",
   "metadata": {},
   "source": [
    "`cjapy` provides a module named RequestCreator that simplify the creation of data request from CJA. "
   ]
  },
  {
   "cell_type": "markdown",
   "id": "2cdf714f",
   "metadata": {},
   "source": [
    "we start by instantiating a report"
   ]
  },
  {
   "cell_type": "code",
   "execution_count": null,
   "id": "ecb54430",
   "metadata": {
    "ExecuteTime": {
     "end_time": "2025-02-02T15:35:15.561445Z",
     "start_time": "2025-02-02T15:35:15.558061Z"
    }
   },
   "outputs": [],
   "source": [
    "myReportRequest = cjapy.RequestCreator()"
   ]
  },
  {
   "cell_type": "markdown",
   "id": "fef73d59",
   "metadata": {},
   "source": [
    "I will define on my request:\n",
    "* a data view ID \n",
    "* the time frame that is being used for the report\n",
    "* the metrics that I want to extract\n",
    "* the dimension I want to extract"
   ]
  },
  {
   "cell_type": "code",
   "execution_count": null,
   "id": "6e621d3a",
   "metadata": {
    "ExecuteTime": {
     "end_time": "2025-02-02T15:35:16.928776Z",
     "start_time": "2025-02-02T15:35:16.925256Z"
    }
   },
   "outputs": [],
   "source": [
    "myReportRequest.setDataViewId(dv_id)\n",
    "myReportRequest.setDateRange('2025-01-01','2025-01-31')\n",
    "myReportRequest.addMetric('metrics/orders')\n",
    "myReportRequest.addMetric('metrics/visits')\n",
    "myReportRequest.setDimension('variables/product_category')"
   ]
  },
  {
   "cell_type": "markdown",
   "id": "353dd109",
   "metadata": {},
   "source": [
    "You can always check the definition of your request by realizing a simple request in notebook"
   ]
  },
  {
   "cell_type": "code",
   "execution_count": null,
   "id": "2a9e6f1e",
   "metadata": {
    "ExecuteTime": {
     "end_time": "2025-02-02T15:35:18.284237Z",
     "start_time": "2025-02-02T15:35:18.280697Z"
    }
   },
   "outputs": [],
   "source": [
    "myReportRequest"
   ]
  },
  {
   "cell_type": "markdown",
   "id": "ae45eabd",
   "metadata": {},
   "source": [
    "or by using the `to_dict()` method"
   ]
  },
  {
   "cell_type": "code",
   "execution_count": null,
   "id": "51c1e043",
   "metadata": {
    "ExecuteTime": {
     "end_time": "2025-02-02T15:35:20.500104Z",
     "start_time": "2025-02-02T15:35:20.495854Z"
    }
   },
   "outputs": [],
   "source": [
    "myReportRequest.to_dict()"
   ]
  },
  {
   "cell_type": "markdown",
   "id": "a832f6b4",
   "metadata": {},
   "source": [
    "# Requesting the data"
   ]
  },
  {
   "cell_type": "markdown",
   "id": "773e437d",
   "metadata": {},
   "source": [
    "Once your data request is ready, you can pass the object directly on the `getReport` method.\\\n",
    "This will return a complex object that we will analyze"
   ]
  },
  {
   "cell_type": "code",
   "execution_count": null,
   "id": "769a78d3",
   "metadata": {
    "ExecuteTime": {
     "end_time": "2025-02-02T15:35:27.538112Z",
     "start_time": "2025-02-02T15:35:23.386913Z"
    }
   },
   "outputs": [],
   "source": [
    "myreport = cja.getReport(myReportRequest)"
   ]
  },
  {
   "cell_type": "markdown",
   "id": "7f140101",
   "metadata": {},
   "source": [
    "The report will return a `Workspace` object that contains a dataframe attribute.\\\n",
    "It contains all data related to your request."
   ]
  },
  {
   "cell_type": "code",
   "execution_count": null,
   "id": "9f36319a",
   "metadata": {
    "ExecuteTime": {
     "end_time": "2025-02-02T15:35:27.554670Z",
     "start_time": "2025-02-02T15:35:27.544676Z"
    }
   },
   "outputs": [],
   "source": [
    "myreport.dataframe.head()"
   ]
  },
  {
   "cell_type": "markdown",
   "id": "4eff33dd",
   "metadata": {},
   "source": [
    "You can also get the request that has been sent by using `dataRequest`"
   ]
  },
  {
   "cell_type": "code",
   "execution_count": null,
   "id": "f48f3153",
   "metadata": {
    "ExecuteTime": {
     "end_time": "2025-02-02T15:35:37.589480Z",
     "start_time": "2025-02-02T15:35:37.584507Z"
    }
   },
   "outputs": [],
   "source": [
    "myreport.dataRequest"
   ]
  },
  {
   "cell_type": "markdown",
   "id": "f1b2057a",
   "metadata": {},
   "source": [
    "you can see how many pages has been requested, the `pageRequest` will return the maximum of page returned.\\\n",
    "Each page is 50 K rows"
   ]
  },
  {
   "cell_type": "code",
   "execution_count": null,
   "id": "dfbd117c",
   "metadata": {
    "ExecuteTime": {
     "end_time": "2025-02-02T15:35:40.773555Z",
     "start_time": "2025-02-02T15:35:40.769882Z"
    }
   },
   "outputs": [],
   "source": [
    "myreport.pageRequested"
   ]
  },
  {
   "cell_type": "markdown",
   "id": "91dd4220",
   "metadata": {},
   "source": [
    "You can get the context of the data by using either:\n",
    "* globalFilters\n",
    "* settings\n",
    "* summaryData"
   ]
  },
  {
   "cell_type": "code",
   "execution_count": null,
   "id": "5ee81fd2",
   "metadata": {
    "ExecuteTime": {
     "end_time": "2025-02-02T15:35:41.991116Z",
     "start_time": "2025-02-02T15:35:41.987659Z"
    }
   },
   "outputs": [],
   "source": [
    "myreport.globalFilters"
   ]
  },
  {
   "cell_type": "code",
   "execution_count": null,
   "id": "4d89a363",
   "metadata": {
    "ExecuteTime": {
     "end_time": "2025-02-02T15:35:44.994865Z",
     "start_time": "2025-02-02T15:35:44.990456Z"
    }
   },
   "outputs": [],
   "source": [
    "myreport.settings"
   ]
  },
  {
   "cell_type": "code",
   "execution_count": null,
   "id": "a5ae8583",
   "metadata": {
    "ExecuteTime": {
     "end_time": "2025-02-02T15:35:45.351401Z",
     "start_time": "2025-02-02T15:35:45.347152Z"
    }
   },
   "outputs": [],
   "source": [
    "myreport.summaryData"
   ]
  },
  {
   "cell_type": "markdown",
   "id": "2f5e8486",
   "metadata": {},
   "source": [
    "## Breakdown"
   ]
  },
  {
   "cell_type": "markdown",
   "id": "60d704a0",
   "metadata": {},
   "source": [
    "If you wish to realize a break down of the category per the type of product.\\\n",
    "You can directly call the breakdown method from the response.\\\n",
    "You will use the index of the response (for the row to break down) and the id of the variable you want to break down with and the number of element you want. "
   ]
  },
  {
   "cell_type": "code",
   "execution_count": null,
   "id": "e1a05651",
   "metadata": {
    "ExecuteTime": {
     "end_time": "2025-02-02T15:38:54.313061Z",
     "start_time": "2025-02-02T15:38:53.106609Z"
    }
   },
   "outputs": [],
   "source": [
    "breakdownProdName = myreport.breakdown('Book','variables/product_name',n_results=20)"
   ]
  },
  {
   "cell_type": "markdown",
   "id": "97ef7d5a",
   "metadata": {},
   "source": [
    "It will return another workspace response."
   ]
  },
  {
   "cell_type": "code",
   "execution_count": null,
   "id": "28a92bc6",
   "metadata": {
    "ExecuteTime": {
     "end_time": "2025-02-02T15:39:12.684738Z",
     "start_time": "2025-02-02T15:39:12.678731Z"
    }
   },
   "outputs": [],
   "source": [
    "breakdownProdName.dataframe"
   ]
  },
  {
   "cell_type": "markdown",
   "id": "02ce0a07",
   "metadata": {},
   "source": [
    "# Complex data extract"
   ]
  },
  {
   "cell_type": "markdown",
   "id": "47b1b2e3",
   "metadata": {},
   "source": [
    "cjapy offers method to extract data that are not easily doable via the UI.\\\n",
    "The `getPersonProfiles` is a method to retrieves a dataset where each row represents a person profile. This is particularly useful for extracting feature metrics and target metrics for supervised learning applications or customer segmentation analysis."
   ]
  },
  {
   "cell_type": "code",
   "execution_count": null,
   "id": "41008ce4",
   "metadata": {
    "ExecuteTime": {
     "end_time": "2025-02-02T16:05:04.684985Z",
     "start_time": "2025-02-02T16:05:02.867004Z"
    }
   },
   "outputs": [],
   "source": [
    "feature_metrics = [\"metrics/occurrences\",\"metrics/cart_additions\"]\n",
    "df_profiles = cja.getPersonProfiles(\n",
    "    dataviewId=dv_id,\n",
    "    featureMetrics=feature_metrics,\n",
    "    targetMetric=\"metrics/orders\",\n",
    "    startDate=\"2025-01-01\",\n",
    "    endDate=\"2025-01-31\",\n",
    "    sampleSize=1000,\n",
    "    binaryTargetMetric=True\n",
    ")"
   ]
  },
  {
   "cell_type": "code",
   "execution_count": null,
   "id": "d20343fb",
   "metadata": {
    "ExecuteTime": {
     "end_time": "2025-02-02T16:05:04.695405Z",
     "start_time": "2025-02-02T16:05:04.684985Z"
    }
   },
   "outputs": [],
   "source": [
    "df_profiles.sample(10)"
   ]
  },
  {
   "cell_type": "markdown",
   "id": "36b585c5",
   "metadata": {},
   "source": [
    "# External Tools"
   ]
  },
  {
   "cell_type": "markdown",
   "id": "582f200d",
   "metadata": {},
   "source": [
    "With all the advanced capability of CJA, one of the most useful is to be able to plot and have a visual representation of the data we are seeing.\\\n",
    "It may help to better understand and comprehend.\\\n",
    "We will see advanced some advanced visualization and forecasting later, but now, descriptive visualization can be shown with more plotting tools and can complement the CJA UI. "
   ]
  },
  {
   "cell_type": "code",
   "execution_count": null,
   "id": "f69e18f9",
   "metadata": {
    "ExecuteTime": {
     "end_time": "2025-02-06T20:06:51.922193Z",
     "start_time": "2025-02-06T20:06:51.918034Z"
    }
   },
   "outputs": [],
   "source": [
    "filterId_order = \"sD0F83C645C5E1CC60A495CB3@AdobeOrg_66be408dbe6ba704b6c2d506\"\n",
    "filterId_noOrder = \"sD0F83C645C5E1CC60A495CB3@AdobeOrg_679f95f0c0f82b0d0d8d1643\"\n",
    "filterId_CartNoOrder = \"sD0F83C645C5E1CC60A495CB3@AdobeOrg_679f98764564ad1e6222f57e\""
   ]
  },
  {
   "cell_type": "code",
   "execution_count": null,
   "id": "d5139112",
   "metadata": {
    "ExecuteTime": {
     "end_time": "2025-02-06T20:06:51.948792Z",
     "start_time": "2025-02-06T20:06:51.924184Z"
    }
   },
   "outputs": [],
   "source": [
    "request_data = cjapy.RequestCreator()"
   ]
  },
  {
   "cell_type": "code",
   "execution_count": null,
   "id": "e3c380e8",
   "metadata": {
    "ExecuteTime": {
     "end_time": "2025-02-06T20:06:51.970371Z",
     "start_time": "2025-02-06T20:06:51.952777Z"
    }
   },
   "outputs": [],
   "source": [
    "request_data.setDataViewId(dv_id)\n",
    "request_data.setDateRange(start_date='2025-01-01',end_date='2025-01-31')\n",
    "request_data.addMetric(\"metrics/occurrences\")\n",
    "request_data.addMetric(\"metrics/visits\")\n",
    "request_data.addMetric(\"metrics/visitors\")\n",
    "request_data.addMetric(\"metrics/cart_additions\")\n",
    "request_data.addMetric(\"metrics/orders\")\n",
    "request_data.addMetricFilter(metricId='all',filterId=\"sD0F83C645C5E1CC60A495CB3@AdobeOrg_66be408dbe6ba704b6c2d506\",staticRow=True)\n",
    "request_data.addMetricFilter(metricId='all',filterId=\"sD0F83C645C5E1CC60A495CB3@AdobeOrg_679f95f0c0f82b0d0d8d1643\",staticRow=True)\n",
    "request_data.addMetricFilter(metricId='all',filterId=\"sD0F83C645C5E1CC60A495CB3@AdobeOrg_679f98764564ad1e6222f57e\",staticRow=True)"
   ]
  },
  {
   "cell_type": "code",
   "execution_count": null,
   "id": "75817b51",
   "metadata": {},
   "outputs": [],
   "source": [
    "print(request_data)"
   ]
  },
  {
   "cell_type": "code",
   "execution_count": null,
   "id": "1b5cf659",
   "metadata": {
    "ExecuteTime": {
     "end_time": "2025-02-06T20:07:47.772578Z",
     "start_time": "2025-02-06T20:07:45.397962Z"
    }
   },
   "outputs": [],
   "source": [
    "data = cja.getReport(request_data)"
   ]
  },
  {
   "cell_type": "code",
   "execution_count": null,
   "id": "f2d86860",
   "metadata": {
    "ExecuteTime": {
     "end_time": "2025-02-06T20:07:47.786124Z",
     "start_time": "2025-02-06T20:07:47.774568Z"
    }
   },
   "outputs": [],
   "source": [
    "data.dataframe"
   ]
  },
  {
   "cell_type": "code",
   "execution_count": null,
   "id": "39ec9afa",
   "metadata": {
    "ExecuteTime": {
     "end_time": "2025-02-06T20:07:47.801540Z",
     "start_time": "2025-02-06T20:07:47.789110Z"
    }
   },
   "outputs": [],
   "source": [
    "dataResult = data.dataframe.copy()"
   ]
  },
  {
   "cell_type": "code",
   "execution_count": null,
   "id": "5812c8bb",
   "metadata": {
    "ExecuteTime": {
     "end_time": "2025-02-06T20:07:20.881660Z",
     "start_time": "2025-02-06T20:07:20.877308Z"
    }
   },
   "outputs": [],
   "source": [
    "import math\n",
    "from bokeh.plotting import figure, show,output_notebook\n",
    "from bokeh.transform import factor_cmap, factor_mark"
   ]
  },
  {
   "cell_type": "code",
   "execution_count": null,
   "id": "7ce34e0e",
   "metadata": {},
   "outputs": [],
   "source": [
    "data = cja.getReport(request_data)"
   ]
  },
  {
   "cell_type": "code",
   "execution_count": null,
   "id": "acfe3769",
   "metadata": {
    "ExecuteTime": {
     "end_time": "2025-02-06T20:07:21.102523Z",
     "start_time": "2025-02-06T20:07:21.091335Z"
    }
   },
   "outputs": [],
   "source": [
    "output_notebook()"
   ]
  },
  {
   "cell_type": "code",
   "execution_count": null,
   "id": "21b3264c",
   "metadata": {
    "ExecuteTime": {
     "end_time": "2025-02-06T20:07:21.328996Z",
     "start_time": "2025-02-06T20:07:21.306498Z"
    }
   },
   "outputs": [],
   "source": [
    "p = figure(title = \"Filter comparison for Cart Addition and Visits\", background_fill_color=\"#fafafa\")\n",
    "p.xaxis.axis_label = 'Visits'\n",
    "p.yaxis.axis_label = 'Cart Addition'"
   ]
  },
  {
   "cell_type": "code",
   "execution_count": null,
   "id": "98ec3ca2",
   "metadata": {
    "ExecuteTime": {
     "end_time": "2025-02-06T20:08:03.956289Z",
     "start_time": "2025-02-06T20:08:03.952269Z"
    }
   },
   "outputs": [],
   "source": [
    "dataResult['sizeDots'] = dataResult['metrics/visitors']/dataResult['metrics/visitors'].sum()*100\n",
    "colors = [\"lightskyblue\",\"peru\",\"orangered\"]"
   ]
  },
  {
   "cell_type": "code",
   "execution_count": null,
   "id": "2a3da0d4",
   "metadata": {
    "ExecuteTime": {
     "end_time": "2025-02-06T20:08:13.406883Z",
     "start_time": "2025-02-06T20:08:13.316649Z"
    }
   },
   "outputs": [],
   "source": [
    "from bokeh.plotting import figure, show\n",
    "\n",
    "p = figure()\n",
    "for index, row in dataResult.iterrows():\n",
    "    p.scatter(x=row[\"metrics/visits\"], y=row[\"metrics/cart_additions\"],\n",
    "              size=row[\"sizeDots\"], fill_color=colors[index],\n",
    "              line_color=colors[index], legend_label=row['FilterName'])\n",
    "\n",
    "p.legend.location = \"top_right\"\n",
    "p.legend.title = \"Filter Names\"\n",
    "show(p)\n"
   ]
  }
 ],
 "metadata": {
  "kernelspec": {
   "display_name": "Python 3 (ipykernel)",
   "language": "python",
   "name": "python3"
  },
  "language_info": {
   "codemirror_mode": {
    "name": "ipython",
    "version": 3
   },
   "file_extension": ".py",
   "mimetype": "text/x-python",
   "name": "python",
   "nbconvert_exporter": "python",
   "pygments_lexer": "ipython3",
   "version": "3.11.4"
  },
  "toc": {
   "base_numbering": 1,
   "nav_menu": {},
   "number_sections": true,
   "sideBar": true,
   "skip_h1_title": false,
   "title_cell": "Table of Contents",
   "title_sidebar": "Contents",
   "toc_cell": true,
   "toc_position": {},
   "toc_section_display": true,
   "toc_window_display": true
  }
 },
 "nbformat": 4,
 "nbformat_minor": 5
}
