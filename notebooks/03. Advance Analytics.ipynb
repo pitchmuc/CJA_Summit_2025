{
 "cells": [
  {
   "cell_type": "markdown",
   "id": "e8aa1e34",
   "metadata": {
    "toc": true
   },
   "source": [
    "<h1>Table of Contents<span class=\"tocSkip\"></span></h1>\n",
    "<div class=\"toc\"><ul class=\"toc-item\"><li><span><a href=\"#Setup\" data-toc-modified-id=\"Setup-1\"><span class=\"toc-item-num\">1&nbsp;&nbsp;</span>Setup</a></span><ul class=\"toc-item\"><li><span><a href=\"#Identifying-the-data-view-to-use-for-your-reports\" data-toc-modified-id=\"Identifying-the-data-view-to-use-for-your-reports-1.1\"><span class=\"toc-item-num\">1.1&nbsp;&nbsp;</span>Identifying the data view to use for your reports</a></span></li></ul></li><li><span><a href=\"#Creating-a-request-for-a-report\" data-toc-modified-id=\"Creating-a-request-for-a-report-2\"><span class=\"toc-item-num\">2&nbsp;&nbsp;</span>Creating a request for a report</a></span></li><li><span><a href=\"#Requesting-the-data\" data-toc-modified-id=\"Requesting-the-data-3\"><span class=\"toc-item-num\">3&nbsp;&nbsp;</span>Requesting the data</a></span><ul class=\"toc-item\"><li><span><a href=\"#Breakdown\" data-toc-modified-id=\"Breakdown-3.1\"><span class=\"toc-item-num\">3.1&nbsp;&nbsp;</span>Breakdown</a></span></li></ul></li><li><span><a href=\"#Complex-data-extract\" data-toc-modified-id=\"Complex-data-extract-4\"><span class=\"toc-item-num\">4&nbsp;&nbsp;</span>Complex data extract</a></span></li><li><span><a href=\"#External-Tools\" data-toc-modified-id=\"External-Tools-5\"><span class=\"toc-item-num\">5&nbsp;&nbsp;</span>External Tools</a></span></li></ul></div>"
   ]
  },
  {
   "cell_type": "markdown",
   "id": "33ffde45",
   "metadata": {},
   "source": [
    "Extracting data from Customer Journey Analytics is coming as a feature thanks to the CJA API.\\\n",
    "We will introduce the way to extract data in Customer Journey Analytics.\\\n",
    "Then we will apply some data analysis and data visualization that are not yet possible in CJA."
   ]
  },
  {
   "cell_type": "markdown",
   "id": "7a1ea3d7",
   "metadata": {},
   "source": [
    "importing cjapy, pandas for a start and importing the configuration file. "
   ]
  },
  {
   "cell_type": "markdown",
   "id": "440d3397",
   "metadata": {},
   "source": [
    "# Setup "
   ]
  },
  {
   "cell_type": "code",
   "execution_count": 1,
   "id": "892ea0d0",
   "metadata": {
    "ExecuteTime": {
     "end_time": "2025-02-06T20:06:48.774236Z",
     "start_time": "2025-02-06T20:06:46.861014Z"
    }
   },
   "outputs": [],
   "source": [
    "import cjapy\n",
    "import pandas as pd\n",
    "cjapy.importConfigFile('myconfig.json')"
   ]
  },
  {
   "cell_type": "markdown",
   "id": "ffaffc80",
   "metadata": {},
   "source": [
    "## Identifying the data view to use for your reports"
   ]
  },
  {
   "cell_type": "markdown",
   "id": "0b894039",
   "metadata": {},
   "source": [
    "You need to know which data view to pull the data from.\\\n",
    "Basde on the data view selection, we will be able to extract data by placing a request for certain information.\\\n",
    "The possibility to create request via cjapy is simplify thanks to the `RequestCreator`"
   ]
  },
  {
   "cell_type": "code",
   "execution_count": 2,
   "id": "41c08219",
   "metadata": {
    "ExecuteTime": {
     "end_time": "2025-02-06T20:06:49.039069Z",
     "start_time": "2025-02-06T20:06:48.776225Z"
    }
   },
   "outputs": [],
   "source": [
    "cja = cjapy.CJA()"
   ]
  },
  {
   "cell_type": "markdown",
   "id": "c0f49ba9",
   "metadata": {},
   "source": [
    "Extracting the id based on the name of the dataview"
   ]
  },
  {
   "cell_type": "code",
   "execution_count": 3,
   "id": "26cf1a70",
   "metadata": {
    "ExecuteTime": {
     "end_time": "2025-02-06T20:06:51.841502Z",
     "start_time": "2025-02-06T20:06:49.041065Z"
    }
   },
   "outputs": [
    {
     "data": {
      "text/plain": [
       "'dv_62ba17d5a5d7845496f5fb4d'"
      ]
     },
     "execution_count": 3,
     "metadata": {},
     "output_type": "execute_result"
    }
   ],
   "source": [
    "dataviews = cja.getDataViews()\n",
    "dv_id = dataviews.at[dataviews[dataviews['name']=='Adobe Store - Prod'].index[0],'id']\n",
    "dv_id"
   ]
  },
  {
   "cell_type": "markdown",
   "id": "06cbcbe8",
   "metadata": {},
   "source": [
    "Extracting the dimensions related to that dataview: "
   ]
  },
  {
   "cell_type": "code",
   "execution_count": 5,
   "id": "db4b9af9",
   "metadata": {
    "ExecuteTime": {
     "end_time": "2025-02-02T15:34:14.782706Z",
     "start_time": "2025-02-02T15:34:13.383525Z"
    }
   },
   "outputs": [],
   "source": [
    "dimensions = cja.getDimensions(dv_id,full=True)\n",
    "metrics = cja.getMetrics(dv_id,full=True)"
   ]
  },
  {
   "cell_type": "code",
   "execution_count": 23,
   "id": "6806787d",
   "metadata": {
    "ExecuteTime": {
     "end_time": "2025-02-02T15:37:24.274465Z",
     "start_time": "2025-02-02T15:37:24.255110Z"
    }
   },
   "outputs": [
    {
     "data": {
      "text/html": [
       "<div>\n",
       "<style scoped>\n",
       "    .dataframe tbody tr th:only-of-type {\n",
       "        vertical-align: middle;\n",
       "    }\n",
       "\n",
       "    .dataframe tbody tr th {\n",
       "        vertical-align: top;\n",
       "    }\n",
       "\n",
       "    .dataframe thead th {\n",
       "        text-align: right;\n",
       "    }\n",
       "</style>\n",
       "<table border=\"1\" class=\"dataframe\">\n",
       "  <thead>\n",
       "    <tr style=\"text-align: right;\">\n",
       "      <th></th>\n",
       "      <th>id</th>\n",
       "      <th>name</th>\n",
       "      <th>dataSetType</th>\n",
       "      <th>sourceFieldType</th>\n",
       "      <th>baseTableName</th>\n",
       "      <th>type</th>\n",
       "      <th>required</th>\n",
       "      <th>hasData</th>\n",
       "      <th>segmentable</th>\n",
       "      <th>favorite</th>\n",
       "      <th>...</th>\n",
       "      <th>schemaPath</th>\n",
       "      <th>includeExcludeSetting</th>\n",
       "      <th>persistenceSetting</th>\n",
       "      <th>behaviorSetting</th>\n",
       "      <th>substringSetting</th>\n",
       "      <th>sourceFieldId</th>\n",
       "      <th>storageId</th>\n",
       "      <th>multiValued</th>\n",
       "      <th>labels</th>\n",
       "      <th>bucketingSetting</th>\n",
       "    </tr>\n",
       "  </thead>\n",
       "  <tbody>\n",
       "    <tr>\n",
       "      <th>39</th>\n",
       "      <td>variables/product_name</td>\n",
       "      <td>Product Name</td>\n",
       "      <td>event</td>\n",
       "      <td>custom</td>\n",
       "      <td>NaN</td>\n",
       "      <td>string</td>\n",
       "      <td>NaN</td>\n",
       "      <td>True</td>\n",
       "      <td>True</td>\n",
       "      <td>False</td>\n",
       "      <td>...</td>\n",
       "      <td>productListItems.name</td>\n",
       "      <td>{'enabled': False}</td>\n",
       "      <td>{'enabled': False}</td>\n",
       "      <td>{'lowercase': False}</td>\n",
       "      <td>{'method': 'regex', 'enabled': True, 'regex': ...</td>\n",
       "      <td>productListItems.name</td>\n",
       "      <td>explicitname|productlistitems</td>\n",
       "      <td>True</td>\n",
       "      <td>NaN</td>\n",
       "      <td>NaN</td>\n",
       "    </tr>\n",
       "    <tr>\n",
       "      <th>49</th>\n",
       "      <td>variables/product_pages</td>\n",
       "      <td>Product Pages</td>\n",
       "      <td>NaN</td>\n",
       "      <td>derived</td>\n",
       "      <td>NaN</td>\n",
       "      <td>string</td>\n",
       "      <td>NaN</td>\n",
       "      <td>True</td>\n",
       "      <td>True</td>\n",
       "      <td>False</td>\n",
       "      <td>...</td>\n",
       "      <td>Derived Fields</td>\n",
       "      <td>{'enabled': False}</td>\n",
       "      <td>{'enabled': False}</td>\n",
       "      <td>{'lowercase': True}</td>\n",
       "      <td>{'method': 'regex', 'enabled': True, 'regex': ...</td>\n",
       "      <td>NaN</td>\n",
       "      <td>NaN</td>\n",
       "      <td>NaN</td>\n",
       "      <td>NaN</td>\n",
       "      <td>NaN</td>\n",
       "    </tr>\n",
       "    <tr>\n",
       "      <th>71</th>\n",
       "      <td>variables/first_known_product_name</td>\n",
       "      <td>First Known Product Name</td>\n",
       "      <td>event</td>\n",
       "      <td>custom</td>\n",
       "      <td>NaN</td>\n",
       "      <td>string</td>\n",
       "      <td>NaN</td>\n",
       "      <td>True</td>\n",
       "      <td>True</td>\n",
       "      <td>False</td>\n",
       "      <td>...</td>\n",
       "      <td>productListItems.name</td>\n",
       "      <td>{'enabled': False}</td>\n",
       "      <td>{'enabled': True, 'allocationModel': {'func': ...</td>\n",
       "      <td>{'lowercase': False}</td>\n",
       "      <td>{'enabled': False}</td>\n",
       "      <td>productListItems.name</td>\n",
       "      <td>explicitname|productlistitems</td>\n",
       "      <td>True</td>\n",
       "      <td>NaN</td>\n",
       "      <td>NaN</td>\n",
       "    </tr>\n",
       "    <tr>\n",
       "      <th>74</th>\n",
       "      <td>variables/product_category</td>\n",
       "      <td>Product Category</td>\n",
       "      <td>lookup</td>\n",
       "      <td>custom</td>\n",
       "      <td>NaN</td>\n",
       "      <td>string</td>\n",
       "      <td>NaN</td>\n",
       "      <td>True</td>\n",
       "      <td>True</td>\n",
       "      <td>False</td>\n",
       "      <td>...</td>\n",
       "      <td>_acxpevangelist.Product_Category</td>\n",
       "      <td>{'enabled': False}</td>\n",
       "      <td>{'enabled': False}</td>\n",
       "      <td>{'lowercase': False}</td>\n",
       "      <td>{'enabled': False}</td>\n",
       "      <td>65f8b94ea3c0722c9feaf71f.productListItems.name...</td>\n",
       "      <td>productListItems.name.classify-string.a0329077...</td>\n",
       "      <td>True</td>\n",
       "      <td>NaN</td>\n",
       "      <td>NaN</td>\n",
       "    </tr>\n",
       "    <tr>\n",
       "      <th>89</th>\n",
       "      <td>variables/product_size</td>\n",
       "      <td>Product Size</td>\n",
       "      <td>event</td>\n",
       "      <td>custom</td>\n",
       "      <td>NaN</td>\n",
       "      <td>string</td>\n",
       "      <td>NaN</td>\n",
       "      <td>True</td>\n",
       "      <td>True</td>\n",
       "      <td>False</td>\n",
       "      <td>...</td>\n",
       "      <td>productListItems.name</td>\n",
       "      <td>{'enabled': False}</td>\n",
       "      <td>{'enabled': False}</td>\n",
       "      <td>{'lowercase': False}</td>\n",
       "      <td>{'method': 'regex', 'enabled': True, 'regex': ...</td>\n",
       "      <td>productListItems.name</td>\n",
       "      <td>explicitname|productlistitems</td>\n",
       "      <td>True</td>\n",
       "      <td>NaN</td>\n",
       "      <td>NaN</td>\n",
       "    </tr>\n",
       "  </tbody>\n",
       "</table>\n",
       "<p>5 rows × 35 columns</p>\n",
       "</div>"
      ],
      "text/plain": [
       "                                    id                      name dataSetType  \\\n",
       "39              variables/product_name              Product Name       event   \n",
       "49             variables/product_pages             Product Pages         NaN   \n",
       "71  variables/first_known_product_name  First Known Product Name       event   \n",
       "74          variables/product_category          Product Category      lookup   \n",
       "89              variables/product_size              Product Size       event   \n",
       "\n",
       "   sourceFieldType baseTableName    type required  hasData  segmentable  \\\n",
       "39          custom           NaN  string      NaN     True         True   \n",
       "49         derived           NaN  string      NaN     True         True   \n",
       "71          custom           NaN  string      NaN     True         True   \n",
       "74          custom           NaN  string      NaN     True         True   \n",
       "89          custom           NaN  string      NaN     True         True   \n",
       "\n",
       "    favorite  ...                        schemaPath includeExcludeSetting  \\\n",
       "39     False  ...             productListItems.name    {'enabled': False}   \n",
       "49     False  ...                    Derived Fields    {'enabled': False}   \n",
       "71     False  ...             productListItems.name    {'enabled': False}   \n",
       "74     False  ...  _acxpevangelist.Product_Category    {'enabled': False}   \n",
       "89     False  ...             productListItems.name    {'enabled': False}   \n",
       "\n",
       "                                   persistenceSetting       behaviorSetting  \\\n",
       "39                                 {'enabled': False}  {'lowercase': False}   \n",
       "49                                 {'enabled': False}   {'lowercase': True}   \n",
       "71  {'enabled': True, 'allocationModel': {'func': ...  {'lowercase': False}   \n",
       "74                                 {'enabled': False}  {'lowercase': False}   \n",
       "89                                 {'enabled': False}  {'lowercase': False}   \n",
       "\n",
       "                                     substringSetting  \\\n",
       "39  {'method': 'regex', 'enabled': True, 'regex': ...   \n",
       "49  {'method': 'regex', 'enabled': True, 'regex': ...   \n",
       "71                                 {'enabled': False}   \n",
       "74                                 {'enabled': False}   \n",
       "89  {'method': 'regex', 'enabled': True, 'regex': ...   \n",
       "\n",
       "                                        sourceFieldId  \\\n",
       "39                              productListItems.name   \n",
       "49                                                NaN   \n",
       "71                              productListItems.name   \n",
       "74  65f8b94ea3c0722c9feaf71f.productListItems.name...   \n",
       "89                              productListItems.name   \n",
       "\n",
       "                                            storageId multiValued  labels  \\\n",
       "39                      explicitname|productlistitems        True     NaN   \n",
       "49                                                NaN         NaN     NaN   \n",
       "71                      explicitname|productlistitems        True     NaN   \n",
       "74  productListItems.name.classify-string.a0329077...        True     NaN   \n",
       "89                      explicitname|productlistitems        True     NaN   \n",
       "\n",
       "   bucketingSetting  \n",
       "39              NaN  \n",
       "49              NaN  \n",
       "71              NaN  \n",
       "74              NaN  \n",
       "89              NaN  \n",
       "\n",
       "[5 rows x 35 columns]"
      ]
     },
     "execution_count": 23,
     "metadata": {},
     "output_type": "execute_result"
    }
   ],
   "source": [
    "dimensions[dimensions['id'].str.contains('product')]"
   ]
  },
  {
   "cell_type": "code",
   "execution_count": 46,
   "id": "35f1380b",
   "metadata": {
    "ExecuteTime": {
     "end_time": "2025-02-02T15:59:27.843213Z",
     "start_time": "2025-02-02T15:59:27.829330Z"
    }
   },
   "outputs": [
    {
     "data": {
      "text/html": [
       "<div>\n",
       "<style scoped>\n",
       "    .dataframe tbody tr th:only-of-type {\n",
       "        vertical-align: middle;\n",
       "    }\n",
       "\n",
       "    .dataframe tbody tr th {\n",
       "        vertical-align: top;\n",
       "    }\n",
       "\n",
       "    .dataframe thead th {\n",
       "        text-align: right;\n",
       "    }\n",
       "</style>\n",
       "<table border=\"1\" class=\"dataframe\">\n",
       "  <thead>\n",
       "    <tr style=\"text-align: right;\">\n",
       "      <th></th>\n",
       "      <th>id</th>\n",
       "      <th>name</th>\n",
       "      <th>description</th>\n",
       "      <th>dataSetType</th>\n",
       "      <th>sourceFieldType</th>\n",
       "      <th>baseTableName</th>\n",
       "      <th>type</th>\n",
       "      <th>hideFromReporting</th>\n",
       "      <th>hasData</th>\n",
       "      <th>segmentable</th>\n",
       "      <th>...</th>\n",
       "      <th>schemaType</th>\n",
       "      <th>tableName</th>\n",
       "      <th>schemaPath</th>\n",
       "      <th>includeExcludeSetting</th>\n",
       "      <th>sourceFieldId</th>\n",
       "      <th>storageId</th>\n",
       "      <th>dataSetIds</th>\n",
       "      <th>multiValued</th>\n",
       "      <th>required</th>\n",
       "      <th>attributionSetting</th>\n",
       "    </tr>\n",
       "  </thead>\n",
       "  <tbody>\n",
       "    <tr>\n",
       "      <th>15</th>\n",
       "      <td>metrics/qm_frustrations</td>\n",
       "      <td>Quantum Metric Frustrations</td>\n",
       "      <td>Frustration or rage click (clicking 3 or more ...</td>\n",
       "      <td>event</td>\n",
       "      <td>custom</td>\n",
       "      <td>NaN</td>\n",
       "      <td>int</td>\n",
       "      <td>False</td>\n",
       "      <td>True</td>\n",
       "      <td>True</td>\n",
       "      <td>...</td>\n",
       "      <td>string</td>\n",
       "      <td>hits</td>\n",
       "      <td>implementationDetails._acxpevangelist.qm_error...</td>\n",
       "      <td>{'caseSensitive': True, 'match': 'and', 'type'...</td>\n",
       "      <td>implementationDetails._acxpevangelist.qm_error...</td>\n",
       "      <td>expliciti17f67aa7a15fd3c417f853rrorname|hits</td>\n",
       "      <td>[62b2307173a5d61c07a5cb2d]</td>\n",
       "      <td>False</td>\n",
       "      <td>NaN</td>\n",
       "      <td>NaN</td>\n",
       "    </tr>\n",
       "    <tr>\n",
       "      <th>19</th>\n",
       "      <td>metrics/orders</td>\n",
       "      <td>Orders</td>\n",
       "      <td>The normative name of the web page. This name ...</td>\n",
       "      <td>event</td>\n",
       "      <td>custom</td>\n",
       "      <td>NaN</td>\n",
       "      <td>int</td>\n",
       "      <td>False</td>\n",
       "      <td>True</td>\n",
       "      <td>True</td>\n",
       "      <td>...</td>\n",
       "      <td>string</td>\n",
       "      <td>hits</td>\n",
       "      <td>web.webPageDetails.name</td>\n",
       "      <td>{'caseSensitive': False, 'match': 'and', 'type...</td>\n",
       "      <td>web.webPageDetails.name</td>\n",
       "      <td>explicitw1d482e3a986ab675faeb82name|hits</td>\n",
       "      <td>[62b2307173a5d61c07a5cb2d]</td>\n",
       "      <td>False</td>\n",
       "      <td>NaN</td>\n",
       "      <td>NaN</td>\n",
       "    </tr>\n",
       "    <tr>\n",
       "      <th>20</th>\n",
       "      <td>metrics/cart_additions</td>\n",
       "      <td>Cart Additions</td>\n",
       "      <td>The quantifiable value of this measure.</td>\n",
       "      <td>event</td>\n",
       "      <td>custom</td>\n",
       "      <td>NaN</td>\n",
       "      <td>decimal</td>\n",
       "      <td>False</td>\n",
       "      <td>True</td>\n",
       "      <td>True</td>\n",
       "      <td>...</td>\n",
       "      <td>double</td>\n",
       "      <td>hits</td>\n",
       "      <td>commerce.productListAdds.value</td>\n",
       "      <td>{'enabled': False}</td>\n",
       "      <td>commerce.productListAdds.value</td>\n",
       "      <td>explicitc87fa97132b1681a7b7f9bfvalue|hits</td>\n",
       "      <td>[62b2307173a5d61c07a5cb2d, 631ab2185432701c089...</td>\n",
       "      <td>False</td>\n",
       "      <td>NaN</td>\n",
       "      <td>NaN</td>\n",
       "    </tr>\n",
       "    <tr>\n",
       "      <th>14</th>\n",
       "      <td>metrics/adobe_sessionstarts</td>\n",
       "      <td>Session Starts</td>\n",
       "      <td>NaN</td>\n",
       "      <td>event</td>\n",
       "      <td>standard</td>\n",
       "      <td>hits</td>\n",
       "      <td>int</td>\n",
       "      <td>False</td>\n",
       "      <td>True</td>\n",
       "      <td>True</td>\n",
       "      <td>...</td>\n",
       "      <td>NaN</td>\n",
       "      <td>NaN</td>\n",
       "      <td>NaN</td>\n",
       "      <td>NaN</td>\n",
       "      <td>NaN</td>\n",
       "      <td>NaN</td>\n",
       "      <td>NaN</td>\n",
       "      <td>NaN</td>\n",
       "      <td>True</td>\n",
       "      <td>{'enabled': False, 'attributionModel': {'func'...</td>\n",
       "    </tr>\n",
       "  </tbody>\n",
       "</table>\n",
       "<p>4 rows × 29 columns</p>\n",
       "</div>"
      ],
      "text/plain": [
       "                             id                         name  \\\n",
       "15      metrics/qm_frustrations  Quantum Metric Frustrations   \n",
       "19               metrics/orders                       Orders   \n",
       "20       metrics/cart_additions               Cart Additions   \n",
       "14  metrics/adobe_sessionstarts               Session Starts   \n",
       "\n",
       "                                          description dataSetType  \\\n",
       "15  Frustration or rage click (clicking 3 or more ...       event   \n",
       "19  The normative name of the web page. This name ...       event   \n",
       "20            The quantifiable value of this measure.       event   \n",
       "14                                                NaN       event   \n",
       "\n",
       "   sourceFieldType baseTableName     type  hideFromReporting  hasData  \\\n",
       "15          custom           NaN      int              False     True   \n",
       "19          custom           NaN      int              False     True   \n",
       "20          custom           NaN  decimal              False     True   \n",
       "14        standard          hits      int              False     True   \n",
       "\n",
       "    segmentable  ...  schemaType  tableName  \\\n",
       "15         True  ...      string       hits   \n",
       "19         True  ...      string       hits   \n",
       "20         True  ...      double       hits   \n",
       "14         True  ...         NaN        NaN   \n",
       "\n",
       "                                           schemaPath  \\\n",
       "15  implementationDetails._acxpevangelist.qm_error...   \n",
       "19                            web.webPageDetails.name   \n",
       "20                     commerce.productListAdds.value   \n",
       "14                                                NaN   \n",
       "\n",
       "                                includeExcludeSetting  \\\n",
       "15  {'caseSensitive': True, 'match': 'and', 'type'...   \n",
       "19  {'caseSensitive': False, 'match': 'and', 'type...   \n",
       "20                                 {'enabled': False}   \n",
       "14                                                NaN   \n",
       "\n",
       "                                        sourceFieldId  \\\n",
       "15  implementationDetails._acxpevangelist.qm_error...   \n",
       "19                            web.webPageDetails.name   \n",
       "20                     commerce.productListAdds.value   \n",
       "14                                                NaN   \n",
       "\n",
       "                                       storageId  \\\n",
       "15  expliciti17f67aa7a15fd3c417f853rrorname|hits   \n",
       "19      explicitw1d482e3a986ab675faeb82name|hits   \n",
       "20     explicitc87fa97132b1681a7b7f9bfvalue|hits   \n",
       "14                                           NaN   \n",
       "\n",
       "                                           dataSetIds multiValued required  \\\n",
       "15                         [62b2307173a5d61c07a5cb2d]       False      NaN   \n",
       "19                         [62b2307173a5d61c07a5cb2d]       False      NaN   \n",
       "20  [62b2307173a5d61c07a5cb2d, 631ab2185432701c089...       False      NaN   \n",
       "14                                                NaN         NaN     True   \n",
       "\n",
       "                                   attributionSetting  \n",
       "15                                                NaN  \n",
       "19                                                NaN  \n",
       "20                                                NaN  \n",
       "14  {'enabled': False, 'attributionModel': {'func'...  \n",
       "\n",
       "[4 rows x 29 columns]"
      ]
     },
     "execution_count": 46,
     "metadata": {},
     "output_type": "execute_result"
    }
   ],
   "source": [
    "metrics.sample(4)"
   ]
  },
  {
   "cell_type": "markdown",
   "id": "e2a65e43",
   "metadata": {},
   "source": [
    "# Creating a request for a report"
   ]
  },
  {
   "cell_type": "markdown",
   "id": "e98f7368",
   "metadata": {},
   "source": [
    "`cjapy` provides a module named RequestCreator that simplify the creation of data request from CJA. "
   ]
  },
  {
   "cell_type": "markdown",
   "id": "2cdf714f",
   "metadata": {},
   "source": [
    "we start by instantiating a report"
   ]
  },
  {
   "cell_type": "code",
   "execution_count": 12,
   "id": "ecb54430",
   "metadata": {
    "ExecuteTime": {
     "end_time": "2025-02-02T15:35:15.561445Z",
     "start_time": "2025-02-02T15:35:15.558061Z"
    }
   },
   "outputs": [],
   "source": [
    "myReportRequest = cjapy.RequestCreator()"
   ]
  },
  {
   "cell_type": "markdown",
   "id": "fef73d59",
   "metadata": {},
   "source": [
    "I will define on my request:\n",
    "* a data view ID \n",
    "* the time frame that is being used for the report\n",
    "* the metrics that I want to extract\n",
    "* the dimension I want to extract"
   ]
  },
  {
   "cell_type": "code",
   "execution_count": 13,
   "id": "6e621d3a",
   "metadata": {
    "ExecuteTime": {
     "end_time": "2025-02-02T15:35:16.928776Z",
     "start_time": "2025-02-02T15:35:16.925256Z"
    }
   },
   "outputs": [],
   "source": [
    "myReportRequest.setDataViewId(dv_id)\n",
    "myReportRequest.setDateRange('2025-01-01','2025-01-31')\n",
    "myReportRequest.addMetric('metrics/orders')\n",
    "myReportRequest.addMetric('metrics/visits')\n",
    "myReportRequest.setDimension('variables/product_category')"
   ]
  },
  {
   "cell_type": "markdown",
   "id": "353dd109",
   "metadata": {},
   "source": [
    "You can always check the definition of your request by realizing a simple request in notebook"
   ]
  },
  {
   "cell_type": "code",
   "execution_count": 14,
   "id": "2a9e6f1e",
   "metadata": {
    "ExecuteTime": {
     "end_time": "2025-02-02T15:35:18.284237Z",
     "start_time": "2025-02-02T15:35:18.280697Z"
    }
   },
   "outputs": [
    {
     "data": {
      "text/plain": [
       "{\n",
       "    \"globalFilters\": [\n",
       "        {\n",
       "            \"type\": \"dateRange\",\n",
       "            \"dateRange\": \"2025-01-01T00:00:00.000/2025-01-31T23:59:59.999\"\n",
       "        }\n",
       "    ],\n",
       "    \"metricContainer\": {\n",
       "        \"metrics\": [\n",
       "            {\n",
       "                \"columnId\": \"0\",\n",
       "                \"id\": \"metrics/orders\",\n",
       "                \"sort\": \"desc\"\n",
       "            },\n",
       "            {\n",
       "                \"columnId\": \"1\",\n",
       "                \"id\": \"metrics/visits\"\n",
       "            }\n",
       "        ],\n",
       "        \"metricFilters\": []\n",
       "    },\n",
       "    \"dimension\": \"variables/product_category\",\n",
       "    \"settings\": {\n",
       "        \"countRepeatInstances\": true,\n",
       "        \"limit\": 20000,\n",
       "        \"page\": 0,\n",
       "        \"nonesBehavior\": \"exclude-nones\",\n",
       "        \"sampling\": null,\n",
       "        \"samplingUpSample\": null\n",
       "    },\n",
       "    \"statistics\": {\n",
       "        \"functions\": [\n",
       "            \"col-max\",\n",
       "            \"col-min\"\n",
       "        ]\n",
       "    },\n",
       "    \"dataId\": \"dv_62ba17d5a5d7845496f5fb4d\",\n",
       "    \"identityOverrides\": [],\n",
       "    \"capacityMetadata\": {\n",
       "        \"associations\": [\n",
       "            {\n",
       "                \"name\": \"applicationName\",\n",
       "                \"value\": \"cjapy Python Library\"\n",
       "            }\n",
       "        ]\n",
       "    }\n",
       "}"
      ]
     },
     "execution_count": 14,
     "metadata": {},
     "output_type": "execute_result"
    }
   ],
   "source": [
    "myReportRequest"
   ]
  },
  {
   "cell_type": "markdown",
   "id": "ae45eabd",
   "metadata": {},
   "source": [
    "or by using the `to_dict()` method"
   ]
  },
  {
   "cell_type": "code",
   "execution_count": 15,
   "id": "51c1e043",
   "metadata": {
    "ExecuteTime": {
     "end_time": "2025-02-02T15:35:20.500104Z",
     "start_time": "2025-02-02T15:35:20.495854Z"
    }
   },
   "outputs": [
    {
     "data": {
      "text/plain": [
       "{'globalFilters': [{'type': 'dateRange',\n",
       "   'dateRange': '2025-01-01T00:00:00.000/2025-01-31T23:59:59.999'}],\n",
       " 'metricContainer': {'metrics': [{'columnId': '0',\n",
       "    'id': 'metrics/orders',\n",
       "    'sort': 'desc'},\n",
       "   {'columnId': '1', 'id': 'metrics/visits'}],\n",
       "  'metricFilters': []},\n",
       " 'dimension': 'variables/product_category',\n",
       " 'settings': {'countRepeatInstances': True,\n",
       "  'limit': 20000,\n",
       "  'page': 0,\n",
       "  'nonesBehavior': 'exclude-nones',\n",
       "  'sampling': None,\n",
       "  'samplingUpSample': None},\n",
       " 'statistics': {'functions': ['col-max', 'col-min']},\n",
       " 'dataId': 'dv_62ba17d5a5d7845496f5fb4d',\n",
       " 'identityOverrides': [],\n",
       " 'capacityMetadata': {'associations': [{'name': 'applicationName',\n",
       "    'value': 'cjapy Python Library'}]}}"
      ]
     },
     "execution_count": 15,
     "metadata": {},
     "output_type": "execute_result"
    }
   ],
   "source": [
    "myReportRequest.to_dict()"
   ]
  },
  {
   "cell_type": "markdown",
   "id": "a832f6b4",
   "metadata": {},
   "source": [
    "# Requesting the data"
   ]
  },
  {
   "cell_type": "markdown",
   "id": "773e437d",
   "metadata": {},
   "source": [
    "Once your data request is ready, you can pass the object directly on the `getReport` method.\\\n",
    "This will return a complex object that we will analyze"
   ]
  },
  {
   "cell_type": "code",
   "execution_count": 16,
   "id": "769a78d3",
   "metadata": {
    "ExecuteTime": {
     "end_time": "2025-02-02T15:35:27.538112Z",
     "start_time": "2025-02-02T15:35:23.386913Z"
    }
   },
   "outputs": [],
   "source": [
    "myreport = cja.getReport(myReportRequest)"
   ]
  },
  {
   "cell_type": "markdown",
   "id": "7f140101",
   "metadata": {},
   "source": [
    "The report will return a `Workspace` object that contains a dataframe attribute.\\\n",
    "It contains all data related to your request."
   ]
  },
  {
   "cell_type": "code",
   "execution_count": 17,
   "id": "9f36319a",
   "metadata": {
    "ExecuteTime": {
     "end_time": "2025-02-02T15:35:27.554670Z",
     "start_time": "2025-02-02T15:35:27.544676Z"
    }
   },
   "outputs": [
    {
     "data": {
      "text/html": [
       "<div>\n",
       "<style scoped>\n",
       "    .dataframe tbody tr th:only-of-type {\n",
       "        vertical-align: middle;\n",
       "    }\n",
       "\n",
       "    .dataframe tbody tr th {\n",
       "        vertical-align: top;\n",
       "    }\n",
       "\n",
       "    .dataframe thead th {\n",
       "        text-align: right;\n",
       "    }\n",
       "</style>\n",
       "<table border=\"1\" class=\"dataframe\">\n",
       "  <thead>\n",
       "    <tr style=\"text-align: right;\">\n",
       "      <th></th>\n",
       "      <th>itemId</th>\n",
       "      <th>variables/product_category</th>\n",
       "      <th>metrics/orders</th>\n",
       "      <th>metrics/visits</th>\n",
       "    </tr>\n",
       "  </thead>\n",
       "  <tbody>\n",
       "    <tr>\n",
       "      <th>0</th>\n",
       "      <td>Other</td>\n",
       "      <td>Other</td>\n",
       "      <td>75.0</td>\n",
       "      <td>848.0</td>\n",
       "    </tr>\n",
       "    <tr>\n",
       "      <th>1</th>\n",
       "      <td>Bottle/Mug</td>\n",
       "      <td>Bottle/Mug</td>\n",
       "      <td>49.0</td>\n",
       "      <td>328.0</td>\n",
       "    </tr>\n",
       "    <tr>\n",
       "      <th>2</th>\n",
       "      <td>Book</td>\n",
       "      <td>Book</td>\n",
       "      <td>45.0</td>\n",
       "      <td>210.0</td>\n",
       "    </tr>\n",
       "    <tr>\n",
       "      <th>3</th>\n",
       "      <td>Pen</td>\n",
       "      <td>Pen</td>\n",
       "      <td>29.0</td>\n",
       "      <td>198.0</td>\n",
       "    </tr>\n",
       "    <tr>\n",
       "      <th>4</th>\n",
       "      <td>Jacket/Sweater</td>\n",
       "      <td>Jacket/Sweater</td>\n",
       "      <td>28.0</td>\n",
       "      <td>448.0</td>\n",
       "    </tr>\n",
       "  </tbody>\n",
       "</table>\n",
       "</div>"
      ],
      "text/plain": [
       "           itemId variables/product_category metrics/orders metrics/visits\n",
       "0           Other                      Other           75.0          848.0\n",
       "1      Bottle/Mug                 Bottle/Mug           49.0          328.0\n",
       "2            Book                       Book           45.0          210.0\n",
       "3             Pen                        Pen           29.0          198.0\n",
       "4  Jacket/Sweater             Jacket/Sweater           28.0          448.0"
      ]
     },
     "execution_count": 17,
     "metadata": {},
     "output_type": "execute_result"
    }
   ],
   "source": [
    "myreport.dataframe.head()"
   ]
  },
  {
   "cell_type": "markdown",
   "id": "4eff33dd",
   "metadata": {},
   "source": [
    "You can also get the request that has been sent by using `dataRequest`"
   ]
  },
  {
   "cell_type": "code",
   "execution_count": 18,
   "id": "f48f3153",
   "metadata": {
    "ExecuteTime": {
     "end_time": "2025-02-02T15:35:37.589480Z",
     "start_time": "2025-02-02T15:35:37.584507Z"
    }
   },
   "outputs": [
    {
     "data": {
      "text/plain": [
       "{\n",
       "    \"globalFilters\": [\n",
       "        {\n",
       "            \"type\": \"dateRange\",\n",
       "            \"dateRange\": \"2025-01-01T00:00:00.000/2025-01-31T23:59:59.999\"\n",
       "        }\n",
       "    ],\n",
       "    \"metricContainer\": {\n",
       "        \"metrics\": [\n",
       "            {\n",
       "                \"columnId\": \"0\",\n",
       "                \"id\": \"metrics/orders\",\n",
       "                \"sort\": \"desc\"\n",
       "            },\n",
       "            {\n",
       "                \"columnId\": \"1\",\n",
       "                \"id\": \"metrics/visits\"\n",
       "            }\n",
       "        ],\n",
       "        \"metricFilters\": []\n",
       "    },\n",
       "    \"dimension\": \"variables/product_category\",\n",
       "    \"settings\": {\n",
       "        \"countRepeatInstances\": false,\n",
       "        \"limit\": 20000,\n",
       "        \"page\": 0,\n",
       "        \"nonesBehavior\": \"exclude-nones\",\n",
       "        \"sampling\": null,\n",
       "        \"samplingUpSample\": null\n",
       "    },\n",
       "    \"statistics\": {\n",
       "        \"functions\": [\n",
       "            \"col-max\",\n",
       "            \"col-min\"\n",
       "        ],\n",
       "        \"ignoreZeroes\": false\n",
       "    },\n",
       "    \"dataId\": \"dv_62ba17d5a5d7845496f5fb4d\",\n",
       "    \"identityOverrides\": [],\n",
       "    \"capacityMetadata\": {\n",
       "        \"associations\": [\n",
       "            {\n",
       "                \"name\": \"applicationName\",\n",
       "                \"value\": \"cjapy Python Library\"\n",
       "            }\n",
       "        ]\n",
       "    }\n",
       "}"
      ]
     },
     "execution_count": 18,
     "metadata": {},
     "output_type": "execute_result"
    }
   ],
   "source": [
    "myreport.dataRequest"
   ]
  },
  {
   "cell_type": "markdown",
   "id": "f1b2057a",
   "metadata": {},
   "source": [
    "you can see how many pages has been requested, the `pageRequest` will return the maximum of page returned.\\\n",
    "Each page is 50 K rows"
   ]
  },
  {
   "cell_type": "code",
   "execution_count": 19,
   "id": "dfbd117c",
   "metadata": {
    "ExecuteTime": {
     "end_time": "2025-02-02T15:35:40.773555Z",
     "start_time": "2025-02-02T15:35:40.769882Z"
    }
   },
   "outputs": [
    {
     "data": {
      "text/plain": [
       "1"
      ]
     },
     "execution_count": 19,
     "metadata": {},
     "output_type": "execute_result"
    }
   ],
   "source": [
    "myreport.pageRequested"
   ]
  },
  {
   "cell_type": "markdown",
   "id": "91dd4220",
   "metadata": {},
   "source": [
    "You can get the context of the data by using either:\n",
    "* globalFilters\n",
    "* settings\n",
    "* summaryData"
   ]
  },
  {
   "cell_type": "code",
   "execution_count": 20,
   "id": "5ee81fd2",
   "metadata": {
    "ExecuteTime": {
     "end_time": "2025-02-02T15:35:41.991116Z",
     "start_time": "2025-02-02T15:35:41.987659Z"
    }
   },
   "outputs": [
    {
     "data": {
      "text/plain": [
       "[{'type': 'dateRange',\n",
       "  'dateRange': '2025-01-01T00:00:00.000/2025-01-31T23:59:59.999'}]"
      ]
     },
     "execution_count": 20,
     "metadata": {},
     "output_type": "execute_result"
    }
   ],
   "source": [
    "myreport.globalFilters"
   ]
  },
  {
   "cell_type": "code",
   "execution_count": 21,
   "id": "4d89a363",
   "metadata": {
    "ExecuteTime": {
     "end_time": "2025-02-02T15:35:44.994865Z",
     "start_time": "2025-02-02T15:35:44.990456Z"
    }
   },
   "outputs": [
    {
     "data": {
      "text/plain": [
       "{'countRepeatInstances': False,\n",
       " 'limit': 20000,\n",
       " 'page': 0,\n",
       " 'nonesBehavior': 'exclude-nones',\n",
       " 'sampling': None,\n",
       " 'samplingUpSample': None}"
      ]
     },
     "execution_count": 21,
     "metadata": {},
     "output_type": "execute_result"
    }
   ],
   "source": [
    "myreport.settings"
   ]
  },
  {
   "cell_type": "code",
   "execution_count": 22,
   "id": "a5ae8583",
   "metadata": {
    "ExecuteTime": {
     "end_time": "2025-02-02T15:35:45.351401Z",
     "start_time": "2025-02-02T15:35:45.347152Z"
    }
   },
   "outputs": [
    {
     "data": {
      "text/plain": [
       "{'filteredTotals': [202.0, 2113.0],\n",
       " 'totals': [272.0, 7710.0],\n",
       " 'col-max': [75.0, 848.0],\n",
       " 'col-min': [3.0, 60.0]}"
      ]
     },
     "execution_count": 22,
     "metadata": {},
     "output_type": "execute_result"
    }
   ],
   "source": [
    "myreport.summaryData"
   ]
  },
  {
   "cell_type": "markdown",
   "id": "2f5e8486",
   "metadata": {},
   "source": [
    "## Breakdown"
   ]
  },
  {
   "cell_type": "markdown",
   "id": "60d704a0",
   "metadata": {},
   "source": [
    "If you wish to realize a break down of the category per the type of product.\\\n",
    "You can directly call the breakdown method from the response.\\\n",
    "You will use the index of the response (for the row to break down) and the id of the variable you want to break down with and the number of element you want. "
   ]
  },
  {
   "cell_type": "code",
   "execution_count": 24,
   "id": "e1a05651",
   "metadata": {
    "ExecuteTime": {
     "end_time": "2025-02-02T15:38:54.313061Z",
     "start_time": "2025-02-02T15:38:53.106609Z"
    }
   },
   "outputs": [],
   "source": [
    "breakdownProdName = myreport.breakdown('Book','variables/product_name',n_results=20)"
   ]
  },
  {
   "cell_type": "markdown",
   "id": "97ef7d5a",
   "metadata": {},
   "source": [
    "It will return another workspace response."
   ]
  },
  {
   "cell_type": "code",
   "execution_count": 25,
   "id": "28a92bc6",
   "metadata": {
    "ExecuteTime": {
     "end_time": "2025-02-02T15:39:12.684738Z",
     "start_time": "2025-02-02T15:39:12.678731Z"
    }
   },
   "outputs": [
    {
     "data": {
      "text/html": [
       "<div>\n",
       "<style scoped>\n",
       "    .dataframe tbody tr th:only-of-type {\n",
       "        vertical-align: middle;\n",
       "    }\n",
       "\n",
       "    .dataframe tbody tr th {\n",
       "        vertical-align: top;\n",
       "    }\n",
       "\n",
       "    .dataframe thead th {\n",
       "        text-align: right;\n",
       "    }\n",
       "</style>\n",
       "<table border=\"1\" class=\"dataframe\">\n",
       "  <thead>\n",
       "    <tr style=\"text-align: right;\">\n",
       "      <th></th>\n",
       "      <th>itemId</th>\n",
       "      <th>variables/product_name</th>\n",
       "      <th>metrics/orders:::variables/product_category:Book</th>\n",
       "      <th>metrics/visits:::variables/product_category:Book</th>\n",
       "    </tr>\n",
       "  </thead>\n",
       "  <tbody>\n",
       "    <tr>\n",
       "      <th>0</th>\n",
       "      <td>appeel® journal: mid-size</td>\n",
       "      <td>appeel® journal: mid-size</td>\n",
       "      <td>23.0</td>\n",
       "      <td>116.0</td>\n",
       "    </tr>\n",
       "    <tr>\n",
       "      <th>1</th>\n",
       "      <td>appeel® journal: mini</td>\n",
       "      <td>appeel® journal: mini</td>\n",
       "      <td>11.0</td>\n",
       "      <td>67.0</td>\n",
       "    </tr>\n",
       "    <tr>\n",
       "      <th>2</th>\n",
       "      <td>gradient journal</td>\n",
       "      <td>gradient journal</td>\n",
       "      <td>10.0</td>\n",
       "      <td>46.0</td>\n",
       "    </tr>\n",
       "    <tr>\n",
       "      <th>3</th>\n",
       "      <td>adobe life journal</td>\n",
       "      <td>adobe life journal</td>\n",
       "      <td>3.0</td>\n",
       "      <td>20.0</td>\n",
       "    </tr>\n",
       "  </tbody>\n",
       "</table>\n",
       "</div>"
      ],
      "text/plain": [
       "                      itemId     variables/product_name  \\\n",
       "0  appeel® journal: mid-size  appeel® journal: mid-size   \n",
       "1      appeel® journal: mini      appeel® journal: mini   \n",
       "2           gradient journal           gradient journal   \n",
       "3         adobe life journal         adobe life journal   \n",
       "\n",
       "  metrics/orders:::variables/product_category:Book  \\\n",
       "0                                             23.0   \n",
       "1                                             11.0   \n",
       "2                                             10.0   \n",
       "3                                              3.0   \n",
       "\n",
       "  metrics/visits:::variables/product_category:Book  \n",
       "0                                            116.0  \n",
       "1                                             67.0  \n",
       "2                                             46.0  \n",
       "3                                             20.0  "
      ]
     },
     "execution_count": 25,
     "metadata": {},
     "output_type": "execute_result"
    }
   ],
   "source": [
    "breakdownProdName.dataframe"
   ]
  },
  {
   "cell_type": "markdown",
   "id": "02ce0a07",
   "metadata": {},
   "source": [
    "# Complex data extract"
   ]
  },
  {
   "cell_type": "markdown",
   "id": "47b1b2e3",
   "metadata": {},
   "source": [
    "cjapy offers method to extract data that are not easily doable via the UI.\\\n",
    "The `getPersonProfiles` is a method to retrieves a dataset where each row represents a person profile. This is particularly useful for extracting feature metrics and target metrics for supervised learning applications or customer segmentation analysis."
   ]
  },
  {
   "cell_type": "code",
   "execution_count": 53,
   "id": "41008ce4",
   "metadata": {
    "ExecuteTime": {
     "end_time": "2025-02-02T16:05:04.684985Z",
     "start_time": "2025-02-02T16:05:02.867004Z"
    }
   },
   "outputs": [],
   "source": [
    "feature_metrics = [\"metrics/occurrences\",\"metrics/cart_additions\"]\n",
    "df_profiles = cja.getPersonProfiles(\n",
    "    dataviewId=dv_id,\n",
    "    featureMetrics=feature_metrics,\n",
    "    targetMetric=\"metrics/orders\",\n",
    "    startDate=\"2025-01-01\",\n",
    "    endDate=\"2025-01-31\",\n",
    "    sampleSize=1000,\n",
    "    binaryTargetMetric=True\n",
    ")"
   ]
  },
  {
   "cell_type": "code",
   "execution_count": 54,
   "id": "d20343fb",
   "metadata": {
    "ExecuteTime": {
     "end_time": "2025-02-02T16:05:04.695405Z",
     "start_time": "2025-02-02T16:05:04.684985Z"
    }
   },
   "outputs": [
    {
     "data": {
      "text/html": [
       "<div>\n",
       "<style scoped>\n",
       "    .dataframe tbody tr th:only-of-type {\n",
       "        vertical-align: middle;\n",
       "    }\n",
       "\n",
       "    .dataframe tbody tr th {\n",
       "        vertical-align: top;\n",
       "    }\n",
       "\n",
       "    .dataframe thead th {\n",
       "        text-align: right;\n",
       "    }\n",
       "</style>\n",
       "<table border=\"1\" class=\"dataframe\">\n",
       "  <thead>\n",
       "    <tr style=\"text-align: right;\">\n",
       "      <th></th>\n",
       "      <th>adobe_identitynamespace_personid</th>\n",
       "      <th>occurrences</th>\n",
       "      <th>cart_additions</th>\n",
       "      <th>orders_binary</th>\n",
       "    </tr>\n",
       "  </thead>\n",
       "  <tbody>\n",
       "    <tr>\n",
       "      <th>17</th>\n",
       "      <td>ECID:31206525408194267951572573163933378593</td>\n",
       "      <td>2.0</td>\n",
       "      <td>0.0</td>\n",
       "      <td>0.0</td>\n",
       "    </tr>\n",
       "    <tr>\n",
       "      <th>853</th>\n",
       "      <td>ECID:30162685774980225491119747958159005622</td>\n",
       "      <td>1.0</td>\n",
       "      <td>0.0</td>\n",
       "      <td>0.0</td>\n",
       "    </tr>\n",
       "    <tr>\n",
       "      <th>881</th>\n",
       "      <td>ECID:77376362147990271921511729908812597092</td>\n",
       "      <td>15.0</td>\n",
       "      <td>0.0</td>\n",
       "      <td>0.0</td>\n",
       "    </tr>\n",
       "    <tr>\n",
       "      <th>689</th>\n",
       "      <td>ECID:26417563285829242853046765509734862651</td>\n",
       "      <td>1.0</td>\n",
       "      <td>0.0</td>\n",
       "      <td>0.0</td>\n",
       "    </tr>\n",
       "    <tr>\n",
       "      <th>800</th>\n",
       "      <td>ECID:32856492452268791784494249009846780753</td>\n",
       "      <td>4.0</td>\n",
       "      <td>0.0</td>\n",
       "      <td>0.0</td>\n",
       "    </tr>\n",
       "    <tr>\n",
       "      <th>960</th>\n",
       "      <td>ECID:74960347371847228952438166717310013573</td>\n",
       "      <td>1.0</td>\n",
       "      <td>0.0</td>\n",
       "      <td>0.0</td>\n",
       "    </tr>\n",
       "    <tr>\n",
       "      <th>767</th>\n",
       "      <td>ECID:79056826033050290094400323288715274166</td>\n",
       "      <td>5.0</td>\n",
       "      <td>0.0</td>\n",
       "      <td>0.0</td>\n",
       "    </tr>\n",
       "    <tr>\n",
       "      <th>928</th>\n",
       "      <td>ECID:77783651249871456091526132535652643274</td>\n",
       "      <td>7.0</td>\n",
       "      <td>0.0</td>\n",
       "      <td>0.0</td>\n",
       "    </tr>\n",
       "    <tr>\n",
       "      <th>561</th>\n",
       "      <td>ECID:76934801806643220411334813651191027795</td>\n",
       "      <td>3.0</td>\n",
       "      <td>0.0</td>\n",
       "      <td>0.0</td>\n",
       "    </tr>\n",
       "    <tr>\n",
       "      <th>437</th>\n",
       "      <td>ECID:76330765942426354791154774661393765231</td>\n",
       "      <td>1.0</td>\n",
       "      <td>0.0</td>\n",
       "      <td>0.0</td>\n",
       "    </tr>\n",
       "  </tbody>\n",
       "</table>\n",
       "</div>"
      ],
      "text/plain": [
       "                adobe_identitynamespace_personid occurrences cart_additions  \\\n",
       "17   ECID:31206525408194267951572573163933378593         2.0            0.0   \n",
       "853  ECID:30162685774980225491119747958159005622         1.0            0.0   \n",
       "881  ECID:77376362147990271921511729908812597092        15.0            0.0   \n",
       "689  ECID:26417563285829242853046765509734862651         1.0            0.0   \n",
       "800  ECID:32856492452268791784494249009846780753         4.0            0.0   \n",
       "960  ECID:74960347371847228952438166717310013573         1.0            0.0   \n",
       "767  ECID:79056826033050290094400323288715274166         5.0            0.0   \n",
       "928  ECID:77783651249871456091526132535652643274         7.0            0.0   \n",
       "561  ECID:76934801806643220411334813651191027795         3.0            0.0   \n",
       "437  ECID:76330765942426354791154774661393765231         1.0            0.0   \n",
       "\n",
       "    orders_binary  \n",
       "17            0.0  \n",
       "853           0.0  \n",
       "881           0.0  \n",
       "689           0.0  \n",
       "800           0.0  \n",
       "960           0.0  \n",
       "767           0.0  \n",
       "928           0.0  \n",
       "561           0.0  \n",
       "437           0.0  "
      ]
     },
     "execution_count": 54,
     "metadata": {},
     "output_type": "execute_result"
    }
   ],
   "source": [
    "df_profiles.sample(10)"
   ]
  },
  {
   "cell_type": "markdown",
   "id": "36b585c5",
   "metadata": {},
   "source": [
    "# External Tools"
   ]
  },
  {
   "cell_type": "markdown",
   "id": "582f200d",
   "metadata": {},
   "source": [
    "With all the advanced capability of CJA, one of the most useful is to be able to plot and have a visual representation of the data we are seeing.\\\n",
    "It may help to better understand and comprehend.\\\n",
    "We will see advanced some advanced visualization and forecasting later, but now, descriptive visualization can be shown with more plotting tools and can complement the CJA UI. "
   ]
  },
  {
   "cell_type": "code",
   "execution_count": 4,
   "id": "f69e18f9",
   "metadata": {
    "ExecuteTime": {
     "end_time": "2025-02-06T20:06:51.922193Z",
     "start_time": "2025-02-06T20:06:51.918034Z"
    }
   },
   "outputs": [],
   "source": [
    "filterId_order = \"sD0F83C645C5E1CC60A495CB3@AdobeOrg_66be408dbe6ba704b6c2d506\"\n",
    "filterId_noOrder = \"sD0F83C645C5E1CC60A495CB3@AdobeOrg_679f95f0c0f82b0d0d8d1643\"\n",
    "filterId_CartNoOrder = \"sD0F83C645C5E1CC60A495CB3@AdobeOrg_679f98764564ad1e6222f57e\""
   ]
  },
  {
   "cell_type": "code",
   "execution_count": 5,
   "id": "d5139112",
   "metadata": {
    "ExecuteTime": {
     "end_time": "2025-02-06T20:06:51.948792Z",
     "start_time": "2025-02-06T20:06:51.924184Z"
    }
   },
   "outputs": [],
   "source": [
    "request_data = cjapy.RequestCreator()"
   ]
  },
  {
   "cell_type": "code",
   "execution_count": 6,
   "id": "e3c380e8",
   "metadata": {
    "ExecuteTime": {
     "end_time": "2025-02-06T20:06:51.970371Z",
     "start_time": "2025-02-06T20:06:51.952777Z"
    }
   },
   "outputs": [],
   "source": [
    "request_data.setDataViewId(dv_id)\n",
    "request_data.setDateRange(start_date='2025-01-01',end_date='2025-01-31')\n",
    "request_data.addMetric(\"metrics/occurrences\")\n",
    "request_data.addMetric(\"metrics/visits\")\n",
    "request_data.addMetric(\"metrics/visitors\")\n",
    "request_data.addMetric(\"metrics/cart_additions\")\n",
    "request_data.addMetric(\"metrics/orders\")\n",
    "request_data.addMetricFilter(metricId='all',filterId=\"sD0F83C645C5E1CC60A495CB3@AdobeOrg_66be408dbe6ba704b6c2d506\",staticRow=True)\n",
    "request_data.addMetricFilter(metricId='all',filterId=\"sD0F83C645C5E1CC60A495CB3@AdobeOrg_679f95f0c0f82b0d0d8d1643\",staticRow=True)\n",
    "request_data.addMetricFilter(metricId='all',filterId=\"sD0F83C645C5E1CC60A495CB3@AdobeOrg_679f98764564ad1e6222f57e\",staticRow=True)"
   ]
  },
  {
   "cell_type": "code",
   "execution_count": 20,
   "id": "1b5cf659",
   "metadata": {
    "ExecuteTime": {
     "end_time": "2025-02-06T20:07:47.772578Z",
     "start_time": "2025-02-06T20:07:45.397962Z"
    }
   },
   "outputs": [],
   "source": [
    "data = cja.getReport(request_data)"
   ]
  },
  {
   "cell_type": "code",
   "execution_count": 21,
   "id": "f2d86860",
   "metadata": {
    "ExecuteTime": {
     "end_time": "2025-02-06T20:07:47.786124Z",
     "start_time": "2025-02-06T20:07:47.774568Z"
    }
   },
   "outputs": [
    {
     "data": {
      "text/html": [
       "<div>\n",
       "<style scoped>\n",
       "    .dataframe tbody tr th:only-of-type {\n",
       "        vertical-align: middle;\n",
       "    }\n",
       "\n",
       "    .dataframe tbody tr th {\n",
       "        vertical-align: top;\n",
       "    }\n",
       "\n",
       "    .dataframe thead th {\n",
       "        text-align: right;\n",
       "    }\n",
       "</style>\n",
       "<table border=\"1\" class=\"dataframe\">\n",
       "  <thead>\n",
       "    <tr style=\"text-align: right;\">\n",
       "      <th></th>\n",
       "      <th>FilterName</th>\n",
       "      <th>FilterId</th>\n",
       "      <th>metrics/occurrences</th>\n",
       "      <th>metrics/visits</th>\n",
       "      <th>metrics/visitors</th>\n",
       "      <th>metrics/cart_additions</th>\n",
       "      <th>metrics/orders</th>\n",
       "    </tr>\n",
       "  </thead>\n",
       "  <tbody>\n",
       "    <tr>\n",
       "      <th>0</th>\n",
       "      <td>Person with cart addition but no order</td>\n",
       "      <td>sD0F83C645C5E1CC60A495CB3@AdobeOrg_679f9876456...</td>\n",
       "      <td>17613.0</td>\n",
       "      <td>1044.0</td>\n",
       "      <td>426.0</td>\n",
       "      <td>2148.0</td>\n",
       "      <td>0.0</td>\n",
       "    </tr>\n",
       "    <tr>\n",
       "      <th>1</th>\n",
       "      <td>Person who did not order</td>\n",
       "      <td>sD0F83C645C5E1CC60A495CB3@AdobeOrg_679f95f0c0f...</td>\n",
       "      <td>55178.0</td>\n",
       "      <td>7058.0</td>\n",
       "      <td>5072.0</td>\n",
       "      <td>2148.0</td>\n",
       "      <td>0.0</td>\n",
       "    </tr>\n",
       "    <tr>\n",
       "      <th>2</th>\n",
       "      <td>Purchasers</td>\n",
       "      <td>sD0F83C645C5E1CC60A495CB3@AdobeOrg_66be408dbe6...</td>\n",
       "      <td>15010.0</td>\n",
       "      <td>652.0</td>\n",
       "      <td>222.0</td>\n",
       "      <td>2246.0</td>\n",
       "      <td>272.0</td>\n",
       "    </tr>\n",
       "  </tbody>\n",
       "</table>\n",
       "</div>"
      ],
      "text/plain": [
       "                                FilterName  \\\n",
       "0  Person with cart addition but no order    \n",
       "1                 Person who did not order   \n",
       "2                               Purchasers   \n",
       "\n",
       "                                            FilterId metrics/occurrences  \\\n",
       "0  sD0F83C645C5E1CC60A495CB3@AdobeOrg_679f9876456...             17613.0   \n",
       "1  sD0F83C645C5E1CC60A495CB3@AdobeOrg_679f95f0c0f...             55178.0   \n",
       "2  sD0F83C645C5E1CC60A495CB3@AdobeOrg_66be408dbe6...             15010.0   \n",
       "\n",
       "  metrics/visits metrics/visitors metrics/cart_additions metrics/orders  \n",
       "0         1044.0            426.0                 2148.0            0.0  \n",
       "1         7058.0           5072.0                 2148.0            0.0  \n",
       "2          652.0            222.0                 2246.0          272.0  "
      ]
     },
     "execution_count": 21,
     "metadata": {},
     "output_type": "execute_result"
    }
   ],
   "source": [
    "data.dataframe"
   ]
  },
  {
   "cell_type": "code",
   "execution_count": 22,
   "id": "39ec9afa",
   "metadata": {
    "ExecuteTime": {
     "end_time": "2025-02-06T20:07:47.801540Z",
     "start_time": "2025-02-06T20:07:47.789110Z"
    }
   },
   "outputs": [],
   "source": [
    "dataResult = data.dataframe.copy()"
   ]
  },
  {
   "cell_type": "code",
   "execution_count": 16,
   "id": "5812c8bb",
   "metadata": {
    "ExecuteTime": {
     "end_time": "2025-02-06T20:07:20.881660Z",
     "start_time": "2025-02-06T20:07:20.877308Z"
    }
   },
   "outputs": [],
   "source": [
    "from bokeh.plotting import figure, show,output_notebook\n",
    "from bokeh.sampledata.penguins import data\n",
    "from bokeh.transform import factor_cmap, factor_mark\n",
    "import math"
   ]
  },
  {
   "cell_type": "code",
   "execution_count": 17,
   "id": "acfe3769",
   "metadata": {
    "ExecuteTime": {
     "end_time": "2025-02-06T20:07:21.102523Z",
     "start_time": "2025-02-06T20:07:21.091335Z"
    }
   },
   "outputs": [
    {
     "data": {
      "text/html": [
       "    <style>\n",
       "        .bk-notebook-logo {\n",
       "            display: block;\n",
       "            width: 20px;\n",
       "            height: 20px;\n",
       "            background-image: url(data:image/png;base64,iVBORw0KGgoAAAANSUhEUgAAABQAAAAUCAYAAACNiR0NAAAABHNCSVQICAgIfAhkiAAAAAlwSFlzAAALEgAACxIB0t1+/AAAABx0RVh0U29mdHdhcmUAQWRvYmUgRmlyZXdvcmtzIENTNui8sowAAAOkSURBVDiNjZRtaJVlGMd/1/08zzln5zjP1LWcU9N0NkN8m2CYjpgQYQXqSs0I84OLIC0hkEKoPtiH3gmKoiJDU7QpLgoLjLIQCpEsNJ1vqUOdO7ppbuec5+V+rj4ctwzd8IIbbi6u+8f1539dt3A78eXC7QizUF7gyV1fD1Yqg4JWz84yffhm0qkFqBogB9rM8tZdtwVsPUhWhGcFJngGeWrPzHm5oaMmkfEg1usvLFyc8jLRqDOMru7AyC8saQr7GG7f5fvDeH7Ej8CM66nIF+8yngt6HWaKh7k49Soy9nXurCi1o3qUbS3zWfrYeQDTB/Qj6kX6Ybhw4B+bOYoLKCC9H3Nu/leUTZ1JdRWkkn2ldcCamzrcf47KKXdAJllSlxAOkRgyHsGC/zRday5Qld9DyoM4/q/rUoy/CXh3jzOu3bHUVZeU+DEn8FInkPBFlu3+nW3Nw0mk6vCDiWg8CeJaxEwuHS3+z5RgY+YBR6V1Z1nxSOfoaPa4LASWxxdNp+VWTk7+4vzaou8v8PN+xo+KY2xsw6une2frhw05CTYOmQvsEhjhWjn0bmXPjpE1+kplmmkP3suftwTubK9Vq22qKmrBhpY4jvd5afdRA3wGjFAgcnTK2s4hY0/GPNIb0nErGMCRxWOOX64Z8RAC4oCXdklmEvcL8o0BfkNK4lUg9HTl+oPlQxdNo3Mg4Nv175e/1LDGzZen30MEjRUtmXSfiTVu1kK8W4txyV6BMKlbgk3lMwYCiusNy9fVfvvwMxv8Ynl6vxoByANLTWplvuj/nF9m2+PDtt1eiHPBr1oIfhCChQMBw6Aw0UulqTKZdfVvfG7VcfIqLG9bcldL/+pdWTLxLUy8Qq38heUIjh4XlzZxzQm19lLFlr8vdQ97rjZVOLf8nclzckbcD4wxXMidpX30sFd37Fv/GtwwhzhxGVAprjbg0gCAEeIgwCZyTV2Z1REEW8O4py0wsjeloKoMr6iCY6dP92H6Vw/oTyICIthibxjm/DfN9lVz8IqtqKYLUXfoKVMVQVVJOElGjrnnUt9T9wbgp8AyYKaGlqingHZU/uG2NTZSVqwHQTWkx9hxjkpWDaCg6Ckj5qebgBVbT3V3NNXMSiWSDdGV3hrtzla7J+duwPOToIg42ChPQOQjspnSlp1V+Gjdged7+8UN5CRAV7a5EdFNwCjEaBR27b3W890TE7g24NAP/mMDXRWrGoFPQI9ls/MWO2dWFAar/xcOIImbbpA3zgAAAABJRU5ErkJggg==);\n",
       "        }\n",
       "    </style>\n",
       "    <div>\n",
       "        <a href=\"https://bokeh.org\" target=\"_blank\" class=\"bk-notebook-logo\"></a>\n",
       "        <span id=\"c6e5cd74-98c5-4cd1-914a-82206d641d45\">Loading BokehJS ...</span>\n",
       "    </div>\n"
      ]
     },
     "metadata": {},
     "output_type": "display_data"
    },
    {
     "data": {
      "application/javascript": [
       "(function(root) {\n",
       "  function now() {\n",
       "    return new Date();\n",
       "  }\n",
       "\n",
       "  const force = true;\n",
       "\n",
       "  if (typeof root._bokeh_onload_callbacks === \"undefined\" || force === true) {\n",
       "    root._bokeh_onload_callbacks = [];\n",
       "    root._bokeh_is_loading = undefined;\n",
       "  }\n",
       "\n",
       "const JS_MIME_TYPE = 'application/javascript';\n",
       "  const HTML_MIME_TYPE = 'text/html';\n",
       "  const EXEC_MIME_TYPE = 'application/vnd.bokehjs_exec.v0+json';\n",
       "  const CLASS_NAME = 'output_bokeh rendered_html';\n",
       "\n",
       "  /**\n",
       "   * Render data to the DOM node\n",
       "   */\n",
       "  function render(props, node) {\n",
       "    const script = document.createElement(\"script\");\n",
       "    node.appendChild(script);\n",
       "  }\n",
       "\n",
       "  /**\n",
       "   * Handle when an output is cleared or removed\n",
       "   */\n",
       "  function handleClearOutput(event, handle) {\n",
       "    function drop(id) {\n",
       "      const view = Bokeh.index.get_by_id(id)\n",
       "      if (view != null) {\n",
       "        view.model.document.clear()\n",
       "        Bokeh.index.delete(view)\n",
       "      }\n",
       "    }\n",
       "\n",
       "    const cell = handle.cell;\n",
       "\n",
       "    const id = cell.output_area._bokeh_element_id;\n",
       "    const server_id = cell.output_area._bokeh_server_id;\n",
       "\n",
       "    // Clean up Bokeh references\n",
       "    if (id != null) {\n",
       "      drop(id)\n",
       "    }\n",
       "\n",
       "    if (server_id !== undefined) {\n",
       "      // Clean up Bokeh references\n",
       "      const cmd_clean = \"from bokeh.io.state import curstate; print(curstate().uuid_to_server['\" + server_id + \"'].get_sessions()[0].document.roots[0]._id)\";\n",
       "      cell.notebook.kernel.execute(cmd_clean, {\n",
       "        iopub: {\n",
       "          output: function(msg) {\n",
       "            const id = msg.content.text.trim()\n",
       "            drop(id)\n",
       "          }\n",
       "        }\n",
       "      });\n",
       "      // Destroy server and session\n",
       "      const cmd_destroy = \"import bokeh.io.notebook as ion; ion.destroy_server('\" + server_id + \"')\";\n",
       "      cell.notebook.kernel.execute(cmd_destroy);\n",
       "    }\n",
       "  }\n",
       "\n",
       "  /**\n",
       "   * Handle when a new output is added\n",
       "   */\n",
       "  function handleAddOutput(event, handle) {\n",
       "    const output_area = handle.output_area;\n",
       "    const output = handle.output;\n",
       "\n",
       "    // limit handleAddOutput to display_data with EXEC_MIME_TYPE content only\n",
       "    if ((output.output_type != \"display_data\") || (!Object.prototype.hasOwnProperty.call(output.data, EXEC_MIME_TYPE))) {\n",
       "      return\n",
       "    }\n",
       "\n",
       "    const toinsert = output_area.element.find(\".\" + CLASS_NAME.split(' ')[0]);\n",
       "\n",
       "    if (output.metadata[EXEC_MIME_TYPE][\"id\"] !== undefined) {\n",
       "      toinsert[toinsert.length - 1].firstChild.textContent = output.data[JS_MIME_TYPE];\n",
       "      // store reference to embed id on output_area\n",
       "      output_area._bokeh_element_id = output.metadata[EXEC_MIME_TYPE][\"id\"];\n",
       "    }\n",
       "    if (output.metadata[EXEC_MIME_TYPE][\"server_id\"] !== undefined) {\n",
       "      const bk_div = document.createElement(\"div\");\n",
       "      bk_div.innerHTML = output.data[HTML_MIME_TYPE];\n",
       "      const script_attrs = bk_div.children[0].attributes;\n",
       "      for (let i = 0; i < script_attrs.length; i++) {\n",
       "        toinsert[toinsert.length - 1].firstChild.setAttribute(script_attrs[i].name, script_attrs[i].value);\n",
       "        toinsert[toinsert.length - 1].firstChild.textContent = bk_div.children[0].textContent\n",
       "      }\n",
       "      // store reference to server id on output_area\n",
       "      output_area._bokeh_server_id = output.metadata[EXEC_MIME_TYPE][\"server_id\"];\n",
       "    }\n",
       "  }\n",
       "\n",
       "  function register_renderer(events, OutputArea) {\n",
       "\n",
       "    function append_mime(data, metadata, element) {\n",
       "      // create a DOM node to render to\n",
       "      const toinsert = this.create_output_subarea(\n",
       "        metadata,\n",
       "        CLASS_NAME,\n",
       "        EXEC_MIME_TYPE\n",
       "      );\n",
       "      this.keyboard_manager.register_events(toinsert);\n",
       "      // Render to node\n",
       "      const props = {data: data, metadata: metadata[EXEC_MIME_TYPE]};\n",
       "      render(props, toinsert[toinsert.length - 1]);\n",
       "      element.append(toinsert);\n",
       "      return toinsert\n",
       "    }\n",
       "\n",
       "    /* Handle when an output is cleared or removed */\n",
       "    events.on('clear_output.CodeCell', handleClearOutput);\n",
       "    events.on('delete.Cell', handleClearOutput);\n",
       "\n",
       "    /* Handle when a new output is added */\n",
       "    events.on('output_added.OutputArea', handleAddOutput);\n",
       "\n",
       "    /**\n",
       "     * Register the mime type and append_mime function with output_area\n",
       "     */\n",
       "    OutputArea.prototype.register_mime_type(EXEC_MIME_TYPE, append_mime, {\n",
       "      /* Is output safe? */\n",
       "      safe: true,\n",
       "      /* Index of renderer in `output_area.display_order` */\n",
       "      index: 0\n",
       "    });\n",
       "  }\n",
       "\n",
       "  // register the mime type if in Jupyter Notebook environment and previously unregistered\n",
       "  if (root.Jupyter !== undefined) {\n",
       "    const events = require('base/js/events');\n",
       "    const OutputArea = require('notebook/js/outputarea').OutputArea;\n",
       "\n",
       "    if (OutputArea.prototype.mime_types().indexOf(EXEC_MIME_TYPE) == -1) {\n",
       "      register_renderer(events, OutputArea);\n",
       "    }\n",
       "  }\n",
       "  if (typeof (root._bokeh_timeout) === \"undefined\" || force === true) {\n",
       "    root._bokeh_timeout = Date.now() + 5000;\n",
       "    root._bokeh_failed_load = false;\n",
       "  }\n",
       "\n",
       "  const NB_LOAD_WARNING = {'data': {'text/html':\n",
       "     \"<div style='background-color: #fdd'>\\n\"+\n",
       "     \"<p>\\n\"+\n",
       "     \"BokehJS does not appear to have successfully loaded. If loading BokehJS from CDN, this \\n\"+\n",
       "     \"may be due to a slow or bad network connection. Possible fixes:\\n\"+\n",
       "     \"</p>\\n\"+\n",
       "     \"<ul>\\n\"+\n",
       "     \"<li>re-rerun `output_notebook()` to attempt to load from CDN again, or</li>\\n\"+\n",
       "     \"<li>use INLINE resources instead, as so:</li>\\n\"+\n",
       "     \"</ul>\\n\"+\n",
       "     \"<code>\\n\"+\n",
       "     \"from bokeh.resources import INLINE\\n\"+\n",
       "     \"output_notebook(resources=INLINE)\\n\"+\n",
       "     \"</code>\\n\"+\n",
       "     \"</div>\"}};\n",
       "\n",
       "  function display_loaded() {\n",
       "    const el = document.getElementById(\"c6e5cd74-98c5-4cd1-914a-82206d641d45\");\n",
       "    if (el != null) {\n",
       "      el.textContent = \"BokehJS is loading...\";\n",
       "    }\n",
       "    if (root.Bokeh !== undefined) {\n",
       "      if (el != null) {\n",
       "        el.textContent = \"BokehJS \" + root.Bokeh.version + \" successfully loaded.\";\n",
       "      }\n",
       "    } else if (Date.now() < root._bokeh_timeout) {\n",
       "      setTimeout(display_loaded, 100)\n",
       "    }\n",
       "  }\n",
       "\n",
       "  function run_callbacks() {\n",
       "    try {\n",
       "      root._bokeh_onload_callbacks.forEach(function(callback) {\n",
       "        if (callback != null)\n",
       "          callback();\n",
       "      });\n",
       "    } finally {\n",
       "      delete root._bokeh_onload_callbacks\n",
       "    }\n",
       "    console.debug(\"Bokeh: all callbacks have finished\");\n",
       "  }\n",
       "\n",
       "  function load_libs(css_urls, js_urls, callback) {\n",
       "    if (css_urls == null) css_urls = [];\n",
       "    if (js_urls == null) js_urls = [];\n",
       "\n",
       "    root._bokeh_onload_callbacks.push(callback);\n",
       "    if (root._bokeh_is_loading > 0) {\n",
       "      console.debug(\"Bokeh: BokehJS is being loaded, scheduling callback at\", now());\n",
       "      return null;\n",
       "    }\n",
       "    if (js_urls == null || js_urls.length === 0) {\n",
       "      run_callbacks();\n",
       "      return null;\n",
       "    }\n",
       "    console.debug(\"Bokeh: BokehJS not loaded, scheduling load and callback at\", now());\n",
       "    root._bokeh_is_loading = css_urls.length + js_urls.length;\n",
       "\n",
       "    function on_load() {\n",
       "      root._bokeh_is_loading--;\n",
       "      if (root._bokeh_is_loading === 0) {\n",
       "        console.debug(\"Bokeh: all BokehJS libraries/stylesheets loaded\");\n",
       "        run_callbacks()\n",
       "      }\n",
       "    }\n",
       "\n",
       "    function on_error(url) {\n",
       "      console.error(\"failed to load \" + url);\n",
       "    }\n",
       "\n",
       "    for (let i = 0; i < css_urls.length; i++) {\n",
       "      const url = css_urls[i];\n",
       "      const element = document.createElement(\"link\");\n",
       "      element.onload = on_load;\n",
       "      element.onerror = on_error.bind(null, url);\n",
       "      element.rel = \"stylesheet\";\n",
       "      element.type = \"text/css\";\n",
       "      element.href = url;\n",
       "      console.debug(\"Bokeh: injecting link tag for BokehJS stylesheet: \", url);\n",
       "      document.body.appendChild(element);\n",
       "    }\n",
       "\n",
       "    for (let i = 0; i < js_urls.length; i++) {\n",
       "      const url = js_urls[i];\n",
       "      const element = document.createElement('script');\n",
       "      element.onload = on_load;\n",
       "      element.onerror = on_error.bind(null, url);\n",
       "      element.async = false;\n",
       "      element.src = url;\n",
       "      console.debug(\"Bokeh: injecting script tag for BokehJS library: \", url);\n",
       "      document.head.appendChild(element);\n",
       "    }\n",
       "  };\n",
       "\n",
       "  function inject_raw_css(css) {\n",
       "    const element = document.createElement(\"style\");\n",
       "    element.appendChild(document.createTextNode(css));\n",
       "    document.body.appendChild(element);\n",
       "  }\n",
       "\n",
       "  const js_urls = [\"https://cdn.bokeh.org/bokeh/release/bokeh-3.3.4.min.js\", \"https://cdn.bokeh.org/bokeh/release/bokeh-gl-3.3.4.min.js\", \"https://cdn.bokeh.org/bokeh/release/bokeh-widgets-3.3.4.min.js\", \"https://cdn.bokeh.org/bokeh/release/bokeh-tables-3.3.4.min.js\", \"https://cdn.bokeh.org/bokeh/release/bokeh-mathjax-3.3.4.min.js\"];\n",
       "  const css_urls = [];\n",
       "\n",
       "  const inline_js = [    function(Bokeh) {\n",
       "      Bokeh.set_log_level(\"info\");\n",
       "    },\n",
       "function(Bokeh) {\n",
       "    }\n",
       "  ];\n",
       "\n",
       "  function run_inline_js() {\n",
       "    if (root.Bokeh !== undefined || force === true) {\n",
       "          for (let i = 0; i < inline_js.length; i++) {\n",
       "      inline_js[i].call(root, root.Bokeh);\n",
       "    }\n",
       "if (force === true) {\n",
       "        display_loaded();\n",
       "      }} else if (Date.now() < root._bokeh_timeout) {\n",
       "      setTimeout(run_inline_js, 100);\n",
       "    } else if (!root._bokeh_failed_load) {\n",
       "      console.log(\"Bokeh: BokehJS failed to load within specified timeout.\");\n",
       "      root._bokeh_failed_load = true;\n",
       "    } else if (force !== true) {\n",
       "      const cell = $(document.getElementById(\"c6e5cd74-98c5-4cd1-914a-82206d641d45\")).parents('.cell').data().cell;\n",
       "      cell.output_area.append_execute_result(NB_LOAD_WARNING)\n",
       "    }\n",
       "  }\n",
       "\n",
       "  if (root._bokeh_is_loading === 0) {\n",
       "    console.debug(\"Bokeh: BokehJS loaded, going straight to plotting\");\n",
       "    run_inline_js();\n",
       "  } else {\n",
       "    load_libs(css_urls, js_urls, function() {\n",
       "      console.debug(\"Bokeh: BokehJS plotting callback run at\", now());\n",
       "      run_inline_js();\n",
       "    });\n",
       "  }\n",
       "}(window));"
      ],
      "application/vnd.bokehjs_load.v0+json": "(function(root) {\n  function now() {\n    return new Date();\n  }\n\n  const force = true;\n\n  if (typeof root._bokeh_onload_callbacks === \"undefined\" || force === true) {\n    root._bokeh_onload_callbacks = [];\n    root._bokeh_is_loading = undefined;\n  }\n\n\n  if (typeof (root._bokeh_timeout) === \"undefined\" || force === true) {\n    root._bokeh_timeout = Date.now() + 5000;\n    root._bokeh_failed_load = false;\n  }\n\n  const NB_LOAD_WARNING = {'data': {'text/html':\n     \"<div style='background-color: #fdd'>\\n\"+\n     \"<p>\\n\"+\n     \"BokehJS does not appear to have successfully loaded. If loading BokehJS from CDN, this \\n\"+\n     \"may be due to a slow or bad network connection. Possible fixes:\\n\"+\n     \"</p>\\n\"+\n     \"<ul>\\n\"+\n     \"<li>re-rerun `output_notebook()` to attempt to load from CDN again, or</li>\\n\"+\n     \"<li>use INLINE resources instead, as so:</li>\\n\"+\n     \"</ul>\\n\"+\n     \"<code>\\n\"+\n     \"from bokeh.resources import INLINE\\n\"+\n     \"output_notebook(resources=INLINE)\\n\"+\n     \"</code>\\n\"+\n     \"</div>\"}};\n\n  function display_loaded() {\n    const el = document.getElementById(\"c6e5cd74-98c5-4cd1-914a-82206d641d45\");\n    if (el != null) {\n      el.textContent = \"BokehJS is loading...\";\n    }\n    if (root.Bokeh !== undefined) {\n      if (el != null) {\n        el.textContent = \"BokehJS \" + root.Bokeh.version + \" successfully loaded.\";\n      }\n    } else if (Date.now() < root._bokeh_timeout) {\n      setTimeout(display_loaded, 100)\n    }\n  }\n\n  function run_callbacks() {\n    try {\n      root._bokeh_onload_callbacks.forEach(function(callback) {\n        if (callback != null)\n          callback();\n      });\n    } finally {\n      delete root._bokeh_onload_callbacks\n    }\n    console.debug(\"Bokeh: all callbacks have finished\");\n  }\n\n  function load_libs(css_urls, js_urls, callback) {\n    if (css_urls == null) css_urls = [];\n    if (js_urls == null) js_urls = [];\n\n    root._bokeh_onload_callbacks.push(callback);\n    if (root._bokeh_is_loading > 0) {\n      console.debug(\"Bokeh: BokehJS is being loaded, scheduling callback at\", now());\n      return null;\n    }\n    if (js_urls == null || js_urls.length === 0) {\n      run_callbacks();\n      return null;\n    }\n    console.debug(\"Bokeh: BokehJS not loaded, scheduling load and callback at\", now());\n    root._bokeh_is_loading = css_urls.length + js_urls.length;\n\n    function on_load() {\n      root._bokeh_is_loading--;\n      if (root._bokeh_is_loading === 0) {\n        console.debug(\"Bokeh: all BokehJS libraries/stylesheets loaded\");\n        run_callbacks()\n      }\n    }\n\n    function on_error(url) {\n      console.error(\"failed to load \" + url);\n    }\n\n    for (let i = 0; i < css_urls.length; i++) {\n      const url = css_urls[i];\n      const element = document.createElement(\"link\");\n      element.onload = on_load;\n      element.onerror = on_error.bind(null, url);\n      element.rel = \"stylesheet\";\n      element.type = \"text/css\";\n      element.href = url;\n      console.debug(\"Bokeh: injecting link tag for BokehJS stylesheet: \", url);\n      document.body.appendChild(element);\n    }\n\n    for (let i = 0; i < js_urls.length; i++) {\n      const url = js_urls[i];\n      const element = document.createElement('script');\n      element.onload = on_load;\n      element.onerror = on_error.bind(null, url);\n      element.async = false;\n      element.src = url;\n      console.debug(\"Bokeh: injecting script tag for BokehJS library: \", url);\n      document.head.appendChild(element);\n    }\n  };\n\n  function inject_raw_css(css) {\n    const element = document.createElement(\"style\");\n    element.appendChild(document.createTextNode(css));\n    document.body.appendChild(element);\n  }\n\n  const js_urls = [\"https://cdn.bokeh.org/bokeh/release/bokeh-3.3.4.min.js\", \"https://cdn.bokeh.org/bokeh/release/bokeh-gl-3.3.4.min.js\", \"https://cdn.bokeh.org/bokeh/release/bokeh-widgets-3.3.4.min.js\", \"https://cdn.bokeh.org/bokeh/release/bokeh-tables-3.3.4.min.js\", \"https://cdn.bokeh.org/bokeh/release/bokeh-mathjax-3.3.4.min.js\"];\n  const css_urls = [];\n\n  const inline_js = [    function(Bokeh) {\n      Bokeh.set_log_level(\"info\");\n    },\nfunction(Bokeh) {\n    }\n  ];\n\n  function run_inline_js() {\n    if (root.Bokeh !== undefined || force === true) {\n          for (let i = 0; i < inline_js.length; i++) {\n      inline_js[i].call(root, root.Bokeh);\n    }\nif (force === true) {\n        display_loaded();\n      }} else if (Date.now() < root._bokeh_timeout) {\n      setTimeout(run_inline_js, 100);\n    } else if (!root._bokeh_failed_load) {\n      console.log(\"Bokeh: BokehJS failed to load within specified timeout.\");\n      root._bokeh_failed_load = true;\n    } else if (force !== true) {\n      const cell = $(document.getElementById(\"c6e5cd74-98c5-4cd1-914a-82206d641d45\")).parents('.cell').data().cell;\n      cell.output_area.append_execute_result(NB_LOAD_WARNING)\n    }\n  }\n\n  if (root._bokeh_is_loading === 0) {\n    console.debug(\"Bokeh: BokehJS loaded, going straight to plotting\");\n    run_inline_js();\n  } else {\n    load_libs(css_urls, js_urls, function() {\n      console.debug(\"Bokeh: BokehJS plotting callback run at\", now());\n      run_inline_js();\n    });\n  }\n}(window));"
     },
     "metadata": {},
     "output_type": "display_data"
    }
   ],
   "source": [
    "output_notebook()"
   ]
  },
  {
   "cell_type": "code",
   "execution_count": 18,
   "id": "21b3264c",
   "metadata": {
    "ExecuteTime": {
     "end_time": "2025-02-06T20:07:21.328996Z",
     "start_time": "2025-02-06T20:07:21.306498Z"
    }
   },
   "outputs": [],
   "source": [
    "p = figure(title = \"Filter comparison for Cart Addition and Visits\", background_fill_color=\"#fafafa\")\n",
    "p.xaxis.axis_label = 'Visits'\n",
    "p.yaxis.axis_label = 'Cart Addition'"
   ]
  },
  {
   "cell_type": "code",
   "execution_count": 23,
   "id": "98ec3ca2",
   "metadata": {
    "ExecuteTime": {
     "end_time": "2025-02-06T20:08:03.956289Z",
     "start_time": "2025-02-06T20:08:03.952269Z"
    }
   },
   "outputs": [],
   "source": [
    "dataResult['sizeDots'] = dataResult['metrics/visitors']/dataResult['metrics/visitors'].sum()*100\n",
    "colors = [\"lightskyblue\",\"peru\",\"orangered\"]"
   ]
  },
  {
   "cell_type": "code",
   "execution_count": 24,
   "id": "2a3da0d4",
   "metadata": {
    "ExecuteTime": {
     "end_time": "2025-02-06T20:08:13.406883Z",
     "start_time": "2025-02-06T20:08:13.316649Z"
    }
   },
   "outputs": [
    {
     "data": {
      "text/html": [
       "\n",
       "  <div id=\"f20cd947-a37f-4ed1-8053-6cb032d8ff06\" data-root-id=\"p1034\" style=\"display: contents;\"></div>\n"
      ]
     },
     "metadata": {},
     "output_type": "display_data"
    },
    {
     "data": {
      "application/javascript": [
       "(function(root) {\n",
       "  function embed_document(root) {\n",
       "  const docs_json = {\"c59c503a-086b-4ef9-974c-748c6c14ccc9\":{\"version\":\"3.3.4\",\"title\":\"Bokeh Application\",\"roots\":[{\"type\":\"object\",\"name\":\"Figure\",\"id\":\"p1034\",\"attributes\":{\"x_range\":{\"type\":\"object\",\"name\":\"DataRange1d\",\"id\":\"p1035\"},\"y_range\":{\"type\":\"object\",\"name\":\"DataRange1d\",\"id\":\"p1036\"},\"x_scale\":{\"type\":\"object\",\"name\":\"LinearScale\",\"id\":\"p1044\"},\"y_scale\":{\"type\":\"object\",\"name\":\"LinearScale\",\"id\":\"p1045\"},\"title\":{\"type\":\"object\",\"name\":\"Title\",\"id\":\"p1037\",\"attributes\":{\"text\":\"Filter comparison for Cart Addition and Visits\"}},\"renderers\":[{\"type\":\"object\",\"name\":\"GlyphRenderer\",\"id\":\"p1073\",\"attributes\":{\"data_source\":{\"type\":\"object\",\"name\":\"ColumnDataSource\",\"id\":\"p1067\",\"attributes\":{\"selected\":{\"type\":\"object\",\"name\":\"Selection\",\"id\":\"p1068\",\"attributes\":{\"indices\":[],\"line_indices\":[]}},\"selection_policy\":{\"type\":\"object\",\"name\":\"UnionRenderers\",\"id\":\"p1069\"},\"data\":{\"type\":\"map\"}}},\"view\":{\"type\":\"object\",\"name\":\"CDSView\",\"id\":\"p1074\",\"attributes\":{\"filter\":{\"type\":\"object\",\"name\":\"AllIndices\",\"id\":\"p1075\"}}},\"glyph\":{\"type\":\"object\",\"name\":\"Circle\",\"id\":\"p1070\",\"attributes\":{\"x\":{\"type\":\"value\",\"value\":1044.0},\"y\":{\"type\":\"value\",\"value\":2148.0},\"size\":{\"type\":\"value\",\"value\":7.447552447552448},\"line_color\":{\"type\":\"value\",\"value\":\"lightskyblue\"},\"fill_color\":{\"type\":\"value\",\"value\":\"lightskyblue\"}}},\"nonselection_glyph\":{\"type\":\"object\",\"name\":\"Circle\",\"id\":\"p1071\",\"attributes\":{\"x\":{\"type\":\"value\",\"value\":1044.0},\"y\":{\"type\":\"value\",\"value\":2148.0},\"size\":{\"type\":\"value\",\"value\":7.447552447552448},\"line_color\":{\"type\":\"value\",\"value\":\"lightskyblue\"},\"line_alpha\":{\"type\":\"value\",\"value\":0.1},\"fill_color\":{\"type\":\"value\",\"value\":\"lightskyblue\"},\"fill_alpha\":{\"type\":\"value\",\"value\":0.1},\"hatch_alpha\":{\"type\":\"value\",\"value\":0.1}}},\"muted_glyph\":{\"type\":\"object\",\"name\":\"Circle\",\"id\":\"p1072\",\"attributes\":{\"x\":{\"type\":\"value\",\"value\":1044.0},\"y\":{\"type\":\"value\",\"value\":2148.0},\"size\":{\"type\":\"value\",\"value\":7.447552447552448},\"line_color\":{\"type\":\"value\",\"value\":\"lightskyblue\"},\"line_alpha\":{\"type\":\"value\",\"value\":0.2},\"fill_color\":{\"type\":\"value\",\"value\":\"lightskyblue\"},\"fill_alpha\":{\"type\":\"value\",\"value\":0.2},\"hatch_alpha\":{\"type\":\"value\",\"value\":0.2}}}}},{\"type\":\"object\",\"name\":\"GlyphRenderer\",\"id\":\"p1084\",\"attributes\":{\"data_source\":{\"type\":\"object\",\"name\":\"ColumnDataSource\",\"id\":\"p1078\",\"attributes\":{\"selected\":{\"type\":\"object\",\"name\":\"Selection\",\"id\":\"p1079\",\"attributes\":{\"indices\":[],\"line_indices\":[]}},\"selection_policy\":{\"type\":\"object\",\"name\":\"UnionRenderers\",\"id\":\"p1080\"},\"data\":{\"type\":\"map\"}}},\"view\":{\"type\":\"object\",\"name\":\"CDSView\",\"id\":\"p1085\",\"attributes\":{\"filter\":{\"type\":\"object\",\"name\":\"AllIndices\",\"id\":\"p1086\"}}},\"glyph\":{\"type\":\"object\",\"name\":\"Circle\",\"id\":\"p1081\",\"attributes\":{\"x\":{\"type\":\"value\",\"value\":7058.0},\"y\":{\"type\":\"value\",\"value\":2148.0},\"size\":{\"type\":\"value\",\"value\":88.67132867132868},\"line_color\":{\"type\":\"value\",\"value\":\"peru\"},\"fill_color\":{\"type\":\"value\",\"value\":\"peru\"}}},\"nonselection_glyph\":{\"type\":\"object\",\"name\":\"Circle\",\"id\":\"p1082\",\"attributes\":{\"x\":{\"type\":\"value\",\"value\":7058.0},\"y\":{\"type\":\"value\",\"value\":2148.0},\"size\":{\"type\":\"value\",\"value\":88.67132867132868},\"line_color\":{\"type\":\"value\",\"value\":\"peru\"},\"line_alpha\":{\"type\":\"value\",\"value\":0.1},\"fill_color\":{\"type\":\"value\",\"value\":\"peru\"},\"fill_alpha\":{\"type\":\"value\",\"value\":0.1},\"hatch_alpha\":{\"type\":\"value\",\"value\":0.1}}},\"muted_glyph\":{\"type\":\"object\",\"name\":\"Circle\",\"id\":\"p1083\",\"attributes\":{\"x\":{\"type\":\"value\",\"value\":7058.0},\"y\":{\"type\":\"value\",\"value\":2148.0},\"size\":{\"type\":\"value\",\"value\":88.67132867132868},\"line_color\":{\"type\":\"value\",\"value\":\"peru\"},\"line_alpha\":{\"type\":\"value\",\"value\":0.2},\"fill_color\":{\"type\":\"value\",\"value\":\"peru\"},\"fill_alpha\":{\"type\":\"value\",\"value\":0.2},\"hatch_alpha\":{\"type\":\"value\",\"value\":0.2}}}}},{\"type\":\"object\",\"name\":\"GlyphRenderer\",\"id\":\"p1094\",\"attributes\":{\"data_source\":{\"type\":\"object\",\"name\":\"ColumnDataSource\",\"id\":\"p1088\",\"attributes\":{\"selected\":{\"type\":\"object\",\"name\":\"Selection\",\"id\":\"p1089\",\"attributes\":{\"indices\":[],\"line_indices\":[]}},\"selection_policy\":{\"type\":\"object\",\"name\":\"UnionRenderers\",\"id\":\"p1090\"},\"data\":{\"type\":\"map\"}}},\"view\":{\"type\":\"object\",\"name\":\"CDSView\",\"id\":\"p1095\",\"attributes\":{\"filter\":{\"type\":\"object\",\"name\":\"AllIndices\",\"id\":\"p1096\"}}},\"glyph\":{\"type\":\"object\",\"name\":\"Circle\",\"id\":\"p1091\",\"attributes\":{\"x\":{\"type\":\"value\",\"value\":652.0},\"y\":{\"type\":\"value\",\"value\":2246.0},\"size\":{\"type\":\"value\",\"value\":3.8811188811188813},\"line_color\":{\"type\":\"value\",\"value\":\"orangered\"},\"fill_color\":{\"type\":\"value\",\"value\":\"orangered\"}}},\"nonselection_glyph\":{\"type\":\"object\",\"name\":\"Circle\",\"id\":\"p1092\",\"attributes\":{\"x\":{\"type\":\"value\",\"value\":652.0},\"y\":{\"type\":\"value\",\"value\":2246.0},\"size\":{\"type\":\"value\",\"value\":3.8811188811188813},\"line_color\":{\"type\":\"value\",\"value\":\"orangered\"},\"line_alpha\":{\"type\":\"value\",\"value\":0.1},\"fill_color\":{\"type\":\"value\",\"value\":\"orangered\"},\"fill_alpha\":{\"type\":\"value\",\"value\":0.1},\"hatch_alpha\":{\"type\":\"value\",\"value\":0.1}}},\"muted_glyph\":{\"type\":\"object\",\"name\":\"Circle\",\"id\":\"p1093\",\"attributes\":{\"x\":{\"type\":\"value\",\"value\":652.0},\"y\":{\"type\":\"value\",\"value\":2246.0},\"size\":{\"type\":\"value\",\"value\":3.8811188811188813},\"line_color\":{\"type\":\"value\",\"value\":\"orangered\"},\"line_alpha\":{\"type\":\"value\",\"value\":0.2},\"fill_color\":{\"type\":\"value\",\"value\":\"orangered\"},\"fill_alpha\":{\"type\":\"value\",\"value\":0.2},\"hatch_alpha\":{\"type\":\"value\",\"value\":0.2}}}}}],\"toolbar\":{\"type\":\"object\",\"name\":\"Toolbar\",\"id\":\"p1043\",\"attributes\":{\"tools\":[{\"type\":\"object\",\"name\":\"PanTool\",\"id\":\"p1056\"},{\"type\":\"object\",\"name\":\"WheelZoomTool\",\"id\":\"p1057\",\"attributes\":{\"renderers\":\"auto\"}},{\"type\":\"object\",\"name\":\"BoxZoomTool\",\"id\":\"p1058\",\"attributes\":{\"overlay\":{\"type\":\"object\",\"name\":\"BoxAnnotation\",\"id\":\"p1059\",\"attributes\":{\"syncable\":false,\"level\":\"overlay\",\"visible\":false,\"left\":{\"type\":\"number\",\"value\":\"nan\"},\"right\":{\"type\":\"number\",\"value\":\"nan\"},\"top\":{\"type\":\"number\",\"value\":\"nan\"},\"bottom\":{\"type\":\"number\",\"value\":\"nan\"},\"left_units\":\"canvas\",\"right_units\":\"canvas\",\"top_units\":\"canvas\",\"bottom_units\":\"canvas\",\"line_color\":\"black\",\"line_alpha\":1.0,\"line_width\":2,\"line_dash\":[4,4],\"fill_color\":\"lightgrey\",\"fill_alpha\":0.5}}}},{\"type\":\"object\",\"name\":\"SaveTool\",\"id\":\"p1064\"},{\"type\":\"object\",\"name\":\"ResetTool\",\"id\":\"p1065\"},{\"type\":\"object\",\"name\":\"HelpTool\",\"id\":\"p1066\"}]}},\"left\":[{\"type\":\"object\",\"name\":\"LinearAxis\",\"id\":\"p1051\",\"attributes\":{\"ticker\":{\"type\":\"object\",\"name\":\"BasicTicker\",\"id\":\"p1052\",\"attributes\":{\"mantissas\":[1,2,5]}},\"formatter\":{\"type\":\"object\",\"name\":\"BasicTickFormatter\",\"id\":\"p1053\"},\"axis_label\":\"Cart Addition\",\"major_label_policy\":{\"type\":\"object\",\"name\":\"AllLabels\",\"id\":\"p1054\"}}}],\"below\":[{\"type\":\"object\",\"name\":\"LinearAxis\",\"id\":\"p1046\",\"attributes\":{\"ticker\":{\"type\":\"object\",\"name\":\"BasicTicker\",\"id\":\"p1047\",\"attributes\":{\"mantissas\":[1,2,5]}},\"formatter\":{\"type\":\"object\",\"name\":\"BasicTickFormatter\",\"id\":\"p1048\"},\"axis_label\":\"Visits\",\"major_label_policy\":{\"type\":\"object\",\"name\":\"AllLabels\",\"id\":\"p1049\"}}}],\"center\":[{\"type\":\"object\",\"name\":\"Grid\",\"id\":\"p1050\",\"attributes\":{\"axis\":{\"id\":\"p1046\"}}},{\"type\":\"object\",\"name\":\"Grid\",\"id\":\"p1055\",\"attributes\":{\"dimension\":1,\"axis\":{\"id\":\"p1051\"}}},{\"type\":\"object\",\"name\":\"Legend\",\"id\":\"p1076\",\"attributes\":{\"title\":\"Filter Names\",\"items\":[{\"type\":\"object\",\"name\":\"LegendItem\",\"id\":\"p1077\",\"attributes\":{\"label\":{\"type\":\"value\",\"value\":\"Person with cart addition but no order \"},\"renderers\":[{\"id\":\"p1073\"}]}},{\"type\":\"object\",\"name\":\"LegendItem\",\"id\":\"p1087\",\"attributes\":{\"label\":{\"type\":\"value\",\"value\":\"Person who did not order\"},\"renderers\":[{\"id\":\"p1084\"}]}},{\"type\":\"object\",\"name\":\"LegendItem\",\"id\":\"p1097\",\"attributes\":{\"label\":{\"type\":\"value\",\"value\":\"Purchasers\"},\"renderers\":[{\"id\":\"p1094\"}]}}]}}],\"background_fill_color\":\"#fafafa\"}}]}};\n",
       "  const render_items = [{\"docid\":\"c59c503a-086b-4ef9-974c-748c6c14ccc9\",\"roots\":{\"p1034\":\"f20cd947-a37f-4ed1-8053-6cb032d8ff06\"},\"root_ids\":[\"p1034\"]}];\n",
       "  root.Bokeh.embed.embed_items_notebook(docs_json, render_items);\n",
       "  }\n",
       "  if (root.Bokeh !== undefined) {\n",
       "    embed_document(root);\n",
       "  } else {\n",
       "    let attempts = 0;\n",
       "    const timer = setInterval(function(root) {\n",
       "      if (root.Bokeh !== undefined) {\n",
       "        clearInterval(timer);\n",
       "        embed_document(root);\n",
       "      } else {\n",
       "        attempts++;\n",
       "        if (attempts > 100) {\n",
       "          clearInterval(timer);\n",
       "          console.log(\"Bokeh: ERROR: Unable to run BokehJS code because BokehJS library is missing\");\n",
       "        }\n",
       "      }\n",
       "    }, 10, root)\n",
       "  }\n",
       "})(window);"
      ],
      "application/vnd.bokehjs_exec.v0+json": ""
     },
     "metadata": {
      "application/vnd.bokehjs_exec.v0+json": {
       "id": "p1034"
      }
     },
     "output_type": "display_data"
    }
   ],
   "source": [
    "for index, row in dataResult.iterrows():\n",
    "    p.circle(row[\"metrics/visits\"], row[\"metrics/cart_additions\"],size=row[\"sizeDots\"],fill_color=colors[index],line_color=colors[index],legend_label=row['FilterName'])\n",
    "p.legend.location = \"top_right\"\n",
    "p.legend.title = \"Filter Names\"\n",
    "show(p)"
   ]
  },
  {
   "cell_type": "code",
   "execution_count": null,
   "id": "117197d4",
   "metadata": {},
   "outputs": [],
   "source": []
  },
  {
   "cell_type": "code",
   "execution_count": null,
   "id": "81f87c42",
   "metadata": {},
   "outputs": [],
   "source": []
  }
 ],
 "metadata": {
  "kernelspec": {
   "display_name": "Python 3 (ipykernel)",
   "language": "python",
   "name": "python3"
  },
  "language_info": {
   "codemirror_mode": {
    "name": "ipython",
    "version": 3
   },
   "file_extension": ".py",
   "mimetype": "text/x-python",
   "name": "python",
   "nbconvert_exporter": "python",
   "pygments_lexer": "ipython3",
   "version": "3.11.4"
  },
  "toc": {
   "base_numbering": 1,
   "nav_menu": {},
   "number_sections": true,
   "sideBar": true,
   "skip_h1_title": false,
   "title_cell": "Table of Contents",
   "title_sidebar": "Contents",
   "toc_cell": true,
   "toc_position": {},
   "toc_section_display": true,
   "toc_window_display": true
  }
 },
 "nbformat": 4,
 "nbformat_minor": 5
}
