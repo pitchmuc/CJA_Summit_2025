{
 "cells": [
  {
   "cell_type": "markdown",
   "id": "e8aa1e34",
   "metadata": {
    "toc": true
   },
   "source": [
    "<h1>Table of Contents<span class=\"tocSkip\"></span></h1>\n",
    "<div class=\"toc\"><ul class=\"toc-item\"><li><span><a href=\"#Setup\" data-toc-modified-id=\"Setup-1\"><span class=\"toc-item-num\">1&nbsp;&nbsp;</span>Setup</a></span><ul class=\"toc-item\"><li><span><a href=\"#Identifying-the-data-view-to-use-for-your-reports\" data-toc-modified-id=\"Identifying-the-data-view-to-use-for-your-reports-1.1\"><span class=\"toc-item-num\">1.1&nbsp;&nbsp;</span>Identifying the data view to use for your reports</a></span></li></ul></li><li><span><a href=\"#Creating-a-request-for-a-report\" data-toc-modified-id=\"Creating-a-request-for-a-report-2\"><span class=\"toc-item-num\">2&nbsp;&nbsp;</span>Creating a request for a report</a></span></li><li><span><a href=\"#Requesting-the-data\" data-toc-modified-id=\"Requesting-the-data-3\"><span class=\"toc-item-num\">3&nbsp;&nbsp;</span>Requesting the data</a></span></li><li><span><a href=\"#Complex-data-extract\" data-toc-modified-id=\"Complex-data-extract-4\"><span class=\"toc-item-num\">4&nbsp;&nbsp;</span>Complex data extract</a></span></li></ul></div>"
   ]
  },
  {
   "cell_type": "markdown",
   "id": "33ffde45",
   "metadata": {},
   "source": [
    "Extracting data from Customer Journey Analytics is coming as a feature thanks to the CJA API.\\\n",
    "We will introduce the way to extract data in Customer Journey Analytics.\\\n",
    "Then we will apply some data analysis and data visualization that are not yet possible in CJA."
   ]
  },
  {
   "cell_type": "markdown",
   "id": "7a1ea3d7",
   "metadata": {},
   "source": [
    "importing cjapy, pandas for a start and importing the configuration file. "
   ]
  },
  {
   "cell_type": "markdown",
   "id": "440d3397",
   "metadata": {},
   "source": [
    "# Setup "
   ]
  },
  {
   "cell_type": "code",
   "execution_count": 2,
   "id": "892ea0d0",
   "metadata": {
    "ExecuteTime": {
     "end_time": "2024-12-15T14:32:32.787281Z",
     "start_time": "2024-12-15T14:32:32.783493Z"
    }
   },
   "outputs": [],
   "source": [
    "import cjapy\n",
    "import pandas as pd\n",
    "cjapy.importConfigFile('config_example.json')"
   ]
  },
  {
   "cell_type": "markdown",
   "id": "ffaffc80",
   "metadata": {},
   "source": [
    "## Identifying the data view to use for your reports"
   ]
  },
  {
   "cell_type": "markdown",
   "id": "0b894039",
   "metadata": {},
   "source": [
    "You need to know which data view to pull the data from.\\\n",
    "Basde on the data view selection, we will be able to extract data by placing a request for certain information.\\\n",
    "The possibility to create request via cjapy is simplify thanks to the `RequestCreator`"
   ]
  },
  {
   "cell_type": "code",
   "execution_count": 3,
   "id": "41c08219",
   "metadata": {
    "ExecuteTime": {
     "end_time": "2024-12-15T14:34:02.048126Z",
     "start_time": "2024-12-15T14:34:01.781605Z"
    }
   },
   "outputs": [],
   "source": [
    "cja = cjapy.CJA()"
   ]
  },
  {
   "cell_type": "markdown",
   "id": "c0f49ba9",
   "metadata": {},
   "source": [
    "Extracting the id based on the name of the dataview"
   ]
  },
  {
   "cell_type": "code",
   "execution_count": 4,
   "id": "26cf1a70",
   "metadata": {
    "ExecuteTime": {
     "end_time": "2024-12-15T14:34:30.308152Z",
     "start_time": "2024-12-15T14:34:29.884806Z"
    }
   },
   "outputs": [
    {
     "data": {
      "text/plain": [
       "'dv_62c2c7ccb373f55b9f617157'"
      ]
     },
     "execution_count": 4,
     "metadata": {},
     "output_type": "execute_result"
    }
   ],
   "source": [
    "dataviews = cja.getDataViews()\n",
    "dv_id = dataviews.at[dataviews[dataviews['name']=='Datanalyst'].index[0],'id']\n",
    "dv_id"
   ]
  },
  {
   "cell_type": "markdown",
   "id": "06cbcbe8",
   "metadata": {},
   "source": [
    "Extracting the dimensions related to that dataview: "
   ]
  },
  {
   "cell_type": "code",
   "execution_count": 5,
   "id": "db4b9af9",
   "metadata": {
    "ExecuteTime": {
     "end_time": "2024-12-15T14:34:52.294881Z",
     "start_time": "2024-12-15T14:34:51.512402Z"
    }
   },
   "outputs": [],
   "source": [
    "dimensions = cja.getDimensions(dv_id,full=True)\n",
    "metrics = cja.getMetrics(dv_id,full=True)"
   ]
  },
  {
   "cell_type": "code",
   "execution_count": 10,
   "id": "6806787d",
   "metadata": {
    "ExecuteTime": {
     "end_time": "2024-12-15T14:39:58.889307Z",
     "start_time": "2024-12-15T14:39:58.872070Z"
    }
   },
   "outputs": [
    {
     "data": {
      "text/html": [
       "<div>\n",
       "<style scoped>\n",
       "    .dataframe tbody tr th:only-of-type {\n",
       "        vertical-align: middle;\n",
       "    }\n",
       "\n",
       "    .dataframe tbody tr th {\n",
       "        vertical-align: top;\n",
       "    }\n",
       "\n",
       "    .dataframe thead th {\n",
       "        text-align: right;\n",
       "    }\n",
       "</style>\n",
       "<table border=\"1\" class=\"dataframe\">\n",
       "  <thead>\n",
       "    <tr style=\"text-align: right;\">\n",
       "      <th></th>\n",
       "      <th>id</th>\n",
       "      <th>name</th>\n",
       "      <th>description</th>\n",
       "      <th>sourceFieldId</th>\n",
       "      <th>sourceFieldName</th>\n",
       "      <th>storageId</th>\n",
       "      <th>dataSetIds</th>\n",
       "      <th>dataSetType</th>\n",
       "      <th>schemaType</th>\n",
       "      <th>sourceFieldType</th>\n",
       "      <th>...</th>\n",
       "      <th>fieldDefinition</th>\n",
       "      <th>noValueOptionsSetting</th>\n",
       "      <th>defaultDimensionSort</th>\n",
       "      <th>persistenceSetting</th>\n",
       "      <th>behaviorSetting</th>\n",
       "      <th>substringSetting</th>\n",
       "      <th>baseTableName</th>\n",
       "      <th>required</th>\n",
       "      <th>derivedFieldCompatible</th>\n",
       "      <th>labels</th>\n",
       "    </tr>\n",
       "  </thead>\n",
       "  <tbody>\n",
       "    <tr>\n",
       "      <th>8</th>\n",
       "      <td>variables/adobe_timespentpersession</td>\n",
       "      <td>Time Spent per Session</td>\n",
       "      <td>n/a</td>\n",
       "      <td>NaN</td>\n",
       "      <td>NaN</td>\n",
       "      <td>NaN</td>\n",
       "      <td>NaN</td>\n",
       "      <td>event</td>\n",
       "      <td>NaN</td>\n",
       "      <td>standard</td>\n",
       "      <td>...</td>\n",
       "      <td>NaN</td>\n",
       "      <td>{'includeNoneByDefault': False, 'noneChangeabl...</td>\n",
       "      <td>True</td>\n",
       "      <td>NaN</td>\n",
       "      <td>NaN</td>\n",
       "      <td>NaN</td>\n",
       "      <td>NaN</td>\n",
       "      <td>NaN</td>\n",
       "      <td>False</td>\n",
       "      <td>NaN</td>\n",
       "    </tr>\n",
       "    <tr>\n",
       "      <th>38</th>\n",
       "      <td>variables/timepartquarterofyear</td>\n",
       "      <td>Quarter of Year</td>\n",
       "      <td>n/a</td>\n",
       "      <td>NaN</td>\n",
       "      <td>NaN</td>\n",
       "      <td>NaN</td>\n",
       "      <td>NaN</td>\n",
       "      <td>event</td>\n",
       "      <td>NaN</td>\n",
       "      <td>standard</td>\n",
       "      <td>...</td>\n",
       "      <td>[{'func': 'raw-field', 'id': 'adobe_datetime',...</td>\n",
       "      <td>{'includeNoneByDefault': False, 'noneChangeabl...</td>\n",
       "      <td>False</td>\n",
       "      <td>NaN</td>\n",
       "      <td>NaN</td>\n",
       "      <td>NaN</td>\n",
       "      <td>hits</td>\n",
       "      <td>True</td>\n",
       "      <td>True</td>\n",
       "      <td>NaN</td>\n",
       "    </tr>\n",
       "    <tr>\n",
       "      <th>51</th>\n",
       "      <td>variables/environment.browserDetails.userAgent...</td>\n",
       "      <td>Brand</td>\n",
       "      <td>The user-agent's commercial name (e.g., cURL, ...</td>\n",
       "      <td>environment.browserDetails.userAgentClientHint...</td>\n",
       "      <td>Brand</td>\n",
       "      <td>explicitbrand|ee84cac1a0c55e121763brands</td>\n",
       "      <td>[6059fd4fc52f8819484a7c1c]</td>\n",
       "      <td>event</td>\n",
       "      <td>string</td>\n",
       "      <td>custom</td>\n",
       "      <td>...</td>\n",
       "      <td>[{'func': 'raw-field', 'id': 'environment.brow...</td>\n",
       "      <td>{'includeNoneByDefault': True, 'noneChangeable...</td>\n",
       "      <td>False</td>\n",
       "      <td>{'enabled': False}</td>\n",
       "      <td>{'lowercase': False}</td>\n",
       "      <td>{'enabled': False}</td>\n",
       "      <td>NaN</td>\n",
       "      <td>NaN</td>\n",
       "      <td>NaN</td>\n",
       "      <td>NaN</td>\n",
       "    </tr>\n",
       "    <tr>\n",
       "      <th>0</th>\n",
       "      <td>variables/placeContext.geo.countryCode</td>\n",
       "      <td>Country code</td>\n",
       "      <td>The two-character [ISO 3166-1 alpha-2](https:/...</td>\n",
       "      <td>placeContext.geo.countryCode</td>\n",
       "      <td>Country code</td>\n",
       "      <td>explicitp9f128de542059012c91a65ntrycode|hits</td>\n",
       "      <td>[6059fd4fc52f8819484a7c1c]</td>\n",
       "      <td>event</td>\n",
       "      <td>string</td>\n",
       "      <td>custom</td>\n",
       "      <td>...</td>\n",
       "      <td>[{'func': 'raw-field', 'id': 'placeContext.geo...</td>\n",
       "      <td>{'includeNoneByDefault': True, 'noneChangeable...</td>\n",
       "      <td>False</td>\n",
       "      <td>{'enabled': False}</td>\n",
       "      <td>{'lowercase': False}</td>\n",
       "      <td>{'enabled': False}</td>\n",
       "      <td>NaN</td>\n",
       "      <td>NaN</td>\n",
       "      <td>NaN</td>\n",
       "      <td>NaN</td>\n",
       "    </tr>\n",
       "  </tbody>\n",
       "</table>\n",
       "<p>4 rows × 34 columns</p>\n",
       "</div>"
      ],
      "text/plain": [
       "                                                   id                    name  \\\n",
       "8                 variables/adobe_timespentpersession  Time Spent per Session   \n",
       "38                    variables/timepartquarterofyear         Quarter of Year   \n",
       "51  variables/environment.browserDetails.userAgent...                   Brand   \n",
       "0              variables/placeContext.geo.countryCode            Country code   \n",
       "\n",
       "                                          description  \\\n",
       "8                                                 n/a   \n",
       "38                                                n/a   \n",
       "51  The user-agent's commercial name (e.g., cURL, ...   \n",
       "0   The two-character [ISO 3166-1 alpha-2](https:/...   \n",
       "\n",
       "                                        sourceFieldId sourceFieldName  \\\n",
       "8                                                 NaN             NaN   \n",
       "38                                                NaN             NaN   \n",
       "51  environment.browserDetails.userAgentClientHint...           Brand   \n",
       "0                        placeContext.geo.countryCode    Country code   \n",
       "\n",
       "                                       storageId                  dataSetIds  \\\n",
       "8                                            NaN                         NaN   \n",
       "38                                           NaN                         NaN   \n",
       "51      explicitbrand|ee84cac1a0c55e121763brands  [6059fd4fc52f8819484a7c1c]   \n",
       "0   explicitp9f128de542059012c91a65ntrycode|hits  [6059fd4fc52f8819484a7c1c]   \n",
       "\n",
       "   dataSetType schemaType sourceFieldType  ...  \\\n",
       "8        event        NaN        standard  ...   \n",
       "38       event        NaN        standard  ...   \n",
       "51       event     string          custom  ...   \n",
       "0        event     string          custom  ...   \n",
       "\n",
       "                                      fieldDefinition  \\\n",
       "8                                                 NaN   \n",
       "38  [{'func': 'raw-field', 'id': 'adobe_datetime',...   \n",
       "51  [{'func': 'raw-field', 'id': 'environment.brow...   \n",
       "0   [{'func': 'raw-field', 'id': 'placeContext.geo...   \n",
       "\n",
       "                                noValueOptionsSetting defaultDimensionSort  \\\n",
       "8   {'includeNoneByDefault': False, 'noneChangeabl...                 True   \n",
       "38  {'includeNoneByDefault': False, 'noneChangeabl...                False   \n",
       "51  {'includeNoneByDefault': True, 'noneChangeable...                False   \n",
       "0   {'includeNoneByDefault': True, 'noneChangeable...                False   \n",
       "\n",
       "    persistenceSetting       behaviorSetting    substringSetting  \\\n",
       "8                  NaN                   NaN                 NaN   \n",
       "38                 NaN                   NaN                 NaN   \n",
       "51  {'enabled': False}  {'lowercase': False}  {'enabled': False}   \n",
       "0   {'enabled': False}  {'lowercase': False}  {'enabled': False}   \n",
       "\n",
       "    baseTableName  required derivedFieldCompatible labels  \n",
       "8             NaN       NaN                  False    NaN  \n",
       "38           hits      True                   True    NaN  \n",
       "51            NaN       NaN                    NaN    NaN  \n",
       "0             NaN       NaN                    NaN    NaN  \n",
       "\n",
       "[4 rows x 34 columns]"
      ]
     },
     "execution_count": 10,
     "metadata": {},
     "output_type": "execute_result"
    }
   ],
   "source": [
    "dimensions.sample(4)"
   ]
  },
  {
   "cell_type": "code",
   "execution_count": 8,
   "id": "35f1380b",
   "metadata": {
    "ExecuteTime": {
     "end_time": "2024-12-15T14:38:37.343579Z",
     "start_time": "2024-12-15T14:38:37.327232Z"
    }
   },
   "outputs": [
    {
     "data": {
      "text/html": [
       "<div>\n",
       "<style scoped>\n",
       "    .dataframe tbody tr th:only-of-type {\n",
       "        vertical-align: middle;\n",
       "    }\n",
       "\n",
       "    .dataframe tbody tr th {\n",
       "        vertical-align: top;\n",
       "    }\n",
       "\n",
       "    .dataframe thead th {\n",
       "        text-align: right;\n",
       "    }\n",
       "</style>\n",
       "<table border=\"1\" class=\"dataframe\">\n",
       "  <thead>\n",
       "    <tr style=\"text-align: right;\">\n",
       "      <th></th>\n",
       "      <th>id</th>\n",
       "      <th>name</th>\n",
       "      <th>description</th>\n",
       "      <th>dataSetType</th>\n",
       "      <th>sourceFieldType</th>\n",
       "      <th>baseTableName</th>\n",
       "      <th>type</th>\n",
       "      <th>hideFromReporting</th>\n",
       "      <th>hasData</th>\n",
       "      <th>segmentable</th>\n",
       "      <th>...</th>\n",
       "      <th>sourceFieldName</th>\n",
       "      <th>storageId</th>\n",
       "      <th>dataSetIds</th>\n",
       "      <th>schemaType</th>\n",
       "      <th>tableName</th>\n",
       "      <th>schemaPath</th>\n",
       "      <th>multiValued</th>\n",
       "      <th>includeExcludeSetting</th>\n",
       "      <th>required</th>\n",
       "      <th>attributionSetting</th>\n",
       "    </tr>\n",
       "  </thead>\n",
       "  <tbody>\n",
       "    <tr>\n",
       "      <th>14</th>\n",
       "      <td>metrics/web.webInteraction.linkClicks.value</td>\n",
       "      <td>web.webInteraction.linkClicks.value</td>\n",
       "      <td>The quantifiable value of this measure.</td>\n",
       "      <td>event</td>\n",
       "      <td>custom</td>\n",
       "      <td>NaN</td>\n",
       "      <td>decimal</td>\n",
       "      <td>False</td>\n",
       "      <td>True</td>\n",
       "      <td>True</td>\n",
       "      <td>...</td>\n",
       "      <td>web.webInteraction.linkClicks.value</td>\n",
       "      <td>explicitw94a6416e5fd321e097a91avalue|hits</td>\n",
       "      <td>[6059fd4fc52f8819484a7c1c]</td>\n",
       "      <td>double</td>\n",
       "      <td>hits</td>\n",
       "      <td>web.webInteraction.linkClicks.value</td>\n",
       "      <td>False</td>\n",
       "      <td>{'enabled': False}</td>\n",
       "      <td>NaN</td>\n",
       "      <td>NaN</td>\n",
       "    </tr>\n",
       "    <tr>\n",
       "      <th>4</th>\n",
       "      <td>metrics/visits</td>\n",
       "      <td>Sessions</td>\n",
       "      <td>NaN</td>\n",
       "      <td>event</td>\n",
       "      <td>standard</td>\n",
       "      <td>NaN</td>\n",
       "      <td>int</td>\n",
       "      <td>NaN</td>\n",
       "      <td>True</td>\n",
       "      <td>True</td>\n",
       "      <td>...</td>\n",
       "      <td>NaN</td>\n",
       "      <td>NaN</td>\n",
       "      <td>NaN</td>\n",
       "      <td>NaN</td>\n",
       "      <td>NaN</td>\n",
       "      <td>NaN</td>\n",
       "      <td>NaN</td>\n",
       "      <td>NaN</td>\n",
       "      <td>True</td>\n",
       "      <td>NaN</td>\n",
       "    </tr>\n",
       "    <tr>\n",
       "      <th>5</th>\n",
       "      <td>metrics/placeContext.geo._schema.latitude</td>\n",
       "      <td>Latitude</td>\n",
       "      <td>The signed vertical coordinate of a geographic...</td>\n",
       "      <td>event</td>\n",
       "      <td>custom</td>\n",
       "      <td>NaN</td>\n",
       "      <td>decimal</td>\n",
       "      <td>False</td>\n",
       "      <td>True</td>\n",
       "      <td>True</td>\n",
       "      <td>...</td>\n",
       "      <td>Latitude</td>\n",
       "      <td>explicitpd83d3414456639c973e3fclatitude|hits</td>\n",
       "      <td>[6059fd4fc52f8819484a7c1c]</td>\n",
       "      <td>double</td>\n",
       "      <td>hits</td>\n",
       "      <td>placeContext.geo._schema.latitude</td>\n",
       "      <td>False</td>\n",
       "      <td>{'enabled': False}</td>\n",
       "      <td>NaN</td>\n",
       "      <td>NaN</td>\n",
       "    </tr>\n",
       "    <tr>\n",
       "      <th>7</th>\n",
       "      <td>metrics/occurrences</td>\n",
       "      <td>Events</td>\n",
       "      <td>NaN</td>\n",
       "      <td>event</td>\n",
       "      <td>standard</td>\n",
       "      <td>NaN</td>\n",
       "      <td>int</td>\n",
       "      <td>NaN</td>\n",
       "      <td>True</td>\n",
       "      <td>True</td>\n",
       "      <td>...</td>\n",
       "      <td>NaN</td>\n",
       "      <td>NaN</td>\n",
       "      <td>NaN</td>\n",
       "      <td>NaN</td>\n",
       "      <td>NaN</td>\n",
       "      <td>NaN</td>\n",
       "      <td>NaN</td>\n",
       "      <td>NaN</td>\n",
       "      <td>True</td>\n",
       "      <td>NaN</td>\n",
       "    </tr>\n",
       "  </tbody>\n",
       "</table>\n",
       "<p>4 rows × 29 columns</p>\n",
       "</div>"
      ],
      "text/plain": [
       "                                             id  \\\n",
       "14  metrics/web.webInteraction.linkClicks.value   \n",
       "4                                metrics/visits   \n",
       "5     metrics/placeContext.geo._schema.latitude   \n",
       "7                           metrics/occurrences   \n",
       "\n",
       "                                   name  \\\n",
       "14  web.webInteraction.linkClicks.value   \n",
       "4                              Sessions   \n",
       "5                              Latitude   \n",
       "7                                Events   \n",
       "\n",
       "                                          description dataSetType  \\\n",
       "14            The quantifiable value of this measure.       event   \n",
       "4                                                 NaN       event   \n",
       "5   The signed vertical coordinate of a geographic...       event   \n",
       "7                                                 NaN       event   \n",
       "\n",
       "   sourceFieldType baseTableName     type hideFromReporting  hasData  \\\n",
       "14          custom           NaN  decimal             False     True   \n",
       "4         standard           NaN      int               NaN     True   \n",
       "5           custom           NaN  decimal             False     True   \n",
       "7         standard           NaN      int               NaN     True   \n",
       "\n",
       "    segmentable  ...                      sourceFieldName  \\\n",
       "14         True  ...  web.webInteraction.linkClicks.value   \n",
       "4          True  ...                                  NaN   \n",
       "5          True  ...                             Latitude   \n",
       "7          True  ...                                  NaN   \n",
       "\n",
       "                                       storageId                  dataSetIds  \\\n",
       "14     explicitw94a6416e5fd321e097a91avalue|hits  [6059fd4fc52f8819484a7c1c]   \n",
       "4                                            NaN                         NaN   \n",
       "5   explicitpd83d3414456639c973e3fclatitude|hits  [6059fd4fc52f8819484a7c1c]   \n",
       "7                                            NaN                         NaN   \n",
       "\n",
       "   schemaType  tableName                           schemaPath multiValued  \\\n",
       "14     double       hits  web.webInteraction.linkClicks.value       False   \n",
       "4         NaN        NaN                                  NaN         NaN   \n",
       "5      double       hits    placeContext.geo._schema.latitude       False   \n",
       "7         NaN        NaN                                  NaN         NaN   \n",
       "\n",
       "   includeExcludeSetting required attributionSetting  \n",
       "14    {'enabled': False}      NaN                NaN  \n",
       "4                    NaN     True                NaN  \n",
       "5     {'enabled': False}      NaN                NaN  \n",
       "7                    NaN     True                NaN  \n",
       "\n",
       "[4 rows x 29 columns]"
      ]
     },
     "execution_count": 8,
     "metadata": {},
     "output_type": "execute_result"
    }
   ],
   "source": [
    "metrics.sample(4)"
   ]
  },
  {
   "cell_type": "markdown",
   "id": "e2a65e43",
   "metadata": {},
   "source": [
    "# Creating a request for a report"
   ]
  },
  {
   "cell_type": "markdown",
   "id": "e98f7368",
   "metadata": {},
   "source": [
    "`cjapy` provides a module named RequestCreator that simplify the creation of data request from CJA. "
   ]
  },
  {
   "cell_type": "markdown",
   "id": "2cdf714f",
   "metadata": {},
   "source": [
    "we start by instantiating a report"
   ]
  },
  {
   "cell_type": "code",
   "execution_count": 9,
   "id": "ecb54430",
   "metadata": {
    "ExecuteTime": {
     "end_time": "2024-12-15T14:39:34.801429Z",
     "start_time": "2024-12-15T14:39:34.798373Z"
    }
   },
   "outputs": [],
   "source": [
    "myReportRequest = cjapy.RequestCreator()"
   ]
  },
  {
   "cell_type": "markdown",
   "id": "fef73d59",
   "metadata": {},
   "source": [
    "I will define on my request:\n",
    "* a data view ID \n",
    "* the time frame that is being used for the report\n",
    "* the metrics that I want to extract\n",
    "* the dimension I want to extract"
   ]
  },
  {
   "cell_type": "code",
   "execution_count": 11,
   "id": "6e621d3a",
   "metadata": {
    "ExecuteTime": {
     "end_time": "2024-12-15T14:40:08.845095Z",
     "start_time": "2024-12-15T14:40:08.841736Z"
    }
   },
   "outputs": [],
   "source": [
    "myReportRequest.setDataViewId(dv_id)\n",
    "myReportRequest.setDateRange('2024-11-01','2024-11-30')\n",
    "myReportRequest.addMetric('metrics/occurrences')\n",
    "myReportRequest.addMetric('metrics/visits')\n",
    "myReportRequest.setDimension('variables/placeContext.geo.countryCode')"
   ]
  },
  {
   "cell_type": "markdown",
   "id": "353dd109",
   "metadata": {},
   "source": [
    "You can always check the definition of your request by realizing a simple request in notebook"
   ]
  },
  {
   "cell_type": "code",
   "execution_count": 12,
   "id": "2a9e6f1e",
   "metadata": {
    "ExecuteTime": {
     "end_time": "2024-12-15T14:40:35.889833Z",
     "start_time": "2024-12-15T14:40:35.885377Z"
    }
   },
   "outputs": [
    {
     "data": {
      "text/plain": [
       "{\n",
       "    \"globalFilters\": [\n",
       "        {\n",
       "            \"type\": \"dateRange\",\n",
       "            \"dateRange\": \"2024-11-01T00:00:00.000/2024-11-30T23:59:59.999\"\n",
       "        }\n",
       "    ],\n",
       "    \"metricContainer\": {\n",
       "        \"metrics\": [\n",
       "            {\n",
       "                \"columnId\": \"0\",\n",
       "                \"id\": \"metrics/occurrences\",\n",
       "                \"sort\": \"desc\"\n",
       "            },\n",
       "            {\n",
       "                \"columnId\": \"1\",\n",
       "                \"id\": \"metrics/visits\"\n",
       "            }\n",
       "        ],\n",
       "        \"metricFilters\": []\n",
       "    },\n",
       "    \"dimension\": \"variables/placeContext.geo.countryCode\",\n",
       "    \"settings\": {\n",
       "        \"countRepeatInstances\": true,\n",
       "        \"limit\": 20000,\n",
       "        \"page\": 0,\n",
       "        \"nonesBehavior\": \"exclude-nones\",\n",
       "        \"sampling\": null,\n",
       "        \"samplingUpSample\": null\n",
       "    },\n",
       "    \"statistics\": {\n",
       "        \"functions\": [\n",
       "            \"col-max\",\n",
       "            \"col-min\"\n",
       "        ]\n",
       "    },\n",
       "    \"dataId\": \"dv_62c2c7ccb373f55b9f617157\",\n",
       "    \"identityOverrides\": [],\n",
       "    \"capacityMetadata\": {\n",
       "        \"associations\": [\n",
       "            {\n",
       "                \"name\": \"applicationName\",\n",
       "                \"value\": \"cjapy Python Library\"\n",
       "            }\n",
       "        ]\n",
       "    }\n",
       "}"
      ]
     },
     "execution_count": 12,
     "metadata": {},
     "output_type": "execute_result"
    }
   ],
   "source": [
    "myReportRequest"
   ]
  },
  {
   "cell_type": "markdown",
   "id": "ae45eabd",
   "metadata": {},
   "source": [
    "or by using the `to_dict()` method"
   ]
  },
  {
   "cell_type": "code",
   "execution_count": 13,
   "id": "51c1e043",
   "metadata": {
    "ExecuteTime": {
     "end_time": "2024-12-15T14:40:54.388789Z",
     "start_time": "2024-12-15T14:40:54.383358Z"
    }
   },
   "outputs": [
    {
     "data": {
      "text/plain": [
       "{'globalFilters': [{'type': 'dateRange',\n",
       "   'dateRange': '2024-11-01T00:00:00.000/2024-11-30T23:59:59.999'}],\n",
       " 'metricContainer': {'metrics': [{'columnId': '0',\n",
       "    'id': 'metrics/occurrences',\n",
       "    'sort': 'desc'},\n",
       "   {'columnId': '1', 'id': 'metrics/visits'}],\n",
       "  'metricFilters': []},\n",
       " 'dimension': 'variables/placeContext.geo.countryCode',\n",
       " 'settings': {'countRepeatInstances': True,\n",
       "  'limit': 20000,\n",
       "  'page': 0,\n",
       "  'nonesBehavior': 'exclude-nones',\n",
       "  'sampling': None,\n",
       "  'samplingUpSample': None},\n",
       " 'statistics': {'functions': ['col-max', 'col-min']},\n",
       " 'dataId': 'dv_62c2c7ccb373f55b9f617157',\n",
       " 'identityOverrides': [],\n",
       " 'capacityMetadata': {'associations': [{'name': 'applicationName',\n",
       "    'value': 'cjapy Python Library'}]}}"
      ]
     },
     "execution_count": 13,
     "metadata": {},
     "output_type": "execute_result"
    }
   ],
   "source": [
    "myReportRequest.to_dict()"
   ]
  },
  {
   "cell_type": "markdown",
   "id": "a832f6b4",
   "metadata": {},
   "source": [
    "# Requesting the data"
   ]
  },
  {
   "cell_type": "markdown",
   "id": "773e437d",
   "metadata": {},
   "source": [
    "Once your data request is ready, you can pass the object directly on the `getReport` method.\\\n",
    "This will return a complex object that we will analyze"
   ]
  },
  {
   "cell_type": "code",
   "execution_count": 14,
   "id": "769a78d3",
   "metadata": {
    "ExecuteTime": {
     "end_time": "2024-12-15T14:46:33.600251Z",
     "start_time": "2024-12-15T14:46:30.205775Z"
    }
   },
   "outputs": [],
   "source": [
    "myreport = cja.getReport(myReportRequest)"
   ]
  },
  {
   "cell_type": "markdown",
   "id": "7f140101",
   "metadata": {},
   "source": [
    "The report will return a `Workspace` object that contains a dataframe attribute.\\\n",
    "It contains all data related to your request."
   ]
  },
  {
   "cell_type": "code",
   "execution_count": 16,
   "id": "9f36319a",
   "metadata": {
    "ExecuteTime": {
     "end_time": "2024-12-15T14:54:44.619784Z",
     "start_time": "2024-12-15T14:54:44.612069Z"
    }
   },
   "outputs": [
    {
     "data": {
      "text/html": [
       "<div>\n",
       "<style scoped>\n",
       "    .dataframe tbody tr th:only-of-type {\n",
       "        vertical-align: middle;\n",
       "    }\n",
       "\n",
       "    .dataframe tbody tr th {\n",
       "        vertical-align: top;\n",
       "    }\n",
       "\n",
       "    .dataframe thead th {\n",
       "        text-align: right;\n",
       "    }\n",
       "</style>\n",
       "<table border=\"1\" class=\"dataframe\">\n",
       "  <thead>\n",
       "    <tr style=\"text-align: right;\">\n",
       "      <th></th>\n",
       "      <th>itemId</th>\n",
       "      <th>variables/placeContext.geo.countryCode</th>\n",
       "      <th>metrics/occurrences</th>\n",
       "      <th>metrics/visits</th>\n",
       "    </tr>\n",
       "  </thead>\n",
       "  <tbody>\n",
       "    <tr>\n",
       "      <th>0</th>\n",
       "      <td>US</td>\n",
       "      <td>US</td>\n",
       "      <td>468.0</td>\n",
       "      <td>327.0</td>\n",
       "    </tr>\n",
       "    <tr>\n",
       "      <th>1</th>\n",
       "      <td>IN</td>\n",
       "      <td>IN</td>\n",
       "      <td>347.0</td>\n",
       "      <td>217.0</td>\n",
       "    </tr>\n",
       "    <tr>\n",
       "      <th>2</th>\n",
       "      <td>GB</td>\n",
       "      <td>GB</td>\n",
       "      <td>122.0</td>\n",
       "      <td>54.0</td>\n",
       "    </tr>\n",
       "    <tr>\n",
       "      <th>3</th>\n",
       "      <td>RU</td>\n",
       "      <td>RU</td>\n",
       "      <td>82.0</td>\n",
       "      <td>82.0</td>\n",
       "    </tr>\n",
       "    <tr>\n",
       "      <th>4</th>\n",
       "      <td>CA</td>\n",
       "      <td>CA</td>\n",
       "      <td>71.0</td>\n",
       "      <td>38.0</td>\n",
       "    </tr>\n",
       "  </tbody>\n",
       "</table>\n",
       "</div>"
      ],
      "text/plain": [
       "  itemId variables/placeContext.geo.countryCode metrics/occurrences  \\\n",
       "0     US                                     US               468.0   \n",
       "1     IN                                     IN               347.0   \n",
       "2     GB                                     GB               122.0   \n",
       "3     RU                                     RU                82.0   \n",
       "4     CA                                     CA                71.0   \n",
       "\n",
       "  metrics/visits  \n",
       "0          327.0  \n",
       "1          217.0  \n",
       "2           54.0  \n",
       "3           82.0  \n",
       "4           38.0  "
      ]
     },
     "execution_count": 16,
     "metadata": {},
     "output_type": "execute_result"
    }
   ],
   "source": [
    "myreport.dataframe.head()"
   ]
  },
  {
   "cell_type": "markdown",
   "id": "4eff33dd",
   "metadata": {},
   "source": [
    "You can also get the request that has been sent by using `dataRequest`"
   ]
  },
  {
   "cell_type": "code",
   "execution_count": 17,
   "id": "f48f3153",
   "metadata": {
    "ExecuteTime": {
     "end_time": "2024-12-15T14:56:05.728424Z",
     "start_time": "2024-12-15T14:56:05.724639Z"
    }
   },
   "outputs": [
    {
     "data": {
      "text/plain": [
       "{\n",
       "    \"globalFilters\": [\n",
       "        {\n",
       "            \"type\": \"dateRange\",\n",
       "            \"dateRange\": \"2024-11-01T00:00:00.000/2024-11-30T23:59:59.999\"\n",
       "        }\n",
       "    ],\n",
       "    \"metricContainer\": {\n",
       "        \"metrics\": [\n",
       "            {\n",
       "                \"columnId\": \"0\",\n",
       "                \"id\": \"metrics/occurrences\",\n",
       "                \"sort\": \"desc\"\n",
       "            },\n",
       "            {\n",
       "                \"columnId\": \"1\",\n",
       "                \"id\": \"metrics/visits\"\n",
       "            }\n",
       "        ],\n",
       "        \"metricFilters\": []\n",
       "    },\n",
       "    \"dimension\": \"variables/placeContext.geo.countryCode\",\n",
       "    \"settings\": {\n",
       "        \"countRepeatInstances\": false,\n",
       "        \"limit\": 20000,\n",
       "        \"page\": 0,\n",
       "        \"nonesBehavior\": \"exclude-nones\",\n",
       "        \"sampling\": null,\n",
       "        \"samplingUpSample\": null\n",
       "    },\n",
       "    \"statistics\": {\n",
       "        \"functions\": [\n",
       "            \"col-max\",\n",
       "            \"col-min\"\n",
       "        ],\n",
       "        \"ignoreZeroes\": false\n",
       "    },\n",
       "    \"dataId\": \"dv_62c2c7ccb373f55b9f617157\",\n",
       "    \"identityOverrides\": [],\n",
       "    \"capacityMetadata\": {\n",
       "        \"associations\": [\n",
       "            {\n",
       "                \"name\": \"applicationName\",\n",
       "                \"value\": \"cjapy Python Library\"\n",
       "            }\n",
       "        ]\n",
       "    }\n",
       "}"
      ]
     },
     "execution_count": 17,
     "metadata": {},
     "output_type": "execute_result"
    }
   ],
   "source": [
    "myreport.dataRequest"
   ]
  },
  {
   "cell_type": "markdown",
   "id": "f1b2057a",
   "metadata": {},
   "source": [
    "you can see how many pages has been requested, the `pageRequest` will return the maximum of page returned.\\\n",
    "Each page is 50 K rows"
   ]
  },
  {
   "cell_type": "code",
   "execution_count": 18,
   "id": "dfbd117c",
   "metadata": {
    "ExecuteTime": {
     "end_time": "2024-12-15T14:56:52.295910Z",
     "start_time": "2024-12-15T14:56:52.291701Z"
    }
   },
   "outputs": [
    {
     "data": {
      "text/plain": [
       "1"
      ]
     },
     "execution_count": 18,
     "metadata": {},
     "output_type": "execute_result"
    }
   ],
   "source": [
    "myreport.pageRequested"
   ]
  },
  {
   "cell_type": "markdown",
   "id": "91dd4220",
   "metadata": {},
   "source": [
    "You can get the context of the data by using either:\n",
    "* globalFilters\n",
    "* settings\n",
    "* summaryData"
   ]
  },
  {
   "cell_type": "code",
   "execution_count": 19,
   "id": "5ee81fd2",
   "metadata": {
    "ExecuteTime": {
     "end_time": "2024-12-15T14:57:56.336587Z",
     "start_time": "2024-12-15T14:57:56.332261Z"
    }
   },
   "outputs": [
    {
     "data": {
      "text/plain": [
       "[{'type': 'dateRange',\n",
       "  'dateRange': '2024-11-01T00:00:00.000/2024-11-30T23:59:59.999'}]"
      ]
     },
     "execution_count": 19,
     "metadata": {},
     "output_type": "execute_result"
    }
   ],
   "source": [
    "myreport.globalFilters"
   ]
  },
  {
   "cell_type": "code",
   "execution_count": 20,
   "id": "4d89a363",
   "metadata": {
    "ExecuteTime": {
     "end_time": "2024-12-15T14:58:15.690051Z",
     "start_time": "2024-12-15T14:58:15.685824Z"
    }
   },
   "outputs": [
    {
     "data": {
      "text/plain": [
       "{'countRepeatInstances': False,\n",
       " 'limit': 20000,\n",
       " 'page': 0,\n",
       " 'nonesBehavior': 'exclude-nones',\n",
       " 'sampling': None,\n",
       " 'samplingUpSample': None}"
      ]
     },
     "execution_count": 20,
     "metadata": {},
     "output_type": "execute_result"
    }
   ],
   "source": [
    "myreport.settings"
   ]
  },
  {
   "cell_type": "code",
   "execution_count": 21,
   "id": "a5ae8583",
   "metadata": {
    "ExecuteTime": {
     "end_time": "2024-12-15T14:58:38.477298Z",
     "start_time": "2024-12-15T14:58:38.473099Z"
    }
   },
   "outputs": [
    {
     "data": {
      "text/plain": [
       "{'filteredTotals': [1582.0, 1001.0],\n",
       " 'totals': [1612.0, 1023.0],\n",
       " 'col-max': [468.0, 327.0],\n",
       " 'col-min': [1.0, 1.0]}"
      ]
     },
     "execution_count": 21,
     "metadata": {},
     "output_type": "execute_result"
    }
   ],
   "source": [
    "myreport.summaryData"
   ]
  },
  {
   "cell_type": "markdown",
   "id": "02ce0a07",
   "metadata": {},
   "source": [
    "# Complex data extract"
   ]
  },
  {
   "cell_type": "code",
   "execution_count": null,
   "id": "d20343fb",
   "metadata": {},
   "outputs": [],
   "source": []
  }
 ],
 "metadata": {
  "kernelspec": {
   "display_name": "Python 3 (ipykernel)",
   "language": "python",
   "name": "python3"
  },
  "language_info": {
   "codemirror_mode": {
    "name": "ipython",
    "version": 3
   },
   "file_extension": ".py",
   "mimetype": "text/x-python",
   "name": "python",
   "nbconvert_exporter": "python",
   "pygments_lexer": "ipython3",
   "version": "3.11.4"
  },
  "toc": {
   "base_numbering": 1,
   "nav_menu": {},
   "number_sections": true,
   "sideBar": true,
   "skip_h1_title": false,
   "title_cell": "Table of Contents",
   "title_sidebar": "Contents",
   "toc_cell": true,
   "toc_position": {},
   "toc_section_display": true,
   "toc_window_display": true
  }
 },
 "nbformat": 4,
 "nbformat_minor": 5
}
