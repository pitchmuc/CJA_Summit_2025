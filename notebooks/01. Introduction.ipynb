{
 "cells": [
  {
   "cell_type": "markdown",
   "id": "9fbcb54b",
   "metadata": {
    "toc": true
   },
   "source": [
    "<h1>Table of Contents<span class=\"tocSkip\"></span></h1>\n",
    "<div class=\"toc\"><ul class=\"toc-item\"><li><span><a href=\"#Creating-a-developer-Project\" data-toc-modified-id=\"Creating-a-developer-Project-1\"><span class=\"toc-item-num\">1&nbsp;&nbsp;</span>Creating a developer Project</a></span><ul class=\"toc-item\"><li><span><a href=\"#CJA-API\" data-toc-modified-id=\"CJA-API-1.1\"><span class=\"toc-item-num\">1.1&nbsp;&nbsp;</span>CJA API</a></span></li><li><span><a href=\"#Adding-Product-Admin-Right\" data-toc-modified-id=\"Adding-Product-Admin-Right-1.2\"><span class=\"toc-item-num\">1.2&nbsp;&nbsp;</span>Adding Product Admin Right</a></span></li><li><span><a href=\"#Adobe-Experience-Platform-API\" data-toc-modified-id=\"Adobe-Experience-Platform-API-1.3\"><span class=\"toc-item-num\">1.3&nbsp;&nbsp;</span>Adobe Experience Platform API</a></span></li></ul></li><li><span><a href=\"#Installing-cjapy-and-aepp\" data-toc-modified-id=\"Installing-cjapy-and-aepp-2\"><span class=\"toc-item-num\">2&nbsp;&nbsp;</span>Installing cjapy and aepp</a></span><ul class=\"toc-item\"><li><span><a href=\"#Starting-a-Notebook-or-Lab\" data-toc-modified-id=\"Starting-a-Notebook-or-Lab-2.1\"><span class=\"toc-item-num\">2.1&nbsp;&nbsp;</span>Starting a Notebook or Lab</a></span></li></ul></li><li><span><a href=\"#Getting-started-with-cjapy\" data-toc-modified-id=\"Getting-started-with-cjapy-3\"><span class=\"toc-item-num\">3&nbsp;&nbsp;</span>Getting started with cjapy</a></span><ul class=\"toc-item\"><li><span><a href=\"#Instantiating-the-CJA-API-connection\" data-toc-modified-id=\"Instantiating-the-CJA-API-connection-3.1\"><span class=\"toc-item-num\">3.1&nbsp;&nbsp;</span>Instantiating the CJA API connection</a></span></li><li><span><a href=\"#Exploring-Data-Views-in-CJA\" data-toc-modified-id=\"Exploring-Data-Views-in-CJA-3.2\"><span class=\"toc-item-num\">3.2&nbsp;&nbsp;</span>Exploring Data Views in CJA</a></span></li></ul></li></ul></div>"
   ]
  },
  {
   "cell_type": "code",
   "execution_count": null,
   "id": "e8560838",
   "metadata": {
    "ExecuteTime": {
     "end_time": "2024-12-15T09:44:22.324037Z",
     "start_time": "2024-12-15T09:44:22.308053Z"
    }
   },
   "outputs": [],
   "source": [
    "from IPython.display import Image ## Use to display the image\n",
    "import json ## use later to demonstrate some files"
   ]
  },
  {
   "cell_type": "markdown",
   "id": "805d2e26",
   "metadata": {},
   "source": [
    "This notebook intends to help familiarizing yourself with the cjapy working elements and the way you can connect to the CJA API and request all sort of data using the different endpoints.\\\n",
    "\n",
    "Some terminology needed to go forward:\n",
    "* CJA API : The CJA API provide endpoints (URL) associated with certain method type (ex : GET, POST, DELETE) to retrieve data out of a system. In this case: Customer Journey Analytics. \n",
    "* cjapy : An open source python module that is wrapping and simplifying access to these API endpoints. It also standardize the response and help by processing some elements. Ex: Returning a pandas dataframe out of request. \n",
    "* class : A class is an programming entity that can create multiple children of itself (not always). In cjapy, the CJA class can generate more than one instance of itself when call. \n",
    "* Methods : Once you have instantiated a class, you have access to the methods that this class possess. "
   ]
  },
  {
   "cell_type": "markdown",
   "id": "c36c037f",
   "metadata": {},
   "source": [
    "# Creating a developer Project"
   ]
  },
  {
   "cell_type": "markdown",
   "id": "3eaa807a",
   "metadata": {},
   "source": [
    "This part is purely documentary because everything has been realized before this lab.\\\n",
    "It is used to show you what needs to be done on your own Organization"
   ]
  },
  {
   "cell_type": "markdown",
   "id": "bd4231a1",
   "metadata": {},
   "source": [
    "You will need to head to the Developer Home: <https://developer.adobe.com/console/>"
   ]
  },
  {
   "cell_type": "markdown",
   "id": "83636da2",
   "metadata": {},
   "source": [
    "Once in there, select the `Project` tab and Create a new `Empty project`"
   ]
  },
  {
   "cell_type": "code",
   "execution_count": null,
   "id": "80cac0f2",
   "metadata": {
    "ExecuteTime": {
     "end_time": "2024-12-15T09:44:22.943497Z",
     "start_time": "2024-12-15T09:44:22.934724Z"
    }
   },
   "outputs": [],
   "source": [
    "Image(filename=\"developer-home.png\")"
   ]
  },
  {
   "cell_type": "code",
   "execution_count": null,
   "id": "074693fb",
   "metadata": {
    "ExecuteTime": {
     "end_time": "2024-12-15T09:44:24.251953Z",
     "start_time": "2024-12-15T09:44:24.244971Z"
    }
   },
   "outputs": [],
   "source": [
    "Image(filename=\"developer-createProject.png\")"
   ]
  },
  {
   "cell_type": "markdown",
   "id": "7d1bbb32",
   "metadata": {},
   "source": [
    "A project will create a new technical user, this user will need to be connected to some APIs and we need to give him some permissions. "
   ]
  },
  {
   "cell_type": "markdown",
   "id": "aa0b8ad1",
   "metadata": {},
   "source": [
    "## CJA API"
   ]
  },
  {
   "cell_type": "markdown",
   "id": "75f6eb46",
   "metadata": {},
   "source": [
    "The first API we want to connect is to Customer Journey Analytics API.\\\n",
    "For that to happen, you will need to `add an API` to your new empty project.\\\n",
    "<span style=\"color:blue\">Note</span> that there is an EDIT button where you can change the name of your project, mine is now called `Adobe Summit 2025`"
   ]
  },
  {
   "cell_type": "code",
   "execution_count": null,
   "id": "865521c5",
   "metadata": {
    "ExecuteTime": {
     "end_time": "2024-12-15T09:44:26.556057Z",
     "start_time": "2024-12-15T09:44:26.530340Z"
    }
   },
   "outputs": [],
   "source": [
    "Image(filename=\"developer-addAPI.png\")"
   ]
  },
  {
   "cell_type": "markdown",
   "id": "1f9df21a",
   "metadata": {},
   "source": [
    "In our case, we will select the Customer Journey Analytics API.\\\n",
    "<span style=\"color:blue\">Note</span> that the API is integrated in the `Experience Cloud Component`."
   ]
  },
  {
   "cell_type": "code",
   "execution_count": null,
   "id": "ab1c59e8",
   "metadata": {
    "ExecuteTime": {
     "end_time": "2024-12-15T09:44:27.568722Z",
     "start_time": "2024-12-15T09:44:27.560744Z"
    }
   },
   "outputs": [],
   "source": [
    "Image(filename=\"developer-addAPI-CJA.png\")"
   ]
  },
  {
   "cell_type": "markdown",
   "id": "a8932eb6",
   "metadata": {},
   "source": [
    "Once you have added this API, you will need to choose your authentication method.\\\n",
    "The default and supported authentication is the \"Oauth v2\", so please select it.\\\n",
    "Also <span style=\"color:blue\">provide a name</span> or remember the one suggested to your credential, it will be used later for permission."
   ]
  },
  {
   "cell_type": "code",
   "execution_count": null,
   "id": "7f52358b",
   "metadata": {
    "ExecuteTime": {
     "end_time": "2024-12-15T09:44:28.791216Z",
     "start_time": "2024-12-15T09:44:28.784247Z"
    }
   },
   "outputs": [],
   "source": [
    "Image(filename=\"developer-addAPI-authentication.png\")"
   ]
  },
  {
   "cell_type": "markdown",
   "id": "1a90be2f",
   "metadata": {},
   "source": [
    "Once you have selected your authentication method, you can then add the Product Profiles.\\\n",
    "The product profiles provide the permission to use CJA.\\\n",
    "It will give the possibility such or such capabilities. It is important that you are aligning on the permission needed for your API with your Product Administrator.\\\n",
    "You can refer to this article from Bian Au on which permissions are necessary: [Adobe Experience Platform Crash Course for Adobe Customer Journey Analytics Product Administrators](https://experienceleaguecommunities.adobe.com/t5/adobe-analytics-blogs/adobe-experience-platform-crash-course-for-adobe-customer/ba-p/710707)"
   ]
  },
  {
   "cell_type": "code",
   "execution_count": null,
   "id": "ec740224",
   "metadata": {
    "ExecuteTime": {
     "end_time": "2024-12-15T09:44:29.704572Z",
     "start_time": "2024-12-15T09:44:29.697685Z"
    }
   },
   "outputs": [],
   "source": [
    "Image(filename=\"developer-addAPI-permissions.png\")"
   ]
  },
  {
   "cell_type": "markdown",
   "id": "5be99be7",
   "metadata": {},
   "source": [
    "Once this setup has been established you can view your API in the left rail."
   ]
  },
  {
   "cell_type": "code",
   "execution_count": null,
   "id": "a6f30a0c",
   "metadata": {
    "ExecuteTime": {
     "end_time": "2024-12-15T09:44:30.668542Z",
     "start_time": "2024-12-15T09:44:30.660991Z"
    }
   },
   "outputs": [],
   "source": [
    "Image(filename=\"developer-addAPI-cja-overview.png\")"
   ]
  },
  {
   "cell_type": "markdown",
   "id": "3e7aad5b",
   "metadata": {},
   "source": [
    "## Adding Product Admin Right"
   ]
  },
  {
   "cell_type": "markdown",
   "id": "a6aeb7e1",
   "metadata": {},
   "source": [
    "As explained at the beginning of the notebook, adding a new project is adding a new technical user.\\\n",
    "The technical user information can be seen when clicking on the `Oauth Server-to-Server` element.\\\n",
    "In order to provide Product Admin right for that API credential, you can take The technical Account Email and add it to the Product Admin section of your Product, Customer Journey Analytics in that example."
   ]
  },
  {
   "cell_type": "code",
   "execution_count": null,
   "id": "915cfe38",
   "metadata": {
    "ExecuteTime": {
     "end_time": "2024-12-15T09:44:32.463937Z",
     "start_time": "2024-12-15T09:44:32.455326Z"
    }
   },
   "outputs": [],
   "source": [
    "Image(filename=\"developer-addAPI-CJA-credential.png\")"
   ]
  },
  {
   "cell_type": "markdown",
   "id": "b760208b",
   "metadata": {},
   "source": [
    "The addition of the credential to the Product Admin section of the Admin Section needs to be review with your Product Administrator."
   ]
  },
  {
   "cell_type": "code",
   "execution_count": null,
   "id": "a4d308de",
   "metadata": {
    "ExecuteTime": {
     "end_time": "2024-12-15T09:44:33.513929Z",
     "start_time": "2024-12-15T09:44:33.505866Z"
    }
   },
   "outputs": [],
   "source": [
    "Image(filename=\"CJA-product-admin.png\")"
   ]
  },
  {
   "cell_type": "markdown",
   "id": "474233ca",
   "metadata": {},
   "source": [
    "## Adobe Experience Platform API"
   ]
  },
  {
   "cell_type": "markdown",
   "id": "62b939b5",
   "metadata": {},
   "source": [
    "As you may be aware or if you have just read Brian article, we will need to add AEP API as well to have a complete view of the system in CJA.\\\n",
    "We will also need to have additional permission than the one used in Brian article in order to ingest data later.\\\n",
    "We will do that in the next following steps."
   ]
  },
  {
   "cell_type": "markdown",
   "id": "699ab6ed",
   "metadata": {},
   "source": [
    "The process is the same as you will need to add an API **to the same project**, and this time you will just need to add the AEP API in the offer selection."
   ]
  },
  {
   "cell_type": "code",
   "execution_count": null,
   "id": "9bab2536",
   "metadata": {
    "ExecuteTime": {
     "end_time": "2024-12-15T09:44:35.459360Z",
     "start_time": "2024-12-15T09:44:35.450922Z"
    }
   },
   "outputs": [],
   "source": [
    "Image(filename=\"developer-addAPI-AEP.png\")"
   ]
  },
  {
   "cell_type": "markdown",
   "id": "f41c7202",
   "metadata": {},
   "source": [
    "However, when coming to the Product Profile, you will need to just add a single Product Profile: `AEP-default-All-Users`\\\n",
    "The reason is that the permission for AEP is handled in a different interface and not with Product Profile but with roles."
   ]
  },
  {
   "cell_type": "code",
   "execution_count": null,
   "id": "c92e10ac",
   "metadata": {
    "ExecuteTime": {
     "end_time": "2024-12-15T09:44:36.822981Z",
     "start_time": "2024-12-15T09:44:36.817835Z"
    }
   },
   "outputs": [],
   "source": [
    "Image(filename=\"developer-addAPI-AEP-product-profile.png\")"
   ]
  },
  {
   "cell_type": "markdown",
   "id": "d04610b9",
   "metadata": {},
   "source": [
    "For the remaining of the section, only System Administrator can manage permissions of the APIs in Adobe Experience Platform interface.\\\n",
    "In case, you are not a system administrator, you will need to get the help of one to continue this configuration.\\"
   ]
  },
  {
   "cell_type": "markdown",
   "id": "e3e7d9cb",
   "metadata": {},
   "source": [
    "A System Administrator will get the following view on the permissions table.\\\n",
    "(S)He will need to select the `API credential` element to find the project you have created.\\\n",
    "The name you will be able to find is the one defined at the moment of the Oauth selection, in my case: `Summit 2025` "
   ]
  },
  {
   "cell_type": "code",
   "execution_count": null,
   "id": "3757296b",
   "metadata": {
    "ExecuteTime": {
     "end_time": "2024-12-15T09:44:37.898769Z",
     "start_time": "2024-12-15T09:44:37.891790Z"
    }
   },
   "outputs": [],
   "source": [
    "Image(filename=\"developer-addAPI-AEP-permissions1.png\")"
   ]
  },
  {
   "cell_type": "markdown",
   "id": "a5d05dc6",
   "metadata": {},
   "source": [
    "Once this element has been selected, roles can be assigned to this Technical User the same way than you can do it for regular users. "
   ]
  },
  {
   "cell_type": "code",
   "execution_count": null,
   "id": "73d07372",
   "metadata": {
    "ExecuteTime": {
     "end_time": "2024-12-15T09:44:38.924056Z",
     "start_time": "2024-12-15T09:44:38.916840Z"
    }
   },
   "outputs": [],
   "source": [
    "Image(filename=\"developer-addAPI-AEP-permissions2.png\")"
   ]
  },
  {
   "cell_type": "markdown",
   "id": "91e496c9",
   "metadata": {},
   "source": [
    "In order to cover the whole excercies that we are going to realize in these notebooks, you will need access to the following elements:\n",
    "* Schema\n",
    "* Dataset\n",
    "* Data Ingestion"
   ]
  },
  {
   "cell_type": "markdown",
   "id": "6feb857c",
   "metadata": {},
   "source": [
    "# Installing cjapy and aepp"
   ]
  },
  {
   "cell_type": "markdown",
   "id": "9315dd41",
   "metadata": {},
   "source": [
    "This part will cover on how to start with cjapy and aepp module on your machine.\\\n",
    "Note: We will realize these operation on a windows machine, for the Mac users, some similar method exists and are also documented on the internet. It is related to install packages in your machine.\\\n",
    "**Prerequisite**: "
   ]
  },
  {
   "cell_type": "markdown",
   "id": "e4152ea6",
   "metadata": {},
   "source": [
    "On this repository, you will find a list of required module to install on your machine."
   ]
  },
  {
   "cell_type": "code",
   "execution_count": null,
   "id": "d9a59ce0",
   "metadata": {
    "ExecuteTime": {
     "end_time": "2024-12-15T09:44:41.853316Z",
     "start_time": "2024-12-15T09:44:41.845477Z"
    }
   },
   "outputs": [],
   "source": [
    "import pathlib\n",
    "with open(pathlib.Path('../requirements.txt'), 'r') as f:\n",
    "    for line in f:\n",
    "        print(line.strip())"
   ]
  },
  {
   "cell_type": "markdown",
   "id": "38754069",
   "metadata": {},
   "source": [
    "This file can be directly executed this file in your command line via this command:\\\n",
    "`pip install -r requirements.txt --user`\\\n",
    "**Note** : be sure to execute this command line once your command line is located in your folder where the `requirements.txt` file is located."
   ]
  },
  {
   "cell_type": "markdown",
   "id": "0a2af20c",
   "metadata": {},
   "source": [
    "## Starting a Notebook or Lab"
   ]
  },
  {
   "cell_type": "markdown",
   "id": "9d3ab64b",
   "metadata": {},
   "source": [
    "Once everything has been installed and you have everything available on your path environment, you can start calling a `Jupyter notebook` or `Jupyter lab` in your terminal.\\\n",
    "\n",
    "We recommend to realize this step in a <span style=\"color:blue\">dedicated folder</span> so everything that is used as input or for output is grouped."
   ]
  },
  {
   "cell_type": "code",
   "execution_count": null,
   "id": "e6dd0d61",
   "metadata": {
    "ExecuteTime": {
     "end_time": "2024-12-15T09:44:45.253975Z",
     "start_time": "2024-12-15T09:44:45.248507Z"
    }
   },
   "outputs": [],
   "source": [
    "Image(filename=\"jupyter_notebook.png\")"
   ]
  },
  {
   "cell_type": "code",
   "execution_count": null,
   "id": "054a84d2",
   "metadata": {
    "ExecuteTime": {
     "end_time": "2024-12-15T09:44:46.040386Z",
     "start_time": "2024-12-15T09:44:46.034973Z"
    }
   },
   "outputs": [],
   "source": [
    "Image(filename=\"jupyter_lab.png\")"
   ]
  },
  {
   "cell_type": "markdown",
   "id": "0ef56844",
   "metadata": {},
   "source": [
    "# Getting started with cjapy"
   ]
  },
  {
   "cell_type": "markdown",
   "id": "c06d1e70",
   "metadata": {
    "ExecuteTime": {
     "end_time": "2024-10-19T12:59:48.929042Z",
     "start_time": "2024-10-19T12:59:48.923729Z"
    }
   },
   "source": [
    "For querying the CJA Reporting API, we utilize the `cjapy` library and once you have loaded it you can create a config file and provide the following element to that config file.\n",
    "\n",
    "Ensure you have a `python_config.json` file prepared with the following credentials:\n",
    "- `org_id`: Your Adobe Org ID.\n",
    "- `client_id`: The client ID provided by Adobe.\n",
    "- `secret`: Your client secret.\n",
    "- `scopes`: The scopes of your API.\n",
    "\n",
    "The credential can be found on your project, in the Oauth section"
   ]
  },
  {
   "cell_type": "markdown",
   "id": "ecd78ce3",
   "metadata": {},
   "source": [
    "Code example"
   ]
  },
  {
   "cell_type": "code",
   "execution_count": null,
   "id": "e2950d88",
   "metadata": {
    "ExecuteTime": {
     "end_time": "2025-02-14T15:36:46.081027Z",
     "start_time": "2025-02-14T15:36:45.539231Z"
    }
   },
   "outputs": [],
   "source": [
    "import cjapy\n",
    "# cjapy.createConfigFile('myconfig.json')"
   ]
  },
  {
   "cell_type": "markdown",
   "id": "5ca1dc86",
   "metadata": {},
   "source": [
    "Once you have created a notebook and your configuration is setup, you can import it directly in this notebook."
   ]
  },
  {
   "cell_type": "code",
   "execution_count": null,
   "id": "9811d5f6",
   "metadata": {
    "ExecuteTime": {
     "end_time": "2025-02-14T15:36:47.500523Z",
     "start_time": "2025-02-14T15:36:47.496778Z"
    }
   },
   "outputs": [],
   "source": [
    "cjapy.importConfigFile('myconfig.json')"
   ]
  },
  {
   "cell_type": "markdown",
   "id": "b4bdc5a9",
   "metadata": {},
   "source": [
    "## Instantiating the CJA API connection"
   ]
  },
  {
   "cell_type": "markdown",
   "id": "74d3303c",
   "metadata": {},
   "source": [
    "Once the module has been imported, and the config file, you can instantiate a connection to the CJA API.\\\n",
    "This will generate a token and keep it live. "
   ]
  },
  {
   "cell_type": "code",
   "execution_count": null,
   "id": "35c9789f",
   "metadata": {
    "ExecuteTime": {
     "end_time": "2025-02-14T15:36:50.833034Z",
     "start_time": "2025-02-14T15:36:50.607458Z"
    }
   },
   "outputs": [],
   "source": [
    "# Instantiate cjapy\n",
    "cja = cjapy.CJA()"
   ]
  },
  {
   "cell_type": "markdown",
   "id": "9c02afb1",
   "metadata": {},
   "source": [
    "## Exploring Data Views in CJA\n",
    "\n",
    "Once our credentials are set, the next logical step is to identify the Data Views available to us in Customer Journey Analytics (CJA). Data Views are essentially lenses through which we can examine our collected data, each configured with specific dimensions and metrics to suit various analysis needs."
   ]
  },
  {
   "cell_type": "code",
   "execution_count": null,
   "id": "d005ecc6",
   "metadata": {
    "ExecuteTime": {
     "end_time": "2025-02-14T15:37:09.708451Z",
     "start_time": "2025-02-14T15:37:09.139063Z"
    }
   },
   "outputs": [],
   "source": [
    "# Retrieve a list of all available Data Views\n",
    "data_views = cja.getDataViews()\n",
    "\n",
    "# Print each Data View's name and ID for easy identification\n",
    "print(\"Available Data Views:\")\n",
    "data_views[['name','id']]"
   ]
  },
  {
   "cell_type": "markdown",
   "id": "a1d1fc87",
   "metadata": {},
   "source": [
    "Selecting a specific data view"
   ]
  },
  {
   "cell_type": "code",
   "execution_count": null,
   "id": "83379222",
   "metadata": {
    "ExecuteTime": {
     "end_time": "2025-02-14T15:37:17.856513Z",
     "start_time": "2025-02-14T15:37:17.850274Z"
    }
   },
   "outputs": [],
   "source": [
    "data_views.at[data_views[data_views['name']=='Adobe Store - Prod (CJA Lab L123 Adobe Summit 2025)'].index[0],'id']"
   ]
  }
 ],
 "metadata": {
  "kernelspec": {
   "display_name": "cja-lab-2025",
   "language": "python",
   "name": "python3"
  },
  "language_info": {
   "codemirror_mode": {
    "name": "ipython",
    "version": 3
   },
   "file_extension": ".py",
   "mimetype": "text/x-python",
   "name": "python",
   "nbconvert_exporter": "python",
   "pygments_lexer": "ipython3",
   "version": "3.11.7"
  },
  "toc": {
   "base_numbering": 1,
   "nav_menu": {},
   "number_sections": true,
   "sideBar": true,
   "skip_h1_title": false,
   "title_cell": "Table of Contents",
   "title_sidebar": "Contents",
   "toc_cell": true,
   "toc_position": {},
   "toc_section_display": true,
   "toc_window_display": true
  }
 },
 "nbformat": 4,
 "nbformat_minor": 5
}
