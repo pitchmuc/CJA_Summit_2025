{
 "cells": [
  {
   "cell_type": "markdown",
   "id": "c924bc39",
   "metadata": {
    "toc": true
   },
   "source": [
    "<h1>Table of Contents<span class=\"tocSkip\"></span></h1>\n",
    "<div class=\"toc\"><ul class=\"toc-item\"><li><span><a href=\"#Setup\" data-toc-modified-id=\"Setup-1\"><span class=\"toc-item-num\">1&nbsp;&nbsp;</span>Setup</a></span></li><li><span><a href=\"#Load-the-data\" data-toc-modified-id=\"Load-the-data-2\"><span class=\"toc-item-num\">2&nbsp;&nbsp;</span>Load the data</a></span></li><li><span><a href=\"#Create-the-Schema-and-dataset\" data-toc-modified-id=\"Create-the-Schema-and-dataset-3\"><span class=\"toc-item-num\">3&nbsp;&nbsp;</span>Create the Schema and dataset</a></span><ul class=\"toc-item\"><li><span><a href=\"#Field-Group-Creation\" data-toc-modified-id=\"Field-Group-Creation-3.1\"><span class=\"toc-item-num\">3.1&nbsp;&nbsp;</span>Field Group Creation</a></span></li><li><span><a href=\"#Schema-creation\" data-toc-modified-id=\"Schema-creation-3.2\"><span class=\"toc-item-num\">3.2&nbsp;&nbsp;</span>Schema creation</a></span></li><li><span><a href=\"#Change-the-Schema-Timezone-reference.\" data-toc-modified-id=\"Change-the-Schema-Timezone-reference.-3.3\"><span class=\"toc-item-num\">3.3&nbsp;&nbsp;</span>Change the Schema Timezone reference.</a></span></li><li><span><a href=\"#Dataset-Creation\" data-toc-modified-id=\"Dataset-Creation-3.4\"><span class=\"toc-item-num\">3.4&nbsp;&nbsp;</span>Dataset Creation</a></span></li></ul></li><li><span><a href=\"#Prepare-for-AEP-data-Ingestion\" data-toc-modified-id=\"Prepare-for-AEP-data-Ingestion-4\"><span class=\"toc-item-num\">4&nbsp;&nbsp;</span>Prepare for AEP data Ingestion</a></span></li><li><span><a href=\"#Data-Ingestion\" data-toc-modified-id=\"Data-Ingestion-5\"><span class=\"toc-item-num\">5&nbsp;&nbsp;</span>Data Ingestion</a></span></li><li><span><a href=\"#CJA-Connection-and-DataView\" data-toc-modified-id=\"CJA-Connection-and-DataView-6\"><span class=\"toc-item-num\">6&nbsp;&nbsp;</span>CJA Connection and DataView</a></span></li></ul></div>"
   ]
  },
  {
   "cell_type": "markdown",
   "id": "0f1a69c4",
   "metadata": {},
   "source": [
    "In this notebook, we will use the power of aepp to load the data in the AEP data lake and then use that data in CJA as summary data.\\\n",
    "Due to time constraint, the data has been pre-loaded in CJA for this lab."
   ]
  },
  {
   "cell_type": "markdown",
   "id": "00b74974",
   "metadata": {},
   "source": [
    "# Setup"
   ]
  },
  {
   "cell_type": "code",
   "execution_count": 1,
   "id": "9f060ac2",
   "metadata": {
    "ExecuteTime": {
     "end_time": "2025-02-14T18:58:19.512978Z",
     "start_time": "2025-02-14T18:58:18.967614Z"
    }
   },
   "outputs": [],
   "source": [
    "import aepp\n",
    "import pandas as pd\n",
    "from datetime import datetime\n",
    "import uuid, json"
   ]
  },
  {
   "cell_type": "markdown",
   "id": "c8334166",
   "metadata": {},
   "source": [
    "# Load the data"
   ]
  },
  {
   "cell_type": "markdown",
   "id": "93ed3b3c",
   "metadata": {},
   "source": [
    "From the previous notebook, we have created a file name `'prediction_orders.2024.2025.csv'`.\\\n",
    "We will load the data associated with this file using pandas and change some elements in order to better represent the information we will want to load into AEP. "
   ]
  },
  {
   "cell_type": "code",
   "execution_count": null,
   "id": "cbfa1e1d",
   "metadata": {
    "ExecuteTime": {
     "end_time": "2025-02-13T17:07:03.885108Z",
     "start_time": "2025-02-13T17:07:03.878718Z"
    }
   },
   "outputs": [],
   "source": [
    "df = pd.read_csv('prediction_orders.2024.2025.csv',sep=';')"
   ]
  },
  {
   "cell_type": "code",
   "execution_count": null,
   "id": "808c331f",
   "metadata": {
    "ExecuteTime": {
     "end_time": "2025-02-13T17:07:05.809596Z",
     "start_time": "2025-02-13T17:07:05.802588Z"
    }
   },
   "outputs": [],
   "source": [
    "df['Orders'].max()"
   ]
  },
  {
   "cell_type": "markdown",
   "id": "2a9e72ff",
   "metadata": {},
   "source": [
    "We want the order to be sent as Integer and not float, as there is no half order in real life."
   ]
  },
  {
   "cell_type": "code",
   "execution_count": null,
   "id": "d42d1a56",
   "metadata": {
    "ExecuteTime": {
     "end_time": "2025-02-13T17:07:19.209234Z",
     "start_time": "2025-02-13T17:07:19.204252Z"
    }
   },
   "outputs": [],
   "source": [
    "df['Orders'] = df['Orders'].astype(int)"
   ]
  },
  {
   "cell_type": "code",
   "execution_count": null,
   "id": "54f5f00c",
   "metadata": {
    "ExecuteTime": {
     "end_time": "2025-02-13T17:07:19.944307Z",
     "start_time": "2025-02-13T17:07:19.934241Z"
    }
   },
   "outputs": [],
   "source": [
    "df.head()"
   ]
  },
  {
   "cell_type": "markdown",
   "id": "78eaa3e1",
   "metadata": {},
   "source": [
    "# Create the Schema and dataset"
   ]
  },
  {
   "cell_type": "markdown",
   "id": "3f239bc5",
   "metadata": {},
   "source": [
    "We will connect to AEP API via `aepp` in order to create the different element needed to load the data in AEP."
   ]
  },
  {
   "cell_type": "code",
   "execution_count": 2,
   "id": "10bb51f2",
   "metadata": {
    "ExecuteTime": {
     "end_time": "2025-02-14T18:58:23.419536Z",
     "start_time": "2025-02-14T18:58:23.415715Z"
    }
   },
   "outputs": [],
   "source": [
    "prod = aepp.importConfigFile('myconfig.json',sandbox='bighouse',connectInstance=True)"
   ]
  },
  {
   "cell_type": "markdown",
   "id": "37211a53",
   "metadata": {},
   "source": [
    "From aepp, we will need to use the following modules:\n",
    "* fieldgroupmanager : To easily create a field group with the different field names\n",
    "* schemamanager : To easily create a schema\n",
    "* catalog : To create a dataset to load the data into.\n",
    "* ingestion : To create the batch to load the into the dataset.\n",
    "* som : To easily create the objects that we want to load via the ingestion module."
   ]
  },
  {
   "cell_type": "code",
   "execution_count": 3,
   "id": "34582ebe",
   "metadata": {
    "ExecuteTime": {
     "end_time": "2025-02-14T18:58:24.591584Z",
     "start_time": "2025-02-14T18:58:24.581006Z"
    }
   },
   "outputs": [],
   "source": [
    "from aepp import ingestion, catalog, schemamanager, fieldgroupmanager, som"
   ]
  },
  {
   "cell_type": "markdown",
   "id": "c464b194",
   "metadata": {},
   "source": [
    "## Field Group Creation"
   ]
  },
  {
   "cell_type": "markdown",
   "id": "600f51a1",
   "metadata": {},
   "source": [
    "A field group is a definition of different fields that are usually combine together in a business related view.\\\n",
    "Most of the time, the users are creating the field groups via the UI but in our example, we don't want to be pull away from our notebook, so we will use the power of aepp to generate the fields in the new field group to load the data.\\\n",
    "Field Groups are always associated to a class in order to limit their footprint, in our case, we will use the class defining the  summary metrics"
   ]
  },
  {
   "cell_type": "code",
   "execution_count": 4,
   "id": "2416d60b",
   "metadata": {
    "ExecuteTime": {
     "end_time": "2025-02-14T18:58:27.411857Z",
     "start_time": "2025-02-14T18:58:26.420232Z"
    }
   },
   "outputs": [],
   "source": [
    "predictionFieldGroup = fieldgroupmanager.FieldGroupManager(title='prediction',fg_class=['https://ns.adobe.com/xdm/classes/summarymetrics'],config=prod)"
   ]
  },
  {
   "cell_type": "markdown",
   "id": "2c8578f0",
   "metadata": {},
   "source": [
    "Checking the current representation"
   ]
  },
  {
   "cell_type": "code",
   "execution_count": 5,
   "id": "c01558ee",
   "metadata": {
    "ExecuteTime": {
     "end_time": "2025-02-14T18:58:29.541745Z",
     "start_time": "2025-02-14T18:58:29.535897Z"
    }
   },
   "outputs": [
    {
     "data": {
      "text/plain": [
       "{'_acxpevangelist': {}}"
      ]
     },
     "execution_count": 5,
     "metadata": {},
     "output_type": "execute_result"
    }
   ],
   "source": [
    "predictionFieldGroup.to_dict()"
   ]
  },
  {
   "cell_type": "markdown",
   "id": "eb564dd1",
   "metadata": {},
   "source": [
    "We will create a node, called `prediction` and we will add the number of orders predicted in that node as an integer (`predictedOrders`) "
   ]
  },
  {
   "cell_type": "code",
   "execution_count": 6,
   "id": "b52b5688",
   "metadata": {
    "ExecuteTime": {
     "end_time": "2025-02-14T18:58:30.755915Z",
     "start_time": "2025-02-14T18:58:30.750770Z"
    }
   },
   "outputs": [
    {
     "data": {
      "text/plain": [
       "{'title': 'prediction',\n",
       " 'meta:resourceType': 'mixins',\n",
       " 'description': 'powered by aepp',\n",
       " 'type': 'object',\n",
       " 'definitions': {'customFields': {'type': 'object',\n",
       "   'properties': {'_acxpevangelist': {'properties': {'prediction': {'type': 'object',\n",
       "       'title': 'prediction',\n",
       "       'description': '',\n",
       "       'properties': {'predictedOrders': {'type': 'integer'}}}},\n",
       "     'type': 'object'}}},\n",
       "  'property': {'type': 'object',\n",
       "   'properties': {'_acxpevangelist': {'properties': {}, 'type': 'object'}}}},\n",
       " 'allOf': [{'$ref': '#/definitions/customFields', 'type': 'object'},\n",
       "  {'$ref': '#/definitions/property', 'type': 'object'}],\n",
       " 'meta:intendedToExtend': ['https://ns.adobe.com/xdm/classes/summarymetrics'],\n",
       " 'meta:containerId': 'tenant',\n",
       " 'meta:tenantNamespace': '_acxpevangelist'}"
      ]
     },
     "execution_count": 6,
     "metadata": {},
     "output_type": "execute_result"
    }
   ],
   "source": [
    "predictionFieldGroup.addField('_acxpevangelist.prediction',dataType='object',objectComponents={'predictedOrders':'integer'})"
   ]
  },
  {
   "cell_type": "markdown",
   "id": "3692c534",
   "metadata": {},
   "source": [
    "You can see the result of the element being added to the Field Group.\\\n",
    "Below a more visual representation:"
   ]
  },
  {
   "cell_type": "code",
   "execution_count": 7,
   "id": "bf85094a",
   "metadata": {
    "ExecuteTime": {
     "end_time": "2025-02-14T18:58:33.317098Z",
     "start_time": "2025-02-14T18:58:33.313056Z"
    }
   },
   "outputs": [
    {
     "data": {
      "text/plain": [
       "{'_acxpevangelist': {'prediction': {'predictedOrders': 'integer'}}}"
      ]
     },
     "execution_count": 7,
     "metadata": {},
     "output_type": "execute_result"
    }
   ],
   "source": [
    "predictionFieldGroup.to_dict()"
   ]
  },
  {
   "cell_type": "markdown",
   "id": "44f53ad7",
   "metadata": {},
   "source": [
    "In order to create that field group, we can just use the `createFieldGroup` method"
   ]
  },
  {
   "cell_type": "code",
   "execution_count": 12,
   "id": "acfe6b93",
   "metadata": {
    "ExecuteTime": {
     "end_time": "2025-02-11T19:28:53.866068Z",
     "start_time": "2025-02-11T19:28:52.370852Z"
    }
   },
   "outputs": [
    {
     "data": {
      "text/plain": [
       "{'$id': 'https://ns.adobe.com/acxpevangelist/mixins/a457146466ee18ccc1f109d8a128ae163d3560948a8fca1c',\n",
       " 'meta:altId': '_acxpevangelist.mixins.a457146466ee18ccc1f109d8a128ae163d3560948a8fca1c',\n",
       " 'meta:resourceType': 'mixins',\n",
       " 'version': '1.0',\n",
       " 'title': 'prediction',\n",
       " 'type': 'object',\n",
       " 'description': 'powered by aepp',\n",
       " 'definitions': {'customFields': {'type': 'object',\n",
       "   'properties': {'_acxpevangelist': {'properties': {'prediction': {'type': 'object',\n",
       "       'title': 'prediction',\n",
       "       'description': '',\n",
       "       'properties': {'predictedOrders': {'type': 'integer',\n",
       "         'minimum': -2147483648,\n",
       "         'maximum': 2147483647,\n",
       "         'meta:xdmType': 'int'}},\n",
       "       'meta:xdmType': 'object'}},\n",
       "     'type': 'object',\n",
       "     'meta:xdmType': 'object'}},\n",
       "   'meta:xdmType': 'object'},\n",
       "  'property': {'type': 'object',\n",
       "   'properties': {'_acxpevangelist': {'properties': {},\n",
       "     'type': 'object',\n",
       "     'meta:xdmType': 'object'}},\n",
       "   'meta:xdmType': 'object'}},\n",
       " 'allOf': [{'$ref': '#/definitions/customFields',\n",
       "   'type': 'object',\n",
       "   'meta:xdmType': 'object'},\n",
       "  {'$ref': '#/definitions/property',\n",
       "   'type': 'object',\n",
       "   'meta:xdmType': 'object'}],\n",
       " 'refs': [],\n",
       " 'imsOrg': 'D0F83C645C5E1CC60A495CB3@AdobeOrg',\n",
       " 'meta:extensible': True,\n",
       " 'meta:abstract': True,\n",
       " 'meta:intendedToExtend': ['https://ns.adobe.com/xdm/classes/summarymetrics'],\n",
       " 'meta:xdmType': 'object',\n",
       " 'meta:registryMetadata': {'repo:createdDate': 1739302133751,\n",
       "  'repo:lastModifiedDate': 1739302133751,\n",
       "  'xdm:createdClientId': 'fbb6f6a5024e45d08b5f346a3c9a540b',\n",
       "  'xdm:lastModifiedClientId': 'fbb6f6a5024e45d08b5f346a3c9a540b',\n",
       "  'xdm:createdUserId': '231A1E846763328F0A495FB7@techacct.adobe.com',\n",
       "  'xdm:lastModifiedUserId': '231A1E846763328F0A495FB7@techacct.adobe.com',\n",
       "  'eTag': '890fdc8406250a5e26eeaac175f206309330a32c9614ff054480440a4355780c',\n",
       "  'meta:globalLibVersion': '1.56.2'},\n",
       " 'meta:containerId': '1f7f1c02-b926-432b-bf1c-02b926a32bc2',\n",
       " 'meta:sandboxId': '1f7f1c02-b926-432b-bf1c-02b926a32bc2',\n",
       " 'meta:sandboxType': 'production',\n",
       " 'meta:tenantNamespace': '_acxpevangelist'}"
      ]
     },
     "execution_count": 12,
     "metadata": {},
     "output_type": "execute_result"
    }
   ],
   "source": [
    "predictionFieldGroup.createFieldGroup()"
   ]
  },
  {
   "cell_type": "markdown",
   "id": "807922c5",
   "metadata": {},
   "source": [
    "## Schema creation"
   ]
  },
  {
   "cell_type": "markdown",
   "id": "8c2aa9a5",
   "metadata": {},
   "source": [
    "A schema is composed of a class and field groups.\\\n",
    "We will use the Field Group created before to create the schema.\\\n",
    "The class used will be the `'https://ns.adobe.com/xdm/classes/summarymetrics'` class that represent the summary data. "
   ]
  },
  {
   "cell_type": "code",
   "execution_count": 8,
   "id": "1b4e6849",
   "metadata": {
    "ExecuteTime": {
     "end_time": "2025-02-14T18:58:38.487452Z",
     "start_time": "2025-02-14T18:58:36.229263Z"
    }
   },
   "outputs": [],
   "source": [
    "cjaSummaryPrediction = schemamanager.SchemaManager(title='AdobeStore Predictions',schemaClass='https://ns.adobe.com/xdm/classes/summarymetrics',config=prod)"
   ]
  },
  {
   "cell_type": "markdown",
   "id": "1532f053",
   "metadata": {},
   "source": [
    "We simply needs to add the field group previously created to that schema"
   ]
  },
  {
   "cell_type": "code",
   "execution_count": 9,
   "id": "03c66adc",
   "metadata": {
    "ExecuteTime": {
     "end_time": "2025-02-14T18:58:40.345610Z",
     "start_time": "2025-02-14T18:58:38.487452Z"
    }
   },
   "outputs": [
    {
     "data": {
      "text/plain": [
       "{\n",
       "  \"$id\": \"https://ns.adobe.com/acxpevangelist/mixins/a457146466ee18ccc1f109d8a128ae163d3560948a8fca1c\",\n",
       "  \"meta:altId\": \"_acxpevangelist.mixins.a457146466ee18ccc1f109d8a128ae163d3560948a8fca1c\",\n",
       "  \"meta:resourceType\": \"mixins\",\n",
       "  \"version\": \"1.0\",\n",
       "  \"title\": \"prediction\",\n",
       "  \"type\": \"object\",\n",
       "  \"description\": \"powered by aepp\",\n",
       "  \"definitions\": {\n",
       "    \"customFields\": {\n",
       "      \"type\": \"object\",\n",
       "      \"properties\": {\n",
       "        \"_acxpevangelist\": {\n",
       "          \"properties\": {\n",
       "            \"prediction\": {\n",
       "              \"type\": \"object\",\n",
       "              \"title\": \"prediction\",\n",
       "              \"description\": \"\",\n",
       "              \"properties\": {\n",
       "                \"predictedOrders\": {\n",
       "                  \"type\": \"integer\",\n",
       "                  \"minimum\": -2147483648,\n",
       "                  \"maximum\": 2147483647,\n",
       "                  \"meta:xdmType\": \"int\"\n",
       "                }\n",
       "              },\n",
       "              \"meta:xdmType\": \"object\"\n",
       "            }\n",
       "          },\n",
       "          \"type\": \"object\",\n",
       "          \"meta:xdmType\": \"object\"\n",
       "        }\n",
       "      },\n",
       "      \"meta:xdmType\": \"object\"\n",
       "    },\n",
       "    \"property\": {\n",
       "      \"type\": \"object\",\n",
       "      \"properties\": {\n",
       "        \"_acxpevangelist\": {\n",
       "          \"properties\": {},\n",
       "          \"type\": \"object\",\n",
       "          \"meta:xdmType\": \"object\"\n",
       "        }\n",
       "      },\n",
       "      \"meta:xdmType\": \"object\"\n",
       "    }\n",
       "  },\n",
       "  \"allOf\": [\n",
       "    {\n",
       "      \"$ref\": \"#/definitions/customFields\",\n",
       "      \"type\": \"object\",\n",
       "      \"meta:xdmType\": \"object\"\n",
       "    },\n",
       "    {\n",
       "      \"$ref\": \"#/definitions/property\",\n",
       "      \"type\": \"object\",\n",
       "      \"meta:xdmType\": \"object\"\n",
       "    }\n",
       "  ],\n",
       "  \"imsOrg\": \"D0F83C645C5E1CC60A495CB3@AdobeOrg\",\n",
       "  \"meta:extensible\": true,\n",
       "  \"meta:abstract\": true,\n",
       "  \"meta:intendedToExtend\": [\n",
       "    \"https://ns.adobe.com/xdm/classes/summarymetrics\"\n",
       "  ],\n",
       "  \"meta:xdmType\": \"object\",\n",
       "  \"meta:registryMetadata\": {\n",
       "    \"repo:createdDate\": 1739302133751,\n",
       "    \"repo:lastModifiedDate\": 1739302133751,\n",
       "    \"xdm:createdClientId\": \"fbb6f6a5024e45d08b5f346a3c9a540b\",\n",
       "    \"xdm:lastModifiedClientId\": \"fbb6f6a5024e45d08b5f346a3c9a540b\",\n",
       "    \"xdm:createdUserId\": \"231A1E846763328F0A495FB7@techacct.adobe.com\",\n",
       "    \"xdm:lastModifiedUserId\": \"231A1E846763328F0A495FB7@techacct.adobe.com\",\n",
       "    \"eTag\": \"3bc3e8c545255fc8a1f5f7731c10d1c877680dc2e678c130bf88a51c793397cc\",\n",
       "    \"meta:globalLibVersion\": \"1.57.1\"\n",
       "  },\n",
       "  \"meta:containerId\": \"1f7f1c02-b926-432b-bf1c-02b926a32bc2\",\n",
       "  \"meta:sandboxId\": \"1f7f1c02-b926-432b-bf1c-02b926a32bc2\",\n",
       "  \"meta:sandboxType\": \"production\",\n",
       "  \"meta:tenantNamespace\": \"_acxpevangelist\",\n",
       "  \"meta:allFieldAccess\": true\n",
       "}"
      ]
     },
     "execution_count": 9,
     "metadata": {},
     "output_type": "execute_result"
    }
   ],
   "source": [
    "cjaSummaryPrediction.addFieldGroup('https://ns.adobe.com/acxpevangelist/mixins/a457146466ee18ccc1f109d8a128ae163d3560948a8fca1c')"
   ]
  },
  {
   "cell_type": "markdown",
   "id": "8d54a67a",
   "metadata": {},
   "source": [
    "We can verify that the schema is looking as expected via the `to_dict()` method."
   ]
  },
  {
   "cell_type": "code",
   "execution_count": 10,
   "id": "d2462b64",
   "metadata": {
    "ExecuteTime": {
     "end_time": "2025-02-14T18:58:40.351296Z",
     "start_time": "2025-02-14T18:58:40.347297Z"
    }
   },
   "outputs": [
    {
     "data": {
      "text/plain": [
       "{'_id': 'string',\n",
       " 'eventType': 'string',\n",
       " 'timestamp': 'string',\n",
       " '_acxpevangelist': {'prediction': {'predictedOrders': 'integer'}}}"
      ]
     },
     "execution_count": 10,
     "metadata": {},
     "output_type": "execute_result"
    }
   ],
   "source": [
    "cjaSummaryPrediction.to_dict()"
   ]
  },
  {
   "cell_type": "markdown",
   "id": "b119ec7f",
   "metadata": {},
   "source": [
    "We can then directly create the schema from this `SchemaManager` class."
   ]
  },
  {
   "cell_type": "code",
   "execution_count": 16,
   "id": "0db54c0c",
   "metadata": {
    "ExecuteTime": {
     "end_time": "2025-02-11T19:30:50.564528Z",
     "start_time": "2025-02-11T19:30:49.034806Z"
    }
   },
   "outputs": [
    {
     "data": {
      "text/plain": [
       "{'$id': 'https://ns.adobe.com/acxpevangelist/schemas/1d8f0ad11daa2fece55a19b76283272d0cf6980205103332',\n",
       " 'meta:altId': '_acxpevangelist.schemas.1d8f0ad11daa2fece55a19b76283272d0cf6980205103332',\n",
       " 'meta:resourceType': 'schemas',\n",
       " 'version': '1.0',\n",
       " 'title': 'AdobeStore Predictions',\n",
       " 'type': 'object',\n",
       " 'description': 'powered by aepp',\n",
       " 'allOf': [{'$ref': 'https://ns.adobe.com/xdm/classes/summarymetrics',\n",
       "   'type': 'object',\n",
       "   'meta:xdmType': 'object'},\n",
       "  {'$ref': 'https://ns.adobe.com/acxpevangelist/mixins/a457146466ee18ccc1f109d8a128ae163d3560948a8fca1c',\n",
       "   'type': 'object',\n",
       "   'meta:xdmType': 'object'}],\n",
       " 'refs': ['https://ns.adobe.com/acxpevangelist/mixins/a457146466ee18ccc1f109d8a128ae163d3560948a8fca1c',\n",
       "  'https://ns.adobe.com/xdm/classes/summarymetrics'],\n",
       " 'required': ['xdm:timestamp'],\n",
       " 'imsOrg': 'D0F83C645C5E1CC60A495CB3@AdobeOrg',\n",
       " 'additionalInfo': {'numberOfIdentities': 0,\n",
       "  'numberOfRelationShips': 0,\n",
       "  'classTitle': 'XDM Summary Metrics',\n",
       "  'hasRelationShip': False,\n",
       "  'profileEnabled': False},\n",
       " 'meta:extensible': False,\n",
       " 'meta:abstract': False,\n",
       " 'meta:extends': ['https://ns.adobe.com/acxpevangelist/mixins/a457146466ee18ccc1f109d8a128ae163d3560948a8fca1c',\n",
       "  'https://ns.adobe.com/xdm/data/time-series',\n",
       "  'https://ns.adobe.com/xdm/classes/summarymetrics'],\n",
       " 'meta:xdmType': 'object',\n",
       " 'meta:registryMetadata': {'repo:createdDate': 1739302250466,\n",
       "  'repo:lastModifiedDate': 1739302250466,\n",
       "  'xdm:createdClientId': 'fbb6f6a5024e45d08b5f346a3c9a540b',\n",
       "  'xdm:lastModifiedClientId': 'fbb6f6a5024e45d08b5f346a3c9a540b',\n",
       "  'xdm:createdUserId': '231A1E846763328F0A495FB7@techacct.adobe.com',\n",
       "  'xdm:lastModifiedUserId': '231A1E846763328F0A495FB7@techacct.adobe.com',\n",
       "  'eTag': '42b91fb000528d0dd0af549a8e32e0373a2c2d7b8783b1c72eb8d5821d318711',\n",
       "  'meta:globalLibVersion': '1.56.2'},\n",
       " 'meta:class': 'https://ns.adobe.com/xdm/classes/summarymetrics',\n",
       " 'meta:containerId': '1f7f1c02-b926-432b-bf1c-02b926a32bc2',\n",
       " 'meta:sandboxId': '1f7f1c02-b926-432b-bf1c-02b926a32bc2',\n",
       " 'meta:sandboxType': 'production',\n",
       " 'meta:tenantNamespace': '_acxpevangelist'}"
      ]
     },
     "execution_count": 16,
     "metadata": {},
     "output_type": "execute_result"
    }
   ],
   "source": [
    "cjaSummaryPrediction.createSchema()"
   ]
  },
  {
   "cell_type": "markdown",
   "id": "23608a6b",
   "metadata": {},
   "source": [
    "## Change the Schema Timezone reference."
   ]
  },
  {
   "cell_type": "markdown",
   "id": "d5b3ac7f",
   "metadata": {},
   "source": [
    "By default, the timezone associated with your data in the `SummaryData` class will be based of UTC timezone.\\\n",
    "However, you may have your Data View setup with a different timezone.\\\n",
    "In that case, you will need to do an operation with the AEP API on the schema.\\\n",
    "This is where `aepp` and the `schemamanager` module and `SchemaManager` class come handy.\\\n",
    "We will use the modules to create a `descriptor`, which is then attached the schema itself.\\\n",
    "A descriptor is a meta data information that is attached to a schema. "
   ]
  },
  {
   "cell_type": "markdown",
   "id": "4704fcab",
   "metadata": {},
   "source": [
    "In the next cells, we will take the ID of the schema to instantiate a new SchemaManager class, however, you could directly do this operation after the creation of the schema itself."
   ]
  },
  {
   "cell_type": "code",
   "execution_count": 11,
   "id": "5128e31f",
   "metadata": {
    "ExecuteTime": {
     "end_time": "2025-02-14T18:58:45.894500Z",
     "start_time": "2025-02-14T18:58:41.173822Z"
    }
   },
   "outputs": [],
   "source": [
    "cjaSummaryPrediction = schemamanager.SchemaManager('https://ns.adobe.com/acxpevangelist/schemas/1d8f0ad11daa2fece55a19b76283272d0cf6980205103332',config=prod)"
   ]
  },
  {
   "cell_type": "markdown",
   "id": "023f659c",
   "metadata": {},
   "source": [
    "You can check which descriptor exist by using the `DESCRIPTOR_TYPES` attributes.\\\n",
    "The one we are interested in is `'xdm:descriptorTimeSeriesGranularity'`"
   ]
  },
  {
   "cell_type": "code",
   "execution_count": 12,
   "id": "06c98a97",
   "metadata": {
    "ExecuteTime": {
     "end_time": "2025-02-14T18:58:45.902230Z",
     "start_time": "2025-02-14T18:58:45.894500Z"
    }
   },
   "outputs": [
    {
     "data": {
      "text/plain": [
       "['xdm:descriptorIdentity',\n",
       " 'xdm:alternateDisplayInfo',\n",
       " 'xdm:descriptorOneToOne',\n",
       " 'xdm:descriptorReferenceIdentity',\n",
       " 'xdm:descriptorDeprecated',\n",
       " 'xdm:descriptorTimeSeriesGranularity']"
      ]
     },
     "execution_count": 12,
     "metadata": {},
     "output_type": "execute_result"
    }
   ],
   "source": [
    "cjaSummaryPrediction.DESCRIPTOR_TYPES"
   ]
  },
  {
   "cell_type": "code",
   "execution_count": 13,
   "id": "0c991b5b",
   "metadata": {
    "ExecuteTime": {
     "end_time": "2025-02-14T18:58:46.763355Z",
     "start_time": "2025-02-14T18:58:46.759881Z"
    }
   },
   "outputs": [],
   "source": [
    "mydescriptor = cjaSummaryPrediction.createDescriptorOperation('xdm:descriptorTimeSeriesGranularity',timezone='America/Los_Angeles',granularity='day')"
   ]
  },
  {
   "cell_type": "code",
   "execution_count": 14,
   "id": "d84055bd",
   "metadata": {
    "ExecuteTime": {
     "end_time": "2025-02-14T18:58:51.610200Z",
     "start_time": "2025-02-14T18:58:51.606351Z"
    }
   },
   "outputs": [
    {
     "data": {
      "text/plain": [
       "{'@type': 'xdm:descriptorTimeSeriesGranularity',\n",
       " 'xdm:sourceSchema': 'https://ns.adobe.com/acxpevangelist/schemas/1d8f0ad11daa2fece55a19b76283272d0cf6980205103332',\n",
       " 'xdm:sourceVersion': 1,\n",
       " 'xdm:granularity': 'day',\n",
       " 'xdm:ianaTimezone': 'America/Los_Angeles'}"
      ]
     },
     "execution_count": 14,
     "metadata": {},
     "output_type": "execute_result"
    }
   ],
   "source": [
    "mydescriptor"
   ]
  },
  {
   "cell_type": "markdown",
   "id": "1bc54255",
   "metadata": {},
   "source": [
    "You can then use that new definition store in that variable to add this descriptor to the schema. "
   ]
  },
  {
   "cell_type": "code",
   "execution_count": 15,
   "id": "00729e1d",
   "metadata": {
    "ExecuteTime": {
     "end_time": "2025-02-14T19:02:52.143036Z",
     "start_time": "2025-02-14T19:02:51.320976Z"
    }
   },
   "outputs": [
    {
     "data": {
      "text/plain": [
       "{'@id': '183214a37781aaf0833cca3a04903e684c2caa81b1138c39',\n",
       " '@type': 'xdm:descriptorTimeSeriesGranularity',\n",
       " 'xdm:sourceSchema': 'https://ns.adobe.com/acxpevangelist/schemas/1d8f0ad11daa2fece55a19b76283272d0cf6980205103332',\n",
       " 'xdm:sourceVersion': 1,\n",
       " 'imsOrg': 'D0F83C645C5E1CC60A495CB3@AdobeOrg',\n",
       " 'version': '1',\n",
       " 'xdm:granularity': 'day',\n",
       " 'xdm:ianaTimezone': 'America/Los_Angeles',\n",
       " 'meta:containerId': '1f7f1c02-b926-432b-bf1c-02b926a32bc2',\n",
       " 'meta:sandboxId': '1f7f1c02-b926-432b-bf1c-02b926a32bc2',\n",
       " 'meta:sandboxType': 'production'}"
      ]
     },
     "execution_count": 15,
     "metadata": {},
     "output_type": "execute_result"
    }
   ],
   "source": [
    "cjaSummaryPrediction.createDescriptor(mydescriptor)"
   ]
  },
  {
   "cell_type": "markdown",
   "id": "ab29c419",
   "metadata": {},
   "source": [
    "## Dataset Creation"
   ]
  },
  {
   "cell_type": "markdown",
   "id": "d8b81833",
   "metadata": {},
   "source": [
    "Once you have create the schema, you can then create a dataset directly.\\\n",
    "As usual, this task can be done directly via the UI.\\\n",
    "In our notebook, we will keep going to use the API to keep our flow going."
   ]
  },
  {
   "cell_type": "markdown",
   "id": "d1756ea8",
   "metadata": {},
   "source": [
    "The dataset can be created via the Catalog API, that is part of the `catalog` module."
   ]
  },
  {
   "cell_type": "code",
   "execution_count": 16,
   "id": "e2976527",
   "metadata": {
    "ExecuteTime": {
     "end_time": "2025-02-14T19:03:02.063948Z",
     "start_time": "2025-02-14T19:03:01.787094Z"
    }
   },
   "outputs": [],
   "source": [
    "cat = catalog.Catalog(config=prod)"
   ]
  },
  {
   "cell_type": "markdown",
   "id": "09b7fbb7",
   "metadata": {},
   "source": [
    "To create a dataset, you can use the parameterize version of the method in order to simplify your task."
   ]
  },
  {
   "cell_type": "code",
   "execution_count": 18,
   "id": "558913f2",
   "metadata": {
    "ExecuteTime": {
     "end_time": "2025-02-11T19:35:29.479268Z",
     "start_time": "2025-02-11T19:35:26.771356Z"
    }
   },
   "outputs": [
    {
     "data": {
      "text/plain": [
       "['@/dataSets/67aba67f109a4f2aee087796']"
      ]
     },
     "execution_count": 18,
     "metadata": {},
     "output_type": "execute_result"
    }
   ],
   "source": [
    "cat.createDataSets(name='Summary Data - CJA Summit 2025 lab123',\n",
    "                   schemaId='https://ns.adobe.com/acxpevangelist/schemas/1d8f0ad11daa2fece55a19b76283272d0cf6980205103332')"
   ]
  },
  {
   "cell_type": "markdown",
   "id": "1180d75a",
   "metadata": {},
   "source": [
    "You can save that dataset ID, as it will be useful for the future on data ingestion "
   ]
  },
  {
   "cell_type": "code",
   "execution_count": 17,
   "id": "820f069e",
   "metadata": {
    "ExecuteTime": {
     "end_time": "2025-02-14T19:03:06.115083Z",
     "start_time": "2025-02-14T19:03:06.111967Z"
    }
   },
   "outputs": [],
   "source": [
    "datasetId = '67aba67f109a4f2aee087796'"
   ]
  },
  {
   "cell_type": "markdown",
   "id": "c0c32bde",
   "metadata": {},
   "source": [
    "# Prepare for AEP data Ingestion"
   ]
  },
  {
   "cell_type": "markdown",
   "id": "d96a9511",
   "metadata": {},
   "source": [
    "With the data that has been loaded previously from your csv, you can go through the different rows and load the data in the different payload you would like to have.\\\n",
    "Our organization is `_acxpevangelist` and we can use it at the start before creating the different payload when reading the data.\\\n",
    "The `Som` class is an easy way to build complex data structure without caring of nested struct."
   ]
  },
  {
   "cell_type": "code",
   "execution_count": null,
   "id": "40b54a16",
   "metadata": {
    "ExecuteTime": {
     "end_time": "2025-02-13T17:08:38.367617Z",
     "start_time": "2025-02-13T17:08:38.330950Z"
    }
   },
   "outputs": [],
   "source": [
    "dataToLoad = [] ## the complete payload that will have all the different dates\n",
    "for index, row in df.iterrows():\n",
    "    mysom = som.Som() ## initatiate with the Som\n",
    "    date = datetime.fromisoformat(row['Date']) ## reading the date\n",
    "    timestamp = date.replace(hour=6).timestamp() ## setting the timestamp \n",
    "    mysom.assign('_id',str(uuid.uuid4())) ## setting a uuid\n",
    "    mysom.assign('timestamp',int(timestamp*1000)) ## setting the timestamp in milliseconds\n",
    "    mysom.assign('eventType','predictionData')\n",
    "    mysom.assign('_acxpevangelist.prediction.predictedOrders',row['Orders'])\n",
    "    dataToLoad.append(mysom.to_dict())"
   ]
  },
  {
   "cell_type": "markdown",
   "id": "fe4b2199",
   "metadata": {},
   "source": [
    "Verifying the data"
   ]
  },
  {
   "cell_type": "code",
   "execution_count": null,
   "id": "9fcd020f",
   "metadata": {
    "ExecuteTime": {
     "end_time": "2025-02-13T17:08:42.442783Z",
     "start_time": "2025-02-13T17:08:42.437719Z"
    }
   },
   "outputs": [],
   "source": [
    "dataToLoad[:5]"
   ]
  },
  {
   "cell_type": "markdown",
   "id": "aacc5824",
   "metadata": {},
   "source": [
    "Verifying the timestamp with `time` module for the first iteration:"
   ]
  },
  {
   "cell_type": "code",
   "execution_count": null,
   "id": "35fd99a3",
   "metadata": {
    "ExecuteTime": {
     "end_time": "2025-02-13T17:08:58.767732Z",
     "start_time": "2025-02-13T17:08:58.760506Z"
    }
   },
   "outputs": [],
   "source": [
    "import time\n",
    "print(time.ctime(1735707600000/1000)) ## only support seconds\n",
    "print(time.ctime(1736053200000/1000)) ## only support seconds"
   ]
  },
  {
   "cell_type": "markdown",
   "id": "ca75a3da",
   "metadata": {},
   "source": [
    "You can then save the data in a JSON format if you wish to send it via different form (directly in the UI or via Source)."
   ]
  },
  {
   "cell_type": "code",
   "execution_count": null,
   "id": "5f357a9e",
   "metadata": {
    "ExecuteTime": {
     "end_time": "2025-02-11T12:35:26.062872Z",
     "start_time": "2025-02-11T12:35:26.036024Z"
    }
   },
   "outputs": [],
   "source": [
    "with open('predicted_data.json','w') as f:\n",
    "    json.dump(dataToLoad,f,indent=2)"
   ]
  },
  {
   "cell_type": "markdown",
   "id": "b718cd6c",
   "metadata": {},
   "source": [
    "# Data Ingestion"
   ]
  },
  {
   "cell_type": "markdown",
   "id": "34c733e9",
   "metadata": {},
   "source": [
    "As usual, we will use the Notebook to complete our test by ingesting the data into AEP.\\\n",
    "We will use the `ingestion` module and directly load a small batch to AEP via the notebook."
   ]
  },
  {
   "cell_type": "code",
   "execution_count": 13,
   "id": "47660124",
   "metadata": {
    "ExecuteTime": {
     "end_time": "2025-02-13T17:09:42.377652Z",
     "start_time": "2025-02-13T17:09:42.110781Z"
    }
   },
   "outputs": [],
   "source": [
    "dataIngestion = ingestion.DataIngestion(config=prod)"
   ]
  },
  {
   "cell_type": "markdown",
   "id": "1984de97",
   "metadata": {},
   "source": [
    "The process to load data via a batch in AEP is in 3 steps:\n",
    "1. Create a Batch to receive data\n",
    "2. Load the data in the batch (using the Batch ID created in the first operation)\n",
    "3. Finish the batch by sending the `COMPLETE` operation."
   ]
  },
  {
   "cell_type": "code",
   "execution_count": 15,
   "id": "66c53cb9",
   "metadata": {
    "ExecuteTime": {
     "end_time": "2025-02-13T17:10:25.248833Z",
     "start_time": "2025-02-13T17:10:23.718759Z"
    }
   },
   "outputs": [],
   "source": [
    "mybatch = dataIngestion.createBatch(datasetId=datasetId,format=\"json\",multiline=True)"
   ]
  },
  {
   "cell_type": "code",
   "execution_count": 16,
   "id": "cf6cf1fe",
   "metadata": {
    "ExecuteTime": {
     "end_time": "2025-02-13T17:10:25.822479Z",
     "start_time": "2025-02-13T17:10:25.817986Z"
    }
   },
   "outputs": [
    {
     "data": {
      "text/plain": [
       "{'id': '01JM04MH5QAEJQK4Q83EH1TS68',\n",
       " 'imsOrg': 'D0F83C645C5E1CC60A495CB3@AdobeOrg',\n",
       " 'updated': 1739466622372,\n",
       " 'status': 'loading',\n",
       " 'created': 1739466622372,\n",
       " 'relatedObjects': [{'type': 'dataSet', 'id': '67aba67f109a4f2aee087796'}],\n",
       " 'version': '1.0.0',\n",
       " 'tags': {'acp_stagePath': ['acp_foundation_push/stage/01JM04MH5QAEJQK4Q83EH1TS68'],\n",
       "  'acp_requestType': ['user'],\n",
       "  'acp_dataSetViewId': ['67aba681109a4f2aee087798'],\n",
       "  'acp_type': ['ingest'],\n",
       "  'acp_producer': ['fbb6f6a5024e45d08b5f346a3c9a540b',\n",
       "   'aep/siphon/bi/uploadMode::']},\n",
       " 'createdUser': '231A1E846763328F0A495FB7@techacct.adobe.com',\n",
       " 'updatedUser': '231A1E846763328F0A495FB7@techacct.adobe.com',\n",
       " 'externalId': '01JM04MH5QAEJQK4Q83EH1TS68',\n",
       " 'createdClient': 'acp_foundation_push',\n",
       " 'inputFormat': {'format': 'json', 'isMultiLineJson': True}}"
      ]
     },
     "execution_count": 16,
     "metadata": {},
     "output_type": "execute_result"
    }
   ],
   "source": [
    "mybatch"
   ]
  },
  {
   "cell_type": "code",
   "execution_count": 17,
   "id": "62da6d37",
   "metadata": {
    "ExecuteTime": {
     "end_time": "2025-02-13T17:10:41.124504Z",
     "start_time": "2025-02-13T17:10:39.775618Z"
    }
   },
   "outputs": [
    {
     "data": {
      "text/plain": [
       "{}"
      ]
     },
     "execution_count": 17,
     "metadata": {},
     "output_type": "execute_result"
    }
   ],
   "source": [
    "res = dataIngestion.uploadSmallFile(batchId=mybatch['id'],datasetId=datasetId,filePath='data.prediction.json',data=dataToLoad)\n",
    "res"
   ]
  },
  {
   "cell_type": "markdown",
   "id": "9f4d8209",
   "metadata": {},
   "source": [
    "No error are returned, we can close the batch"
   ]
  },
  {
   "cell_type": "code",
   "execution_count": 18,
   "id": "776d9d3e",
   "metadata": {
    "ExecuteTime": {
     "end_time": "2025-02-13T17:10:48.687232Z",
     "start_time": "2025-02-13T17:10:47.403048Z"
    }
   },
   "outputs": [
    {
     "data": {
      "text/plain": [
       "{}"
      ]
     },
     "execution_count": 18,
     "metadata": {},
     "output_type": "execute_result"
    }
   ],
   "source": [
    "dataIngestion.uploadSmallFileFinish(batchId=mybatch['id'])"
   ]
  },
  {
   "cell_type": "markdown",
   "id": "ef4c4e34",
   "metadata": {},
   "source": [
    "Once your batch is ingested, you can also monitor its status via the Catalog API.\\\n",
    "It will turn as `success` if everything is fine."
   ]
  },
  {
   "cell_type": "code",
   "execution_count": 21,
   "id": "9e1eec3f",
   "metadata": {
    "ExecuteTime": {
     "end_time": "2025-02-13T17:11:12.537304Z",
     "start_time": "2025-02-13T17:11:11.761662Z"
    }
   },
   "outputs": [
    {
     "data": {
      "text/plain": [
       "{'01JM04MH5QAEJQK4Q83EH1TS68': {'status': 'staging',\n",
       "  'tags': {'acp_stagePath': ['acp_foundation_push/stage/01JM04MH5QAEJQK4Q83EH1TS68'],\n",
       "   'acp_sloPolicyName': ['live10Mb'],\n",
       "   'acp_workflow': ['ValveWorkflow'],\n",
       "   'acp_requestType': ['user'],\n",
       "   'acp_latencyTargetInMillis': ['300000'],\n",
       "   'acp_dataSetViewId': ['67aba681109a4f2aee087798'],\n",
       "   'acp_type': ['ingest'],\n",
       "   'siphon/valve/stage/ingest': ['{\"id\":\"98049a059066441f8509a9ee7b11df5e\",\"status\":\"created\",\"createdAt\":1739466646570,\"batchId\":\"01JM04MH5QAEJQK4Q83EH1TS68\",\"imsOrg\":\"D0F83C645C5E1CC60A495CB3@AdobeOrg\",\"bulkHead\":\"live\",\"service\":\"platform.siphon.ingest\",\"properties\":{}}'],\n",
       "   'acp_bulkHead': ['live'],\n",
       "   'acp_producer': ['fbb6f6a5024e45d08b5f346a3c9a540b',\n",
       "    'aep/siphon/bi/uploadMode::'],\n",
       "   'acp_requestId': ['eFDRu4lQnuIeNYLm4vaC9m3jLGQJQZTy'],\n",
       "   'acp_buffered': ['false'],\n",
       "   'acp_latencyMaxInMillis': ['10800000']},\n",
       "  'relatedObjects': [{'type': 'dataSet', 'id': '67aba67f109a4f2aee087796'}],\n",
       "  'id': '01JM04MH5QAEJQK4Q83EH1TS68',\n",
       "  'externalId': '01JM04MH5QAEJQK4Q83EH1TS68',\n",
       "  'inputFormat': {'format': 'json', 'isMultiLineJson': True},\n",
       "  'createdUser': '231A1E846763328F0A495FB7@techacct.adobe.com',\n",
       "  'imsOrg': 'D0F83C645C5E1CC60A495CB3@AdobeOrg',\n",
       "  'sandboxId': '1f7f1c02-b926-432b-bf1c-02b926a32bc2',\n",
       "  'started': 1739466645854,\n",
       "  'metrics': {'inputByteSize': 61320, 'inputFileCount': 1},\n",
       "  'created': 1739466622372,\n",
       "  'createdClient': 'acp_foundation_push',\n",
       "  'updatedUser': 'acp_foundation_dataTracker@AdobeID',\n",
       "  'updated': 1739466646630,\n",
       "  'version': '1.0.2'}}"
      ]
     },
     "execution_count": 21,
     "metadata": {},
     "output_type": "execute_result"
    }
   ],
   "source": [
    "cat.getBatch(mybatch['id'])"
   ]
  },
  {
   "cell_type": "markdown",
   "id": "1f3b2b0b",
   "metadata": {},
   "source": [
    "# CJA Connection and DataView"
   ]
  },
  {
   "cell_type": "markdown",
   "id": "32e7713c",
   "metadata": {},
   "source": [
    "As of today, once the data has been ingested in AEP, CJA does not provide an API to load this new dataset into the existing connection, neither a way to programmatically update the Data View with these new components.\\\n",
    "These operations have been done manually via the UI prior to this Lab.\\\n",
    "I hope you could still the possibility of automation and improvement in your workflow via this Lab."
   ]
  },
  {
   "cell_type": "markdown",
   "id": "d4c2bd3c",
   "metadata": {},
   "source": [
    "You can see the result of the upload directly in a [CJA Workspace](https://experience.adobe.com/#/@acxpevangelist/platform/analytics/#/workspace/edit/67805d4f6d2b093a21038293)"
   ]
  },
  {
   "cell_type": "markdown",
   "id": "14858b95",
   "metadata": {},
   "source": [
    "Do not forget to vote for the Lab and support via any mean the repos for `cjapy` and `aepp`, both open source solutions. "
   ]
  }
 ],
 "metadata": {
  "kernelspec": {
   "display_name": "Python 3 (ipykernel)",
   "language": "python",
   "name": "python3"
  },
  "language_info": {
   "codemirror_mode": {
    "name": "ipython",
    "version": 3
   },
   "file_extension": ".py",
   "mimetype": "text/x-python",
   "name": "python",
   "nbconvert_exporter": "python",
   "pygments_lexer": "ipython3",
   "version": "3.11.4"
  },
  "toc": {
   "base_numbering": 1,
   "nav_menu": {},
   "number_sections": true,
   "sideBar": true,
   "skip_h1_title": false,
   "title_cell": "Table of Contents",
   "title_sidebar": "Contents",
   "toc_cell": true,
   "toc_position": {
    "height": "calc(100% - 180px)",
    "left": "10px",
    "top": "150px",
    "width": "268.452px"
   },
   "toc_section_display": true,
   "toc_window_display": true
  }
 },
 "nbformat": 4,
 "nbformat_minor": 5
}
