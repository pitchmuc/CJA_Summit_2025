{
 "cells": [
  {
   "cell_type": "markdown",
   "id": "9fbcb54b",
   "metadata": {
    "toc": true
   },
   "source": [
    "<h1>Table of Contents<span class=\"tocSkip\"></span></h1>\n",
    "<div class=\"toc\"><ul class=\"toc-item\"></ul></div>"
   ]
  },
  {
   "cell_type": "markdown",
   "id": "805d2e26",
   "metadata": {},
   "source": [
    "This notebook intends to help familiarizing yourself with the cjapy working elements and the way you can connect to the CJA API and request all sort of data using the different endpoints.\\\n",
    "\n",
    "Some terminology needed to go forward:\n",
    "* CJA API : The CJA API provide endpoints (URL) associated with certain method type (ex : GET, POST, DELETE) to retrieve data out of a system. In this case: Customer Journey Analytics. \n",
    "* cjapy : An open source python module that is wrapping and simplifying access to these API endpoints. It also standardize the response and help by processing some elements. Ex: Returning a pandas dataframe out of request. \n",
    "* class : A class is an programming entity that can create multiple children of itself (not always). In cjapy, the CJA class can generate more than one instance of itself when call. \n",
    "* Methods : Once you have instantiated a class, you have access to the methods that this class possess. "
   ]
  },
  {
   "cell_type": "code",
   "execution_count": null,
   "id": "fb906804",
   "metadata": {},
   "outputs": [],
   "source": []
  }
 ],
 "metadata": {
  "kernelspec": {
   "display_name": "Python 3 (ipykernel)",
   "language": "python",
   "name": "python3"
  },
  "language_info": {
   "codemirror_mode": {
    "name": "ipython",
    "version": 3
   },
   "file_extension": ".py",
   "mimetype": "text/x-python",
   "name": "python",
   "nbconvert_exporter": "python",
   "pygments_lexer": "ipython3",
   "version": "3.11.4"
  },
  "toc": {
   "base_numbering": 1,
   "nav_menu": {},
   "number_sections": true,
   "sideBar": true,
   "skip_h1_title": false,
   "title_cell": "Table of Contents",
   "title_sidebar": "Contents",
   "toc_cell": true,
   "toc_position": {},
   "toc_section_display": true,
   "toc_window_display": true
  }
 },
 "nbformat": 4,
 "nbformat_minor": 5
}
