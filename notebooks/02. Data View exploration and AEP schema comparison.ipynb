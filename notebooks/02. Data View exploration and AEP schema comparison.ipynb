{
 "cells": [
  {
   "cell_type": "markdown",
   "id": "cde12f6c",
   "metadata": {
    "toc": true
   },
   "source": [
    "<h1>Table of Contents<span class=\"tocSkip\"></span></h1>\n",
    "<div class=\"toc\"><ul class=\"toc-item\"><li><span><a href=\"#Building-the-Solution-Design\" data-toc-modified-id=\"Building-the-Solution-Design-1\"><span class=\"toc-item-num\">1&nbsp;&nbsp;</span>Building the Solution Design</a></span><ul class=\"toc-item\"><li><span><a href=\"#Cleaning-the-elements\" data-toc-modified-id=\"Cleaning-the-elements-1.1\"><span class=\"toc-item-num\">1.1&nbsp;&nbsp;</span>Cleaning the elements</a></span><ul class=\"toc-item\"><li><span><a href=\"#Fixing-null-values\" data-toc-modified-id=\"Fixing-null-values-1.1.1\"><span class=\"toc-item-num\">1.1.1&nbsp;&nbsp;</span>Fixing null values</a></span></li></ul></li><li><span><a href=\"#Fixing-metrics-table\" data-toc-modified-id=\"Fixing-metrics-table-1.2\"><span class=\"toc-item-num\">1.2&nbsp;&nbsp;</span>Fixing metrics table</a></span></li><li><span><a href=\"#Metrics-and-dimensions-SDR\" data-toc-modified-id=\"Metrics-and-dimensions-SDR-1.3\"><span class=\"toc-item-num\">1.3&nbsp;&nbsp;</span>Metrics and dimensions SDR</a></span><ul class=\"toc-item\"><li><span><a href=\"#Optional-:-Concat-dataframe\" data-toc-modified-id=\"Optional-:-Concat-dataframe-1.3.1\"><span class=\"toc-item-num\">1.3.1&nbsp;&nbsp;</span>Optional : Concat dataframe</a></span></li></ul></li><li><span><a href=\"#Saving-your-file\" data-toc-modified-id=\"Saving-your-file-1.4\"><span class=\"toc-item-num\">1.4&nbsp;&nbsp;</span>Saving your file</a></span></li></ul></li><li><span><a href=\"#Connecting-with-AEP-Schema\" data-toc-modified-id=\"Connecting-with-AEP-Schema-2\"><span class=\"toc-item-num\">2&nbsp;&nbsp;</span>Connecting with AEP Schema</a></span><ul class=\"toc-item\"><li><span><a href=\"#Schema-Manager\" data-toc-modified-id=\"Schema-Manager-2.1\"><span class=\"toc-item-num\">2.1&nbsp;&nbsp;</span>Schema Manager</a></span></li><li><span><a href=\"#Merging-SDR-with-Schema-definition\" data-toc-modified-id=\"Merging-SDR-with-Schema-definition-2.2\"><span class=\"toc-item-num\">2.2&nbsp;&nbsp;</span>Merging SDR with Schema definition</a></span></li><li><span><a href=\"#Saving-your-file\" data-toc-modified-id=\"Saving-your-file-2.3\"><span class=\"toc-item-num\">2.3&nbsp;&nbsp;</span>Saving your file</a></span></li></ul></li></ul></div>"
   ]
  },
  {
   "cell_type": "markdown",
   "id": "581c314e",
   "metadata": {},
   "source": [
    "With very large organization, it may happen that many people are working on Data Views.\\\n",
    "Your data views are your core representation of your data store.\\\n",
    "It is what is being used for the request by your workspaces and reports.\\\n",
    "Having a clear view on what has been defined in your data view is very important and we can create a script to extract that information very easily in the next steps. "
   ]
  },
  {
   "cell_type": "markdown",
   "id": "9afaa2b0",
   "metadata": {},
   "source": [
    "In order to achieve that view and document it, you can use the cjapy module to build your solution design for your analyst."
   ]
  },
  {
   "cell_type": "markdown",
   "id": "24ccda04",
   "metadata": {},
   "source": [
    "We first load cjapy and the configuration used."
   ]
  },
  {
   "cell_type": "code",
   "execution_count": 1,
   "id": "c18d2a65",
   "metadata": {
    "ExecuteTime": {
     "end_time": "2025-02-11T07:06:50.389795Z",
     "start_time": "2025-02-11T07:06:49.782127Z"
    }
   },
   "outputs": [],
   "source": [
    "import cjapy\n",
    "cjapy.importConfigFile('myconfig.json')"
   ]
  },
  {
   "cell_type": "markdown",
   "id": "dd4f05aa",
   "metadata": {},
   "source": [
    "Once we have done that we can instantiate the connection to CJA API via the `CJA` class."
   ]
  },
  {
   "cell_type": "code",
   "execution_count": 2,
   "id": "cdc9e6f0",
   "metadata": {
    "ExecuteTime": {
     "end_time": "2025-02-11T07:06:50.598593Z",
     "start_time": "2025-02-11T07:06:50.391570Z"
    }
   },
   "outputs": [],
   "source": [
    "cja = cjapy.CJA()"
   ]
  },
  {
   "cell_type": "markdown",
   "id": "7cbd98b6",
   "metadata": {},
   "source": [
    "# Building the Solution Design"
   ]
  },
  {
   "cell_type": "markdown",
   "id": "c1c3052c",
   "metadata": {},
   "source": [
    "In order to build a solution design, you need to have a complete view of what has been setup in your data view. "
   ]
  },
  {
   "cell_type": "markdown",
   "id": "02539aab",
   "metadata": {},
   "source": [
    "From the `cja` connection that we have built, we will extract the correct data view that we want to see and all of its dimensions and metrics "
   ]
  },
  {
   "cell_type": "code",
   "execution_count": 3,
   "id": "fcec0606",
   "metadata": {
    "ExecuteTime": {
     "end_time": "2025-02-11T07:06:51.428727Z",
     "start_time": "2025-02-11T07:06:50.844933Z"
    }
   },
   "outputs": [],
   "source": [
    "dataviews = cja.getDataViews()"
   ]
  },
  {
   "cell_type": "code",
   "execution_count": 4,
   "id": "fe7415b6",
   "metadata": {
    "ExecuteTime": {
     "end_time": "2025-02-11T07:06:51.447712Z",
     "start_time": "2025-02-11T07:06:51.430689Z"
    }
   },
   "outputs": [
    {
     "data": {
      "text/html": [
       "<div>\n",
       "<style scoped>\n",
       "    .dataframe tbody tr th:only-of-type {\n",
       "        vertical-align: middle;\n",
       "    }\n",
       "\n",
       "    .dataframe tbody tr th {\n",
       "        vertical-align: top;\n",
       "    }\n",
       "\n",
       "    .dataframe thead th {\n",
       "        text-align: right;\n",
       "    }\n",
       "</style>\n",
       "<table border=\"1\" class=\"dataframe\">\n",
       "  <thead>\n",
       "    <tr style=\"text-align: right;\">\n",
       "      <th></th>\n",
       "      <th>name</th>\n",
       "      <th>description</th>\n",
       "      <th>owner</th>\n",
       "      <th>isDeleted</th>\n",
       "      <th>parentDataGroupId</th>\n",
       "      <th>segmentList</th>\n",
       "      <th>currentTimezoneOffset</th>\n",
       "      <th>timezoneDesignator</th>\n",
       "      <th>modifiedDate</th>\n",
       "      <th>createdDate</th>\n",
       "      <th>organization</th>\n",
       "      <th>modifiedBy</th>\n",
       "      <th>curationEnabled</th>\n",
       "      <th>recentRecordedAccess</th>\n",
       "      <th>sessionDefinition</th>\n",
       "      <th>externalData</th>\n",
       "      <th>containerNames</th>\n",
       "      <th>parentConnectionId</th>\n",
       "      <th>id</th>\n",
       "      <th>systemUserOwned</th>\n",
       "    </tr>\n",
       "  </thead>\n",
       "  <tbody>\n",
       "    <tr>\n",
       "      <th>0</th>\n",
       "      <td>Luma AJO Data - v1</td>\n",
       "      <td></td>\n",
       "      <td>{'imsUserId': 'FC00017D578CE2867F000101@AdobeI...</td>\n",
       "      <td>False</td>\n",
       "      <td>dg_d6e144b2-0fba-4557-a144-b20fba3557bc</td>\n",
       "      <td>[]</td>\n",
       "      <td>-5.0</td>\n",
       "      <td>US/Eastern</td>\n",
       "      <td>2022-09-13T21:08:10Z</td>\n",
       "      <td>2021-07-15T21:56:53Z</td>\n",
       "      <td>D0F83C645C5E1CC60A495CB3@AdobeOrg</td>\n",
       "      <td>appsvc_admin</td>\n",
       "      <td>true</td>\n",
       "      <td>2025-02-01</td>\n",
       "      <td>[{'numPeriods': 30, 'granularity': 'minute', '...</td>\n",
       "      <td>{'externalId': 'Luma_AJO_Data___v1', 'external...</td>\n",
       "      <td>{'person': 'Person', 'session': 'Session', 'ev...</td>\n",
       "      <td>dg_d6e144b2-0fba-4557-a144-b20fba3557bc</td>\n",
       "      <td>dv_60f0af258eef5421f3588ecf</td>\n",
       "      <td>NaN</td>\n",
       "    </tr>\n",
       "    <tr>\n",
       "      <th>1</th>\n",
       "      <td>Luma AJO Only</td>\n",
       "      <td></td>\n",
       "      <td>{'imsUserId': 'FC00017D578CE2867F000101@AdobeI...</td>\n",
       "      <td>False</td>\n",
       "      <td>dg_c845c76a-1b33-4056-85c7-6a1b333056c7</td>\n",
       "      <td>[]</td>\n",
       "      <td>0.0</td>\n",
       "      <td>GMT</td>\n",
       "      <td>2022-09-13T21:08:15Z</td>\n",
       "      <td>2021-07-30T19:51:43Z</td>\n",
       "      <td>D0F83C645C5E1CC60A495CB3@AdobeOrg</td>\n",
       "      <td>appsvc_admin</td>\n",
       "      <td>true</td>\n",
       "      <td>2025-02-01</td>\n",
       "      <td>[{'numPeriods': 30, 'granularity': 'minute', '...</td>\n",
       "      <td>{'externalId': 'Luma_AJO_Only', 'externalParen...</td>\n",
       "      <td>{'person': 'Person', 'session': 'Session', 'ev...</td>\n",
       "      <td>dg_c845c76a-1b33-4056-85c7-6a1b333056c7</td>\n",
       "      <td>dv_6104584f3b5f6a6932dcc22d</td>\n",
       "      <td>NaN</td>\n",
       "    </tr>\n",
       "  </tbody>\n",
       "</table>\n",
       "</div>"
      ],
      "text/plain": [
       "                 name description  \\\n",
       "0  Luma AJO Data - v1               \n",
       "1       Luma AJO Only               \n",
       "\n",
       "                                               owner  isDeleted  \\\n",
       "0  {'imsUserId': 'FC00017D578CE2867F000101@AdobeI...      False   \n",
       "1  {'imsUserId': 'FC00017D578CE2867F000101@AdobeI...      False   \n",
       "\n",
       "                         parentDataGroupId segmentList  currentTimezoneOffset  \\\n",
       "0  dg_d6e144b2-0fba-4557-a144-b20fba3557bc          []                   -5.0   \n",
       "1  dg_c845c76a-1b33-4056-85c7-6a1b333056c7          []                    0.0   \n",
       "\n",
       "  timezoneDesignator          modifiedDate           createdDate  \\\n",
       "0         US/Eastern  2022-09-13T21:08:10Z  2021-07-15T21:56:53Z   \n",
       "1                GMT  2022-09-13T21:08:15Z  2021-07-30T19:51:43Z   \n",
       "\n",
       "                        organization    modifiedBy curationEnabled  \\\n",
       "0  D0F83C645C5E1CC60A495CB3@AdobeOrg  appsvc_admin            true   \n",
       "1  D0F83C645C5E1CC60A495CB3@AdobeOrg  appsvc_admin            true   \n",
       "\n",
       "  recentRecordedAccess                                  sessionDefinition  \\\n",
       "0           2025-02-01  [{'numPeriods': 30, 'granularity': 'minute', '...   \n",
       "1           2025-02-01  [{'numPeriods': 30, 'granularity': 'minute', '...   \n",
       "\n",
       "                                        externalData  \\\n",
       "0  {'externalId': 'Luma_AJO_Data___v1', 'external...   \n",
       "1  {'externalId': 'Luma_AJO_Only', 'externalParen...   \n",
       "\n",
       "                                      containerNames  \\\n",
       "0  {'person': 'Person', 'session': 'Session', 'ev...   \n",
       "1  {'person': 'Person', 'session': 'Session', 'ev...   \n",
       "\n",
       "                        parentConnectionId                           id  \\\n",
       "0  dg_d6e144b2-0fba-4557-a144-b20fba3557bc  dv_60f0af258eef5421f3588ecf   \n",
       "1  dg_c845c76a-1b33-4056-85c7-6a1b333056c7  dv_6104584f3b5f6a6932dcc22d   \n",
       "\n",
       "  systemUserOwned  \n",
       "0             NaN  \n",
       "1             NaN  "
      ]
     },
     "execution_count": 4,
     "metadata": {},
     "output_type": "execute_result"
    }
   ],
   "source": [
    "dataviews.head(2)"
   ]
  },
  {
   "cell_type": "markdown",
   "id": "3ad76fa1",
   "metadata": {},
   "source": [
    "Selecting a data view by using its name"
   ]
  },
  {
   "cell_type": "code",
   "execution_count": 5,
   "id": "44eeb770",
   "metadata": {
    "ExecuteTime": {
     "end_time": "2025-02-11T07:06:51.454671Z",
     "start_time": "2025-02-11T07:06:51.448709Z"
    }
   },
   "outputs": [
    {
     "data": {
      "text/plain": [
       "'dv_62ba17d5a5d7845496f5fb4d'"
      ]
     },
     "execution_count": 5,
     "metadata": {},
     "output_type": "execute_result"
    }
   ],
   "source": [
    "dv_id = dataviews.at[dataviews[dataviews['name']=='Adobe Store - Prod'].index[0],'id']\n",
    "dv_id"
   ]
  },
  {
   "cell_type": "markdown",
   "id": "6b5c1a65",
   "metadata": {},
   "source": [
    "Now that we have its id, we can use it to retrieve the different components associated with it"
   ]
  },
  {
   "cell_type": "code",
   "execution_count": 6,
   "id": "d949adcf",
   "metadata": {
    "ExecuteTime": {
     "end_time": "2025-02-11T07:06:52.961149Z",
     "start_time": "2025-02-11T07:06:51.695114Z"
    }
   },
   "outputs": [],
   "source": [
    "dimensions = cja.getDimensions(dv_id,full=True)\n",
    "metrics = cja.getMetrics(dv_id,full=True)"
   ]
  },
  {
   "cell_type": "markdown",
   "id": "6714dfeb",
   "metadata": {},
   "source": [
    "The data returned by the methods are `dataframes` which make them very easy to manipulate and to already save them. "
   ]
  },
  {
   "cell_type": "markdown",
   "id": "869cc8e7",
   "metadata": {},
   "source": [
    "Using the `head` method, you can see the 5 rows that have been returned"
   ]
  },
  {
   "cell_type": "code",
   "execution_count": 7,
   "id": "e0282753",
   "metadata": {
    "ExecuteTime": {
     "end_time": "2025-02-11T07:06:52.988349Z",
     "start_time": "2025-02-11T07:06:52.963141Z"
    }
   },
   "outputs": [
    {
     "data": {
      "text/html": [
       "<div>\n",
       "<style scoped>\n",
       "    .dataframe tbody tr th:only-of-type {\n",
       "        vertical-align: middle;\n",
       "    }\n",
       "\n",
       "    .dataframe tbody tr th {\n",
       "        vertical-align: top;\n",
       "    }\n",
       "\n",
       "    .dataframe thead th {\n",
       "        text-align: right;\n",
       "    }\n",
       "</style>\n",
       "<table border=\"1\" class=\"dataframe\">\n",
       "  <thead>\n",
       "    <tr style=\"text-align: right;\">\n",
       "      <th></th>\n",
       "      <th>id</th>\n",
       "      <th>name</th>\n",
       "      <th>dataSetType</th>\n",
       "      <th>sourceFieldType</th>\n",
       "      <th>baseTableName</th>\n",
       "      <th>type</th>\n",
       "      <th>required</th>\n",
       "      <th>hasData</th>\n",
       "      <th>segmentable</th>\n",
       "      <th>favorite</th>\n",
       "      <th>...</th>\n",
       "      <th>schemaPath</th>\n",
       "      <th>includeExcludeSetting</th>\n",
       "      <th>persistenceSetting</th>\n",
       "      <th>behaviorSetting</th>\n",
       "      <th>substringSetting</th>\n",
       "      <th>sourceFieldId</th>\n",
       "      <th>storageId</th>\n",
       "      <th>multiValued</th>\n",
       "      <th>labels</th>\n",
       "      <th>bucketingSetting</th>\n",
       "    </tr>\n",
       "  </thead>\n",
       "  <tbody>\n",
       "    <tr>\n",
       "      <th>0</th>\n",
       "      <td>variables/daterangesecond</td>\n",
       "      <td>Second</td>\n",
       "      <td>event</td>\n",
       "      <td>standard</td>\n",
       "      <td>hits</td>\n",
       "      <td>time</td>\n",
       "      <td>True</td>\n",
       "      <td>True</td>\n",
       "      <td>True</td>\n",
       "      <td>False</td>\n",
       "      <td>...</td>\n",
       "      <td>NaN</td>\n",
       "      <td>NaN</td>\n",
       "      <td>NaN</td>\n",
       "      <td>NaN</td>\n",
       "      <td>NaN</td>\n",
       "      <td>NaN</td>\n",
       "      <td>NaN</td>\n",
       "      <td>NaN</td>\n",
       "      <td>NaN</td>\n",
       "      <td>NaN</td>\n",
       "    </tr>\n",
       "    <tr>\n",
       "      <th>1</th>\n",
       "      <td>variables/65f8fb0a950403085dcdfe0a</td>\n",
       "      <td>Product Super Category</td>\n",
       "      <td>NaN</td>\n",
       "      <td>derived</td>\n",
       "      <td>NaN</td>\n",
       "      <td>string</td>\n",
       "      <td>NaN</td>\n",
       "      <td>True</td>\n",
       "      <td>True</td>\n",
       "      <td>False</td>\n",
       "      <td>...</td>\n",
       "      <td>Derived Fields</td>\n",
       "      <td>{'enabled': False}</td>\n",
       "      <td>{'enabled': False}</td>\n",
       "      <td>{'lowercase': False}</td>\n",
       "      <td>{'enabled': False}</td>\n",
       "      <td>NaN</td>\n",
       "      <td>NaN</td>\n",
       "      <td>NaN</td>\n",
       "      <td>NaN</td>\n",
       "      <td>NaN</td>\n",
       "    </tr>\n",
       "    <tr>\n",
       "      <th>2</th>\n",
       "      <td>variables/66577f485e767a2c9e40b94d._experience...</td>\n",
       "      <td>Activity Name</td>\n",
       "      <td>lookup</td>\n",
       "      <td>custom</td>\n",
       "      <td>NaN</td>\n",
       "      <td>string</td>\n",
       "      <td>NaN</td>\n",
       "      <td>True</td>\n",
       "      <td>True</td>\n",
       "      <td>False</td>\n",
       "      <td>...</td>\n",
       "      <td>activityName</td>\n",
       "      <td>{'enabled': False}</td>\n",
       "      <td>{'enabled': True, 'allocationModel': {'func': ...</td>\n",
       "      <td>{'lowercase': False}</td>\n",
       "      <td>{'enabled': False}</td>\n",
       "      <td>66577f485e767a2c9e40b94d._experience.decisioni...</td>\n",
       "      <td>_experience.decisioning.propositions.scopeDeta...</td>\n",
       "      <td>True</td>\n",
       "      <td>[{'id': 'experimentation_experiment', 'name': ...</td>\n",
       "      <td>NaN</td>\n",
       "    </tr>\n",
       "    <tr>\n",
       "      <th>3</th>\n",
       "      <td>variables/adobe_timespentpersession</td>\n",
       "      <td>Time Spent per Session</td>\n",
       "      <td>event</td>\n",
       "      <td>standard</td>\n",
       "      <td>NaN</td>\n",
       "      <td>ordered-enum</td>\n",
       "      <td>NaN</td>\n",
       "      <td>True</td>\n",
       "      <td>True</td>\n",
       "      <td>False</td>\n",
       "      <td>...</td>\n",
       "      <td>NaN</td>\n",
       "      <td>NaN</td>\n",
       "      <td>NaN</td>\n",
       "      <td>NaN</td>\n",
       "      <td>NaN</td>\n",
       "      <td>NaN</td>\n",
       "      <td>NaN</td>\n",
       "      <td>NaN</td>\n",
       "      <td>NaN</td>\n",
       "      <td>NaN</td>\n",
       "    </tr>\n",
       "    <tr>\n",
       "      <th>4</th>\n",
       "      <td>variables/66577f485e767a2c9e40b94d._experience...</td>\n",
       "      <td>Active Dates</td>\n",
       "      <td>lookup</td>\n",
       "      <td>custom</td>\n",
       "      <td>NaN</td>\n",
       "      <td>string</td>\n",
       "      <td>NaN</td>\n",
       "      <td>True</td>\n",
       "      <td>True</td>\n",
       "      <td>False</td>\n",
       "      <td>...</td>\n",
       "      <td>activeDates</td>\n",
       "      <td>{'enabled': False}</td>\n",
       "      <td>{'enabled': False}</td>\n",
       "      <td>{'lowercase': False}</td>\n",
       "      <td>{'enabled': False}</td>\n",
       "      <td>66577f485e767a2c9e40b94d._experience.decisioni...</td>\n",
       "      <td>_experience.decisioning.propositions.scopeDeta...</td>\n",
       "      <td>True</td>\n",
       "      <td>NaN</td>\n",
       "      <td>NaN</td>\n",
       "    </tr>\n",
       "  </tbody>\n",
       "</table>\n",
       "<p>5 rows × 35 columns</p>\n",
       "</div>"
      ],
      "text/plain": [
       "                                                  id                    name  \\\n",
       "0                          variables/daterangesecond                  Second   \n",
       "1                 variables/65f8fb0a950403085dcdfe0a  Product Super Category   \n",
       "2  variables/66577f485e767a2c9e40b94d._experience...           Activity Name   \n",
       "3                variables/adobe_timespentpersession  Time Spent per Session   \n",
       "4  variables/66577f485e767a2c9e40b94d._experience...            Active Dates   \n",
       "\n",
       "  dataSetType sourceFieldType baseTableName          type required  hasData  \\\n",
       "0       event        standard          hits          time     True     True   \n",
       "1         NaN         derived           NaN        string      NaN     True   \n",
       "2      lookup          custom           NaN        string      NaN     True   \n",
       "3       event        standard           NaN  ordered-enum      NaN     True   \n",
       "4      lookup          custom           NaN        string      NaN     True   \n",
       "\n",
       "   segmentable  favorite  ...      schemaPath includeExcludeSetting  \\\n",
       "0         True     False  ...             NaN                   NaN   \n",
       "1         True     False  ...  Derived Fields    {'enabled': False}   \n",
       "2         True     False  ...    activityName    {'enabled': False}   \n",
       "3         True     False  ...             NaN                   NaN   \n",
       "4         True     False  ...     activeDates    {'enabled': False}   \n",
       "\n",
       "                                  persistenceSetting       behaviorSetting  \\\n",
       "0                                                NaN                   NaN   \n",
       "1                                 {'enabled': False}  {'lowercase': False}   \n",
       "2  {'enabled': True, 'allocationModel': {'func': ...  {'lowercase': False}   \n",
       "3                                                NaN                   NaN   \n",
       "4                                 {'enabled': False}  {'lowercase': False}   \n",
       "\n",
       "     substringSetting                                      sourceFieldId  \\\n",
       "0                 NaN                                                NaN   \n",
       "1  {'enabled': False}                                                NaN   \n",
       "2  {'enabled': False}  66577f485e767a2c9e40b94d._experience.decisioni...   \n",
       "3                 NaN                                                NaN   \n",
       "4  {'enabled': False}  66577f485e767a2c9e40b94d._experience.decisioni...   \n",
       "\n",
       "                                           storageId multiValued  \\\n",
       "0                                                NaN         NaN   \n",
       "1                                                NaN         NaN   \n",
       "2  _experience.decisioning.propositions.scopeDeta...        True   \n",
       "3                                                NaN         NaN   \n",
       "4  _experience.decisioning.propositions.scopeDeta...        True   \n",
       "\n",
       "                                              labels bucketingSetting  \n",
       "0                                                NaN              NaN  \n",
       "1                                                NaN              NaN  \n",
       "2  [{'id': 'experimentation_experiment', 'name': ...              NaN  \n",
       "3                                                NaN              NaN  \n",
       "4                                                NaN              NaN  \n",
       "\n",
       "[5 rows x 35 columns]"
      ]
     },
     "execution_count": 7,
     "metadata": {},
     "output_type": "execute_result"
    }
   ],
   "source": [
    "dimensions.head()"
   ]
  },
  {
   "cell_type": "markdown",
   "id": "5ba22907",
   "metadata": {},
   "source": [
    "You can see that you have lots of details about each of these dimensions.\\\n",
    "You can see the number of elements by using the `len()` method"
   ]
  },
  {
   "cell_type": "code",
   "execution_count": 8,
   "id": "2e229fd7",
   "metadata": {
    "ExecuteTime": {
     "end_time": "2025-02-11T07:06:52.995460Z",
     "start_time": "2025-02-11T07:06:52.990344Z"
    }
   },
   "outputs": [
    {
     "data": {
      "text/plain": [
       "97"
      ]
     },
     "execution_count": 8,
     "metadata": {},
     "output_type": "execute_result"
    }
   ],
   "source": [
    "len(dimensions)"
   ]
  },
  {
   "cell_type": "markdown",
   "id": "199ad71d",
   "metadata": {},
   "source": [
    "## Cleaning the elements"
   ]
  },
  {
   "cell_type": "markdown",
   "id": "8a612bb5",
   "metadata": {},
   "source": [
    "First of all, you may have default dimensions or metrics that have been integrated in that data view but are not that important because they do not contain data.\\\n",
    "Removing them would actually clean up the table.\\\n",
    "This task, as not sexy, is a crucial task to understand and realize before doing any sort of data analysis in the future.\\\n",
    "We are using this simple task of creating a Solution Design to introduce some concepts such as:\n",
    "* identifying null values\n",
    "* cleaning null values"
   ]
  },
  {
   "cell_type": "markdown",
   "id": "d1dfa786",
   "metadata": {},
   "source": [
    "There are some columns that you may also not want to duplicate on your solution design, therefore we will remove them as well."
   ]
  },
  {
   "cell_type": "markdown",
   "id": "f9a58ca2",
   "metadata": {},
   "source": [
    "### Fixing null values"
   ]
  },
  {
   "cell_type": "markdown",
   "id": "3f3b9a94",
   "metadata": {},
   "source": [
    "Not a Number (NaN) of Not defined value (na) are elements that could break some basic condition formatting, so we would like to clean these parts first."
   ]
  },
  {
   "cell_type": "code",
   "execution_count": 9,
   "id": "88ad6ca8",
   "metadata": {
    "ExecuteTime": {
     "end_time": "2025-02-11T07:06:53.851486Z",
     "start_time": "2025-02-11T07:06:53.845631Z"
    }
   },
   "outputs": [
    {
     "data": {
      "text/plain": [
       "id                         0\n",
       "name                       0\n",
       "dataSetType               13\n",
       "sourceFieldType            0\n",
       "baseTableName             72\n",
       "type                       0\n",
       "required                  78\n",
       "hasData                    0\n",
       "segmentable                0\n",
       "favorite                   0\n",
       "approved                   0\n",
       "tags                       0\n",
       "usageSummary               0\n",
       "hidden                     0\n",
       "fromGlobalLookup           0\n",
       "fieldDefinition            3\n",
       "derivedFieldCompatible    67\n",
       "noValueOptionsSetting      0\n",
       "defaultDimensionSort       0\n",
       "description               25\n",
       "sourceFieldName           30\n",
       "dataSetIds                31\n",
       "schemaType                30\n",
       "tableName                 30\n",
       "hideFromReporting          3\n",
       "schemaPath                30\n",
       "includeExcludeSetting     30\n",
       "persistenceSetting        34\n",
       "behaviorSetting           33\n",
       "substringSetting          33\n",
       "sourceFieldId             43\n",
       "storageId                 43\n",
       "multiValued               43\n",
       "labels                    95\n",
       "bucketingSetting          95\n",
       "dtype: int64"
      ]
     },
     "execution_count": 9,
     "metadata": {},
     "output_type": "execute_result"
    }
   ],
   "source": [
    "dimensions.isnull().sum()"
   ]
  },
  {
   "cell_type": "code",
   "execution_count": 10,
   "id": "0a319f0b",
   "metadata": {
    "ExecuteTime": {
     "end_time": "2025-02-11T07:06:54.062025Z",
     "start_time": "2025-02-11T07:06:54.052436Z"
    }
   },
   "outputs": [
    {
     "name": "stderr",
     "output_type": "stream",
     "text": [
      "C:\\Users\\piccini\\AppData\\Local\\Temp\\ipykernel_28888\\2733145841.py:2: FutureWarning: Downcasting object dtype arrays on .fillna, .ffill, .bfill is deprecated and will change in a future version. Call result.infer_objects(copy=False) instead. To opt-in to the future behavior, set `pd.set_option('future.no_silent_downcasting', True)`\n",
      "  dimensions['derivedFieldCompatible'] = dimensions['derivedFieldCompatible'].fillna(False) ## if no information, just place False as default\n"
     ]
    }
   ],
   "source": [
    "dimensions['hasData'] = dimensions['hasData'].fillna(False) ## if no information, just place False as default\n",
    "dimensions['derivedFieldCompatible'] = dimensions['derivedFieldCompatible'].fillna(False) ## if no information, just place False as default\n",
    "dimensions['dataSetType'] = dimensions['dataSetType'].fillna(\"system\")  ## if no information, just place \"system\" as default\n",
    "dimensions['sourceFieldId'] = dimensions['sourceFieldId'].fillna(\"cja\")"
   ]
  },
  {
   "cell_type": "markdown",
   "id": "08a8c924",
   "metadata": {},
   "source": [
    "Base on these informaiton `hasData`, `derivedFieldCompatible` and `dataSetType`, there could be already a good filtering done for your solution design. "
   ]
  },
  {
   "cell_type": "markdown",
   "id": "aea6fb0d",
   "metadata": {},
   "source": [
    "## Fixing metrics table"
   ]
  },
  {
   "cell_type": "markdown",
   "id": "83b56be1",
   "metadata": {},
   "source": [
    "You can also look at random lines in your dataframe by using the `sample()` method, the argument giving the number of row to return.  "
   ]
  },
  {
   "cell_type": "code",
   "execution_count": 11,
   "id": "2ff448bb",
   "metadata": {
    "ExecuteTime": {
     "end_time": "2025-02-11T07:06:55.267033Z",
     "start_time": "2025-02-11T07:06:55.254011Z"
    }
   },
   "outputs": [
    {
     "data": {
      "text/html": [
       "<div>\n",
       "<style scoped>\n",
       "    .dataframe tbody tr th:only-of-type {\n",
       "        vertical-align: middle;\n",
       "    }\n",
       "\n",
       "    .dataframe tbody tr th {\n",
       "        vertical-align: top;\n",
       "    }\n",
       "\n",
       "    .dataframe thead th {\n",
       "        text-align: right;\n",
       "    }\n",
       "</style>\n",
       "<table border=\"1\" class=\"dataframe\">\n",
       "  <thead>\n",
       "    <tr style=\"text-align: right;\">\n",
       "      <th></th>\n",
       "      <th>id</th>\n",
       "      <th>name</th>\n",
       "      <th>description</th>\n",
       "      <th>dataSetType</th>\n",
       "      <th>sourceFieldType</th>\n",
       "      <th>baseTableName</th>\n",
       "      <th>type</th>\n",
       "      <th>hideFromReporting</th>\n",
       "      <th>hasData</th>\n",
       "      <th>segmentable</th>\n",
       "      <th>...</th>\n",
       "      <th>schemaType</th>\n",
       "      <th>tableName</th>\n",
       "      <th>schemaPath</th>\n",
       "      <th>includeExcludeSetting</th>\n",
       "      <th>sourceFieldId</th>\n",
       "      <th>storageId</th>\n",
       "      <th>dataSetIds</th>\n",
       "      <th>multiValued</th>\n",
       "      <th>required</th>\n",
       "      <th>attributionSetting</th>\n",
       "    </tr>\n",
       "  </thead>\n",
       "  <tbody>\n",
       "    <tr>\n",
       "      <th>16</th>\n",
       "      <td>metrics/link_clicks</td>\n",
       "      <td>Link Clicks</td>\n",
       "      <td>The quantifiable value of this measure.</td>\n",
       "      <td>event</td>\n",
       "      <td>custom</td>\n",
       "      <td>NaN</td>\n",
       "      <td>decimal</td>\n",
       "      <td>False</td>\n",
       "      <td>True</td>\n",
       "      <td>True</td>\n",
       "      <td>...</td>\n",
       "      <td>double</td>\n",
       "      <td>hits</td>\n",
       "      <td>web.webInteraction.linkClicks.value</td>\n",
       "      <td>{'enabled': False}</td>\n",
       "      <td>web.webInteraction.linkClicks.value</td>\n",
       "      <td>explicitw94a6416e5fd321e097a91avalue|hits</td>\n",
       "      <td>[62b2307173a5d61c07a5cb2d]</td>\n",
       "      <td>False</td>\n",
       "      <td>NaN</td>\n",
       "      <td>NaN</td>\n",
       "    </tr>\n",
       "    <tr>\n",
       "      <th>21</th>\n",
       "      <td>metrics/commerce.purchases.value</td>\n",
       "      <td>Commerce Purchases</td>\n",
       "      <td>The quantifiable value of this measure.</td>\n",
       "      <td>event</td>\n",
       "      <td>custom</td>\n",
       "      <td>NaN</td>\n",
       "      <td>decimal</td>\n",
       "      <td>False</td>\n",
       "      <td>True</td>\n",
       "      <td>True</td>\n",
       "      <td>...</td>\n",
       "      <td>double</td>\n",
       "      <td>hits</td>\n",
       "      <td>commerce.purchases.value</td>\n",
       "      <td>{'enabled': False}</td>\n",
       "      <td>commerce.purchases.value</td>\n",
       "      <td>explicitc5667ccad1e55056a8315c4value|hits</td>\n",
       "      <td>[62b2307173a5d61c07a5cb2d, 631ab2185432701c089...</td>\n",
       "      <td>False</td>\n",
       "      <td>NaN</td>\n",
       "      <td>NaN</td>\n",
       "    </tr>\n",
       "    <tr>\n",
       "      <th>12</th>\n",
       "      <td>metrics/qm_api_errors</td>\n",
       "      <td>Quantum Metric API Errors</td>\n",
       "      <td>HTTP 500 error on an API call (ie service has ...</td>\n",
       "      <td>event</td>\n",
       "      <td>custom</td>\n",
       "      <td>NaN</td>\n",
       "      <td>int</td>\n",
       "      <td>False</td>\n",
       "      <td>True</td>\n",
       "      <td>True</td>\n",
       "      <td>...</td>\n",
       "      <td>string</td>\n",
       "      <td>hits</td>\n",
       "      <td>implementationDetails._acxpevangelist.qm_error...</td>\n",
       "      <td>{'caseSensitive': True, 'match': 'and', 'type'...</td>\n",
       "      <td>implementationDetails._acxpevangelist.qm_error...</td>\n",
       "      <td>expliciti17f67aa7a15fd3c417f853rrorname|hits</td>\n",
       "      <td>[62b2307173a5d61c07a5cb2d]</td>\n",
       "      <td>False</td>\n",
       "      <td>NaN</td>\n",
       "      <td>NaN</td>\n",
       "    </tr>\n",
       "    <tr>\n",
       "      <th>5</th>\n",
       "      <td>metrics/visits</td>\n",
       "      <td>Sessions</td>\n",
       "      <td>NaN</td>\n",
       "      <td>event</td>\n",
       "      <td>standard</td>\n",
       "      <td>NaN</td>\n",
       "      <td>int</td>\n",
       "      <td>False</td>\n",
       "      <td>True</td>\n",
       "      <td>True</td>\n",
       "      <td>...</td>\n",
       "      <td>NaN</td>\n",
       "      <td>NaN</td>\n",
       "      <td>NaN</td>\n",
       "      <td>NaN</td>\n",
       "      <td>NaN</td>\n",
       "      <td>NaN</td>\n",
       "      <td>NaN</td>\n",
       "      <td>NaN</td>\n",
       "      <td>True</td>\n",
       "      <td>NaN</td>\n",
       "    </tr>\n",
       "  </tbody>\n",
       "</table>\n",
       "<p>4 rows × 29 columns</p>\n",
       "</div>"
      ],
      "text/plain": [
       "                                  id                       name  \\\n",
       "16               metrics/link_clicks                Link Clicks   \n",
       "21  metrics/commerce.purchases.value         Commerce Purchases   \n",
       "12             metrics/qm_api_errors  Quantum Metric API Errors   \n",
       "5                     metrics/visits                   Sessions   \n",
       "\n",
       "                                          description dataSetType  \\\n",
       "16            The quantifiable value of this measure.       event   \n",
       "21            The quantifiable value of this measure.       event   \n",
       "12  HTTP 500 error on an API call (ie service has ...       event   \n",
       "5                                                 NaN       event   \n",
       "\n",
       "   sourceFieldType baseTableName     type  hideFromReporting  hasData  \\\n",
       "16          custom           NaN  decimal              False     True   \n",
       "21          custom           NaN  decimal              False     True   \n",
       "12          custom           NaN      int              False     True   \n",
       "5         standard           NaN      int              False     True   \n",
       "\n",
       "    segmentable  ...  schemaType  tableName  \\\n",
       "16         True  ...      double       hits   \n",
       "21         True  ...      double       hits   \n",
       "12         True  ...      string       hits   \n",
       "5          True  ...         NaN        NaN   \n",
       "\n",
       "                                           schemaPath  \\\n",
       "16                web.webInteraction.linkClicks.value   \n",
       "21                           commerce.purchases.value   \n",
       "12  implementationDetails._acxpevangelist.qm_error...   \n",
       "5                                                 NaN   \n",
       "\n",
       "                                includeExcludeSetting  \\\n",
       "16                                 {'enabled': False}   \n",
       "21                                 {'enabled': False}   \n",
       "12  {'caseSensitive': True, 'match': 'and', 'type'...   \n",
       "5                                                 NaN   \n",
       "\n",
       "                                        sourceFieldId  \\\n",
       "16                web.webInteraction.linkClicks.value   \n",
       "21                           commerce.purchases.value   \n",
       "12  implementationDetails._acxpevangelist.qm_error...   \n",
       "5                                                 NaN   \n",
       "\n",
       "                                       storageId  \\\n",
       "16     explicitw94a6416e5fd321e097a91avalue|hits   \n",
       "21     explicitc5667ccad1e55056a8315c4value|hits   \n",
       "12  expliciti17f67aa7a15fd3c417f853rrorname|hits   \n",
       "5                                            NaN   \n",
       "\n",
       "                                           dataSetIds multiValued required  \\\n",
       "16                         [62b2307173a5d61c07a5cb2d]       False      NaN   \n",
       "21  [62b2307173a5d61c07a5cb2d, 631ab2185432701c089...       False      NaN   \n",
       "12                         [62b2307173a5d61c07a5cb2d]       False      NaN   \n",
       "5                                                 NaN         NaN     True   \n",
       "\n",
       "   attributionSetting  \n",
       "16                NaN  \n",
       "21                NaN  \n",
       "12                NaN  \n",
       "5                 NaN  \n",
       "\n",
       "[4 rows x 29 columns]"
      ]
     },
     "execution_count": 11,
     "metadata": {},
     "output_type": "execute_result"
    }
   ],
   "source": [
    "metrics.sample(4)"
   ]
  },
  {
   "cell_type": "code",
   "execution_count": 12,
   "id": "a818fe96",
   "metadata": {
    "ExecuteTime": {
     "end_time": "2025-02-11T07:06:55.472160Z",
     "start_time": "2025-02-11T07:06:55.466520Z"
    }
   },
   "outputs": [
    {
     "data": {
      "text/plain": [
       "id                         0\n",
       "name                       0\n",
       "description                6\n",
       "dataSetType                2\n",
       "sourceFieldType            0\n",
       "baseTableName             24\n",
       "type                       0\n",
       "hideFromReporting          0\n",
       "hasData                    0\n",
       "segmentable                0\n",
       "favorite                   0\n",
       "approved                   0\n",
       "tags                       0\n",
       "usageSummary               0\n",
       "hidden                     0\n",
       "fromGlobalLookup           0\n",
       "fieldDefinition            4\n",
       "derivedFieldCompatible    20\n",
       "sourceFieldName            8\n",
       "schemaType                 8\n",
       "tableName                  8\n",
       "schemaPath                 8\n",
       "includeExcludeSetting      8\n",
       "sourceFieldId             10\n",
       "storageId                 10\n",
       "dataSetIds                10\n",
       "multiValued               10\n",
       "required                  22\n",
       "attributionSetting        25\n",
       "dtype: int64"
      ]
     },
     "execution_count": 12,
     "metadata": {},
     "output_type": "execute_result"
    }
   ],
   "source": [
    "metrics.isnull().sum()"
   ]
  },
  {
   "cell_type": "code",
   "execution_count": 13,
   "id": "b04d89e0",
   "metadata": {
    "ExecuteTime": {
     "end_time": "2025-02-11T07:06:55.709226Z",
     "start_time": "2025-02-11T07:06:55.702992Z"
    }
   },
   "outputs": [
    {
     "name": "stderr",
     "output_type": "stream",
     "text": [
      "C:\\Users\\piccini\\AppData\\Local\\Temp\\ipykernel_28888\\2788987130.py:2: FutureWarning: Downcasting object dtype arrays on .fillna, .ffill, .bfill is deprecated and will change in a future version. Call result.infer_objects(copy=False) instead. To opt-in to the future behavior, set `pd.set_option('future.no_silent_downcasting', True)`\n",
      "  metrics['derivedFieldCompatible'] = metrics['derivedFieldCompatible'].fillna(False) ## if no information, just place False as default\n"
     ]
    }
   ],
   "source": [
    "metrics['hasData'] = metrics['hasData'].fillna(False) ## if no information, just place False as default\n",
    "metrics['derivedFieldCompatible'] = metrics['derivedFieldCompatible'].fillna(False) ## if no information, just place False as default\n",
    "metrics['dataSetType'] = metrics['dataSetType'].fillna(\"system\")  ## if no information, just place \"system\" as default\n",
    "metrics['sourceFieldId'] = metrics['sourceFieldId'].fillna(\"cja\")  ## if no information, just place \"cja\" as default"
   ]
  },
  {
   "cell_type": "markdown",
   "id": "2fd03435",
   "metadata": {},
   "source": [
    "## Metrics and dimensions SDR"
   ]
  },
  {
   "cell_type": "markdown",
   "id": "807b2c65",
   "metadata": {},
   "source": [
    "The Solution Design Reference basde on CJA implementation can be exported via once we reframe it to the columns we want to have.\\\n",
    "You can filter columns by placing them in a list for filtering.\\\n",
    "If you want to have a copy of your dataframe, use the `copy()` method, that will avoid doing some modification to your original dataframe."
   ]
  },
  {
   "cell_type": "markdown",
   "id": "e950d02f",
   "metadata": {},
   "source": [
    "In our example here, we will only select attributes that we find important for the usage of that notebook."
   ]
  },
  {
   "cell_type": "code",
   "execution_count": 14,
   "id": "aa72ae6f",
   "metadata": {
    "ExecuteTime": {
     "end_time": "2025-02-11T07:06:56.695469Z",
     "start_time": "2025-02-11T07:06:56.690481Z"
    }
   },
   "outputs": [],
   "source": [
    "dimensions_sdr = dimensions[dimensions['hasData']][['id','name','dataSetType','sourceFieldId']].copy() ## filtering for dimensions that contain data\n",
    "metrics_sdr = metrics[metrics['hasData']][['id','name','dataSetType','sourceFieldId']].copy()## filtering for metrics that contain data"
   ]
  },
  {
   "cell_type": "markdown",
   "id": "0d767908",
   "metadata": {},
   "source": [
    "### Optional : Concat dataframe"
   ]
  },
  {
   "cell_type": "markdown",
   "id": "b092393b",
   "metadata": {},
   "source": [
    "You can combine 2 dataframe via the `concat()` method of the pandas module."
   ]
  },
  {
   "cell_type": "code",
   "execution_count": 15,
   "id": "45c511e9",
   "metadata": {
    "ExecuteTime": {
     "end_time": "2025-02-11T07:06:58.135844Z",
     "start_time": "2025-02-11T07:06:58.133320Z"
    }
   },
   "outputs": [],
   "source": [
    "import pandas as pd ## using the pd alias"
   ]
  },
  {
   "cell_type": "markdown",
   "id": "bcbdb2a4",
   "metadata": {},
   "source": [
    "The `concat` method will take an iterable of dataframe and concat them together.\\\n",
    "`ignore_index` will reset the index."
   ]
  },
  {
   "cell_type": "code",
   "execution_count": 16,
   "id": "3a6033d7",
   "metadata": {
    "ExecuteTime": {
     "end_time": "2025-02-11T07:06:59.000366Z",
     "start_time": "2025-02-11T07:06:58.997374Z"
    }
   },
   "outputs": [],
   "source": [
    "df_cja = pd.concat([dimensions_sdr,metrics_sdr],ignore_index=True)"
   ]
  },
  {
   "cell_type": "code",
   "execution_count": 17,
   "id": "b58ea4a5",
   "metadata": {
    "ExecuteTime": {
     "end_time": "2025-02-11T07:06:59.400162Z",
     "start_time": "2025-02-11T07:06:59.393567Z"
    }
   },
   "outputs": [
    {
     "data": {
      "text/html": [
       "<div>\n",
       "<style scoped>\n",
       "    .dataframe tbody tr th:only-of-type {\n",
       "        vertical-align: middle;\n",
       "    }\n",
       "\n",
       "    .dataframe tbody tr th {\n",
       "        vertical-align: top;\n",
       "    }\n",
       "\n",
       "    .dataframe thead th {\n",
       "        text-align: right;\n",
       "    }\n",
       "</style>\n",
       "<table border=\"1\" class=\"dataframe\">\n",
       "  <thead>\n",
       "    <tr style=\"text-align: right;\">\n",
       "      <th></th>\n",
       "      <th>id</th>\n",
       "      <th>name</th>\n",
       "      <th>dataSetType</th>\n",
       "      <th>sourceFieldId</th>\n",
       "    </tr>\n",
       "  </thead>\n",
       "  <tbody>\n",
       "    <tr>\n",
       "      <th>95</th>\n",
       "      <td>variables/screen_width</td>\n",
       "      <td>Screen Width</td>\n",
       "      <td>lookup</td>\n",
       "      <td>device.typeID.global-classify-string._globallo...</td>\n",
       "    </tr>\n",
       "    <tr>\n",
       "      <th>81</th>\n",
       "      <td>variables/device_screen_orientation</td>\n",
       "      <td>Device Screen Orientation</td>\n",
       "      <td>event</td>\n",
       "      <td>device.screenOrientation</td>\n",
       "    </tr>\n",
       "    <tr>\n",
       "      <th>71</th>\n",
       "      <td>variables/first_known_product_name</td>\n",
       "      <td>First Known Product Name</td>\n",
       "      <td>event</td>\n",
       "      <td>productListItems.name</td>\n",
       "    </tr>\n",
       "    <tr>\n",
       "      <th>92</th>\n",
       "      <td>variables/implementationDetails._acxpevangelis...</td>\n",
       "      <td>Adobe Journey ID (for QM)</td>\n",
       "      <td>event</td>\n",
       "      <td>implementationDetails._acxpevangelist.qm_sessi...</td>\n",
       "    </tr>\n",
       "    <tr>\n",
       "      <th>53</th>\n",
       "      <td>variables/6740a8b93c28ee391fec40f2</td>\n",
       "      <td>Next Page Name</td>\n",
       "      <td>system</td>\n",
       "      <td>cja</td>\n",
       "    </tr>\n",
       "  </tbody>\n",
       "</table>\n",
       "</div>"
      ],
      "text/plain": [
       "                                                   id  \\\n",
       "95                             variables/screen_width   \n",
       "81                variables/device_screen_orientation   \n",
       "71                 variables/first_known_product_name   \n",
       "92  variables/implementationDetails._acxpevangelis...   \n",
       "53                 variables/6740a8b93c28ee391fec40f2   \n",
       "\n",
       "                         name dataSetType  \\\n",
       "95               Screen Width      lookup   \n",
       "81  Device Screen Orientation       event   \n",
       "71   First Known Product Name       event   \n",
       "92  Adobe Journey ID (for QM)       event   \n",
       "53             Next Page Name      system   \n",
       "\n",
       "                                        sourceFieldId  \n",
       "95  device.typeID.global-classify-string._globallo...  \n",
       "81                           device.screenOrientation  \n",
       "71                              productListItems.name  \n",
       "92  implementationDetails._acxpevangelist.qm_sessi...  \n",
       "53                                                cja  "
      ]
     },
     "execution_count": 17,
     "metadata": {},
     "output_type": "execute_result"
    }
   ],
   "source": [
    "df_cja.sample(5)"
   ]
  },
  {
   "cell_type": "markdown",
   "id": "b55f4327",
   "metadata": {},
   "source": [
    "As you can see the sourcFieldId can be cleaned up as it should provide us with some information about the path used for the data ingestion.\\\n",
    "For the interest of time, we will not cover that part but know that Lookup and profile are ingesting the path with a prefix to avoid collision. "
   ]
  },
  {
   "cell_type": "markdown",
   "id": "5da31c12",
   "metadata": {},
   "source": [
    "## Saving your file"
   ]
  },
  {
   "cell_type": "markdown",
   "id": "fc6c4d54",
   "metadata": {},
   "source": [
    "You can always save a dataframe as a CSV or as an Excel file."
   ]
  },
  {
   "cell_type": "code",
   "execution_count": null,
   "id": "de087847",
   "metadata": {},
   "outputs": [],
   "source": [
    "df_cja.to_excel('my_sdr.xslx',sheet_name='sdr_combine',index=False) ## to excel"
   ]
  },
  {
   "cell_type": "code",
   "execution_count": null,
   "id": "9e4334f8",
   "metadata": {},
   "outputs": [],
   "source": [
    "df_cja.to_csv('my_sdr_schema.csv',index=False) ## to csv"
   ]
  },
  {
   "cell_type": "markdown",
   "id": "a50d170a",
   "metadata": {},
   "source": [
    "# Connecting with AEP Schema"
   ]
  },
  {
   "cell_type": "markdown",
   "id": "33f41ce1",
   "metadata": {},
   "source": [
    "Customer Journey Analytics is loading the data based on the dataset that are being used in Adobe Experience Platform.\\\n",
    "Getting to know and understand the schema that is being used to capture the data is important.\\\n",
    "In order to do that, you can always log-in to the Adobe Experience Platform via the UI, but you can also retrieve more useful information by using the `aepp` module"
   ]
  },
  {
   "cell_type": "markdown",
   "id": "5392f6f3",
   "metadata": {},
   "source": [
    "The `aepp` module is divided in different services that can be used for analysing your Adobe Experience Platform implementation.\\\n",
    "In our scenario, we will just require to load the `schema` sub module"
   ]
  },
  {
   "cell_type": "code",
   "execution_count": 18,
   "id": "5a278b9a",
   "metadata": {
    "ExecuteTime": {
     "end_time": "2025-02-11T07:07:04.515002Z",
     "start_time": "2025-02-11T07:07:04.503200Z"
    }
   },
   "outputs": [],
   "source": [
    "import aepp\n",
    "from aepp import schema, schemamanager"
   ]
  },
  {
   "cell_type": "markdown",
   "id": "84a8f708",
   "metadata": {},
   "source": [
    "The Adobe Experience Platform is divided itself into different sandboxes.\\\n",
    "While loading the configuration, you can specify which sandbox you want to use.\\\n",
    "It is also recommnended to store the configuration in a variable, that we will name `prod` because we are using the prod sandbox.\\\n",
    "We can save the configuratio by passing `True` to the `connectInstance` parameter"
   ]
  },
  {
   "cell_type": "code",
   "execution_count": 19,
   "id": "d74f6194",
   "metadata": {
    "ExecuteTime": {
     "end_time": "2025-02-11T07:07:06.738815Z",
     "start_time": "2025-02-11T07:07:06.735390Z"
    }
   },
   "outputs": [],
   "source": [
    "prod = aepp.importConfigFile('myconfig.json',sandbox='bighouse',connectInstance=True)"
   ]
  },
  {
   "cell_type": "markdown",
   "id": "855975c6",
   "metadata": {},
   "source": [
    "You can then use the configuration to instantiate your connection to your schema for the `prod` sandbox."
   ]
  },
  {
   "cell_type": "code",
   "execution_count": 20,
   "id": "16c1c2cd",
   "metadata": {
    "ExecuteTime": {
     "end_time": "2025-02-11T07:07:07.576469Z",
     "start_time": "2025-02-11T07:07:07.368135Z"
    }
   },
   "outputs": [],
   "source": [
    "schemaProd = schema.Schema(config=prod)"
   ]
  },
  {
   "cell_type": "markdown",
   "id": "5332f244",
   "metadata": {},
   "source": [
    "We will retrieve all schemas"
   ]
  },
  {
   "cell_type": "code",
   "execution_count": 21,
   "id": "a0fb1981",
   "metadata": {
    "ExecuteTime": {
     "end_time": "2025-02-11T07:07:08.941395Z",
     "start_time": "2025-02-11T07:07:08.137054Z"
    }
   },
   "outputs": [],
   "source": [
    "allSchemas = schemaProd.getSchemas()"
   ]
  },
  {
   "cell_type": "markdown",
   "id": "49fa6e0d",
   "metadata": {},
   "source": [
    "By retrieving the schemas, we have created a storage to easily find the schema ID to be used in these data classes:\n",
    "* schemaProd.data.schemas_altId\n",
    "* schemaProd.data.schemas_id\n",
    "\n",
    "Using the name of our schema, we can easily extract its id: "
   ]
  },
  {
   "cell_type": "code",
   "execution_count": 22,
   "id": "eaccc46f",
   "metadata": {
    "ExecuteTime": {
     "end_time": "2025-02-11T07:07:15.603794Z",
     "start_time": "2025-02-11T07:07:15.598995Z"
    }
   },
   "outputs": [
    {
     "data": {
      "text/plain": [
       "'https://ns.adobe.com/acxpevangelist/schemas/988d6949f1a82060f1c658ae1bdd34a19ba0b1e7c436b179'"
      ]
     },
     "execution_count": 22,
     "metadata": {},
     "output_type": "execute_result"
    }
   ],
   "source": [
    "schemaProd.data.schemas_id['Adobestore']"
   ]
  },
  {
   "cell_type": "markdown",
   "id": "04007916",
   "metadata": {},
   "source": [
    "## Schema Manager"
   ]
  },
  {
   "cell_type": "markdown",
   "id": "712bb868",
   "metadata": {},
   "source": [
    "We can use a native functionality of aepp to build a dataframe representation of the schema\\\n",
    "The usage of the `SchemaManager` class will simplify the extraction of the fields"
   ]
  },
  {
   "cell_type": "code",
   "execution_count": 23,
   "id": "1188bafa",
   "metadata": {
    "ExecuteTime": {
     "end_time": "2025-02-11T07:07:47.989594Z",
     "start_time": "2025-02-11T07:07:26.392955Z"
    }
   },
   "outputs": [],
   "source": [
    "adobeStore = schemamanager.SchemaManager(schemaProd.data.schemas_id['Adobestore'])"
   ]
  },
  {
   "cell_type": "code",
   "execution_count": 24,
   "id": "87b056f8",
   "metadata": {
    "ExecuteTime": {
     "end_time": "2025-02-11T07:08:11.601653Z",
     "start_time": "2025-02-11T07:08:11.566684Z"
    }
   },
   "outputs": [],
   "source": [
    "df_schema = adobeStore.to_dataframe(queryPath=True,excludeObjects=True)"
   ]
  },
  {
   "cell_type": "markdown",
   "id": "53ddca41",
   "metadata": {},
   "source": [
    "You can see that the paths have been flatten and provided in 2 columns:\n",
    "* path : containing the path flatten with more details for list [] and array of objects []{}\n",
    "* querypath : it is the same path but without the notation that helps understanding its type.\n",
    "* excludeObjects : If set to True, it will not show the node that serve as object node.\n",
    "\n",
    "For mapping the path to the one display in CJA, we will use the query path. "
   ]
  },
  {
   "cell_type": "code",
   "execution_count": 25,
   "id": "57f58b0d",
   "metadata": {
    "ExecuteTime": {
     "end_time": "2025-02-11T07:08:13.511596Z",
     "start_time": "2025-02-11T07:08:13.504016Z"
    }
   },
   "outputs": [
    {
     "data": {
      "text/html": [
       "<div>\n",
       "<style scoped>\n",
       "    .dataframe tbody tr th:only-of-type {\n",
       "        vertical-align: middle;\n",
       "    }\n",
       "\n",
       "    .dataframe tbody tr th {\n",
       "        vertical-align: top;\n",
       "    }\n",
       "\n",
       "    .dataframe thead th {\n",
       "        text-align: right;\n",
       "    }\n",
       "</style>\n",
       "<table border=\"1\" class=\"dataframe\">\n",
       "  <thead>\n",
       "    <tr style=\"text-align: right;\">\n",
       "      <th></th>\n",
       "      <th>path</th>\n",
       "      <th>type</th>\n",
       "      <th>fieldGroup</th>\n",
       "      <th>title</th>\n",
       "      <th>querypath</th>\n",
       "    </tr>\n",
       "  </thead>\n",
       "  <tbody>\n",
       "    <tr>\n",
       "      <th>0</th>\n",
       "      <td>_id</td>\n",
       "      <td>string</td>\n",
       "      <td>class</td>\n",
       "      <td>Identifier</td>\n",
       "      <td>_id</td>\n",
       "    </tr>\n",
       "    <tr>\n",
       "      <th>1</th>\n",
       "      <td>eventMergeId</td>\n",
       "      <td>string</td>\n",
       "      <td>class</td>\n",
       "      <td>ExperienceEvent merge ID</td>\n",
       "      <td>eventMergeId</td>\n",
       "    </tr>\n",
       "    <tr>\n",
       "      <th>2</th>\n",
       "      <td>eventType</td>\n",
       "      <td>string</td>\n",
       "      <td>class</td>\n",
       "      <td>Event Type</td>\n",
       "      <td>eventType</td>\n",
       "    </tr>\n",
       "    <tr>\n",
       "      <th>4</th>\n",
       "      <td>producedBy</td>\n",
       "      <td>string</td>\n",
       "      <td>class</td>\n",
       "      <td>Produced By</td>\n",
       "      <td>producedBy</td>\n",
       "    </tr>\n",
       "    <tr>\n",
       "      <th>5</th>\n",
       "      <td>timestamp</td>\n",
       "      <td>string</td>\n",
       "      <td>class</td>\n",
       "      <td>Timestamp</td>\n",
       "      <td>timestamp</td>\n",
       "    </tr>\n",
       "    <tr>\n",
       "      <th>...</th>\n",
       "      <td>...</td>\n",
       "      <td>...</td>\n",
       "      <td>...</td>\n",
       "      <td>...</td>\n",
       "      <td>...</td>\n",
       "    </tr>\n",
       "    <tr>\n",
       "      <th>5581</th>\n",
       "      <td>directMarketing.unsubscriptions.value</td>\n",
       "      <td>number</td>\n",
       "      <td>Direct Marketing Details</td>\n",
       "      <td></td>\n",
       "      <td>directMarketing.unsubscriptions.value</td>\n",
       "    </tr>\n",
       "    <tr>\n",
       "      <th>5583</th>\n",
       "      <td>directMarketing.userComplaints.id</td>\n",
       "      <td>string</td>\n",
       "      <td>Direct Marketing Details</td>\n",
       "      <td>Unique Identifier</td>\n",
       "      <td>directMarketing.userComplaints.id</td>\n",
       "    </tr>\n",
       "    <tr>\n",
       "      <th>5584</th>\n",
       "      <td>directMarketing.userComplaints.value</td>\n",
       "      <td>number</td>\n",
       "      <td>Direct Marketing Details</td>\n",
       "      <td></td>\n",
       "      <td>directMarketing.userComplaints.value</td>\n",
       "    </tr>\n",
       "    <tr>\n",
       "      <th>5585</th>\n",
       "      <td>experienceevent-bot-detection</td>\n",
       "      <td>None</td>\n",
       "      <td>Bot Detection Information</td>\n",
       "      <td>None</td>\n",
       "      <td>experienceevent-bot-detection</td>\n",
       "    </tr>\n",
       "    <tr>\n",
       "      <th>5587</th>\n",
       "      <td>experienceevent-bot-detection.botDetection.score</td>\n",
       "      <td>number</td>\n",
       "      <td>Bot Detection Information</td>\n",
       "      <td>Score</td>\n",
       "      <td>experienceevent-bot-detection.botDetection.score</td>\n",
       "    </tr>\n",
       "  </tbody>\n",
       "</table>\n",
       "<p>4061 rows × 5 columns</p>\n",
       "</div>"
      ],
      "text/plain": [
       "                                                  path    type  \\\n",
       "0                                                  _id  string   \n",
       "1                                         eventMergeId  string   \n",
       "2                                            eventType  string   \n",
       "4                                           producedBy  string   \n",
       "5                                            timestamp  string   \n",
       "...                                                ...     ...   \n",
       "5581             directMarketing.unsubscriptions.value  number   \n",
       "5583                 directMarketing.userComplaints.id  string   \n",
       "5584              directMarketing.userComplaints.value  number   \n",
       "5585                     experienceevent-bot-detection    None   \n",
       "5587  experienceevent-bot-detection.botDetection.score  number   \n",
       "\n",
       "                     fieldGroup                     title  \\\n",
       "0                         class                Identifier   \n",
       "1                         class  ExperienceEvent merge ID   \n",
       "2                         class                Event Type   \n",
       "4                         class               Produced By   \n",
       "5                         class                 Timestamp   \n",
       "...                         ...                       ...   \n",
       "5581   Direct Marketing Details                             \n",
       "5583   Direct Marketing Details         Unique Identifier   \n",
       "5584   Direct Marketing Details                             \n",
       "5585  Bot Detection Information                      None   \n",
       "5587  Bot Detection Information                     Score   \n",
       "\n",
       "                                             querypath  \n",
       "0                                                  _id  \n",
       "1                                         eventMergeId  \n",
       "2                                            eventType  \n",
       "4                                           producedBy  \n",
       "5                                            timestamp  \n",
       "...                                                ...  \n",
       "5581             directMarketing.unsubscriptions.value  \n",
       "5583                 directMarketing.userComplaints.id  \n",
       "5584              directMarketing.userComplaints.value  \n",
       "5585                     experienceevent-bot-detection  \n",
       "5587  experienceevent-bot-detection.botDetection.score  \n",
       "\n",
       "[4061 rows x 5 columns]"
      ]
     },
     "execution_count": 25,
     "metadata": {},
     "output_type": "execute_result"
    }
   ],
   "source": [
    "df_schema"
   ]
  },
  {
   "cell_type": "code",
   "execution_count": 27,
   "id": "52b62957",
   "metadata": {
    "ExecuteTime": {
     "end_time": "2025-02-11T07:08:28.364969Z",
     "start_time": "2025-02-11T07:08:28.360263Z"
    }
   },
   "outputs": [
    {
     "data": {
      "text/plain": [
       "4061"
      ]
     },
     "execution_count": 27,
     "metadata": {},
     "output_type": "execute_result"
    }
   ],
   "source": [
    "len(df_schema) ## checking the size"
   ]
  },
  {
   "cell_type": "markdown",
   "id": "709bc627",
   "metadata": {},
   "source": [
    "## Merging SDR with Schema definition"
   ]
  },
  {
   "cell_type": "markdown",
   "id": "bfe263b9",
   "metadata": {},
   "source": [
    "Once you have your dataframe from the schema manager clean-up you can use it to merge it with the solution design.\\\n",
    "We will create a new dataframe that can replicate a path in case a path is used in both the dimension and the metrics."
   ]
  },
  {
   "cell_type": "code",
   "execution_count": 28,
   "id": "9df6fe94",
   "metadata": {
    "ExecuteTime": {
     "end_time": "2025-02-11T07:08:35.901449Z",
     "start_time": "2025-02-11T07:08:35.897947Z"
    }
   },
   "outputs": [],
   "source": [
    "from copy import deepcopy"
   ]
  },
  {
   "cell_type": "code",
   "execution_count": 29,
   "id": "a6cfb611",
   "metadata": {
    "ExecuteTime": {
     "end_time": "2025-02-11T07:09:06.641326Z",
     "start_time": "2025-02-11T07:08:47.954240Z"
    }
   },
   "outputs": [],
   "source": [
    "new_dataframe = []\n",
    "for index, row in df_schema.iterrows():\n",
    "    data = {}\n",
    "    flag_found = False\n",
    "    for index_cja, row_cja in df_cja.iterrows():\n",
    "        if row['querypath'] in row_cja['id']:\n",
    "            data['xdm_path'] = row['querypath']\n",
    "            data['xdm_title'] = row['title']\n",
    "            data['xdm_type'] = row['type']\n",
    "            data['cja_id'] = row_cja['id']\n",
    "            data['cja_name'] = row_cja['name']\n",
    "            data['cja_type'] = (lambda row : 'dimension' if row['id'].startswith('variables') else 'metric')(row_cja)\n",
    "            new_dataframe.append(deepcopy(data))\n",
    "            flag_found = True\n",
    "            data = {}\n",
    "    if flag_found == False:\n",
    "        data['xdm_path'] = row['querypath']\n",
    "        data['xdm_title'] = row['title']\n",
    "        data['xdm_type'] = row['type']\n",
    "        data['cja_id'] = None\n",
    "        data['cja_name'] = None\n",
    "        data['cja_type'] = None\n",
    "        new_dataframe.append(deepcopy(data))"
   ]
  },
  {
   "cell_type": "markdown",
   "id": "b71d09ce",
   "metadata": {},
   "source": [
    "Transforming the new data object into a proper dataframe."
   ]
  },
  {
   "cell_type": "code",
   "execution_count": 30,
   "id": "6ee05a08",
   "metadata": {
    "ExecuteTime": {
     "end_time": "2025-02-11T07:09:08.751827Z",
     "start_time": "2025-02-11T07:09:08.745334Z"
    }
   },
   "outputs": [],
   "source": [
    "df_new = pd.DataFrame(new_dataframe)"
   ]
  },
  {
   "cell_type": "markdown",
   "id": "62e23993",
   "metadata": {},
   "source": [
    "We can show some variables that are defined in the XDM and their corresponding variable name in "
   ]
  },
  {
   "cell_type": "code",
   "execution_count": 31,
   "id": "c02916ea",
   "metadata": {
    "ExecuteTime": {
     "end_time": "2025-02-11T07:09:12.386910Z",
     "start_time": "2025-02-11T07:09:12.379457Z"
    }
   },
   "outputs": [
    {
     "data": {
      "text/html": [
       "<div>\n",
       "<style scoped>\n",
       "    .dataframe tbody tr th:only-of-type {\n",
       "        vertical-align: middle;\n",
       "    }\n",
       "\n",
       "    .dataframe tbody tr th {\n",
       "        vertical-align: top;\n",
       "    }\n",
       "\n",
       "    .dataframe thead th {\n",
       "        text-align: right;\n",
       "    }\n",
       "</style>\n",
       "<table border=\"1\" class=\"dataframe\">\n",
       "  <thead>\n",
       "    <tr style=\"text-align: right;\">\n",
       "      <th></th>\n",
       "      <th>xdm_path</th>\n",
       "      <th>xdm_title</th>\n",
       "      <th>xdm_type</th>\n",
       "      <th>cja_id</th>\n",
       "      <th>cja_name</th>\n",
       "      <th>cja_type</th>\n",
       "    </tr>\n",
       "  </thead>\n",
       "  <tbody>\n",
       "    <tr>\n",
       "      <th>2569</th>\n",
       "      <td>device.type</td>\n",
       "      <td>Type</td>\n",
       "      <td>string</td>\n",
       "      <td>variables/device.typeID.global-classify-string...</td>\n",
       "      <td>Audio Support</td>\n",
       "      <td>dimension</td>\n",
       "    </tr>\n",
       "    <tr>\n",
       "      <th>2445</th>\n",
       "      <td>_experience.decisioning.propositions</td>\n",
       "      <td>Involved Propositions</td>\n",
       "      <td>array</td>\n",
       "      <td>variables/66577f485e767a2c9e40b94d._experience...</td>\n",
       "      <td>Experience Name</td>\n",
       "      <td>dimension</td>\n",
       "    </tr>\n",
       "    <tr>\n",
       "      <th>3480</th>\n",
       "      <td>commerce.purchases.value</td>\n",
       "      <td></td>\n",
       "      <td>number</td>\n",
       "      <td>metrics/commerce.purchases.value</td>\n",
       "      <td>Commerce Purchases</td>\n",
       "      <td>metric</td>\n",
       "    </tr>\n",
       "  </tbody>\n",
       "</table>\n",
       "</div>"
      ],
      "text/plain": [
       "                                  xdm_path              xdm_title xdm_type  \\\n",
       "2569                           device.type                   Type   string   \n",
       "2445  _experience.decisioning.propositions  Involved Propositions    array   \n",
       "3480              commerce.purchases.value                          number   \n",
       "\n",
       "                                                 cja_id            cja_name  \\\n",
       "2569  variables/device.typeID.global-classify-string...       Audio Support   \n",
       "2445  variables/66577f485e767a2c9e40b94d._experience...     Experience Name   \n",
       "3480                   metrics/commerce.purchases.value  Commerce Purchases   \n",
       "\n",
       "       cja_type  \n",
       "2569  dimension  \n",
       "2445  dimension  \n",
       "3480     metric  "
      ]
     },
     "execution_count": 31,
     "metadata": {},
     "output_type": "execute_result"
    }
   ],
   "source": [
    "df_new[df_new['cja_id'].astype(bool)].sample(3) ## extract"
   ]
  },
  {
   "cell_type": "markdown",
   "id": "97ede490",
   "metadata": {},
   "source": [
    "## Saving your file"
   ]
  },
  {
   "cell_type": "markdown",
   "id": "84dcda64",
   "metadata": {},
   "source": [
    "You can alsways save your data that is contained in a dataframe by passing the `to_csv()` method"
   ]
  },
  {
   "cell_type": "code",
   "execution_count": null,
   "id": "9e0793b5",
   "metadata": {},
   "outputs": [],
   "source": [
    "df_new.to_csv('my_sdr_schema.csv',index=False)"
   ]
  }
 ],
 "metadata": {
  "kernelspec": {
   "display_name": "Python 3 (ipykernel)",
   "language": "python",
   "name": "python3"
  },
  "language_info": {
   "codemirror_mode": {
    "name": "ipython",
    "version": 3
   },
   "file_extension": ".py",
   "mimetype": "text/x-python",
   "name": "python",
   "nbconvert_exporter": "python",
   "pygments_lexer": "ipython3",
   "version": "3.11.4"
  },
  "toc": {
   "base_numbering": 1,
   "nav_menu": {},
   "number_sections": true,
   "sideBar": true,
   "skip_h1_title": false,
   "title_cell": "Table of Contents",
   "title_sidebar": "Contents",
   "toc_cell": true,
   "toc_position": {},
   "toc_section_display": true,
   "toc_window_display": true
  }
 },
 "nbformat": 4,
 "nbformat_minor": 5
}
