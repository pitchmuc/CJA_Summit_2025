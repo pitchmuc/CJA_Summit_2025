{
 "cells": [
  {
   "cell_type": "markdown",
   "id": "cde12f6c",
   "metadata": {
    "toc": true
   },
   "source": [
    "<h1>Table of Contents<span class=\"tocSkip\"></span></h1>\n",
    "<div class=\"toc\"><ul class=\"toc-item\"><li><span><a href=\"#Building-the-Solution-Design\" data-toc-modified-id=\"Building-the-Solution-Design-1\"><span class=\"toc-item-num\">1&nbsp;&nbsp;</span>Building the Solution Design</a></span><ul class=\"toc-item\"><li><span><a href=\"#Cleaning-the-elements\" data-toc-modified-id=\"Cleaning-the-elements-1.1\"><span class=\"toc-item-num\">1.1&nbsp;&nbsp;</span>Cleaning the elements</a></span><ul class=\"toc-item\"><li><span><a href=\"#Fixing-null-values\" data-toc-modified-id=\"Fixing-null-values-1.1.1\"><span class=\"toc-item-num\">1.1.1&nbsp;&nbsp;</span>Fixing null values</a></span></li></ul></li><li><span><a href=\"#Fixing-metrics-table\" data-toc-modified-id=\"Fixing-metrics-table-1.2\"><span class=\"toc-item-num\">1.2&nbsp;&nbsp;</span>Fixing metrics table</a></span></li><li><span><a href=\"#Metrics-and-dimensions-SDR\" data-toc-modified-id=\"Metrics-and-dimensions-SDR-1.3\"><span class=\"toc-item-num\">1.3&nbsp;&nbsp;</span>Metrics and dimensions SDR</a></span><ul class=\"toc-item\"><li><span><a href=\"#Optional-:-Concat-dataframe\" data-toc-modified-id=\"Optional-:-Concat-dataframe-1.3.1\"><span class=\"toc-item-num\">1.3.1&nbsp;&nbsp;</span>Optional : Concat dataframe</a></span></li></ul></li><li><span><a href=\"#Saving-your-file\" data-toc-modified-id=\"Saving-your-file-1.4\"><span class=\"toc-item-num\">1.4&nbsp;&nbsp;</span>Saving your file</a></span></li></ul></li><li><span><a href=\"#Connecting-with-AEP-Schema\" data-toc-modified-id=\"Connecting-with-AEP-Schema-2\"><span class=\"toc-item-num\">2&nbsp;&nbsp;</span>Connecting with AEP Schema</a></span><ul class=\"toc-item\"><li><span><a href=\"#Schema-Manager\" data-toc-modified-id=\"Schema-Manager-2.1\"><span class=\"toc-item-num\">2.1&nbsp;&nbsp;</span>Schema Manager</a></span></li><li><span><a href=\"#Merging-SDR-with-Schema-definition\" data-toc-modified-id=\"Merging-SDR-with-Schema-definition-2.2\"><span class=\"toc-item-num\">2.2&nbsp;&nbsp;</span>Merging SDR with Schema definition</a></span></li><li><span><a href=\"#Saving-your-file\" data-toc-modified-id=\"Saving-your-file-2.3\"><span class=\"toc-item-num\">2.3&nbsp;&nbsp;</span>Saving your file</a></span></li></ul></li></ul></div>"
   ]
  },
  {
   "cell_type": "markdown",
   "id": "581c314e",
   "metadata": {},
   "source": [
    "With very large organization, it may happen that many people are working on Data Views.\\\n",
    "Your data views are your core representation of your data store.\\\n",
    "It is what is being used for the request by your workspaces and reports.\\\n",
    "Having a clear view on what has been defined in your data view is very important and we can create a script to extract that information very easily in the next steps. "
   ]
  },
  {
   "cell_type": "markdown",
   "id": "9afaa2b0",
   "metadata": {},
   "source": [
    "In order to achieve that view and document it, you can use the cjapy module to build your solution design for your analyst."
   ]
  },
  {
   "cell_type": "markdown",
   "id": "24ccda04",
   "metadata": {},
   "source": [
    "We first load cjapy and the configuration used."
   ]
  },
  {
   "cell_type": "code",
   "execution_count": null,
   "id": "c18d2a65",
   "metadata": {
    "ExecuteTime": {
     "end_time": "2025-02-11T07:06:50.389795Z",
     "start_time": "2025-02-11T07:06:49.782127Z"
    }
   },
   "outputs": [],
   "source": [
    "import cjapy\n",
    "cjapy.importConfigFile('myconfig.json')"
   ]
  },
  {
   "cell_type": "markdown",
   "id": "dd4f05aa",
   "metadata": {},
   "source": [
    "Once we have done that we can instantiate the connection to CJA API via the `CJA` class."
   ]
  },
  {
   "cell_type": "code",
   "execution_count": null,
   "id": "cdc9e6f0",
   "metadata": {
    "ExecuteTime": {
     "end_time": "2025-02-11T07:06:50.598593Z",
     "start_time": "2025-02-11T07:06:50.391570Z"
    }
   },
   "outputs": [],
   "source": [
    "cja = cjapy.CJA()"
   ]
  },
  {
   "cell_type": "markdown",
   "id": "7cbd98b6",
   "metadata": {},
   "source": [
    "# Building the Solution Design"
   ]
  },
  {
   "cell_type": "markdown",
   "id": "c1c3052c",
   "metadata": {},
   "source": [
    "In order to build a solution design, you need to have a complete view of what has been setup in your data view. "
   ]
  },
  {
   "cell_type": "markdown",
   "id": "02539aab",
   "metadata": {},
   "source": [
    "From the `cja` connection that we have built, we will extract the correct data view that we want to see and all of its dimensions and metrics "
   ]
  },
  {
   "cell_type": "code",
   "execution_count": null,
   "id": "fcec0606",
   "metadata": {
    "ExecuteTime": {
     "end_time": "2025-02-11T07:06:51.428727Z",
     "start_time": "2025-02-11T07:06:50.844933Z"
    }
   },
   "outputs": [],
   "source": [
    "dataviews = cja.getDataViews()"
   ]
  },
  {
   "cell_type": "code",
   "execution_count": null,
   "id": "fe7415b6",
   "metadata": {
    "ExecuteTime": {
     "end_time": "2025-02-11T07:06:51.447712Z",
     "start_time": "2025-02-11T07:06:51.430689Z"
    }
   },
   "outputs": [],
   "source": [
    "dataviews.head(2)"
   ]
  },
  {
   "cell_type": "markdown",
   "id": "3ad76fa1",
   "metadata": {},
   "source": [
    "Selecting a data view by using its name"
   ]
  },
  {
   "cell_type": "code",
   "execution_count": null,
   "id": "44eeb770",
   "metadata": {
    "ExecuteTime": {
     "end_time": "2025-02-11T07:06:51.454671Z",
     "start_time": "2025-02-11T07:06:51.448709Z"
    }
   },
   "outputs": [],
   "source": [
    "dv_id = dataviews.at[dataviews[dataviews['name']=='Adobe Store - Prod'].index[0],'id']\n",
    "dv_id"
   ]
  },
  {
   "cell_type": "markdown",
   "id": "6b5c1a65",
   "metadata": {},
   "source": [
    "Now that we have its id, we can use it to retrieve the different components associated with it"
   ]
  },
  {
   "cell_type": "code",
   "execution_count": null,
   "id": "d949adcf",
   "metadata": {
    "ExecuteTime": {
     "end_time": "2025-02-11T07:06:52.961149Z",
     "start_time": "2025-02-11T07:06:51.695114Z"
    }
   },
   "outputs": [],
   "source": [
    "dimensions = cja.getDimensions(dv_id,full=True)\n",
    "metrics = cja.getMetrics(dv_id,full=True)"
   ]
  },
  {
   "cell_type": "markdown",
   "id": "6714dfeb",
   "metadata": {},
   "source": [
    "The data returned by the methods are `dataframes` which make them very easy to manipulate and to already save them. "
   ]
  },
  {
   "cell_type": "markdown",
   "id": "869cc8e7",
   "metadata": {},
   "source": [
    "Using the `head` method, you can see the 5 rows that have been returned"
   ]
  },
  {
   "cell_type": "code",
   "execution_count": null,
   "id": "e0282753",
   "metadata": {
    "ExecuteTime": {
     "end_time": "2025-02-11T07:06:52.988349Z",
     "start_time": "2025-02-11T07:06:52.963141Z"
    }
   },
   "outputs": [],
   "source": [
    "dimensions.head()"
   ]
  },
  {
   "cell_type": "markdown",
   "id": "5ba22907",
   "metadata": {},
   "source": [
    "You can see that you have lots of details about each of these dimensions.\\\n",
    "You can see the number of elements by using the `len()` method"
   ]
  },
  {
   "cell_type": "code",
   "execution_count": null,
   "id": "2e229fd7",
   "metadata": {
    "ExecuteTime": {
     "end_time": "2025-02-11T07:06:52.995460Z",
     "start_time": "2025-02-11T07:06:52.990344Z"
    }
   },
   "outputs": [],
   "source": [
    "len(dimensions)"
   ]
  },
  {
   "cell_type": "markdown",
   "id": "199ad71d",
   "metadata": {},
   "source": [
    "## Cleaning the elements"
   ]
  },
  {
   "cell_type": "markdown",
   "id": "8a612bb5",
   "metadata": {},
   "source": [
    "First of all, you may have default dimensions or metrics that have been integrated in that data view but are not that important because they do not contain data.\\\n",
    "Removing them would actually clean up the table.\\\n",
    "This task, as not sexy, is a crucial task to understand and realize before doing any sort of data analysis in the future.\\\n",
    "We are using this simple task of creating a Solution Design to introduce some concepts such as:\n",
    "* identifying null values\n",
    "* cleaning null values"
   ]
  },
  {
   "cell_type": "markdown",
   "id": "d1dfa786",
   "metadata": {},
   "source": [
    "There are some columns that you may also not want to duplicate on your solution design, therefore we will remove them as well."
   ]
  },
  {
   "cell_type": "markdown",
   "id": "f9a58ca2",
   "metadata": {},
   "source": [
    "### Fixing null values"
   ]
  },
  {
   "cell_type": "markdown",
   "id": "3f3b9a94",
   "metadata": {},
   "source": [
    "Not a Number (NaN) of Not defined value (na) are elements that could break some basic condition formatting, so we would like to clean these parts first."
   ]
  },
  {
   "cell_type": "code",
   "execution_count": null,
   "id": "88ad6ca8",
   "metadata": {
    "ExecuteTime": {
     "end_time": "2025-02-11T07:06:53.851486Z",
     "start_time": "2025-02-11T07:06:53.845631Z"
    }
   },
   "outputs": [],
   "source": [
    "dimensions.isnull().sum()"
   ]
  },
  {
   "cell_type": "code",
   "execution_count": null,
   "id": "0a319f0b",
   "metadata": {
    "ExecuteTime": {
     "end_time": "2025-02-11T07:06:54.062025Z",
     "start_time": "2025-02-11T07:06:54.052436Z"
    }
   },
   "outputs": [],
   "source": [
    "dimensions['hasData'] = dimensions['hasData'].fillna(False) ## if no information, just place False as default\n",
    "dimensions['derivedFieldCompatible'] = dimensions['derivedFieldCompatible'].fillna(False) ## if no information, just place False as default\n",
    "dimensions['dataSetType'] = dimensions['dataSetType'].fillna(\"system\")  ## if no information, just place \"system\" as default\n",
    "dimensions['sourceFieldId'] = dimensions['sourceFieldId'].fillna(\"cja\")"
   ]
  },
  {
   "cell_type": "markdown",
   "id": "08a8c924",
   "metadata": {},
   "source": [
    "Base on these informaiton `hasData`, `derivedFieldCompatible` and `dataSetType`, there could be already a good filtering done for your solution design. "
   ]
  },
  {
   "cell_type": "markdown",
   "id": "aea6fb0d",
   "metadata": {},
   "source": [
    "## Fixing metrics table"
   ]
  },
  {
   "cell_type": "markdown",
   "id": "83b56be1",
   "metadata": {},
   "source": [
    "You can also look at random lines in your dataframe by using the `sample()` method, the argument giving the number of row to return.  "
   ]
  },
  {
   "cell_type": "code",
   "execution_count": null,
   "id": "2ff448bb",
   "metadata": {
    "ExecuteTime": {
     "end_time": "2025-02-11T07:06:55.267033Z",
     "start_time": "2025-02-11T07:06:55.254011Z"
    }
   },
   "outputs": [],
   "source": [
    "metrics.sample(4)"
   ]
  },
  {
   "cell_type": "code",
   "execution_count": null,
   "id": "a818fe96",
   "metadata": {
    "ExecuteTime": {
     "end_time": "2025-02-11T07:06:55.472160Z",
     "start_time": "2025-02-11T07:06:55.466520Z"
    }
   },
   "outputs": [],
   "source": [
    "metrics.isnull().sum()"
   ]
  },
  {
   "cell_type": "code",
   "execution_count": null,
   "id": "b04d89e0",
   "metadata": {
    "ExecuteTime": {
     "end_time": "2025-02-11T07:06:55.709226Z",
     "start_time": "2025-02-11T07:06:55.702992Z"
    }
   },
   "outputs": [],
   "source": [
    "metrics['hasData'] = metrics['hasData'].fillna(False) ## if no information, just place False as default\n",
    "metrics['derivedFieldCompatible'] = metrics['derivedFieldCompatible'].fillna(False) ## if no information, just place False as default\n",
    "metrics['dataSetType'] = metrics['dataSetType'].fillna(\"system\")  ## if no information, just place \"system\" as default\n",
    "metrics['sourceFieldId'] = metrics['sourceFieldId'].fillna(\"cja\")  ## if no information, just place \"cja\" as default"
   ]
  },
  {
   "cell_type": "markdown",
   "id": "2fd03435",
   "metadata": {},
   "source": [
    "## Metrics and dimensions SDR"
   ]
  },
  {
   "cell_type": "markdown",
   "id": "807b2c65",
   "metadata": {},
   "source": [
    "The Solution Design Reference basde on CJA implementation can be exported via once we reframe it to the columns we want to have.\\\n",
    "You can filter columns by placing them in a list for filtering.\\\n",
    "If you want to have a copy of your dataframe, use the `copy()` method, that will avoid doing some modification to your original dataframe."
   ]
  },
  {
   "cell_type": "markdown",
   "id": "e950d02f",
   "metadata": {},
   "source": [
    "In our example here, we will only select attributes that we find important for the usage of that notebook."
   ]
  },
  {
   "cell_type": "code",
   "execution_count": null,
   "id": "aa72ae6f",
   "metadata": {
    "ExecuteTime": {
     "end_time": "2025-02-11T07:06:56.695469Z",
     "start_time": "2025-02-11T07:06:56.690481Z"
    }
   },
   "outputs": [],
   "source": [
    "dimensions_sdr = dimensions[dimensions['hasData']][['id','name','dataSetType','sourceFieldId']].copy() ## filtering for dimensions that contain data\n",
    "metrics_sdr = metrics[metrics['hasData']][['id','name','dataSetType','sourceFieldId']].copy()## filtering for metrics that contain data"
   ]
  },
  {
   "cell_type": "markdown",
   "id": "0d767908",
   "metadata": {},
   "source": [
    "### Optional : Concat dataframe"
   ]
  },
  {
   "cell_type": "markdown",
   "id": "b092393b",
   "metadata": {},
   "source": [
    "You can combine 2 dataframe via the `concat()` method of the pandas module."
   ]
  },
  {
   "cell_type": "code",
   "execution_count": null,
   "id": "45c511e9",
   "metadata": {
    "ExecuteTime": {
     "end_time": "2025-02-11T07:06:58.135844Z",
     "start_time": "2025-02-11T07:06:58.133320Z"
    }
   },
   "outputs": [],
   "source": [
    "import pandas as pd ## using the pd alias"
   ]
  },
  {
   "cell_type": "markdown",
   "id": "bcbdb2a4",
   "metadata": {},
   "source": [
    "The `concat` method will take an iterable of dataframe and concat them together.\\\n",
    "`ignore_index` will reset the index."
   ]
  },
  {
   "cell_type": "code",
   "execution_count": null,
   "id": "3a6033d7",
   "metadata": {
    "ExecuteTime": {
     "end_time": "2025-02-11T07:06:59.000366Z",
     "start_time": "2025-02-11T07:06:58.997374Z"
    }
   },
   "outputs": [],
   "source": [
    "df_cja = pd.concat([dimensions_sdr,metrics_sdr],ignore_index=True)"
   ]
  },
  {
   "cell_type": "code",
   "execution_count": null,
   "id": "b58ea4a5",
   "metadata": {
    "ExecuteTime": {
     "end_time": "2025-02-11T07:06:59.400162Z",
     "start_time": "2025-02-11T07:06:59.393567Z"
    }
   },
   "outputs": [],
   "source": [
    "df_cja.sample(5)"
   ]
  },
  {
   "cell_type": "markdown",
   "id": "b55f4327",
   "metadata": {},
   "source": [
    "As you can see the sourcFieldId can be cleaned up as it should provide us with some information about the path used for the data ingestion.\\\n",
    "For the interest of time, we will not cover that part but know that Lookup and profile are ingesting the path with a prefix to avoid collision. "
   ]
  },
  {
   "cell_type": "markdown",
   "id": "5da31c12",
   "metadata": {},
   "source": [
    "## Saving your file"
   ]
  },
  {
   "cell_type": "markdown",
   "id": "fc6c4d54",
   "metadata": {},
   "source": [
    "You can always save a dataframe as a CSV or as an Excel file."
   ]
  },
  {
   "cell_type": "code",
   "execution_count": null,
   "id": "de087847",
   "metadata": {},
   "outputs": [],
   "source": [
    "df_cja.to_excel('my_sdr.xslx',sheet_name='sdr_combine',index=False) ## to excel"
   ]
  },
  {
   "cell_type": "code",
   "execution_count": null,
   "id": "9e4334f8",
   "metadata": {},
   "outputs": [],
   "source": [
    "df_cja.to_csv('my_sdr_schema.csv',index=False) ## to csv"
   ]
  },
  {
   "cell_type": "markdown",
   "id": "a50d170a",
   "metadata": {},
   "source": [
    "# Connecting with AEP Schema"
   ]
  },
  {
   "cell_type": "markdown",
   "id": "33f41ce1",
   "metadata": {},
   "source": [
    "Customer Journey Analytics is loading the data based on the dataset that are being used in Adobe Experience Platform.\\\n",
    "Getting to know and understand the schema that is being used to capture the data is important.\\\n",
    "In order to do that, you can always log-in to the Adobe Experience Platform via the UI, but you can also retrieve more useful information by using the `aepp` module"
   ]
  },
  {
   "cell_type": "markdown",
   "id": "5392f6f3",
   "metadata": {},
   "source": [
    "The `aepp` module is divided in different services that can be used for analysing your Adobe Experience Platform implementation.\\\n",
    "In our scenario, we will just require to load the `schema` sub module"
   ]
  },
  {
   "cell_type": "code",
   "execution_count": null,
   "id": "5a278b9a",
   "metadata": {
    "ExecuteTime": {
     "end_time": "2025-02-11T07:07:04.515002Z",
     "start_time": "2025-02-11T07:07:04.503200Z"
    }
   },
   "outputs": [],
   "source": [
    "import aepp\n",
    "from aepp import schema, schemamanager"
   ]
  },
  {
   "cell_type": "markdown",
   "id": "84a8f708",
   "metadata": {},
   "source": [
    "The Adobe Experience Platform is divided itself into different sandboxes.\\\n",
    "While loading the configuration, you can specify which sandbox you want to use.\\\n",
    "It is also recommnended to store the configuration in a variable, that we will name `prod` because we are using the prod sandbox.\\\n",
    "We can save the configuratio by passing `True` to the `connectInstance` parameter"
   ]
  },
  {
   "cell_type": "code",
   "execution_count": null,
   "id": "d74f6194",
   "metadata": {
    "ExecuteTime": {
     "end_time": "2025-02-11T07:07:06.738815Z",
     "start_time": "2025-02-11T07:07:06.735390Z"
    }
   },
   "outputs": [],
   "source": [
    "prod = aepp.importConfigFile('myconfig.json',sandbox='bighouse',connectInstance=True)"
   ]
  },
  {
   "cell_type": "markdown",
   "id": "855975c6",
   "metadata": {},
   "source": [
    "You can then use the configuration to instantiate your connection to your schema for the `prod` sandbox."
   ]
  },
  {
   "cell_type": "code",
   "execution_count": null,
   "id": "16c1c2cd",
   "metadata": {
    "ExecuteTime": {
     "end_time": "2025-02-11T07:07:07.576469Z",
     "start_time": "2025-02-11T07:07:07.368135Z"
    }
   },
   "outputs": [],
   "source": [
    "schemaProd = schema.Schema(config=prod)"
   ]
  },
  {
   "cell_type": "markdown",
   "id": "5332f244",
   "metadata": {},
   "source": [
    "We will retrieve all schemas"
   ]
  },
  {
   "cell_type": "code",
   "execution_count": null,
   "id": "a0fb1981",
   "metadata": {
    "ExecuteTime": {
     "end_time": "2025-02-11T07:07:08.941395Z",
     "start_time": "2025-02-11T07:07:08.137054Z"
    }
   },
   "outputs": [],
   "source": [
    "allSchemas = schemaProd.getSchemas()"
   ]
  },
  {
   "cell_type": "markdown",
   "id": "49fa6e0d",
   "metadata": {},
   "source": [
    "By retrieving the schemas, we have created a storage to easily find the schema ID to be used in these data classes:\n",
    "* schemaProd.data.schemas_altId\n",
    "* schemaProd.data.schemas_id\n",
    "\n",
    "Using the name of our schema, we can easily extract its id: "
   ]
  },
  {
   "cell_type": "code",
   "execution_count": null,
   "id": "eaccc46f",
   "metadata": {
    "ExecuteTime": {
     "end_time": "2025-02-11T07:07:15.603794Z",
     "start_time": "2025-02-11T07:07:15.598995Z"
    }
   },
   "outputs": [],
   "source": [
    "schemaProd.data.schemas_id['Adobestore']"
   ]
  },
  {
   "cell_type": "markdown",
   "id": "04007916",
   "metadata": {},
   "source": [
    "## Schema Manager"
   ]
  },
  {
   "cell_type": "markdown",
   "id": "712bb868",
   "metadata": {},
   "source": [
    "We can use a native functionality of aepp to build a dataframe representation of the schema\\\n",
    "The usage of the `SchemaManager` class will simplify the extraction of the fields"
   ]
  },
  {
   "cell_type": "code",
   "execution_count": null,
   "id": "1188bafa",
   "metadata": {
    "ExecuteTime": {
     "end_time": "2025-02-11T07:07:47.989594Z",
     "start_time": "2025-02-11T07:07:26.392955Z"
    }
   },
   "outputs": [],
   "source": [
    "adobeStore = schemamanager.SchemaManager(schemaProd.data.schemas_id['Adobestore'])"
   ]
  },
  {
   "cell_type": "code",
   "execution_count": null,
   "id": "87b056f8",
   "metadata": {
    "ExecuteTime": {
     "end_time": "2025-02-11T07:08:11.601653Z",
     "start_time": "2025-02-11T07:08:11.566684Z"
    }
   },
   "outputs": [],
   "source": [
    "df_schema = adobeStore.to_dataframe(queryPath=True,excludeObjects=True)"
   ]
  },
  {
   "cell_type": "markdown",
   "id": "53ddca41",
   "metadata": {},
   "source": [
    "You can see that the paths have been flatten and provided in 2 columns:\n",
    "* path : containing the path flatten with more details for list [] and array of objects []{}\n",
    "* querypath : it is the same path but without the notation that helps understanding its type.\n",
    "* excludeObjects : If set to True, it will not show the node that serve as object node.\n",
    "\n",
    "For mapping the path to the one display in CJA, we will use the query path. "
   ]
  },
  {
   "cell_type": "code",
   "execution_count": null,
   "id": "57f58b0d",
   "metadata": {
    "ExecuteTime": {
     "end_time": "2025-02-11T07:08:13.511596Z",
     "start_time": "2025-02-11T07:08:13.504016Z"
    }
   },
   "outputs": [],
   "source": [
    "df_schema"
   ]
  },
  {
   "cell_type": "code",
   "execution_count": null,
   "id": "52b62957",
   "metadata": {
    "ExecuteTime": {
     "end_time": "2025-02-11T07:08:28.364969Z",
     "start_time": "2025-02-11T07:08:28.360263Z"
    }
   },
   "outputs": [],
   "source": [
    "len(df_schema) ## checking the size"
   ]
  },
  {
   "cell_type": "markdown",
   "id": "709bc627",
   "metadata": {},
   "source": [
    "## Merging SDR with Schema definition"
   ]
  },
  {
   "cell_type": "markdown",
   "id": "bfe263b9",
   "metadata": {},
   "source": [
    "Once you have your dataframe from the schema manager clean-up you can use it to merge it with the solution design.\\\n",
    "We will create a new dataframe that can replicate a path in case a path is used in both the dimension and the metrics."
   ]
  },
  {
   "cell_type": "code",
   "execution_count": null,
   "id": "9df6fe94",
   "metadata": {
    "ExecuteTime": {
     "end_time": "2025-02-11T07:08:35.901449Z",
     "start_time": "2025-02-11T07:08:35.897947Z"
    }
   },
   "outputs": [],
   "source": [
    "from copy import deepcopy"
   ]
  },
  {
   "cell_type": "code",
   "execution_count": null,
   "id": "a6cfb611",
   "metadata": {
    "ExecuteTime": {
     "end_time": "2025-02-11T07:09:06.641326Z",
     "start_time": "2025-02-11T07:08:47.954240Z"
    }
   },
   "outputs": [],
   "source": [
    "new_dataframe = []\n",
    "for index, row in df_schema.iterrows():\n",
    "    data = {}\n",
    "    flag_found = False\n",
    "    for index_cja, row_cja in df_cja.iterrows():\n",
    "        if row['querypath'] in row_cja['id']:\n",
    "            data['xdm_path'] = row['querypath']\n",
    "            data['xdm_title'] = row['title']\n",
    "            data['xdm_type'] = row['type']\n",
    "            data['cja_id'] = row_cja['id']\n",
    "            data['cja_name'] = row_cja['name']\n",
    "            data['cja_type'] = (lambda row : 'dimension' if row['id'].startswith('variables') else 'metric')(row_cja)\n",
    "            new_dataframe.append(deepcopy(data))\n",
    "            flag_found = True\n",
    "            data = {}\n",
    "    if flag_found == False:\n",
    "        data['xdm_path'] = row['querypath']\n",
    "        data['xdm_title'] = row['title']\n",
    "        data['xdm_type'] = row['type']\n",
    "        data['cja_id'] = None\n",
    "        data['cja_name'] = None\n",
    "        data['cja_type'] = None\n",
    "        new_dataframe.append(deepcopy(data))"
   ]
  },
  {
   "cell_type": "markdown",
   "id": "b71d09ce",
   "metadata": {},
   "source": [
    "Transforming the new data object into a proper dataframe."
   ]
  },
  {
   "cell_type": "code",
   "execution_count": null,
   "id": "6ee05a08",
   "metadata": {
    "ExecuteTime": {
     "end_time": "2025-02-11T07:09:08.751827Z",
     "start_time": "2025-02-11T07:09:08.745334Z"
    }
   },
   "outputs": [],
   "source": [
    "df_new = pd.DataFrame(new_dataframe)"
   ]
  },
  {
   "cell_type": "markdown",
   "id": "62e23993",
   "metadata": {},
   "source": [
    "We can show some variables that are defined in the XDM and their corresponding variable name in "
   ]
  },
  {
   "cell_type": "code",
   "execution_count": 31,
   "id": "c02916ea",
   "metadata": {
    "ExecuteTime": {
     "end_time": "2025-02-11T07:09:12.386910Z",
     "start_time": "2025-02-11T07:09:12.379457Z"
    }
   },
   "outputs": [
    {
     "data": {
      "text/html": [
       "<div>\n",
       "<style scoped>\n",
       "    .dataframe tbody tr th:only-of-type {\n",
       "        vertical-align: middle;\n",
       "    }\n",
       "\n",
       "    .dataframe tbody tr th {\n",
       "        vertical-align: top;\n",
       "    }\n",
       "\n",
       "    .dataframe thead th {\n",
       "        text-align: right;\n",
       "    }\n",
       "</style>\n",
       "<table border=\"1\" class=\"dataframe\">\n",
       "  <thead>\n",
       "    <tr style=\"text-align: right;\">\n",
       "      <th></th>\n",
       "      <th>xdm_path</th>\n",
       "      <th>xdm_title</th>\n",
       "      <th>xdm_type</th>\n",
       "      <th>cja_id</th>\n",
       "      <th>cja_name</th>\n",
       "      <th>cja_type</th>\n",
       "    </tr>\n",
       "  </thead>\n",
       "  <tbody>\n",
       "    <tr>\n",
       "      <th>2569</th>\n",
       "      <td>device.type</td>\n",
       "      <td>Type</td>\n",
       "      <td>string</td>\n",
       "      <td>variables/device.typeID.global-classify-string...</td>\n",
       "      <td>Audio Support</td>\n",
       "      <td>dimension</td>\n",
       "    </tr>\n",
       "    <tr>\n",
       "      <th>2445</th>\n",
       "      <td>_experience.decisioning.propositions</td>\n",
       "      <td>Involved Propositions</td>\n",
       "      <td>array</td>\n",
       "      <td>variables/66577f485e767a2c9e40b94d._experience...</td>\n",
       "      <td>Experience Name</td>\n",
       "      <td>dimension</td>\n",
       "    </tr>\n",
       "    <tr>\n",
       "      <th>3480</th>\n",
       "      <td>commerce.purchases.value</td>\n",
       "      <td></td>\n",
       "      <td>number</td>\n",
       "      <td>metrics/commerce.purchases.value</td>\n",
       "      <td>Commerce Purchases</td>\n",
       "      <td>metric</td>\n",
       "    </tr>\n",
       "  </tbody>\n",
       "</table>\n",
       "</div>"
      ],
      "text/plain": [
       "                                  xdm_path              xdm_title xdm_type  \\\n",
       "2569                           device.type                   Type   string   \n",
       "2445  _experience.decisioning.propositions  Involved Propositions    array   \n",
       "3480              commerce.purchases.value                          number   \n",
       "\n",
       "                                                 cja_id            cja_name  \\\n",
       "2569  variables/device.typeID.global-classify-string...       Audio Support   \n",
       "2445  variables/66577f485e767a2c9e40b94d._experience...     Experience Name   \n",
       "3480                   metrics/commerce.purchases.value  Commerce Purchases   \n",
       "\n",
       "       cja_type  \n",
       "2569  dimension  \n",
       "2445  dimension  \n",
       "3480     metric  "
      ]
     },
     "execution_count": 31,
     "metadata": {},
     "output_type": "execute_result"
    }
   ],
   "source": [
    "df_new[df_new['cja_id'].astype(bool)].sample(3) ## extract"
   ]
  },
  {
   "cell_type": "markdown",
   "id": "97ede490",
   "metadata": {},
   "source": [
    "## Saving your file"
   ]
  },
  {
   "cell_type": "markdown",
   "id": "84dcda64",
   "metadata": {},
   "source": [
    "You can alsways save your data that is contained in a dataframe by passing the `to_csv()` method"
   ]
  },
  {
   "cell_type": "code",
   "execution_count": null,
   "id": "9e0793b5",
   "metadata": {},
   "outputs": [],
   "source": [
    "df_new.to_csv('my_sdr_schema.csv',index=False)"
   ]
  }
 ],
 "metadata": {
  "kernelspec": {
   "display_name": "Python 3 (ipykernel)",
   "language": "python",
   "name": "python3"
  },
  "language_info": {
   "codemirror_mode": {
    "name": "ipython",
    "version": 3
   },
   "file_extension": ".py",
   "mimetype": "text/x-python",
   "name": "python",
   "nbconvert_exporter": "python",
   "pygments_lexer": "ipython3",
   "version": "3.11.4"
  },
  "toc": {
   "base_numbering": 1,
   "nav_menu": {},
   "number_sections": true,
   "sideBar": true,
   "skip_h1_title": false,
   "title_cell": "Table of Contents",
   "title_sidebar": "Contents",
   "toc_cell": true,
   "toc_position": {},
   "toc_section_display": true,
   "toc_window_display": true
  }
 },
 "nbformat": 4,
 "nbformat_minor": 5
}
